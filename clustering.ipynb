{
 "cells": [
  {
   "cell_type": "code",
   "execution_count": 1,
   "metadata": {},
   "outputs": [],
   "source": [
    "import numpy as np\n",
    "import pandas as pd"
   ]
  },
  {
   "cell_type": "code",
   "execution_count": 3,
   "metadata": {},
   "outputs": [
    {
     "data": {
      "text/html": [
       "<div>\n",
       "<style scoped>\n",
       "    .dataframe tbody tr th:only-of-type {\n",
       "        vertical-align: middle;\n",
       "    }\n",
       "\n",
       "    .dataframe tbody tr th {\n",
       "        vertical-align: top;\n",
       "    }\n",
       "\n",
       "    .dataframe thead th {\n",
       "        text-align: right;\n",
       "    }\n",
       "</style>\n",
       "<table border=\"1\" class=\"dataframe\">\n",
       "  <thead>\n",
       "    <tr style=\"text-align: right;\">\n",
       "      <th></th>\n",
       "      <th>Unnamed: 0</th>\n",
       "      <th>start_time</th>\n",
       "      <th>end_time</th>\n",
       "      <th>temperature</th>\n",
       "      <th>luminosity</th>\n",
       "      <th>humidity</th>\n",
       "      <th>motion</th>\n",
       "    </tr>\n",
       "  </thead>\n",
       "  <tbody>\n",
       "    <tr>\n",
       "      <th>0</th>\n",
       "      <td>0</td>\n",
       "      <td>2022-05-01 00:00:00</td>\n",
       "      <td>2022-05-01 01:30:00</td>\n",
       "      <td>22.031250</td>\n",
       "      <td>0.0</td>\n",
       "      <td>46.61</td>\n",
       "      <td>0</td>\n",
       "    </tr>\n",
       "    <tr>\n",
       "      <th>1</th>\n",
       "      <td>1</td>\n",
       "      <td>2022-05-01 01:30:00</td>\n",
       "      <td>2022-05-01 03:00:00</td>\n",
       "      <td>21.865000</td>\n",
       "      <td>0.0</td>\n",
       "      <td>48.00</td>\n",
       "      <td>1</td>\n",
       "    </tr>\n",
       "    <tr>\n",
       "      <th>2</th>\n",
       "      <td>2</td>\n",
       "      <td>2022-05-01 03:00:00</td>\n",
       "      <td>2022-05-01 04:30:00</td>\n",
       "      <td>21.443333</td>\n",
       "      <td>3.0</td>\n",
       "      <td>48.50</td>\n",
       "      <td>1</td>\n",
       "    </tr>\n",
       "    <tr>\n",
       "      <th>3</th>\n",
       "      <td>3</td>\n",
       "      <td>2022-05-01 04:30:00</td>\n",
       "      <td>2022-05-01 06:00:00</td>\n",
       "      <td>21.360000</td>\n",
       "      <td>69.0</td>\n",
       "      <td>49.00</td>\n",
       "      <td>0</td>\n",
       "    </tr>\n",
       "    <tr>\n",
       "      <th>4</th>\n",
       "      <td>4</td>\n",
       "      <td>2022-05-01 06:00:00</td>\n",
       "      <td>2022-05-01 07:30:00</td>\n",
       "      <td>20.992500</td>\n",
       "      <td>94.0</td>\n",
       "      <td>48.00</td>\n",
       "      <td>0</td>\n",
       "    </tr>\n",
       "  </tbody>\n",
       "</table>\n",
       "</div>"
      ],
      "text/plain": [
       "   Unnamed: 0          start_time            end_time  temperature  \\\n",
       "0           0 2022-05-01 00:00:00 2022-05-01 01:30:00    22.031250   \n",
       "1           1 2022-05-01 01:30:00 2022-05-01 03:00:00    21.865000   \n",
       "2           2 2022-05-01 03:00:00 2022-05-01 04:30:00    21.443333   \n",
       "3           3 2022-05-01 04:30:00 2022-05-01 06:00:00    21.360000   \n",
       "4           4 2022-05-01 06:00:00 2022-05-01 07:30:00    20.992500   \n",
       "\n",
       "   luminosity  humidity  motion  \n",
       "0         0.0     46.61       0  \n",
       "1         0.0     48.00       1  \n",
       "2         3.0     48.50       1  \n",
       "3        69.0     49.00       0  \n",
       "4        94.0     48.00       0  "
      ]
     },
     "execution_count": 3,
     "metadata": {},
     "output_type": "execute_result"
    }
   ],
   "source": [
    "df = pd.read_excel(\"./process_data/dining area.xlsx\")\n",
    "df.head()"
   ]
  },
  {
   "cell_type": "code",
   "execution_count": 4,
   "metadata": {},
   "outputs": [
    {
     "data": {
      "text/plain": [
       "count    7010.000000\n",
       "mean       23.561677\n",
       "std         3.609479\n",
       "min         4.825109\n",
       "25%        20.421250\n",
       "50%        23.367222\n",
       "75%        26.501500\n",
       "max        35.401667\n",
       "Name: temperature, dtype: float64"
      ]
     },
     "execution_count": 4,
     "metadata": {},
     "output_type": "execute_result"
    }
   ],
   "source": [
    "df[\"temperature\"].describe()"
   ]
  },
  {
   "cell_type": "code",
   "execution_count": 5,
   "metadata": {},
   "outputs": [
    {
     "data": {
      "text/plain": [
       "count    7010.000000\n",
       "mean       52.576881\n",
       "std        11.712454\n",
       "min         6.936949\n",
       "25%        44.000000\n",
       "50%        51.000000\n",
       "75%        61.000000\n",
       "max        81.500000\n",
       "Name: humidity, dtype: float64"
      ]
     },
     "execution_count": 5,
     "metadata": {},
     "output_type": "execute_result"
    }
   ],
   "source": [
    "df[\"humidity\"].describe()"
   ]
  },
  {
   "cell_type": "code",
   "execution_count": null,
   "metadata": {},
   "outputs": [],
   "source": []
  }
 ],
 "metadata": {
  "kernelspec": {
   "display_name": "cluster",
   "language": "python",
   "name": "python3"
  },
  "language_info": {
   "codemirror_mode": {
    "name": "ipython",
    "version": 3
   },
   "file_extension": ".py",
   "mimetype": "text/x-python",
   "name": "python",
   "nbconvert_exporter": "python",
   "pygments_lexer": "ipython3",
   "version": "3.11.11"
  }
 },
 "nbformat": 4,
 "nbformat_minor": 2
}
