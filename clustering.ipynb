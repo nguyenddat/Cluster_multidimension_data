{
 "cells": [
  {
   "cell_type": "code",
   "execution_count": null,
   "metadata": {},
   "outputs": [],
   "source": [
    "import warnings\n",
    "warnings.simplefilter(action='ignore', category=FutureWarning)\n",
    "\n",
    "import torch\n",
    "import numpy as np\n",
    "import pandas as pd\n",
    "import seaborn as sns\n",
    "from tqdm import tqdm\n",
    "import matplotlib.pyplot as plt\n",
    "from tslearn.metrics import dtw\n",
    "from tslearn.metrics import cdist_dtw\n",
    "from sklearn.metrics import silhouette_score\n",
    "from tslearn.clustering import TimeSeriesKMeans"
   ]
  },
  {
   "cell_type": "code",
   "execution_count": 2,
   "metadata": {},
   "outputs": [
    {
     "data": {
      "text/html": [
       "<div>\n",
       "<style scoped>\n",
       "    .dataframe tbody tr th:only-of-type {\n",
       "        vertical-align: middle;\n",
       "    }\n",
       "\n",
       "    .dataframe tbody tr th {\n",
       "        vertical-align: top;\n",
       "    }\n",
       "\n",
       "    .dataframe thead th {\n",
       "        text-align: right;\n",
       "    }\n",
       "</style>\n",
       "<table border=\"1\" class=\"dataframe\">\n",
       "  <thead>\n",
       "    <tr style=\"text-align: right;\">\n",
       "      <th></th>\n",
       "      <th>start_time</th>\n",
       "      <th>end_time</th>\n",
       "      <th>temperature</th>\n",
       "      <th>luminosity</th>\n",
       "      <th>humidity</th>\n",
       "    </tr>\n",
       "  </thead>\n",
       "  <tbody>\n",
       "    <tr>\n",
       "      <th>0</th>\n",
       "      <td>2022-05-01 00:00:00</td>\n",
       "      <td>2022-05-01 00:30:00</td>\n",
       "      <td>0.376901</td>\n",
       "      <td>0.087579</td>\n",
       "      <td>0.475664</td>\n",
       "    </tr>\n",
       "    <tr>\n",
       "      <th>1</th>\n",
       "      <td>2022-05-01 00:30:00</td>\n",
       "      <td>2022-05-01 01:00:00</td>\n",
       "      <td>0.460366</td>\n",
       "      <td>0.085515</td>\n",
       "      <td>0.492180</td>\n",
       "    </tr>\n",
       "    <tr>\n",
       "      <th>2</th>\n",
       "      <td>2022-05-01 01:00:00</td>\n",
       "      <td>2022-05-01 01:30:00</td>\n",
       "      <td>0.479522</td>\n",
       "      <td>0.085102</td>\n",
       "      <td>0.502993</td>\n",
       "    </tr>\n",
       "    <tr>\n",
       "      <th>3</th>\n",
       "      <td>2022-05-01 01:30:00</td>\n",
       "      <td>2022-05-01 02:00:00</td>\n",
       "      <td>0.464881</td>\n",
       "      <td>0.085515</td>\n",
       "      <td>0.509424</td>\n",
       "    </tr>\n",
       "    <tr>\n",
       "      <th>4</th>\n",
       "      <td>2022-05-01 02:00:00</td>\n",
       "      <td>2022-05-01 02:30:00</td>\n",
       "      <td>0.446955</td>\n",
       "      <td>0.085928</td>\n",
       "      <td>0.512793</td>\n",
       "    </tr>\n",
       "  </tbody>\n",
       "</table>\n",
       "</div>"
      ],
      "text/plain": [
       "           start_time            end_time  temperature  luminosity  humidity\n",
       "0 2022-05-01 00:00:00 2022-05-01 00:30:00     0.376901    0.087579  0.475664\n",
       "1 2022-05-01 00:30:00 2022-05-01 01:00:00     0.460366    0.085515  0.492180\n",
       "2 2022-05-01 01:00:00 2022-05-01 01:30:00     0.479522    0.085102  0.502993\n",
       "3 2022-05-01 01:30:00 2022-05-01 02:00:00     0.464881    0.085515  0.509424\n",
       "4 2022-05-01 02:00:00 2022-05-01 02:30:00     0.446955    0.085928  0.512793"
      ]
     },
     "execution_count": 2,
     "metadata": {},
     "output_type": "execute_result"
    }
   ],
   "source": [
    "df = pd.read_excel(\"./process_data/dining area.xlsx\")\n",
    "df.head()"
   ]
  },
  {
   "cell_type": "code",
   "execution_count": 3,
   "metadata": {},
   "outputs": [],
   "source": [
    "datatypes = [\"temperature\", \"luminosity\", \"humidity\"]"
   ]
  },
  {
   "cell_type": "code",
   "execution_count": 4,
   "metadata": {},
   "outputs": [],
   "source": [
    "morning_start = pd.to_datetime(\"04:30:00\").time()\n",
    "morning_end = pd.to_datetime(\"12:00:00\").time()\n",
    "\n",
    "afternoon_start = pd.to_datetime(\"12:00:00\").time()\n",
    "afternoon_end = pd.to_datetime(\"20:30:00\").time()"
   ]
  },
  {
   "cell_type": "code",
   "execution_count": 5,
   "metadata": {},
   "outputs": [],
   "source": [
    "dates = df[\"start_time\"].dt.date.unique()\n",
    "\n",
    "df_data = {\n",
    "    \"date\": [],\n",
    "    \"time\": [],\n",
    "    \"temperature\": [],\n",
    "    \"luminosity\": [],\n",
    "    \"humidity\": []\n",
    "}"
   ]
  },
  {
   "cell_type": "code",
   "execution_count": 6,
   "metadata": {},
   "outputs": [],
   "source": [
    "for date in dates:\n",
    "    rows = df[\n",
    "        df[\"start_time\"].dt.date == date\n",
    "    ]\n",
    "\n",
    "    \"\"\"---------------MORNING TIME---------------\"\"\"\n",
    "    morning_df = rows[\n",
    "        (rows[\"start_time\"].dt.time >= morning_start) &\n",
    "        (rows[\"start_time\"].dt.time <= morning_end) &\n",
    "        (rows[\"end_time\"].dt.time <= morning_end)\n",
    "    ].sort_values(\"start_time\")\n",
    "\n",
    "    for datatype in [\"temperature\", \"luminosity\", \"humidity\"]:\n",
    "        df_data[datatype].append(\n",
    "            np.array(\n",
    "                morning_df[datatype].tolist()\n",
    "            )\n",
    "        )\n",
    "\n",
    "    df_data[\"date\"].append(date)\n",
    "    df_data[\"time\"].append(f\"{morning_start} - {morning_end}\")\n",
    "\n",
    "    \"\"\"---------------AFTERNOON TIME--------------\"\"\"\n",
    "    afternoon_df = rows[\n",
    "        (rows[\"start_time\"].dt.time >= afternoon_start) &\n",
    "        (rows[\"start_time\"].dt.time <= afternoon_end) &\n",
    "        (rows[\"end_time\"].dt.time <= afternoon_end)\n",
    "    ]\n",
    "\n",
    "    for datatype in [\"temperature\", \"luminosity\", \"humidity\"]:\n",
    "        df_data[datatype].append(\n",
    "            np.array(\n",
    "                afternoon_df[datatype].tolist()\n",
    "            )\n",
    "        )\n",
    "\n",
    "    df_data[\"date\"].append(date)\n",
    "    df_data[\"time\"].append(f\"{afternoon_start} - {afternoon_end}\")"
   ]
  },
  {
   "cell_type": "code",
   "execution_count": 7,
   "metadata": {},
   "outputs": [
    {
     "data": {
      "text/html": [
       "<div>\n",
       "<style scoped>\n",
       "    .dataframe tbody tr th:only-of-type {\n",
       "        vertical-align: middle;\n",
       "    }\n",
       "\n",
       "    .dataframe tbody tr th {\n",
       "        vertical-align: top;\n",
       "    }\n",
       "\n",
       "    .dataframe thead th {\n",
       "        text-align: right;\n",
       "    }\n",
       "</style>\n",
       "<table border=\"1\" class=\"dataframe\">\n",
       "  <thead>\n",
       "    <tr style=\"text-align: right;\">\n",
       "      <th></th>\n",
       "      <th>date</th>\n",
       "      <th>time</th>\n",
       "      <th>temperature</th>\n",
       "      <th>luminosity</th>\n",
       "      <th>humidity</th>\n",
       "    </tr>\n",
       "  </thead>\n",
       "  <tbody>\n",
       "    <tr>\n",
       "      <th>0</th>\n",
       "      <td>2022-05-01</td>\n",
       "      <td>04:30:00 - 12:00:00</td>\n",
       "      <td>[0.4488278179454802, 0.4322391184742269, 0.446...</td>\n",
       "      <td>[0.09548947922260698, 0.1067274020707629, 0.11...</td>\n",
       "      <td>[0.5218303180861802, 0.523182339754683, 0.5218...</td>\n",
       "    </tr>\n",
       "    <tr>\n",
       "      <th>1</th>\n",
       "      <td>2022-05-01</td>\n",
       "      <td>12:00:00 - 20:30:00</td>\n",
       "      <td>[0.4836997128940765, 0.561246941662826, 0.6187...</td>\n",
       "      <td>[0.08575832090123524, 0.1135251771742941, 0.14...</td>\n",
       "      <td>[0.3958119509127495, 0.3691622782594428, 0.348...</td>\n",
       "    </tr>\n",
       "    <tr>\n",
       "      <th>2</th>\n",
       "      <td>2022-05-02</td>\n",
       "      <td>04:30:00 - 12:00:00</td>\n",
       "      <td>[0.4347363618052108, 0.4381254558831656, 0.429...</td>\n",
       "      <td>[0.09692993372325114, 0.107278961681034, 0.119...</td>\n",
       "      <td>[0.4947061198537466, 0.4970185033031632, 0.494...</td>\n",
       "    </tr>\n",
       "    <tr>\n",
       "      <th>3</th>\n",
       "      <td>2022-05-02</td>\n",
       "      <td>12:00:00 - 20:30:00</td>\n",
       "      <td>[0.555851540634401, 0.5119717796295798, 0.5267...</td>\n",
       "      <td>[0.5874465983315247, 0.4640764368641033, 0.287...</td>\n",
       "      <td>[0.3481476146050616, 0.3391445955916446, 0.336...</td>\n",
       "    </tr>\n",
       "    <tr>\n",
       "      <th>4</th>\n",
       "      <td>2022-05-03</td>\n",
       "      <td>04:30:00 - 12:00:00</td>\n",
       "      <td>[0.4395969892025127, 0.436899084556749, 0.4492...</td>\n",
       "      <td>[0.09976575087654435, 0.1130197783326956, 0.12...</td>\n",
       "      <td>[0.5636458320343667, 0.565324442016578, 0.5590...</td>\n",
       "    </tr>\n",
       "    <tr>\n",
       "      <th>5</th>\n",
       "      <td>2022-05-03</td>\n",
       "      <td>12:00:00 - 20:30:00</td>\n",
       "      <td>[0.493421018721568, 0.5451491785720866, 0.5004...</td>\n",
       "      <td>[0.3859527121530628, 0.3729807889493887, 0.311...</td>\n",
       "      <td>[0.3952908104243336, 0.3977712441710954, 0.397...</td>\n",
       "    </tr>\n",
       "    <tr>\n",
       "      <th>6</th>\n",
       "      <td>2022-05-04</td>\n",
       "      <td>04:30:00 - 12:00:00</td>\n",
       "      <td>[0.4382592130820562, 0.4270706606977921, 0.426...</td>\n",
       "      <td>[0.0918628147064196, 0.1021953703890057, 0.116...</td>\n",
       "      <td>[0.596265762435231, 0.5941372830847959, 0.5891...</td>\n",
       "    </tr>\n",
       "    <tr>\n",
       "      <th>7</th>\n",
       "      <td>2022-05-04</td>\n",
       "      <td>12:00:00 - 20:30:00</td>\n",
       "      <td>[0.5268213293179296, 0.5272693470398143, 0.514...</td>\n",
       "      <td>[0.6309745427304361, 0.4260044573231205, 0.139...</td>\n",
       "      <td>[0.3977712441710954, 0.3886474049917753, 0.385...</td>\n",
       "    </tr>\n",
       "    <tr>\n",
       "      <th>8</th>\n",
       "      <td>2022-05-05</td>\n",
       "      <td>04:30:00 - 12:00:00</td>\n",
       "      <td>[0.4333093801969022, 0.4329050976598512, 0.438...</td>\n",
       "      <td>[0.08553654178526857, 0.08646967499107035, 0.0...</td>\n",
       "      <td>[0.5910304112118843, 0.5875729573612951, 0.596...</td>\n",
       "    </tr>\n",
       "    <tr>\n",
       "      <th>9</th>\n",
       "      <td>2022-05-05</td>\n",
       "      <td>12:00:00 - 20:30:00</td>\n",
       "      <td>[0.4419055639473469, 0.4434766113978791, 0.452...</td>\n",
       "      <td>[0.1268492734186389, 0.1358441751928196, 0.133...</td>\n",
       "      <td>[0.6149088866639406, 0.6086716698267395, 0.607...</td>\n",
       "    </tr>\n",
       "  </tbody>\n",
       "</table>\n",
       "</div>"
      ],
      "text/plain": [
       "         date                 time  \\\n",
       "0  2022-05-01  04:30:00 - 12:00:00   \n",
       "1  2022-05-01  12:00:00 - 20:30:00   \n",
       "2  2022-05-02  04:30:00 - 12:00:00   \n",
       "3  2022-05-02  12:00:00 - 20:30:00   \n",
       "4  2022-05-03  04:30:00 - 12:00:00   \n",
       "5  2022-05-03  12:00:00 - 20:30:00   \n",
       "6  2022-05-04  04:30:00 - 12:00:00   \n",
       "7  2022-05-04  12:00:00 - 20:30:00   \n",
       "8  2022-05-05  04:30:00 - 12:00:00   \n",
       "9  2022-05-05  12:00:00 - 20:30:00   \n",
       "\n",
       "                                         temperature  \\\n",
       "0  [0.4488278179454802, 0.4322391184742269, 0.446...   \n",
       "1  [0.4836997128940765, 0.561246941662826, 0.6187...   \n",
       "2  [0.4347363618052108, 0.4381254558831656, 0.429...   \n",
       "3  [0.555851540634401, 0.5119717796295798, 0.5267...   \n",
       "4  [0.4395969892025127, 0.436899084556749, 0.4492...   \n",
       "5  [0.493421018721568, 0.5451491785720866, 0.5004...   \n",
       "6  [0.4382592130820562, 0.4270706606977921, 0.426...   \n",
       "7  [0.5268213293179296, 0.5272693470398143, 0.514...   \n",
       "8  [0.4333093801969022, 0.4329050976598512, 0.438...   \n",
       "9  [0.4419055639473469, 0.4434766113978791, 0.452...   \n",
       "\n",
       "                                          luminosity  \\\n",
       "0  [0.09548947922260698, 0.1067274020707629, 0.11...   \n",
       "1  [0.08575832090123524, 0.1135251771742941, 0.14...   \n",
       "2  [0.09692993372325114, 0.107278961681034, 0.119...   \n",
       "3  [0.5874465983315247, 0.4640764368641033, 0.287...   \n",
       "4  [0.09976575087654435, 0.1130197783326956, 0.12...   \n",
       "5  [0.3859527121530628, 0.3729807889493887, 0.311...   \n",
       "6  [0.0918628147064196, 0.1021953703890057, 0.116...   \n",
       "7  [0.6309745427304361, 0.4260044573231205, 0.139...   \n",
       "8  [0.08553654178526857, 0.08646967499107035, 0.0...   \n",
       "9  [0.1268492734186389, 0.1358441751928196, 0.133...   \n",
       "\n",
       "                                            humidity  \n",
       "0  [0.5218303180861802, 0.523182339754683, 0.5218...  \n",
       "1  [0.3958119509127495, 0.3691622782594428, 0.348...  \n",
       "2  [0.4947061198537466, 0.4970185033031632, 0.494...  \n",
       "3  [0.3481476146050616, 0.3391445955916446, 0.336...  \n",
       "4  [0.5636458320343667, 0.565324442016578, 0.5590...  \n",
       "5  [0.3952908104243336, 0.3977712441710954, 0.397...  \n",
       "6  [0.596265762435231, 0.5941372830847959, 0.5891...  \n",
       "7  [0.3977712441710954, 0.3886474049917753, 0.385...  \n",
       "8  [0.5910304112118843, 0.5875729573612951, 0.596...  \n",
       "9  [0.6149088866639406, 0.6086716698267395, 0.607...  "
      ]
     },
     "execution_count": 7,
     "metadata": {},
     "output_type": "execute_result"
    }
   ],
   "source": [
    "time_df = pd.DataFrame(df_data)\n",
    "time_df.head(10)"
   ]
  },
  {
   "cell_type": "code",
   "execution_count": 8,
   "metadata": {},
   "outputs": [],
   "source": [
    "final_df = {\n",
    "    \"date\": [],\n",
    "    \"time\": [],\n",
    "    \"data\": []\n",
    "}"
   ]
  },
  {
   "cell_type": "code",
   "execution_count": 9,
   "metadata": {},
   "outputs": [],
   "source": [
    "for index, row in time_df.iterrows():\n",
    "    data = row[datatypes[0]]\n",
    "    \n",
    "    for i in range(1, len(datatypes)):\n",
    "        datatype = datatypes[i]\n",
    "\n",
    "        data = np.vstack((data, row[datatype]))        \n",
    "        data = np.squeeze(data)\n",
    "        \n",
    "    final_df[\"date\"].append(row[\"date\"])\n",
    "    final_df[\"time\"].append(row[\"time\"])\n",
    "    final_df[\"data\"].append(data)"
   ]
  },
  {
   "cell_type": "code",
   "execution_count": 10,
   "metadata": {},
   "outputs": [
    {
     "data": {
      "text/html": [
       "<div>\n",
       "<style scoped>\n",
       "    .dataframe tbody tr th:only-of-type {\n",
       "        vertical-align: middle;\n",
       "    }\n",
       "\n",
       "    .dataframe tbody tr th {\n",
       "        vertical-align: top;\n",
       "    }\n",
       "\n",
       "    .dataframe thead th {\n",
       "        text-align: right;\n",
       "    }\n",
       "</style>\n",
       "<table border=\"1\" class=\"dataframe\">\n",
       "  <thead>\n",
       "    <tr style=\"text-align: right;\">\n",
       "      <th></th>\n",
       "      <th>date</th>\n",
       "      <th>time</th>\n",
       "      <th>data</th>\n",
       "    </tr>\n",
       "  </thead>\n",
       "  <tbody>\n",
       "    <tr>\n",
       "      <th>0</th>\n",
       "      <td>2022-05-01</td>\n",
       "      <td>04:30:00 - 12:00:00</td>\n",
       "      <td>[[0.4488278179454802, 0.4322391184742269, 0.44...</td>\n",
       "    </tr>\n",
       "    <tr>\n",
       "      <th>1</th>\n",
       "      <td>2022-05-01</td>\n",
       "      <td>12:00:00 - 20:30:00</td>\n",
       "      <td>[[0.4836997128940765, 0.561246941662826, 0.618...</td>\n",
       "    </tr>\n",
       "    <tr>\n",
       "      <th>2</th>\n",
       "      <td>2022-05-02</td>\n",
       "      <td>04:30:00 - 12:00:00</td>\n",
       "      <td>[[0.4347363618052108, 0.4381254558831656, 0.42...</td>\n",
       "    </tr>\n",
       "    <tr>\n",
       "      <th>3</th>\n",
       "      <td>2022-05-02</td>\n",
       "      <td>12:00:00 - 20:30:00</td>\n",
       "      <td>[[0.555851540634401, 0.5119717796295798, 0.526...</td>\n",
       "    </tr>\n",
       "    <tr>\n",
       "      <th>4</th>\n",
       "      <td>2022-05-03</td>\n",
       "      <td>04:30:00 - 12:00:00</td>\n",
       "      <td>[[0.4395969892025127, 0.436899084556749, 0.449...</td>\n",
       "    </tr>\n",
       "  </tbody>\n",
       "</table>\n",
       "</div>"
      ],
      "text/plain": [
       "         date                 time  \\\n",
       "0  2022-05-01  04:30:00 - 12:00:00   \n",
       "1  2022-05-01  12:00:00 - 20:30:00   \n",
       "2  2022-05-02  04:30:00 - 12:00:00   \n",
       "3  2022-05-02  12:00:00 - 20:30:00   \n",
       "4  2022-05-03  04:30:00 - 12:00:00   \n",
       "\n",
       "                                                data  \n",
       "0  [[0.4488278179454802, 0.4322391184742269, 0.44...  \n",
       "1  [[0.4836997128940765, 0.561246941662826, 0.618...  \n",
       "2  [[0.4347363618052108, 0.4381254558831656, 0.42...  \n",
       "3  [[0.555851540634401, 0.5119717796295798, 0.526...  \n",
       "4  [[0.4395969892025127, 0.436899084556749, 0.449...  "
      ]
     },
     "execution_count": 10,
     "metadata": {},
     "output_type": "execute_result"
    }
   ],
   "source": [
    "final_df = pd.DataFrame(final_df)\n",
    "final_df.head(5)"
   ]
  },
  {
   "cell_type": "code",
   "execution_count": 11,
   "metadata": {},
   "outputs": [
    {
     "data": {
      "text/plain": [
       "array([[0.44882782, 0.43223912, 0.44615221, 0.44646719, 0.43257359,\n",
       "        0.42274736, 0.425015  , 0.43411203, 0.425015  , 0.43557366,\n",
       "        0.45070072, 0.4513493 , 0.47872758, 0.55541597, 0.56922951],\n",
       "       [0.09548948, 0.1067274 , 0.1168007 , 0.12315055, 0.1281361 ,\n",
       "        0.13548071, 0.14944666, 0.17423768, 0.21328439, 0.26982409,\n",
       "        0.33889131, 0.38270906, 0.35529756, 0.23764537, 0.11861436],\n",
       "       [0.52183032, 0.52318234, 0.52183032, 0.51649156, 0.50942441,\n",
       "        0.50306481, 0.4970185 , 0.49046927, 0.48374315, 0.47745174,\n",
       "        0.47220669, 0.46768197, 0.45980078, 0.44463267, 0.42258306]])"
      ]
     },
     "execution_count": 11,
     "metadata": {},
     "output_type": "execute_result"
    }
   ],
   "source": [
    "final_df.loc[0][\"data\"]"
   ]
  },
  {
   "cell_type": "code",
   "execution_count": 12,
   "metadata": {},
   "outputs": [
    {
     "data": {
      "text/plain": [
       "(3, 15)"
      ]
     },
     "execution_count": 12,
     "metadata": {},
     "output_type": "execute_result"
    }
   ],
   "source": [
    "final_df.loc[0][\"data\"].shape"
   ]
  },
  {
   "cell_type": "code",
   "execution_count": 13,
   "metadata": {},
   "outputs": [
    {
     "data": {
      "text/html": [
       "<div>\n",
       "<style scoped>\n",
       "    .dataframe tbody tr th:only-of-type {\n",
       "        vertical-align: middle;\n",
       "    }\n",
       "\n",
       "    .dataframe tbody tr th {\n",
       "        vertical-align: top;\n",
       "    }\n",
       "\n",
       "    .dataframe thead th {\n",
       "        text-align: right;\n",
       "    }\n",
       "</style>\n",
       "<table border=\"1\" class=\"dataframe\">\n",
       "  <thead>\n",
       "    <tr style=\"text-align: right;\">\n",
       "      <th></th>\n",
       "      <th>date</th>\n",
       "      <th>time</th>\n",
       "      <th>data</th>\n",
       "    </tr>\n",
       "  </thead>\n",
       "  <tbody>\n",
       "    <tr>\n",
       "      <th>0</th>\n",
       "      <td>2022-05-01</td>\n",
       "      <td>04:30:00 - 12:00:00</td>\n",
       "      <td>[[0.4488278179454802, 0.4322391184742269, 0.44...</td>\n",
       "    </tr>\n",
       "    <tr>\n",
       "      <th>1</th>\n",
       "      <td>2022-05-02</td>\n",
       "      <td>04:30:00 - 12:00:00</td>\n",
       "      <td>[[0.4347363618052108, 0.4381254558831656, 0.42...</td>\n",
       "    </tr>\n",
       "    <tr>\n",
       "      <th>2</th>\n",
       "      <td>2022-05-03</td>\n",
       "      <td>04:30:00 - 12:00:00</td>\n",
       "      <td>[[0.4395969892025127, 0.436899084556749, 0.449...</td>\n",
       "    </tr>\n",
       "    <tr>\n",
       "      <th>3</th>\n",
       "      <td>2022-05-04</td>\n",
       "      <td>04:30:00 - 12:00:00</td>\n",
       "      <td>[[0.4382592130820562, 0.4270706606977921, 0.42...</td>\n",
       "    </tr>\n",
       "    <tr>\n",
       "      <th>4</th>\n",
       "      <td>2022-05-05</td>\n",
       "      <td>04:30:00 - 12:00:00</td>\n",
       "      <td>[[0.4333093801969022, 0.4329050976598512, 0.43...</td>\n",
       "    </tr>\n",
       "    <tr>\n",
       "      <th>5</th>\n",
       "      <td>2022-05-06</td>\n",
       "      <td>04:30:00 - 12:00:00</td>\n",
       "      <td>[[0.4541789734601935, 0.4375234209059389, 0.43...</td>\n",
       "    </tr>\n",
       "    <tr>\n",
       "      <th>6</th>\n",
       "      <td>2022-05-07</td>\n",
       "      <td>04:30:00 - 12:00:00</td>\n",
       "      <td>[[0.408912240631089, 0.4108343943495978, 0.414...</td>\n",
       "    </tr>\n",
       "    <tr>\n",
       "      <th>7</th>\n",
       "      <td>2022-05-08</td>\n",
       "      <td>04:30:00 - 12:00:00</td>\n",
       "      <td>[[0.4247474905470506, 0.4095857726841059, 0.40...</td>\n",
       "    </tr>\n",
       "    <tr>\n",
       "      <th>8</th>\n",
       "      <td>2022-05-09</td>\n",
       "      <td>04:30:00 - 12:00:00</td>\n",
       "      <td>[[0.438691869904717, 0.4381254558831656, 0.421...</td>\n",
       "    </tr>\n",
       "    <tr>\n",
       "      <th>9</th>\n",
       "      <td>2022-05-10</td>\n",
       "      <td>04:30:00 - 12:00:00</td>\n",
       "      <td>[[0.4556059550685022, 0.4755837486177105, 0.45...</td>\n",
       "    </tr>\n",
       "  </tbody>\n",
       "</table>\n",
       "</div>"
      ],
      "text/plain": [
       "         date                 time  \\\n",
       "0  2022-05-01  04:30:00 - 12:00:00   \n",
       "1  2022-05-02  04:30:00 - 12:00:00   \n",
       "2  2022-05-03  04:30:00 - 12:00:00   \n",
       "3  2022-05-04  04:30:00 - 12:00:00   \n",
       "4  2022-05-05  04:30:00 - 12:00:00   \n",
       "5  2022-05-06  04:30:00 - 12:00:00   \n",
       "6  2022-05-07  04:30:00 - 12:00:00   \n",
       "7  2022-05-08  04:30:00 - 12:00:00   \n",
       "8  2022-05-09  04:30:00 - 12:00:00   \n",
       "9  2022-05-10  04:30:00 - 12:00:00   \n",
       "\n",
       "                                                data  \n",
       "0  [[0.4488278179454802, 0.4322391184742269, 0.44...  \n",
       "1  [[0.4347363618052108, 0.4381254558831656, 0.42...  \n",
       "2  [[0.4395969892025127, 0.436899084556749, 0.449...  \n",
       "3  [[0.4382592130820562, 0.4270706606977921, 0.42...  \n",
       "4  [[0.4333093801969022, 0.4329050976598512, 0.43...  \n",
       "5  [[0.4541789734601935, 0.4375234209059389, 0.43...  \n",
       "6  [[0.408912240631089, 0.4108343943495978, 0.414...  \n",
       "7  [[0.4247474905470506, 0.4095857726841059, 0.40...  \n",
       "8  [[0.438691869904717, 0.4381254558831656, 0.421...  \n",
       "9  [[0.4556059550685022, 0.4755837486177105, 0.45...  "
      ]
     },
     "execution_count": 13,
     "metadata": {},
     "output_type": "execute_result"
    }
   ],
   "source": [
    "preprocessed_df = final_df.drop(\n",
    "    index=final_df[\n",
    "        final_df[\"data\"].apply(lambda x: x.shape != torch.Size([3, 15]))\n",
    "    ].index\n",
    ").reset_index(drop=True)\n",
    "\n",
    "preprocessed_df.head(10)"
   ]
  },
  {
   "cell_type": "code",
   "execution_count": 14,
   "metadata": {},
   "outputs": [],
   "source": [
    "data = np.stack(\n",
    "    tuple(preprocessed_df[\"data\"])\n",
    ")"
   ]
  },
  {
   "cell_type": "code",
   "execution_count": 15,
   "metadata": {},
   "outputs": [
    {
     "data": {
      "text/plain": [
       "(438, 3, 15)"
      ]
     },
     "execution_count": 15,
     "metadata": {},
     "output_type": "execute_result"
    }
   ],
   "source": [
    "data.shape"
   ]
  },
  {
   "cell_type": "code",
   "execution_count": 16,
   "metadata": {},
   "outputs": [
    {
     "data": {
      "image/png": "[encoded data removed]",
      "text/plain": [
       "<Figure size 1500x500 with 10 Axes>"
      ]
     },
     "metadata": {},
     "output_type": "display_data"
    }
   ],
   "source": [
    "num_samples = 10  # Số lượng ma trận muốn hiển thị\n",
    "fig, axes = plt.subplots(1, num_samples, figsize=(15, 5))\n",
    "\n",
    "for i in range(num_samples):\n",
    "    ax = axes[i]\n",
    "    ax.imshow(data[i], cmap='viridis', aspect='auto')\n",
    "    ax.set_title(f\"Sample {i}\")\n",
    "    ax.axis(\"off\")\n",
    "\n",
    "plt.show()"
   ]
  },
  {
   "cell_type": "markdown",
   "metadata": {},
   "source": [
    "# 1. K mean with DTW distance\n",
    "\n",
    "Vấn đề bao gồm:\n",
    "- Chọn k cluster tối ưu\n",
    "- Đánh giá mô hình\n",
    "- Phân tích lý do cùng cụm"
   ]
  },
  {
   "cell_type": "markdown",
   "metadata": {},
   "source": [
    "# 1.1. Chọn K clusters tối ưu cho mô hình K-means\n",
    "\n",
    "Việc chọn K clusters tối ưu giúp mô hình giảm thiểu chi phí tính toán, tránh trùm lặp dữ liệu trong các cụm. Các phương pháp chọn K tối ưu bao gồm:\n",
    "\n",
    "- `Elbow method`\n",
    "- `Silhoutte method`\n",
    "\n",
    "Cách thức hoạt động:\n",
    "\n",
    "`Elbow method`: Phương pháp chọn K trong một khoảng cho trước. Đối với mỗi K, tính giá trị `WSS` (`Within-Cluster-Sum of Squared`) và chọn K tại điểm mà giá trị WSS theo K mà tại đó độ giảm trở nên ít đáng kể.\n",
    "\n",
    "Lưu ý: Việc tính toán `WSS` có hơi phức tạp do:\n",
    "- Giá trị Squared Error đối với mỗi điểm là giá trị khoảng cách từ điểm đó đến tâm cụm.\n",
    "- `WSS` là tổng của toàn bộ các giá trị Squared Error.\n",
    "\n",
    "\n",
    "`Silhouette method`: giá trị Silhouette nằm trong khoảng -1 đến 1 và giá trị càng cao thì càng tốt. Tuy nhiên, phương pháp này chỉ hỗ trợ khoảng cách Euclidean. Có thể không phù hợp với loại dữ liệu sử dụng DTW.\n",
    "\n",
    "`Davies-Bouldin Index (DBI)`: phương pháp đánh giá chất lượng phân cụm bằng đo độ chồng lấn giữa các cụm. DBI càng nhỏ càng tốt, phản ảnh các cụm dữ liệu tách biệt và cô đọng.\n",
    "\n",
    "Công thức `DBI`: \n",
    "$$\n",
    "DBI = \\frac{1}{n} \\sum_{i = 1}^n max_{i \\neq j}(\\frac{s_i + s_j}{d_{ij}})\n",
    "$$\n",
    "\n",
    "Trong đó:\n",
    "- n là số cụm\n",
    "- si là độ chặt chẽ của cụm i: độ lệch chuẩn trung bình giữa các điểm trong cụm đó và tâm cụm.\n",
    "- dij là khoảng cách giữa tâm cụm i và j"
   ]
  },
  {
   "cell_type": "code",
   "execution_count": 17,
   "metadata": {},
   "outputs": [],
   "source": [
    "# possible_k = range(2, 15)\n",
    "# wcss = []\n",
    "\n",
    "# for k in tqdm(possible_k):\n",
    "#     model = TimeSeriesKMeans(n_clusters=k, metric=\"dtw\")\n",
    "#     model.fit(data)\n",
    "#     wcss.append(model.inertia_)\n",
    "\n",
    "# plt.figure(figsize=(20, 6))\n",
    "# plt.plot(possible_k, wcss, marker='x')\n",
    "# plt.title(\"The Elbow Method\")\n",
    "# plt.xlabel(\"Number of clusters\")\n",
    "# plt.ylabel(\"WCSS\")\n",
    "# plt.show()"
   ]
  },
  {
   "cell_type": "code",
   "execution_count": 18,
   "metadata": {},
   "outputs": [],
   "source": [
    "# from sklearn.metrics import davies_bouldin_score\n",
    "\n",
    "# dbi_scores = []\n",
    "# for k in tqdm(possible_k):\n",
    "#     model = TimeSeriesKMeans(n_clusters=k, metric=\"dtw\")\n",
    "#     labels = model.fit_predict(data)\n",
    "\n",
    "#     cluster_centers = model.cluster_centers_\n",
    "#     dtw_distances = np.zeros(data.shape[0])\n",
    "\n",
    "#     for i in range(100):\n",
    "#         dtw_distances[i] = dtw(data[i].squeeze(), cluster_centers[labels[i]].squeeze())\n",
    "\n",
    "#     # Tính Davies-Bouldin Index\n",
    "#     dbi = davies_bouldin_score(dtw_distances.reshape(-1, 1), labels)\n",
    "#     dbi_scores.append(dbi)\n",
    "\n",
    "# plt.figure(figsize=(20, 5))\n",
    "# plt.plot(possible_k, dbi_scores, marker='o', linestyle='-', color='b')\n",
    "# plt.xlabel(\"Number of clusters (k)\")\n",
    "# plt.ylabel(\"Davies-Bouldin Index\")\n",
    "# plt.title(\"Choosing k using Davies-Bouldin Index\")\n",
    "# plt.grid(True)\n",
    "# plt.show()"
   ]
  },
  {
   "cell_type": "markdown",
   "metadata": {},
   "source": [
    "`Elbow method`:\n",
    "- Đồ thị bắt đầu giảm không đáng kể từ k = 8.\n",
    "- Giá trị tiềm năng cho k chạy từ 8 trở đi.\n",
    "\n",
    "`DBI`:\n",
    "- Từ 8 đến 11 có sự ổn định và giá trị DBI nhỏ. Các giá trị 12, 16, 18, 30 có sự dao động mạnh, chứng tỏ mô hình khó phân cụm tại các điểm này.\n",
    "- Giá trị tiềm năng cho k chạy từ 8 đến 11.\n",
    "\n",
    "Vì vậy, k tối ưu là 8"
   ]
  },
  {
   "cell_type": "code",
   "execution_count": 19,
   "metadata": {},
   "outputs": [],
   "source": [
    "k_clusters = 8\n",
    "model = TimeSeriesKMeans(n_clusters=8, metric=\"dtw\")\n",
    "labels = model.fit_predict(data)"
   ]
  },
  {
   "cell_type": "code",
   "execution_count": 20,
   "metadata": {},
   "outputs": [
    {
     "data": {
      "application/vnd.plotly.v1+json": {
       "config": {
        "plotlyServerURL": "https://plot.ly"
       },
       "data": [
        {
         "marker": {
          "color": "rgb(228,26,28)",
          "opacity": 0.8,
          "size": 6
         },
         "mode": "markers",
         "name": "Cluster 0",
         "type": "scatter3d",
         "x": {
          "bdata": "DM55kdcd3D/7qeCi7tvbP9KeYVMb3to/Ph7zYzWg3z8AT+NHcWHdP5Uz8Z5mJ90/zwMLNJQa3T9xQyptNeXcP/DEFdfzztw/vxxDQ4qP2z9fMhD46lXbP7KUHgKkMuA/ETcjZS6R2z8qL+SUC53dP/KrhDf5cds/wI3vKsnB2j8ijIaat37ZPz/6EV49XNs/dTMbKgAC3T/VbFFUQs/dP30us4uddN0/ddwkIDlx2j/yD8w6ya/YP4NYP/T2h9k/r/dPt/bM2z9pVLvGms3bP2RG6u+Omts/cyKFuZ982z81ouVPOGrbP2FZzebEltg/SuZFXTww2z8N1gsjWOjaP9Pi+leOtds/tlQV9Op/3T9g98RlQtrYPzr87aGRONs/exVgSqDC2z9lB5GbSbLZPws460n6Dtk/1JYwkAcG2z/p9JGkXpPbP/KyJOQvAdw/w3ufuvzA2z9UiRawuL7YP3rmI+T9j9s/x1M1GyaC2D8u9ddgIYjZP98wSZ2Irdg/EV1hl0a32j+tjowUve3ZP7Up7vnystk/NSZIgM893D9Cu/rYUpTcP4wD+etRcNw/E4+uEC9j3D/i04KyOmbcPznACYltpto/gdd4k03H2T9mnJYGVMzbP/QtevYwUdk/1dSpxHsa3D+jW8aNxovZPzVDWc+uOdo/VaVzPln62T960B2fjt/ZP6YZQe1COtw/PbvqaJyi3T9y72VAA+nbPzdGZY2pL90/ITyF1qZ52j+VbhCuxJPgPyTztQclXd8/NLMIuAN83z8=",
          "dtype": "f8"
         },
         "y": {
          "bdata": "j+TfoPq2vT9+ScjRV/G6P8ueaLkcncY/EStlzfCHvT9uGjtTDM+/P8N2rSI1Mr4/rjGXfH9wvz9imG2hzhu+P7du+e9oqL0/aztRXPY0vz/fQBhLLaC3P71NZn5pJbk/hMXk9O5quD+FVYwc/s+4P4+LJwysc7c/4RgTayExtz9SeIiaYkK3P0p5HFwm97c/D+ohKAKbuD9vkONxMrC3P0bopeOR4Lc/wY5ExH4luz+xd9ymBNC3P4NbeLUAp7Y/0Dxg5XhxuD98NE29WRi3P5Ob3YfGK7c/lJ/j43dNtz/wTQeVrja3P2wrGsOaPLg/3QSCLzyYtz9MsRXn3We3P3JlNM72MLc/PiQ7suWEuD+LFCX0rHK4P4DD4+zdQLg/yoH2RAnptz/ZuqueNFC3P/HSxQLpLLg/xVKsOzcytz/kuoFenoa3P9ayvYz5tbc/RouxyyOkuD9kcT2YMTC5P7wstHSFrbo/GQdwShJIuD+/1M4WS2G6P24zqAtQHLk/hNBR4VbUtz8PiCCYiwK7P46yXRaYIro/RguiWT1Buj+iVkuq5wS7P7u5p1+dFLs/UbvDGNmauz/8xqwQsOa6Pxeq1xgzVbs/+wFNUebuuj8pDAJ1T3e6PzscSfKZs74/amtI/6R3wT+PFIkkV7W/PwaT3xlSY8I/XsJBsHCwwD/tIOJUfNXAP/xqVJsGx8M/PrIKxl0quz8xvfnJkIa+PxtprXtHL8A/gT09ux7Qwz9JbI30W7i4PzauT3sMCrw/ysKManZQwD8=",
          "dtype": "f8"
         },
         "z": {
          "bdata": "rV25xcAU5D+e0Ahj4P/jP4TcJLBThOM/WwIsvXaV4j+Kh/jmprrgPy4lRxbr1OI/K+Lmgj1l4j9E8j318hfjP9GLX4GZyOI/Yxhh2dix4j/6mJ4HalflPxA2xg17T+I/GVs5viVx5D9cB+l/XaHjP/FR60Q4gOM/Q00HkOFW5D/kgTyeyKzkPzIlAQRxFeQ/o3XF7Y5G5D9qxsCGOAbjPwHnDMR92eE/pmnu0PQo4z8uWvkWkoPjP7PP7GRO/+A/KTiX+/Uk4T8NoovtYWThP0tBMdVsHuE/9qNgnWk44T/txXv1raLiPy6ypgB3l+M/1Q9MP9OT4j8+YPItYkrjPxKntb9EnOM/RQSuaz/V5T8dBuIfBDzkPz5P7uLY/OI/sMfxqrxf5D+1KnHpJPnjP6XxbgtgXeM/VV0YcKHW4z9SDjrH4gDjP8fhfn9zF+M/tF44w7sS4j/qh6BVceXfP8KhU4gWY+A/AnJkP+Ak4T8JddD5vDjhPxGIFwxsg+E/U52riPZN4j/EuTI4zd7gP73RWT9gWeI/AZgEqG994T8eFhjfCajhP8fyuJtL1eI/C3Vq1M6m4j/6VsFFZKjhP9vQPr2rRuI/fL57hYnS4T+J1LlHwfPiPzLrhaKhquM/I99WP4DH4z8w/eb3izLjP5KXWVWX1OE/Q3fJ+1oa4j9TBgb9YFXiP434UBYlVeE/sLGvWnqD4j+Os5fbMsnjP1AZprL4CuQ/fclQDFJv4z9Bh2NggzfiP2vRwzxf6OA/jUfdrs2q4T8=",
          "dtype": "f8"
         }
        },
        {
         "marker": {
          "color": "rgb(55,126,184)",
          "opacity": 0.8,
          "size": 6
         },
         "mode": "markers",
         "name": "Cluster 1",
         "type": "scatter3d",
         "x": {
          "bdata": "Pp+eRnAO4z9LU4hxICvjP75umE0f0eA/sdGliZFg4j+ckFtZzrDjP5aiOzEV9eM/TzMxlJ8b5T+Jemw/zRbkPzZWjVc1G+Q/WXK5VX7s4j/g5qI3i1jiP5E+sXtgquI/tXu+FFiR4j8jZIHNt/riP63rYPw63+I/BL6XcGT14z/g4veATazjP6bWPUzVKeM/MNfu65Sy4z8cvXmvHCDlPy0T7kOlXuU/egrn3n6y5T/PlyMhfPrkP68GIv+thuM/9TCTsA0z5D/q6zoK41zkP6LEMVlA4uE/Xva76Jbb4j+vrhkM33PkP/LefMNHjeQ/9Fviy9SC5T8ZzB+LjrjlP3W6t/jBVeQ/m6Ivgk915D8KF6qge7HjPyuNaFiGeeM/2gcxzmJB5D9sBlPbBW7kP+lFwTMHx+M/yW1VkRHF4z+5be7j6YXhP3AfiDJKZeM/2WLZALIi4z8AEouGNz/jP1ZfY8VubOI/",
          "dtype": "f8"
         },
         "y": {
          "bdata": "V7fRN9yMuz+dd0nZ0XDGPwNtxGpkIcs/W9XeN7foxz91XM2I+MLDP1Os7XUVssw/n/9G9y/3vT+TyPyCTYXLP9mVb07v+Mo/ysn4U8novj9jRB2K85fJP6tE4cU7FMo/9sXPQM1ryj8EGVhAsjXJP3LgVN74PcU/u5jeHcJJxj+1KBb4upLMP/xbRvUvcMs/kNMIJ4WtxT+rMvIGxBjGP6ZT2jrrxcQ/JGWSVLwlzT8eAnlSrHzCP48XItwNRsE/VAWTu9DNxT+MW0renF/CP7xlZouTJMo/F60QCywOxj/f79Zsr+bGP7aucRiY7cU/Zl4gtxkZyD+gPffpfsHJP0JUyPmf8Mc/BiQxd2/lyT/Qwx3y8GXKP5kSqNreOcg/isRdofSTxz9RQJ4YWY/KP39CB54sOMQ/ry57bexItz9iq3qnx3LIP1FtGY+v8cI/ZZfXHMw8xj/8oN7WvG7FP4/8qJ0/nMQ/",
          "dtype": "f8"
         },
         "z": {
          "bdata": "cDcBZL7A2T9LnISJw1XePzEMMvsa5tw/0EWdygqr2z9XIDv6b2DdP7A2oNcJNd0/x+G7gHiP2j/BDaQjzRvYP0PzEOorMNs/Rzm2VOxP3j9KJOKelgPcP5OOtnIl2tw/CwIh8GD63D8MCFGuYAfeP31G+Rywa9o/z7HGxFZ+2z+pgWpI7aTaP3BwrGygHto/KgPFy/zJ2T/NNKF62W7ZP3yxn77cx9c/kWm1XyA93j9B5LJR7vrZP3Q0Ej6IEdo/VJZ1D5rc3D/75M9Oqq7aPzULsEAd3to/H2+47pnr2j+TbUqVu1PZP+7UlnlDa9k/HIY9+RqG2j9zKAxF75zbPxJAoP+KIOA/iW4CysMD3j8mkq4lx1jcP/fY2mP+/ds/Berj+TjX2D+AcmWvvuDXP9+92fJWz9U/MYjc+HJQ2T8nJbI6hfbcPx4eG6hIbd4/vWMGVm2H3j8vOVunHyzePw01Y7HK9d0/",
          "dtype": "f8"
         }
        },
        {
         "marker": {
          "color": "rgb(77,175,74)",
          "opacity": 0.8,
          "size": 6
         },
         "mode": "markers",
         "name": "Cluster 2",
         "type": "scatter3d",
         "x": {
          "bdata": "QN3eJJmT2j/cOcDjCyncPwPzMra9V9w/QbOXSz1U3D8ykDb2OkPdP8ZsiGFMpNw/MK+6JhL43D/O8eis5WLcPyzEFo/LHt0/8yPKdh2n3D8g1nA+0ezcP+ExTcLuk9w/4EpT3zOH3D86Uwd2re3dP71e53iNM90/gpeIDhr43D+zPxAOS9jdP2Sukt7ujtw/yZocPJ0M3D/wv040lt7dPyAJkJyjQ9w/BtOX7OIG3D/UWTLjfzrcP1ZORoaW4ds/NT0U4Jjc2z+mHmHTpBLbPx0KrPp4DNo/LePt/Wsw2j9vdpruAFPZP2aBN0JXxdg/UpX71hfa1z9vzrA2thHXPwpJwjLgz9U/E+1PFpb31j8xjy6WC2HWP+lpGn8PWtc/to+kaf991z9WFTp2O+fWP6alRlmG/tg/NCPyY7Nm2T8KDRQksBHbP09uXwdJIdk/5VcbV1iN2j+r7K7XeKjYP4aWdarrLdg/ZGao01EM2D+EOHdgqeXYPw==",
          "dtype": "f8"
         },
         "y": {
          "bdata": "Ths7V8b6vT/fqEs1c9C/P3aLTE2Lrbw/SbDNWsLeuz/t6rtB3BG6PxuUwXoWBbs/rlukbudQuz/01i31kwi7PwDDt5Y7sbw/Os02Rt30uj/6OLVrKVq7P9DM109GYro/UFWV8MtJuj8F6tJVDgq6P5bcims6Tro/R/LncyNZuD9AoGkw7yS3P8M7rmDRzLk/t3rGOwrRuD8UtAGibge5Py2smaYHb7o/V75DzBufuT9hlpb+XnW5P1NijB7aubo/u500WLguuj/nMFCLKO64P2V7F/sJLrk/mw91nBgkuj8ka0V9Dye5P2VsN9QVC7o/UltsKiUCuD+UVZosGZG4P4lkO3/XTbk/6seAod38uD+EzFCPPym6P4BtUCRHuLY/qw2/5vbDuD8Vf9Uxcde4P5nsk7ClUbk/LToBRDEyuD9uKbD7MGi4P1eM8tPGRLk/TFDuml5CuD9+ljOthAe4PwOSl/qaUrk/BrTgThyotj/EuFXOx7m3Pw==",
          "dtype": "f8"
         },
         "z": {
          "bdata": "F8UxqJPg6D+dmyA4g/roPxC9Yu54LOo/EOHoKi4a6j8bIE1TmJ/qPxIgGvbzKuo/GqhD0tgz6z+1H8RRmsXpP2sside2Zeo/zyKfrNeN6j+vdj4RLdPqPzFNzeuBJeo/G2EqTlkX6j/b8mEXO+zpP49XGJ/PTOo/1k3nm7mc6T/cWrBC+jLqP87YK0cHeOs/mxf/ojkb7D+Z/zR1ufzrP6L8OZNDWOw/hp1qe3ng6z9RkJ2dkFXsPwJMgK6uR+s/yVGt0Q3K6j/lO/H/xkDqP45QAihIoOk/0pT+hbXP6T/OUgveMMDpPxY60x68W+s/0c4PjGy36z/Eiz+v+qTqP/cxkGMUgus/X11apuJa6z9CsTfTmOXsPxnhP23QBes/p5rYjRSc7D+NphOO+SvsP88MpEgtauo/3iZr71w86T8FWN5ULu7pP68gQphONOs/YffobT8G6j+HZyebLLjpP7VDpPXaMeo/WbThwxwJ6T9AW+KFF9HoPw==",
          "dtype": "f8"
         }
        },
        {
         "marker": {
          "color": "rgb(152,78,163)",
          "opacity": 0.8,
          "size": 6
         },
         "mode": "markers",
         "name": "Cluster 3",
         "type": "scatter3d",
         "x": {
          "bdata": "asYrToqh4D+eq1b5tCnfP3+KgwLn0d4/zLIvb+xP2z9eHkrgj77YP9XxTbMhvNo/kXxt9GH91z90sVbfv1/cP2QlCC92qeA/qcl3r5oP4D9KC586K6zdPwzCh37cIOE//RiXIKTl4D9txVfKPq7fP8zNqIjzON0/Ly2IQ1Ki3T8iGsLJXq/dPzCjyzmH39s/bBghRSYr3z/SYqOoWS3gPx50kanX994/h4GrkxGH2z+sf8Ie4C/dP/yh8mw8W+A/lCNJms9i4D92p1qbt5rgPy8a5w7EuOA/sMIUhmHc3j9bDtAOthXfP4//jHFy69s/tiK4sGYF3D8+2X+Uv3zcP705efFmf90/ZiPdCg+u3D/ywG7ICzPcPwyTXQOaLNg/5EceGLex2D9Q7yhNsbLYPw/8FjEGxdg/A945BQum2D/UIQOesJnZP5eTvyewpdk/b4gwLjSG2z9jMeokSEbcPwtqfLFr19s/vzFYaHUf3D9SEh5pSGbcP6Ce0dXKBNw/U+knLfx+3T8h/CWeprXeP1rKwME+Y9s/T0/KvL+c3T8cVtEg1OnaP8nH1/vaMN0/",
          "dtype": "f8"
         },
         "y": {
          "bdata": "3cv4c9xqwD+g3/naB1G3PzKGBz0PTLg/GQQPk5W+tz/Gb2owMei2P7xAE7rBYrc/mdrKD7aItj/p/QP5OkG3PwDme37Murc/tcAqlZI8uD9pGQPnGfy4PwHO26zJArg/LRQepWQSuD/H+NGRDvS2Pye9wF0jzrc/8rwB/vbntz8fMJZZ3Dq4PxKfGmBNwLY/mwwnvgYVtz9DGsTIki23P2fmR1sPbbg/Hj7/rJYjuD/xKlZLsy64PwoC/Vcesrg/HbvlU05luD+pQHZqxme4P0sOanrCWLg/7opxCsjYuD/idOFWCG64PwfkaWhkebg/sWzpNMuvuD98encGEBG5P4ZR/qv2ybg/PluU3VXQuD+6cvbpEqi4P4GX1rBr1rg/TQopAMXiuT8PDQFh3MO4Px0oiO4hoLg/u2EogjGOuD/Zvg0IXnW5P8G3zoQ/+bg/CSjME1DsuD8JFFEqBbW5PyRZoQz02bk/WoxIk5LyuD+yjpRVnWG6P2bfpUMvMLk/RIn06ExZuD+7B5tmaY66Pz3aQBZJUbo/vr4ixS7auj9nnPOvS3q4P3NUpiyCe7k/",
          "dtype": "f8"
         },
         "z": {
          "bdata": "QykadmGs3D87v7cGFNnePzy3ZpSp9ds/C2uUa+243D+LuKkXnjfcPxFVdr5Db94/SUAjrJi53j9aios3yjLeP3TuV5jGhN0/+UWSlEUI3z9PKC/cKA/fPyOwox/93ts/dnADouaF2D8fNst6banYP9kXamBf69o/eTTaknPx2j/UPo1S0d7bP1lqaW2P0Nk/TvXGxQSU1z+tyw9+4oDYP2mV73nzztg/wPI8uqsp2j/tXVfDH/3aP9cfJEMimNo/fg2tzQZb2j8lAq4i17fYP2ev0C7pUdc/6nXMSIEZ2z8E3xezgtTaP/ye9DCZY9k/qsO0hRtF1z8wT/ERbnPVPxvN45b0WNY/NJi9c/oG1j9j651JqQLWP8xQ/C5Cado/hlLnbinw2D9Zlmnq4HXYPzNIIWnYg9g/prPSEFUy2D/HZoQ14RfZPzt6KWWaLtw/gPr+OaTa3D8ka1brSIDcP8G/NtY6A9w/az4pI7RT2z//OIwJaKPbP8mTe5NfKdw/jycb9kdK3D8+FfEAdhbcP1Y5NWc7d9w/YxvMGfhC2j/6aLTL6WDeP2aHI/Vz298/",
          "dtype": "f8"
         }
        },
        {
         "marker": {
          "color": "rgb(255,127,0)",
          "opacity": 0.8,
          "size": 6
         },
         "mode": "markers",
         "name": "Cluster 4",
         "type": "scatter3d",
         "x": {
          "bdata": "LgSyJo4+3T8lTNlNKZriP9/vOdAwPOE/622y5JyS3z9AEyoCRDjiP9ZSqqJScuI/J+QbeKWo4j/6UWEp4WrjPzEYevgUW+M/hZfp84vY4z8s8/yNOnviPyQ4ooDMKeI/QIKroWNz4j9VNxzaS4XhPznZWaYpT+E/lgRNB+9G4j/E54ShM9fiP9qcxp3tCeQ/OckODFUV4z+dx7AmKJfjPze3Cd9iveM/q4sgSPKv4j+HQ1ZbRMbiP6CCsbp6guM/7odUCknR4T/kUYPI1BLiPzQX8W7P9+E/dnpcneBh4j8TNJ/JhvDhP/JzClbObOI/m+2ljEoS4z/lp5w/057hPz/XCh1UOuI/AtU2Pn6X4j+2MRRAkzriP/s+nTPsG+E/C/sQJplY4D+ffMJ7bBTgPwFjp1/G798/Rv+i+Dzs3T+U82o4Z9fgP8X+zH7cK+E/DQqNwEK44D8jZl/v71fhP+MJMZhKNuE/GhP2S3nv4D/66BdcNzriPyXzI895puI/Dm6Q+HYb4z/zJeHOrebhP+VoMEFch+I/5Jm0SdoQ4z8CGg0WWebiPyW44ZQiVeI/PCI9W+hC4T9hW3r+lzbhP7yo2S3QieE/FYv627i14T/q9jpkbx/iP+MSDeUJC+M/P7F0b/fb4z+v/90lfkPkP/wwY1I6x+Q/aQ4PkVVZ5D87DrmHl+XiPyxBmXWmduI/J4CobflY4z8wERo6W9bjP1dC7003mOQ/ELRcRSEO4z+a4LVFGWHiP+lGZC9QJOM/0b1vqHrM4j83INKbKjbhP0zEwLukHuE/QevDL98m4j8bsfJa/5/iP5AERNG/pOE/t0icJoPW4T8JCUxifkjiP9sbAQDbiOI/3o+koCzi4T91DNl018ngP12BT5rumuA/WeefAzwI4D8V+OLPAgbgP13WmUu0fOA/TiYXth4L4T8=",
          "dtype": "f8"
         },
         "y": {
          "bdata": "bM7/pQ4jyT8t2fFOOvPLPy0h5ksB6sg/BT7FN6NQwz/y2vofsSvKP64H1kpNeso/QsJwnsnKwj/8AP1Xlq/LPzbn5CilB8o/N4I3yxQYxz9QJXGr1zDHP7eQQ/Ufo8k/ymwYxJcGxj+0PUW1XCjBP4l7I192a8o/WU7UW1u4yD+LYIkhG6bKP9ynUMvElcU/wyy6rKSFxD/2oh6CGt+9PzJfoX1xjsY/0jLQB5GmuT8TA6spuTXGP6uqH6NxOMQ/bFrvw0B3wD+a1GG8xvy5P8fINbopO7o/oTEEkLpcuj9zHieFWIG6P+YtOImLCbo/VV5q27SPuz9tgGbs1qXDPwJ3TLrcEMI/sXAOPn2rwj8KgUhvC37APx9Uvs0lMb8/FXAGJIKzvz+GbaIo+AO/PwYgBXTTH74/1gLraIWhxD9KMjwZryvGP8TOkS+QzcQ/1wJgEz1Cyj/jSsO58uPHPwVP6/j8X8Y/wg/zJES6vj/cH5/YX9PCPw3esv5o8sY/gJ3o8c3yvz/MK1oDKE3GPwZoCg3WtsQ/JT4NE88iyT8To56PzkXHP6tLPzaefcY/g+pyJU8twj/Twg+JJk/FP6ycY/vcBsc/cGro5Hmnxj97rhV+1aXEP47UA/laNMo/G4CS9MDbxz+Z9k3xiQjGP36KNS49tcg/3lAD+wV3xD+GXhLkT5zFP9fc1Lk9O8k/Q23oKiQxxj9pqPGfgibIPypdOx2im8c/LHTble3rxj+BVdiJKLPDPyc0ahpHtcA/VPY4ntefxD8jnV9C4DzEP1CDEYZ0ksQ/gQTwLSoixD+uAGoKaLLGPyaIFxOwPsU/v1RnCMQzvz9S4+SxEwLDP5Dn+R1x7MQ/2w4YkDifvT/mulyYGNPEP0JJZmV+E78/jFSOuyoaxD9xBJrek1HDPwOVOZcRe8Q/EhrUYaXBwj8=",
          "dtype": "f8"
         },
         "z": {
          "bdata": "5yCd2wIy3z82J+evJ+vgP+7xgbGP7uA/vPihePWo4T/aKIFAl7riP0FTvmbKG+E/kSHcVP9J4T/9+vDiF33gPyy/sRhrbOA/UcR5GOxG4T8fTXeeTorhP1JzPgXeUuM/UXKvHx/s4D/20imdCI3iPzs4jcGbFeA/IwsqIFww4j9BMkOvM1DhP9YLNIZJ9+A/ElbeN56d3z/tUisDy7zePxMDuS5XG98/L8tBw4VQ3z/Z7VEOAMffP+TJDUUYHd8/TRKzRC6+4j/N+Vhy4DThP44rRBLjB+A/ZgFqq8oR3z/7rY5RrsPePwois7KEkd8/ZRBNM22Z4D9U0m9VzZLiP1HJpRNWl+I/A+wHE8mg4T/hLSHsssLiP0ZS/SHjv+E/DEk9QeyS4D8ZoVeP7nzgP0vBcMvT3+A/hGCEPJ6u4T95gKleqOXhP1+3llJDP+I/8GwBPGVh4T8P2otROb/gP80vszQOOOA/b4K3bMUs4T+l0hK0UobiPzkMG9L+tOE/Eb8KxXI44z/WQzM7XSLhP6Qrg20jPeI/MZYJ0CH44T9lnfWHOdfgP5xozNbTZ+E/7vHogx6S4D/LP1BevL7hP8FXD6gA3OE/J5kXeimt4T9134fAHXDhP9Od+n+8puE/PXN99iYT4j+hRgQ25k3iP5Fhy50DL+E/yg1mxgIA4j+p2ucKPuzgPx11iOZfI+A/dmrmdnLc4D8ldl7v2afhP+mk1lnLf+E/aX4FDaCZ3z8+Z0/EZD7eP7vuAl1DzOE/a1egfiNR4j83AAH3c3DhP90FBvUNJuA/H0NZSTDg4D/nrIPCC2XhP7upStM3juE/oixz+aV/4T+UWlqSy2XhP9ISNOz3eeE/Xv+tbY1Q4D8hbwAqlV3hP9VwMalzi+A/suh3qBV04D8UCTYLIwPfP+VtQoEXC98/FYumaT/Z3z8=",
          "dtype": "f8"
         }
        },
        {
         "marker": {
          "color": "rgb(255,255,51)",
          "opacity": 0.8,
          "size": 6
         },
         "mode": "markers",
         "name": "Cluster 5",
         "type": "scatter3d",
         "x": {
          "bdata": "fR2Msz+n2j83W1QDgcrdP45KHIFhad0/J0GMYyO+3D8OJC2oMW/cPw05JHPdmts/l4fPdV9y2z+VlFuz3TnaP6ueRxR9/9k/UINLKNtB2z+BPMdLhk/cPw1Pv3QSEt0/I8TfbrN52T83Mk2HmzzZPyQ+pP95R9s/HbyCO5Ux2j9V7K8STwTcP1aN1ROlM9g/MST4F87y2T8TAb/PKHPZP7XMwJC5Wto/Wt3bgoji2D836tuPwuLbPwvgfIMGg9g/hceryevd2T81hGPORr/ZP94FwfXhVN0/3Q9Iy4Fs3D8RPodd5lfZP0/SriokMNk/i64qKiHJ2D/5U+At6pvbPzbroTqWJ9s/HkfBAasc2j9ia31gOG/ZP6J/wZJBi9k/o9IsPRZI2z8yAMEpC2vbP0vIoizGptk/47dFQyKu2T/Kp6YEZrHZPw7k4061p9k/I4pupw1K2T/qq9UJlNLXP+Hz7xx9mtg/jnWw8pd+2D/5hRP3F8/YPyemIh/Hh9k/ZE1lXbvi2j/bSWc07pbcP5E2uFfpddw/aYTxoRi22z+xbTGlSePcPw==",
          "dtype": "f8"
         },
         "y": {
          "bdata": "ZkMigoX0wT8rnr5fLpm9P2R1gxcO1ro/QVqp8voSwD87CwFpAkq8Py4Gg+BeQ7o/+nH85rdjwD93DvDdffS7P4nvuEXKMLo/96Hsy4GrwD8XkVtWj5e7P+AaOrxnibo/8fkRe23uuD/zJCGIGY64P5zNJZ9opLg/wLmkz+26uD+Wybh8bs+4PzY93HLKfbY/9mjcT8EauD+JAYkc6nS4PzXw4d9tJLg/idZN5cDJtz+//whf0Wm4P0ks7yMOELg/1xXOlkwMuD87j69Wt9e3P4Au9YnPtrc/cl2rDCcLtz+dUSXW3R24Pz5We75Kerg/WlZJOK6nvz/7rxAJfUG+P0bU2btxJrk/CpAndQqIuz9Z4POvl0fFP1XiZOD0/cM/bRDvCLIvwz/sKqJAz4q9P8BmQelgk7w/kwA+Lupvwz9gLgY6aWq+PznNqvCZD8A/y8TdJZe/tz+5kvRocvq3P1SXLEhH0L4/5PSKZRGxvT8pBAWyLCK6PyNm/3+10ro/w0wjmArWwz/6mo0w9TvFP9Nq9kJOtL0/lYRRUyLxxT8kUSR0agLGPw==",
          "dtype": "f8"
         },
         "z": {
          "bdata": "uo3dnRoq5D96SVOhVvXkP7WZjVusk+Y//0/7baY95j9FFExTMC7nP5UMc5l22OY/hs5UHU5i5z/CGaYnC+jmP/QtP3QZNec/gLJnMMQk6D/advkOWHDoP5U4Pz09Auc/Hw6Gvgd95z/rGsyDN4DmP1VMhvFdE+c/4xPjUwRm5z/hrvyO+fzlP2ojsMn+3uU/5oclyirQ5z9uNL7W4A7nP89qhvuJaeQ/I3ljgONP5T/AnSNLREDlP2Qjs+zEU+c/ywmhzwga5z9TN9TCft7mP3U53zkRp+U/Vn4f+SR85T+3kc/V/0fmP70qBDqD3eU/o4jG6Yau5D8X3qYxxvPkP/UN5UlF3+Y/TwZ3h6Jd5z/3rrZTP3nmP+2lbFpbpOQ/UzbghrZ45D9lQztE1NDlP4Et+ySTU+U/nSKetWBq5T9tQP1lTl3mP/pCPnID3OY/3LNVZhtQ5j91H+cqQjXlP5VXvoxleOg/1qDnxcNL5z9O8P30bInnP/y12vHp/uc/PutwzWOo5z/3BXA9WLHmP9cjlKEJoec/z9xBkNQL5z+KUG9bq2vmPw==",
          "dtype": "f8"
         }
        },
        {
         "marker": {
          "color": "rgb(166,86,40)",
          "opacity": 0.8,
          "size": 6
         },
         "mode": "markers",
         "name": "Cluster 6",
         "type": "scatter3d",
         "x": {
          "bdata": "d4pRjaHW3D83UxIl8GjdPydty0Y1KN0/XCMNw8f23D9Wse3NjCnfP108pXE5XOA/gdhJqFS94D/855mL7crfP+NdG+QW0eA/t3P4BjR34D+zAT/97crgPziLJx9uoOA/n3+9qTpn4T/doMAFaT/iP+AdThCdxOI/v/kEpme94T9eMFvs5+XgP9e1qbUg7+A/0WH5dLhb4T+Zvqcs74jgPz3sBdkpj98/hRNKn2yO4T8RmDRLd87hP4WredUXm98/YKWYw6Rd4j8Mh16eNR3iP4yP5IfnDuI/YZWUgj+H4T9zp0xjygbhPyb/rCCjmuE/8sT55kzz4j9k5MgOaGbjP0aD0IvvBOQ/",
          "dtype": "f8"
         },
         "y": {
          "bdata": "5lzI+TwG0D+zIkLtipnLP/yThw0xw84/GlRdZHmY0T/Wx4JcvcfRPyxA2oczn9E/ST3CCU5o0j8AqtS4IPbMP1aqjZ5NS9M/6a6vS8xG0j9H5JRc8K7SP/FP47fgUNM/YuiCaips0z/P6bkRK+fQP82ER00LxMs/XpF5OCFTzT+XfXb0XcnPP4Azq5Sr4dU/0+VkO1QV0z8t1/ziRBvXPynnnrmrFdI/f1Fv9qjXyj9TIHBpIxfSP4YEb/P3g88/3jyK5ctvzj+pto+GBIvOP4mUKYIRIcw/cc0RbxvFzz/5ywYBR5jOP0VxTn9WmdA//RCBJ08GzD+iv4JotDnNP+S+xVXUAdA/",
          "dtype": "f8"
         },
         "z": {
          "bdata": "S3lyRInj3j/+/OxohBfgP1HYa20oZuE/grx6Po2d4z8Oi9QDPWHiP9+8mte+JuA/d7x6PHDl3D9KMNflX6HcP63c1ueHueA/icowXyzC4D9ADLspvb7fP6sxFwqMfuE/OYT/z5464D8WAuiOjGfbP+aOqBobeeE/HbhpfsBt4D+TxXzVWw3gP+Zds69Pgdw/0QEnGZS53T83xOyAP6HZP7SWwVdeytk/alq/mrgW4T9+W7gfDDfeP2XqXqgp2d8/4jdTuknL4D9f1sb83RzdP26mHLiiEuI/crFXN9mm3D8DDKsjGQ/fP713wAPbwts/JeA4CIB94T+U8dU7NXLaP0Oo4q/HiNo/",
          "dtype": "f8"
         }
        },
        {
         "marker": {
          "color": "rgb(247,129,191)",
          "opacity": 0.8,
          "size": 6
         },
         "mode": "markers",
         "name": "Cluster 7",
         "type": "scatter3d",
         "x": {
          "bdata": "hk1uTBN43z+5PSW8MongP7CO4C8cDeE/ho7ZElkM4j9aYzRhVIfhP5QtMF5MFeE/5VOpKy8w4T8EEULJTF7hPwYoTIXkzOE/fo3nTDfE4T+TUpOtDkPhPx+QwQc4seA/w806djRj4D9sZ+zxuC/hP18MTeWEteE/gVaY7UbH4T+HrjIJe4bhPwTkS3UGI+A/JUYrM6+04D8JR07e5NPhP6RPeHL7guE/TzauWV7C4D+jCeA1M4XeP3OrM0r1eN8/YGlurQ+93j/9TsnyZn/ePzrP9MM8w98/jvRYMOWf3j9bH2cAMQ3gP1nm4fYQbd8/SExzKdsz4D9tAyH5R2ngP6sITIE8qeA/5R1T0z8W4T+CWXL5D/3gP57YPnmsJuE/stcyusl94T9jmTkccgDhP9K+82TL/eA/txyOnWkm4z98XRXtIUrhP0bcZuif5OE/RhgyxAxB4D8R/NQEzDLhP7FRugs+mOE/",
          "dtype": "f8"
         },
         "y": {
          "bdata": "FC+JkR9Mwz82bQT6HJDGP8XDpTH09b4/NYwEgYLjvD9PF/7rIlzCP1pgOJqYjcQ/VNY7a1tkwj9mxLyZKZ7APwpBGApAFMI/hf0iqC5iwT8Ftx0iZ3LBP+8l+aYXRb8/r0JiH8f1vz8UORAIRc2+P6IVG1CDEsA/vWOSY/gUwD+TDWu3WRzBP67e+3eTDL8/ze9dEjp9vD8/2poqray8P6no3d7CkL4/eU7sk553wD/9wRgD+JvFP2BOLDHv6sU/z5aOBWQ+xT+BjdGYhxXEP+05x9HBdr4/ziFYrcfgxT8fzySN6pDFP4DDM1tlpMI/tso5xEJvyD/BVuShuh/HP5kGnHPe+sU//uIeEvBKuz/6eCFtt5jGP9uYnnnUbcM/F+q8u5z+xj+yoLNO323BP19rZ9l1gMc/p9Et6czjwz9akds5WFHEP7e1FRXhJbo/aui447TGwT8+vUaSWd7FP2aTJBYpQ8Y/",
          "dtype": "f8"
         },
         "z": {
          "bdata": "nL7gpe1v4z9Zh5CxdC7kP2Lx73cXv+M/DqpsaQYx5D9uXrtW127jP1fp6GPMceM/OsADgwZ25D9eQjBZEdLiP8smXXmBE+Q/7BY95pP25T9imX6c7qPkP2f2LcNyVeM/4Ip0px5l5j+UxLQLmkzmP13j1su1qOU/o0J80RHH4z8T609wcQ3nP2Ke24s8o+M/gMHyO0Dr4z+3psNizdzlP6PQxQZtB+Y/GphEv89m5T+OP7pbsjTlP9zO1uE/FuU/X4MYEGqI5T/fvoB1iULlP5rW2MmFUOQ/CRAA3qRw5D/iMxUHk2blPzXm1kLaAeY/ihFHZ36D5T+PFGKvZoblPwP423c52eM/tExjX9/H4z8S4ie3xUblPw94JLY1lOQ/kArVIcWX5D8XhGhGbCrmP3wwANjgfOY/DEE3mNxy5D8kB6rSuuHkP0TIBUWk9OQ/o50gbaLP4j8+qr2cNn/kPxfnk6uaVOQ/",
          "dtype": "f8"
         }
        }
       ],
       "layout": {
        "height": 900,
        "margin": {
         "b": 0,
         "l": 0,
         "r": 0,
         "t": 40
        },
        "scene": {
         "xaxis": {
          "title": {
           "text": "Feature 1 (mean)"
          }
         },
         "yaxis": {
          "title": {
           "text": "Feature 2 (mean)"
          }
         },
         "zaxis": {
          "title": {
           "text": "Feature 3 (mean)"
          }
         }
        },
        "template": {
         "data": {
          "bar": [
           {
            "error_x": {
             "color": "#2a3f5f"
            },
            "error_y": {
             "color": "#2a3f5f"
            },
            "marker": {
             "line": {
              "color": "#E5ECF6",
              "width": 0.5
             },
             "pattern": {
              "fillmode": "overlay",
              "size": 10,
              "solidity": 0.2
             }
            },
            "type": "bar"
           }
          ],
          "barpolar": [
           {
            "marker": {
             "line": {
              "color": "#E5ECF6",
              "width": 0.5
             },
             "pattern": {
              "fillmode": "overlay",
              "size": 10,
              "solidity": 0.2
             }
            },
            "type": "barpolar"
           }
          ],
          "carpet": [
           {
            "aaxis": {
             "endlinecolor": "#2a3f5f",
             "gridcolor": "white",
             "linecolor": "white",
             "minorgridcolor": "white",
             "startlinecolor": "#2a3f5f"
            },
            "baxis": {
             "endlinecolor": "#2a3f5f",
             "gridcolor": "white",
             "linecolor": "white",
             "minorgridcolor": "white",
             "startlinecolor": "#2a3f5f"
            },
            "type": "carpet"
           }
          ],
          "choropleth": [
           {
            "colorbar": {
             "outlinewidth": 0,
             "ticks": ""
            },
            "type": "choropleth"
           }
          ],
          "contour": [
           {
            "colorbar": {
             "outlinewidth": 0,
             "ticks": ""
            },
            "colorscale": [
             [
              0,
              "#0d0887"
             ],
             [
              0.1111111111111111,
              "#46039f"
             ],
             [
              0.2222222222222222,
              "#7201a8"
             ],
             [
              0.3333333333333333,
              "#9c179e"
             ],
             [
              0.4444444444444444,
              "#bd3786"
             ],
             [
              0.5555555555555556,
              "#d8576b"
             ],
             [
              0.6666666666666666,
              "#ed7953"
             ],
             [
              0.7777777777777778,
              "#fb9f3a"
             ],
             [
              0.8888888888888888,
              "#fdca26"
             ],
             [
              1,
              "#f0f921"
             ]
            ],
            "type": "contour"
           }
          ],
          "contourcarpet": [
           {
            "colorbar": {
             "outlinewidth": 0,
             "ticks": ""
            },
            "type": "contourcarpet"
           }
          ],
          "heatmap": [
           {
            "colorbar": {
             "outlinewidth": 0,
             "ticks": ""
            },
            "colorscale": [
             [
              0,
              "#0d0887"
             ],
             [
              0.1111111111111111,
              "#46039f"
             ],
             [
              0.2222222222222222,
              "#7201a8"
             ],
             [
              0.3333333333333333,
              "#9c179e"
             ],
             [
              0.4444444444444444,
              "#bd3786"
             ],
             [
              0.5555555555555556,
              "#d8576b"
             ],
             [
              0.6666666666666666,
              "#ed7953"
             ],
             [
              0.7777777777777778,
              "#fb9f3a"
             ],
             [
              0.8888888888888888,
              "#fdca26"
             ],
             [
              1,
              "#f0f921"
             ]
            ],
            "type": "heatmap"
           }
          ],
          "histogram": [
           {
            "marker": {
             "pattern": {
              "fillmode": "overlay",
              "size": 10,
              "solidity": 0.2
             }
            },
            "type": "histogram"
           }
          ],
          "histogram2d": [
           {
            "colorbar": {
             "outlinewidth": 0,
             "ticks": ""
            },
            "colorscale": [
             [
              0,
              "#0d0887"
             ],
             [
              0.1111111111111111,
              "#46039f"
             ],
             [
              0.2222222222222222,
              "#7201a8"
             ],
             [
              0.3333333333333333,
              "#9c179e"
             ],
             [
              0.4444444444444444,
              "#bd3786"
             ],
             [
              0.5555555555555556,
              "#d8576b"
             ],
             [
              0.6666666666666666,
              "#ed7953"
             ],
             [
              0.7777777777777778,
              "#fb9f3a"
             ],
             [
              0.8888888888888888,
              "#fdca26"
             ],
             [
              1,
              "#f0f921"
             ]
            ],
            "type": "histogram2d"
           }
          ],
          "histogram2dcontour": [
           {
            "colorbar": {
             "outlinewidth": 0,
             "ticks": ""
            },
            "colorscale": [
             [
              0,
              "#0d0887"
             ],
             [
              0.1111111111111111,
              "#46039f"
             ],
             [
              0.2222222222222222,
              "#7201a8"
             ],
             [
              0.3333333333333333,
              "#9c179e"
             ],
             [
              0.4444444444444444,
              "#bd3786"
             ],
             [
              0.5555555555555556,
              "#d8576b"
             ],
             [
              0.6666666666666666,
              "#ed7953"
             ],
             [
              0.7777777777777778,
              "#fb9f3a"
             ],
             [
              0.8888888888888888,
              "#fdca26"
             ],
             [
              1,
              "#f0f921"
             ]
            ],
            "type": "histogram2dcontour"
           }
          ],
          "mesh3d": [
           {
            "colorbar": {
             "outlinewidth": 0,
             "ticks": ""
            },
            "type": "mesh3d"
           }
          ],
          "parcoords": [
           {
            "line": {
             "colorbar": {
              "outlinewidth": 0,
              "ticks": ""
             }
            },
            "type": "parcoords"
           }
          ],
          "pie": [
           {
            "automargin": true,
            "type": "pie"
           }
          ],
          "scatter": [
           {
            "fillpattern": {
             "fillmode": "overlay",
             "size": 10,
             "solidity": 0.2
            },
            "type": "scatter"
           }
          ],
          "scatter3d": [
           {
            "line": {
             "colorbar": {
              "outlinewidth": 0,
              "ticks": ""
             }
            },
            "marker": {
             "colorbar": {
              "outlinewidth": 0,
              "ticks": ""
             }
            },
            "type": "scatter3d"
           }
          ],
          "scattercarpet": [
           {
            "marker": {
             "colorbar": {
              "outlinewidth": 0,
              "ticks": ""
             }
            },
            "type": "scattercarpet"
           }
          ],
          "scattergeo": [
           {
            "marker": {
             "colorbar": {
              "outlinewidth": 0,
              "ticks": ""
             }
            },
            "type": "scattergeo"
           }
          ],
          "scattergl": [
           {
            "marker": {
             "colorbar": {
              "outlinewidth": 0,
              "ticks": ""
             }
            },
            "type": "scattergl"
           }
          ],
          "scattermap": [
           {
            "marker": {
             "colorbar": {
              "outlinewidth": 0,
              "ticks": ""
             }
            },
            "type": "scattermap"
           }
          ],
          "scattermapbox": [
           {
            "marker": {
             "colorbar": {
              "outlinewidth": 0,
              "ticks": ""
             }
            },
            "type": "scattermapbox"
           }
          ],
          "scatterpolar": [
           {
            "marker": {
             "colorbar": {
              "outlinewidth": 0,
              "ticks": ""
             }
            },
            "type": "scatterpolar"
           }
          ],
          "scatterpolargl": [
           {
            "marker": {
             "colorbar": {
              "outlinewidth": 0,
              "ticks": ""
             }
            },
            "type": "scatterpolargl"
           }
          ],
          "scatterternary": [
           {
            "marker": {
             "colorbar": {
              "outlinewidth": 0,
              "ticks": ""
             }
            },
            "type": "scatterternary"
           }
          ],
          "surface": [
           {
            "colorbar": {
             "outlinewidth": 0,
             "ticks": ""
            },
            "colorscale": [
             [
              0,
              "#0d0887"
             ],
             [
              0.1111111111111111,
              "#46039f"
             ],
             [
              0.2222222222222222,
              "#7201a8"
             ],
             [
              0.3333333333333333,
              "#9c179e"
             ],
             [
              0.4444444444444444,
              "#bd3786"
             ],
             [
              0.5555555555555556,
              "#d8576b"
             ],
             [
              0.6666666666666666,
              "#ed7953"
             ],
             [
              0.7777777777777778,
              "#fb9f3a"
             ],
             [
              0.8888888888888888,
              "#fdca26"
             ],
             [
              1,
              "#f0f921"
             ]
            ],
            "type": "surface"
           }
          ],
          "table": [
           {
            "cells": {
             "fill": {
              "color": "#EBF0F8"
             },
             "line": {
              "color": "white"
             }
            },
            "header": {
             "fill": {
              "color": "#C8D4E3"
             },
             "line": {
              "color": "white"
             }
            },
            "type": "table"
           }
          ]
         },
         "layout": {
          "annotationdefaults": {
           "arrowcolor": "#2a3f5f",
           "arrowhead": 0,
           "arrowwidth": 1
          },
          "autotypenumbers": "strict",
          "coloraxis": {
           "colorbar": {
            "outlinewidth": 0,
            "ticks": ""
           }
          },
          "colorscale": {
           "diverging": [
            [
             0,
             "#8e0152"
            ],
            [
             0.1,
             "#c51b7d"
            ],
            [
             0.2,
             "#de77ae"
            ],
            [
             0.3,
             "#f1b6da"
            ],
            [
             0.4,
             "#fde0ef"
            ],
            [
             0.5,
             "#f7f7f7"
            ],
            [
             0.6,
             "#e6f5d0"
            ],
            [
             0.7,
             "#b8e186"
            ],
            [
             0.8,
             "#7fbc41"
            ],
            [
             0.9,
             "#4d9221"
            ],
            [
             1,
             "#276419"
            ]
           ],
           "sequential": [
            [
             0,
             "#0d0887"
            ],
            [
             0.1111111111111111,
             "#46039f"
            ],
            [
             0.2222222222222222,
             "#7201a8"
            ],
            [
             0.3333333333333333,
             "#9c179e"
            ],
            [
             0.4444444444444444,
             "#bd3786"
            ],
            [
             0.5555555555555556,
             "#d8576b"
            ],
            [
             0.6666666666666666,
             "#ed7953"
            ],
            [
             0.7777777777777778,
             "#fb9f3a"
            ],
            [
             0.8888888888888888,
             "#fdca26"
            ],
            [
             1,
             "#f0f921"
            ]
           ],
           "sequentialminus": [
            [
             0,
             "#0d0887"
            ],
            [
             0.1111111111111111,
             "#46039f"
            ],
            [
             0.2222222222222222,
             "#7201a8"
            ],
            [
             0.3333333333333333,
             "#9c179e"
            ],
            [
             0.4444444444444444,
             "#bd3786"
            ],
            [
             0.5555555555555556,
             "#d8576b"
            ],
            [
             0.6666666666666666,
             "#ed7953"
            ],
            [
             0.7777777777777778,
             "#fb9f3a"
            ],
            [
             0.8888888888888888,
             "#fdca26"
            ],
            [
             1,
             "#f0f921"
            ]
           ]
          },
          "colorway": [
           "#636efa",
           "#EF553B",
           "#00cc96",
           "#ab63fa",
           "#FFA15A",
           "#19d3f3",
           "#FF6692",
           "#B6E880",
           "#FF97FF",
           "#FECB52"
          ],
          "font": {
           "color": "#2a3f5f"
          },
          "geo": {
           "bgcolor": "white",
           "lakecolor": "white",
           "landcolor": "#E5ECF6",
           "showlakes": true,
           "showland": true,
           "subunitcolor": "white"
          },
          "hoverlabel": {
           "align": "left"
          },
          "hovermode": "closest",
          "mapbox": {
           "style": "light"
          },
          "paper_bgcolor": "white",
          "plot_bgcolor": "#E5ECF6",
          "polar": {
           "angularaxis": {
            "gridcolor": "white",
            "linecolor": "white",
            "ticks": ""
           },
           "bgcolor": "#E5ECF6",
           "radialaxis": {
            "gridcolor": "white",
            "linecolor": "white",
            "ticks": ""
           }
          },
          "scene": {
           "xaxis": {
            "backgroundcolor": "#E5ECF6",
            "gridcolor": "white",
            "gridwidth": 2,
            "linecolor": "white",
            "showbackground": true,
            "ticks": "",
            "zerolinecolor": "white"
           },
           "yaxis": {
            "backgroundcolor": "#E5ECF6",
            "gridcolor": "white",
            "gridwidth": 2,
            "linecolor": "white",
            "showbackground": true,
            "ticks": "",
            "zerolinecolor": "white"
           },
           "zaxis": {
            "backgroundcolor": "#E5ECF6",
            "gridcolor": "white",
            "gridwidth": 2,
            "linecolor": "white",
            "showbackground": true,
            "ticks": "",
            "zerolinecolor": "white"
           }
          },
          "shapedefaults": {
           "line": {
            "color": "#2a3f5f"
           }
          },
          "ternary": {
           "aaxis": {
            "gridcolor": "white",
            "linecolor": "white",
            "ticks": ""
           },
           "baxis": {
            "gridcolor": "white",
            "linecolor": "white",
            "ticks": ""
           },
           "bgcolor": "#E5ECF6",
           "caxis": {
            "gridcolor": "white",
            "linecolor": "white",
            "ticks": ""
           }
          },
          "title": {
           "x": 0.05
          },
          "xaxis": {
           "automargin": true,
           "gridcolor": "white",
           "linecolor": "white",
           "ticks": "",
           "title": {
            "standoff": 15
           },
           "zerolinecolor": "white",
           "zerolinewidth": 2
          },
          "yaxis": {
           "automargin": true,
           "gridcolor": "white",
           "linecolor": "white",
           "ticks": "",
           "title": {
            "standoff": 15
           },
           "zerolinecolor": "white",
           "zerolinewidth": 2
          }
         }
        },
        "title": {
         "text": "Biểu diễn các cụm dữ liệu lấy theo giá trị trung bình của time-series"
        },
        "width": 2000
       }
      }
     },
     "metadata": {},
     "output_type": "display_data"
    }
   ],
   "source": [
    "import plotly.express as px\n",
    "import plotly.graph_objects as go\n",
    "\n",
    "X_3d = np.mean(data, axis=2)\n",
    "\n",
    "colors = px.colors.qualitative.Set1\n",
    "fig = go.Figure()\n",
    "\n",
    "for i in range(k_clusters):\n",
    "    cluster_points = X_3d[labels == i]\n",
    "    \n",
    "    fig.add_trace(go.Scatter3d(\n",
    "        x=cluster_points[:, 0],\n",
    "        y=cluster_points[:, 1],\n",
    "        z=cluster_points[:, 2],\n",
    "        mode='markers',\n",
    "        marker=dict(size=6, color=colors[i % len(colors)], opacity=0.8),\n",
    "        name=f'Cluster {i}'\n",
    "    ))\n",
    "\n",
    "# Cài đặt giao diện\n",
    "fig.update_layout(\n",
    "    title=f'Biểu diễn các cụm dữ liệu lấy theo giá trị trung bình của time-series',\n",
    "    scene=dict(\n",
    "        xaxis_title='Feature 1 (mean)',\n",
    "        yaxis_title='Feature 2 (mean)',\n",
    "        zaxis_title='Feature 3 (mean)',\n",
    "    ),\n",
    "    margin=dict(l=0, r=0, b=0, t=40),\n",
    "    width=2000,  # Tăng chiều rộng\n",
    "    height=900   # Tăng chiều cao\n",
    ")\n",
    "fig.show()"
   ]
  },
  {
   "cell_type": "markdown",
   "metadata": {},
   "source": [
    "# 2. SOM"
   ]
  },
  {
   "cell_type": "code",
   "execution_count": 34,
   "metadata": {},
   "outputs": [],
   "source": [
    "from minisom import MiniSom"
   ]
  },
  {
   "cell_type": "code",
   "execution_count": 35,
   "metadata": {},
   "outputs": [
    {
     "data": {
      "text/plain": [
       "(438, 45)"
      ]
     },
     "execution_count": 41,
     "metadata": {},
     "output_type": "execute_result"
    }
   ],
   "source": [
    "reshaped_data = data.reshape((data.shape[0], -1))\n",
    "reshaped_data.shape"
   ]
  },
  {
   "cell_type": "code",
   "execution_count": 36,
   "metadata": {},
   "outputs": [],
   "source": [
    "som_size = (5, 5)\n",
    "som = MiniSom(som_size[0], som_size[1], reshaped_data.shape[1], sigma=0.3, learning_rate=0.5)\n",
    "som.train_random(reshaped_data, 300000)"
   ]
  },
  {
   "cell_type": "code",
   "execution_count": 37,
   "metadata": {},
   "outputs": [
    {
     "name": "stdout",
     "output_type": "stream",
     "text": [
      "[ 1  5  6  7  8 10 11 12 13 15 16 17 18 20 21 22 23]\n"
     ]
    }
   ],
   "source": [
    "clusters = np.array([som.winner(x) for x in reshaped_data])\n",
    "cluster_labels = np.array([c[0] * som_size[1] + c[1] for c in clusters])\n",
    "print(np.unique(cluster_labels))"
   ]
  },
  {
   "cell_type": "code",
   "execution_count": 45,
   "metadata": {},
   "outputs": [
    {
     "data": {
      "application/vnd.plotly.v1+json": {
       "config": {
        "plotlyServerURL": "https://plot.ly"
       },
       "data": [
        {
         "marker": {
          "color": "rgb(228,26,28)",
          "opacity": 0.8,
          "size": 6
         },
         "mode": "markers",
         "name": "Cluster 1",
         "type": "scatter3d",
         "x": {
          "bdata": "f4qDAufR3j/Msi9v7E/bP14eSuCPvtg/kXxt9GH91z/9GJcgpOXgP23FV8o+rt8/0mKjqFkt4D8edJGp1/feP5QjSZrPYuA/dqdam7ea4D8vGucOxLjgP7DCFIZh3N4/Ww7QDrYV3z+P/4xxcuvbP7YiuLBmBdw/Ptl/lL983D+9OXnxZn/dP2Yj3QoPrtw/8sBuyAsz3D8Mk10DmizYP+RHHhi3sdg/UO8oTbGy2D8P/BYxBsXYPwPeOQULptg/1CEDnrCZ2T+Xk78nsKXZP2+IMC40hts/U+knLfx+3T8h/CWeprXeP1rKwME+Y9s/",
          "dtype": "f8"
         },
         "y": {
          "bdata": "MoYHPQ9MuD8ZBA+Tlb63P8ZvajAx6LY/mdrKD7aItj8tFB6lZBK4P8f40ZEO9LY/QxrEyJIttz9n5kdbD224Px275VNOZbg/qUB2asZnuD9LDmp6wli4P+6KcQrI2Lg/4nThVghuuD8H5GloZHm4P7Fs6TTLr7g/fHp3BhARuT+GUf6r9sm4Pz5blN1V0Lg/unL26RKouD+Bl9awa9a4P00KKQDF4rk/Dw0BYdzDuD8dKIjuIaC4P7thKIIxjrg/2b4NCF51uT/Bt86EP/m4PwkozBNQ7Lg/RIn06ExZuD+7B5tmaY66Pz3aQBZJUbo/",
          "dtype": "f8"
         },
         "z": {
          "bdata": "PLdmlKn12z8La5Rr7bjcP4u4qReeN9w/SUAjrJi53j92cAOi5oXYPx82y3ptqdg/rcsPfuKA2D9ple95887YP34Nrc0GW9o/JQKuIte32D9nr9Au6VHXP+p1zEiBGds/BN8Xs4LU2j/8nvQwmWPZP6rDtIUbRdc/ME/xEW5z1T8bzeOW9FjWPzSYvXP6BtY/Y+udSakC1j/MUPwuQmnaP4ZS524p8Ng/WZZp6uB12D8zSCFp2IPYP6az0hBVMtg/x2aENeEX2T87eillmi7cP4D6/jmk2tw/jycb9kdK3D8+FfEAdhbcP1Y5NWc7d9w/",
          "dtype": "f8"
         }
        },
        {
         "marker": {
          "color": "rgb(55,126,184)",
          "opacity": 0.8,
          "size": 6
         },
         "mode": "markers",
         "name": "Cluster 5",
         "type": "scatter3d",
         "x": {
          "bdata": "jkocgWFp3T8nQYxjI77cPw4kLagxb9w/DTkkc92a2z+Xh891X3LbP5WUW7PdOdo/q55HFH3/2T9Qg0so20HbP4E8x0uGT9w/DU+/dBIS3T8jxN9us3nZPzcyTYebPNk/JD6k/3lH2z8dvII7lTHaP1XsrxJPBNw/IoyGmrd+2T9WjdUTpTPYPzEk+BfO8tk/EwG/zyhz2T9a3duCiOLYPzfq24/C4ts/C+B8gwaD2D+Fx6vJ693ZPzWEY85Gv9k/3gXB9eFU3T/dD0jLgWzcPxE+h13mV9k/YPfEZULa2D9P0q4qJDDZPzbroTqWJ9s/HkfBAasc2j8yAMEpC2vbP0vIoizGptk/47dFQyKu2T/Kp6YEZrHZPw7k4061p9k/I4pupw1K2T/qq9UJlNLXP+Hz7xx9mtg/jnWw8pd+2D/5hRP3F8/YPyemIh/Hh9k/ZE1lXbvi2j+RNrhX6XXcPw==",
          "dtype": "f8"
         },
         "y": {
          "bdata": "ZHWDFw7Wuj9BWqny+hLAPzsLAWkCSrw/LgaD4F5Duj/6cfzmt2PAP3cO8N199Ls/ie+4Rcowuj/3oezLgavAPxeRW1aPl7s/4Bo6vGeJuj/x+RF7be64P/MkIYgZjrg/nM0ln2ikuD/AuaTP7bq4P5bJuHxuz7g/UniImmJCtz82Pdxyyn22P/Zo3E/BGrg/iQGJHOp0uD+J1k3lwMm3P7//CF/Rabg/SSzvIw4QuD/XFc6WTAy4PzuPr1a317c/gC71ic+2tz9yXasMJwu3P51RJdbdHbg/ixQl9KxyuD8+Vnu+Snq4P0bU2btxJrk/CpAndQqIuz/sKqJAz4q9P8BmQelgk7w/kwA+Lupvwz9gLgY6aWq+PznNqvCZD8A/y8TdJZe/tz+5kvRocvq3P1SXLEhH0L4/5PSKZRGxvT8pBAWyLCK6PyNm/3+10ro/w0wjmArWwz/TavZCTrS9Pw==",
          "dtype": "f8"
         },
         "z": {
          "bdata": "tZmNW6yT5j//T/ttpj3mP0UUTFMwLuc/lQxzmXbY5j+GzlQdTmLnP8IZpicL6OY/9C0/dBk15z+AsmcwxCToP9p2+Q5YcOg/lTg/PT0C5z8fDoa+B33nP+sazIM3gOY/VUyG8V0T5z/jE+NTBGbnP+Gu/I75/OU/5IE8nsis5D9qI7DJ/t7lP+aHJcoq0Oc/bjS+1uAO5z8jeWOA40/lP8CdI0tEQOU/ZCOz7MRT5z/LCaHPCBrnP1M31MJ+3uY/dTnfORGn5T9Wfh/5JHzlP7eRz9X/R+Y/HQbiHwQ85D+9KgQ6g93lP/UN5UlF3+Y/TwZ3h6Jd5z9lQztE1NDlP4Et+ySTU+U/nSKetWBq5T9tQP1lTl3mP/pCPnID3OY/3LNVZhtQ5j91H+cqQjXlP5VXvoxleOg/1qDnxcNL5z9O8P30bInnP/y12vHp/uc/PutwzWOo5z/XI5ShCaHnPw==",
          "dtype": "f8"
         }
        },
        {
         "marker": {
          "color": "rgb(77,175,74)",
          "opacity": 0.8,
          "size": 6
         },
         "mode": "markers",
         "name": "Cluster 6",
         "type": "scatter3d",
         "x": {
          "bdata": "DM55kdcd3D/7qeCi7tvbP30djLM/p9o/0p5hUxve2j/rbbLknJLfP4ZNbkwTeN8/Ph7zYzWg3z8E5Et1BiPgPwBP40dxYd0/lTPxnmYn3T/PAws0lBrdP3FDKm015dw/8MQV1/PO3D+/HENDio/bPzdbVAOByt0/YVnN5sSW2D+1zMCQuVraP0rmRV08MNs/CzjrSfoO2T/UljCQBwbbP8dTNRsmgtg/LvXXYCGI2T/fMEmdiK3YPxFdYZdGt9o/tSnu+fKy2T85wAmJbabaP4HXeJNNx9k/ZpyWBlTM2z/0LXr2MFHZP4uuKiohydg/1dSpxHsa3D+jW8aNxovZPzVDWc+uOdo/VaVzPln62T960B2fjt/ZP/lT4C3qm9s/on/BkkGL2T+j0iw9FkjbP6YZQe1COtw/Rv+i+Dzs3T89u+ponKLdP3LvZUAD6ds/N0Zljakv3T8hPIXWpnnaPzrP9MM8w98/NLMIuAN83z8=",
          "dtype": "f8"
         },
         "y": {
          "bdata": "j+TfoPq2vT9+ScjRV/G6P2ZDIoKF9ME/y55ouRydxj8FPsU3o1DDPxQviZEfTMM/EStlzfCHvT+u3vt3kwy/P24aO1MMz78/w3atIjUyvj+uMZd8f3C/P2KYbaHOG74/t27572iovT9rO1Fc9jS/Pyuevl8umb0/bCsaw5o8uD818OHfbSS4P90Egi88mLc/8dLFAuksuD/FUqw7NzK3PxkHcEoSSLg/v9TOFkthuj9uM6gLUBy5P4TQUeFW1Lc/jrJdFpgiuj8XqtcYM1W7P/sBTVHm7ro/KQwCdU93uj87HEnymbO+P1pWSTiup78/amtI/6R3wT+PFIkkV7W/PwaT3xlSY8I/XsJBsHCwwD/tIOJUfNXAP/uvEAl9Qb4/VeJk4PT9wz9tEO8Isi/DP/xqVJsGx8M/1gLraIWhxD8+sgrGXSq7PzG9+cmQhr4/G2mte0cvwD+BPT27HtDDP+05x9HBdr4/ysKManZQwD8=",
          "dtype": "f8"
         },
         "z": {
          "bdata": "rV25xcAU5D+e0Ahj4P/jP7qN3Z0aKuQ/hNwksFOE4z+8+KF49ajhP5y+4KXtb+M/WwIsvXaV4j9intuLPKPjP4qH+OamuuA/LiVHFuvU4j8r4uaCPWXiP0TyPfXyF+M/0YtfgZnI4j9jGGHZ2LHiP3pJU6FW9eQ/LrKmAHeX4z/Paob7iWnkP9UPTD/Tk+I/pfFuC2Bd4z9VXRhwodbjPwJyZD/gJOE/CXXQ+bw44T8RiBcMbIPhP1Odq4j2TeI/vdFZP2BZ4j/b0D69q0biP3y+e4WJ0uE/idS5R8Hz4j8y64WioarjP6OIxumGruQ/I99WP4DH4z8w/eb3izLjP5KXWVWX1OE/Q3fJ+1oa4j9TBgb9YFXiPxfepjHG8+Q/7aVsWluk5D9TNuCGtnjkP434UBYlVeE/hGCEPJ6u4T+wsa9aeoPiP46zl9syyeM/UBmmsvgK5D99yVAMUm/jP5rW2MmFUOQ/jUfdrs2q4T8=",
          "dtype": "f8"
         }
        },
        {
         "marker": {
          "color": "rgb(152,78,163)",
          "opacity": 0.8,
          "size": 6
         },
         "mode": "markers",
         "name": "Cluster 7",
         "type": "scatter3d",
         "x": {
          "bdata": "1fFNsyG82j+pyXevmg/gP0oLnzorrN0/DMKHftwg4T/MzaiI8zjdPy8tiENSot0/IhrCyV6v3T8wo8s5h9/bP4eBq5MRh9s/rH/CHuAv3T/8ofJsPFvgP3rmI+T9j9s/YzHqJEhG3D8Lanyxa9fbP78xWGh1H9w/UhIeaUhm3D+gntHVygTcP09Pyry/nN0/HFbRINTp2j8=",
          "dtype": "f8"
         },
         "y": {
          "bdata": "vEATusFitz+1wCqVkjy4P2kZA+cZ/Lg/Ac7brMkCuD8nvcBdI863P/K8Af7257c/HzCWWdw6uD8SnxpgTcC2Px4+/6yWI7g/8SpWS7MuuD8KAv1XHrK4P7wstHSFrbo/CRRRKgW1uT8kWaEM9Nm5P1qMSJOS8rg/so6UVZ1huj9m36VDLzC5P76+IsUu2ro/Z5zzr0t6uD8=",
          "dtype": "f8"
         },
         "z": {
          "bdata": "EVV2vkNv3j/5RZKURQjfP08oL9woD98/I7CjH/3e2z/ZF2pgX+vaP3k02pJz8do/1D6NUtHe2z9Zamltj9DZP8DyPLqrKdo/7V1Xwx/92j/XHyRDIpjaP8KhU4gWY+A/JGtW60iA3D/BvzbWOgPcP2s+KSO0U9s//ziMCWij2z/Jk3uTXyncP2MbzBn4Qto/+mi0y+lg3j8=",
          "dtype": "f8"
         }
        },
        {
         "marker": {
          "color": "rgb(255,127,0)",
          "opacity": 0.8,
          "size": 6
         },
         "mode": "markers",
         "name": "Cluster 8",
         "type": "scatter3d",
         "x": {
          "bdata": "sI7gLxwN4T+GjtkSWQziP1pjNGFUh+E/lC0wXkwV4T9VNxzaS4XhP+6HVApJ0eE/5VOpKy8w4T8EEULJTF7hP+WnnD/TnuE/BihMheTM4T9+jedMN8ThP5NSk60OQ+E/H5DBBzix4D9sZ+zxuC/hP18MTeWEteE/gVaY7UbH4T+2MRRAkzriPyVGKzOvtOA/CUdO3uTT4T+kT3hy+4LhP082rllewuA/5R1T0z8W4T+e2D55rCbhP7ccjp1pJuM/Dm6Q+HYb4z9G3Gbon+ThP0YYMsQMQeA/sVG6Cz6Y4T8=",
          "dtype": "f8"
         },
         "y": {
          "bdata": "xcOlMfT1vj81jASBguO8P08X/usiXMI/WmA4mpiNxD+0PUW1XCjBP2xa78NAd8A/VNY7a1tkwj9mxLyZKZ7AP22AZuzWpcM/CkEYCkAUwj+F/SKoLmLBPwW3HSJncsE/7yX5phdFvz8UORAIRc2+P6IVG1CDEsA/vWOSY/gUwD8KgUhvC37AP83vXRI6fbw/P9qaKq2svD+p6N3ewpC+P3lO7JOed8A//uIeEvBKuz/bmJ551G3DP6fRLenM48M/gJ3o8c3yvz+3tRUV4SW6P2rouOO0xsE/ZpMkFilDxj8=",
          "dtype": "f8"
         },
         "z": {
          "bdata": "YvHvdxe/4z8OqmxpBjHkP25eu1bXbuM/V+noY8xx4z/20imdCI3iP00Ss0QuvuI/OsADgwZ25D9eQjBZEdLiP1TSb1XNkuI/yyZdeYET5D/sFj3mk/blP2KZfpzuo+Q/Z/Ytw3JV4z+UxLQLmkzmP13j1su1qOU/o0J80RHH4z/hLSHsssLiP4DB8jtA6+M/t6bDYs3c5T+j0MUGbQfmPxqYRL/PZuU/tExjX9/H4z8PeCS2NZTkPwxBN5jccuQ/Eb8KxXI44z9EyAVFpPTkP6OdIG2iz+I/F+eTq5pU5D8=",
          "dtype": "f8"
         }
        },
        {
         "marker": {
          "color": "rgb(255,255,51)",
          "opacity": 0.8,
          "size": 6
         },
         "mode": "markers",
         "name": "Cluster 10",
         "type": "scatter3d",
         "x": {
          "bdata": "bBghRSYr3z8=",
          "dtype": "f8"
         },
         "y": {
          "bdata": "mwwnvgYVtz8=",
          "dtype": "f8"
         },
         "z": {
          "bdata": "TvXGxQSU1z8=",
          "dtype": "f8"
         }
        },
        {
         "marker": {
          "color": "rgb(166,86,40)",
          "opacity": 0.8,
          "size": 6
         },
         "mode": "markers",
         "name": "Cluster 11",
         "type": "scatter3d",
         "x": {
          "bdata": "4B1OEJ3E4j+/+QSmZ73hP5aiOzEV9eM/YZWUgj+H4T8m/6wgo5rhP7V7vhRYkeI/ptY9TNUp4z96CufefrLlP2TkyA5oZuM/RoPQi+8E5D8ZzB+LjrjlP5uiL4JPdeQ/CheqoHux4z9sBlPbBW7kP/wwY1I6x+Q/LEGZdaZ24j8=",
          "dtype": "f8"
         },
         "y": {
          "bdata": "zYRHTQvEyz9ekXk4IVPNP1Os7XUVssw/cc0RbxvFzz9FcU5/VpnQP/bFz0DNa8o//FtG9S9wyz8kZZJUvCXNP6K/gmi0Oc0/5L7FVdQB0D+gPffpfsHJPwYkMXdv5ck/0MMd8vBlyj9RQJ4YWY/KP36KNS49tcg/19zUuT07yT8=",
          "dtype": "f8"
         },
         "z": {
          "bdata": "5o6oGht54T8duGl+wG3gP7A2oNcJNd0/crFXN9mm3D+9d8AD28LbPwsCIfBg+tw/cHCsbKAe2j+RabVfID3eP5Tx1Ts1cto/Q6jir8eI2j9zKAxF75zbP4luAsrDA94/JpKuJcdY3D+AcmWvvuDXP5Fhy50DL+E/HXWI5l8j4D8=",
          "dtype": "f8"
         }
        },
        {
         "marker": {
          "color": "rgb(247,129,191)",
          "opacity": 0.8,
          "size": 6
         },
         "mode": "markers",
         "name": "Cluster 12",
         "type": "scatter3d",
         "x": {
          "bdata": "JUzZTSma4j/f7znQMDzhP0ATKgJEOOI/1lKqolJy4j+FE0qfbI7hP2ClmMOkXeI/+lFhKeFq4z8xGHr4FFvjP4WX6fOL2OM/LPP8jTp74j+Mj+SH5w7iPyQ4ooDMKeI/QIKroWNz4j852VmmKU/hP5YETQfvRuI/xOeEoTPX4j/anMad7QnkP/LE+eZM8+I/h0NWW0TG4j8/1wodVDriPwLVNj5+l+I/lPNqOGfX4D/F/sx+3CvhPw0KjcBCuOA/I2Zf7+9X4T/jCTGYSjbhP/roF1w3OuI/JfMjz3mm4j/zJeHOrebhP+VoMEFch+I/5Jm0SdoQ4z8CGg0WWebiPyW44ZQiVeI/YVt6/pc24T+8qNkt0InhPxWL+tu4teE/6vY6ZG8f4j/jEg3lCQvjPz+xdG/32+M/r//dJX5D5D9pDg+RVVnkPzsOuYeX5eI/J4CobflY4z8wERo6W9bjP1dC7003mOQ/0b1vqHrM4j83INKbKjbhP0Hrwy/fJuI/G7HyWv+f4j+QBETRv6ThPwkJTGJ+SOI/2xsBANuI4j91DNl018ngPw==",
          "dtype": "f8"
         },
         "y": {
          "bdata": "LdnxTjrzyz8tIeZLAerIP/La+h+xK8o/rgfWSk16yj9/UW/2qNfKP948iuXLb84//AD9V5avyz825+QopQfKPzeCN8sUGMc/UCVxq9cwxz+JlCmCESHMP7eQQ/Ufo8k/ymwYxJcGxj+JeyNfdmvKP1lO1FtbuMg/i2CJIRumyj/cp1DLxJXFP/0QgSdPBsw/EwOrKbk1xj8Cd0y63BDCP7FwDj59q8I/SjI8Ga8rxj/EzpEvkM3EP9cCYBM9Qso/40rDufLjxz8FT+v4/F/GP9wfn9hf08I/Dd6y/mjyxj/MK1oDKE3GPwZoCg3WtsQ/JT4NE88iyT8To56PzkXHP6tLPzaefcY/08IPiSZPxT+snGP73AbHP3Bq6OR5p8Y/e64VftWlxD+O1AP5WjTKPxuAkvTA28c/mfZN8YkIxj/eUAP7BXfEP4ZeEuRPnMU/Q23oKiQxxj9pqPGfgibIPypdOx2im8c/VPY4ntefxD8jnV9C4DzEP4EE8C0qIsQ/rgBqCmiyxj8miBcTsD7FP1Lj5LETAsM/kOf5HXHsxD/mulyYGNPEPw==",
          "dtype": "f8"
         },
         "z": {
          "bdata": "Nifnryfr4D/u8YGxj+7gP9oogUCXuuI/QVO+Zsob4T9qWr+auBbhP+I3U7pJy+A//frw4hd94D8sv7EYa2zgP1HEeRjsRuE/H013nk6K4T9uphy4ohLiP1JzPgXeUuM/UXKvHx/s4D87OI3BmxXgPyMLKiBcMOI/QTJDrzNQ4T/WCzSGSffgPyXgOAiAfeE/2e1RDgDH3z9RyaUTVpfiPwPsBxPJoOE/eYCpXqjl4T9ft5ZSQz/iP/BsATxlYeE/D9qLUTm/4D/NL7M0DjjgP6XSErRShuI/OQwb0v604T/WQzM7XSLhP6Qrg20jPeI/MZYJ0CH44T9lnfWHOdfgP5xozNbTZ+E/yz9QXry+4T/BVw+oANzhPyeZF3opreE/dd+HwB1w4T/Tnfp/vKbhPz1zffYmE+I/oUYENuZN4j/KDWbGAgDiP6na5wo+7OA/dmrmdnLc4D8ldl7v2afhP+mk1lnLf+E/a1egfiNR4j83AAH3c3DhPx9DWUkw4OA/56yDwgtl4T+7qUrTN47hP5RaWpLLZeE/0hI07Pd54T8hbwAqlV3hPw==",
          "dtype": "f8"
         }
        },
        {
         "marker": {
          "color": "rgb(153,153,153)",
          "opacity": 0.8,
          "size": 6
         },
         "mode": "markers",
         "name": "Cluster 13",
         "type": "scatter3d",
         "x": {
          "bdata": "XzIQ+OpV2z8RNyNlLpHbP/KrhDf5cds/wI3vKsnB2j8/+hFePVzbP3UzGyoAAt0/ddwkIDlx2j/yD8w6ya/YP6/3T7f2zNs/aVS7xprN2z9kRurvjprbP3MihbmffNs/NaLlTzhq2z8N1gsjWOjaP9Pi+leOtds/tlQV9Op/3T86/O2hkTjbP3sVYEqgwts/ZQeRm0my2T/p9JGkXpPbP/KyJOQvAdw/w3ufuvzA2z+MA/nrUXDcPxOPrhAvY9w/4tOCsjpm3D8=",
          "dtype": "f8"
         },
         "y": {
          "bdata": "30AYSy2gtz+ExeT07mq4P4+LJwysc7c/4RgTayExtz9KeRxcJve3Pw/qISgCm7g/wY5ExH4luz+xd9ymBNC3P9A8YOV4cbg/fDRNvVkYtz+Tm92Hxiu3P5Sf4+N3Tbc/8E0Hla42tz9MsRXn3We3P3JlNM72MLc/PiQ7suWEuD+Aw+Ps3UC4P8qB9kQJ6bc/2bqrnjRQtz/kuoFenoa3P9ayvYz5tbc/RouxyyOkuD+7uadfnRS7P1G7wxjZmrs//MasELDmuj8=",
          "dtype": "f8"
         },
         "z": {
          "bdata": "+pieB2pX5T8ZWzm+JXHkP/FR60Q4gOM/Q00HkOFW5D8yJQEEcRXkP6N1xe2ORuQ/pmnu0PQo4z8uWvkWkoPjPyk4l/v1JOE/DaKL7WFk4T9LQTHVbB7hP/ajYJ1pOOE/7cV79a2i4j8+YPItYkrjPxKntb9EnOM/RQSuaz/V5T8+T+7i2PziP7DH8aq8X+Q/tSpx6ST54z9SDjrH4gDjP8fhfn9zF+M/tF44w7sS4j/H8ribS9XiPwt1atTOpuI/+lbBRWSo4T8=",
          "dtype": "f8"
         }
        },
        {
         "marker": {
          "color": "rgb(228,26,28)",
          "opacity": 0.8,
          "size": 6
         },
         "mode": "markers",
         "name": "Cluster 15",
         "type": "scatter3d",
         "x": {
          "bdata": "Pp+eRnAO4z+ckFtZzrDjP08zMZSfG+U/WXK5VX7s4j+t62D8Ot/iPwS+l3Bk9eM/MNfu65Sy4z8tE+5DpV7lP8+XIyF8+uQ/rwYi/62G4z/1MJOwDTPkP+rrOgrjXOQ/OckODFUV4z/JbVWREcXjPw==",
          "dtype": "f8"
         },
         "y": {
          "bdata": "V7fRN9yMuz91XM2I+MLDP5//Rvcv970/ysn4U8novj9y4FTe+D3FP7uY3h3CScY/kNMIJ4WtxT+mU9o668XEPx4CeVKsfMI/jxci3A1GwT9UBZO70M3FP4xbSt6cX8I/wyy6rKSFxD+vLntt7Ei3Pw==",
          "dtype": "f8"
         },
         "z": {
          "bdata": "cDcBZL7A2T9XIDv6b2DdP8fhu4B4j9o/Rzm2VOxP3j99RvkcsGvaP8+xxsRWfts/KgPFy/zJ2T98sZ++3MfXP0HkslHu+tk/dDQSPogR2j9UlnUPmtzcP/vkz06qrto/ElbeN56d3z8xiNz4clDZPw==",
          "dtype": "f8"
         }
        },
        {
         "marker": {
          "color": "rgb(55,126,184)",
          "opacity": 0.8,
          "size": 6
         },
         "mode": "markers",
         "name": "Cluster 16",
         "type": "scatter3d",
         "x": {
          "bdata": "QN3eJJmT2j/cOcDjCyncPwPzMra9V9w/QbOXSz1U3D8ykDb2OkPdP8ZsiGFMpNw/MK+6JhL43D/O8eis5WLcPyzEFo/LHt0/8yPKdh2n3D8g1nA+0ezcP+ExTcLuk9w/4EpT3zOH3D86Uwd2re3dP71e53iNM90/gpeIDhr43D+zPxAOS9jdP2Sukt7ujtw/yZocPJ0M3D/wv040lt7dPyAJkJyjQ9w/BtOX7OIG3D/UWTLjfzrcP1ZORoaW4ds/NT0U4Jjc2z+mHmHTpBLbPx0KrPp4DNo/LePt/Wsw2j9vdpruAFPZP2aBN0JXxdg/UpX71hfa1z9vzrA2thHXPwpJwjLgz9U/E+1PFpb31j8xjy6WC2HWP+lpGn8PWtc/to+kaf991z9WFTp2O+fWP6alRlmG/tg/NCPyY7Nm2T8KDRQksBHbP09uXwdJIdk/5VcbV1iN2j+r7K7XeKjYP4aWdarrLdg/ZGao01EM2D+EOHdgqeXYPw==",
          "dtype": "f8"
         },
         "y": {
          "bdata": "Ths7V8b6vT/fqEs1c9C/P3aLTE2Lrbw/SbDNWsLeuz/t6rtB3BG6PxuUwXoWBbs/rlukbudQuz/01i31kwi7PwDDt5Y7sbw/Os02Rt30uj/6OLVrKVq7P9DM109GYro/UFWV8MtJuj8F6tJVDgq6P5bcims6Tro/R/LncyNZuD9AoGkw7yS3P8M7rmDRzLk/t3rGOwrRuD8UtAGibge5Py2smaYHb7o/V75DzBufuT9hlpb+XnW5P1NijB7aubo/u500WLguuj/nMFCLKO64P2V7F/sJLrk/mw91nBgkuj8ka0V9Dye5P2VsN9QVC7o/UltsKiUCuD+UVZosGZG4P4lkO3/XTbk/6seAod38uD+EzFCPPym6P4BtUCRHuLY/qw2/5vbDuD8Vf9Uxcde4P5nsk7ClUbk/LToBRDEyuD9uKbD7MGi4P1eM8tPGRLk/TFDuml5CuD9+ljOthAe4PwOSl/qaUrk/BrTgThyotj/EuFXOx7m3Pw==",
          "dtype": "f8"
         },
         "z": {
          "bdata": "F8UxqJPg6D+dmyA4g/roPxC9Yu54LOo/EOHoKi4a6j8bIE1TmJ/qPxIgGvbzKuo/GqhD0tgz6z+1H8RRmsXpP2sside2Zeo/zyKfrNeN6j+vdj4RLdPqPzFNzeuBJeo/G2EqTlkX6j/b8mEXO+zpP49XGJ/PTOo/1k3nm7mc6T/cWrBC+jLqP87YK0cHeOs/mxf/ojkb7D+Z/zR1ufzrP6L8OZNDWOw/hp1qe3ng6z9RkJ2dkFXsPwJMgK6uR+s/yVGt0Q3K6j/lO/H/xkDqP45QAihIoOk/0pT+hbXP6T/OUgveMMDpPxY60x68W+s/0c4PjGy36z/Eiz+v+qTqP/cxkGMUgus/X11apuJa6z9CsTfTmOXsPxnhP23QBes/p5rYjRSc7D+NphOO+SvsP88MpEgtauo/3iZr71w86T8FWN5ULu7pP68gQphONOs/YffobT8G6j+HZyebLLjpP7VDpPXaMeo/WbThwxwJ6T9AW+KFF9HoPw==",
          "dtype": "f8"
         }
        },
        {
         "marker": {
          "color": "rgb(77,175,74)",
          "opacity": 0.8,
          "size": 6
         },
         "mode": "markers",
         "name": "Cluster 17",
         "type": "scatter3d",
         "x": {
          "bdata": "3aDABWk/4j9LU4hxICvjP7HRpYmRYOI/DIdenjUd4j+Jemw/zRbkPzZWjVc1G+Q/4OaiN4tY4j+RPrF7YKriPyNkgc23+uI/4OL3gE2s4z8cvXmvHCDlP6LEMVlA4uE/Xva76Jbb4j+vrhkM33PkP/LefMNHjeQ/9Fviy9SC5T91urf4wVXkPze3Cd9iveM/K41oWIZ54z/aBzHOYkHkP+lFwTMHx+M/oIKxunqC4z+5be7j6YXhP3AfiDJKZeM/2WLZALIi4z8AEouGNz/jPxC0XEUhDuM/Vl9jxW5s4j+a4LVFGWHiPw==",
          "dtype": "f8"
         },
         "y": {
          "bdata": "z+m5ESvn0D+dd0nZ0XDGP1vV3je36Mc/qbaPhgSLzj+TyPyCTYXLP9mVb07v+Mo/Y0QdivOXyT+rROHFOxTKPwQZWECyNck/tSgW+LqSzD+rMvIGxBjGP7xlZouTJMo/F60QCywOxj/f79Zsr+bGP7aucRiY7cU/Zl4gtxkZyD9CVMj5n/DHPzJfoX1xjsY/mRKo2t45yD+KxF2h9JPHP39CB54sOMQ/q6ofo3E4xD9iq3qnx3LIP1FtGY+v8cI/ZZfXHMw8xj/8oN7WvG7FPyx025Xt68Y/j/yonT+cxD+BVdiJKLPDPw==",
          "dtype": "f8"
         },
         "z": {
          "bdata": "FgLojoxn2z9LnISJw1XeP9BFncoKq9s/X9bG/N0c3T/BDaQjzRvYP0PzEOorMNs/SiTinpYD3D+TjrZyJdrcPwwIUa5gB94/qYFqSO2k2j/NNKF62W7ZPzULsEAd3to/H2+47pnr2j+TbUqVu1PZP+7UlnlDa9k/HIY9+RqG2j8SQKD/iiDgPxMDuS5XG98/99jaY/792z8F6uP5ONfYP9+92fJWz9U/5MkNRRgd3z8nJbI6hfbcPx4eG6hIbd4/vWMGVm2H3j8vOVunHyzeP2l+BQ2gmd8/DTVjscr13T8+Z0/EZD7ePw==",
          "dtype": "f8"
         }
        },
        {
         "marker": {
          "color": "rgb(152,78,163)",
          "opacity": 0.8,
          "size": 6
         },
         "mode": "markers",
         "name": "Cluster 18",
         "type": "scatter3d",
         "x": {
          "bdata": "XTylcTlc4D+B2EmoVL3gP+NdG+QW0eA/swE//e3K4D84iycfbqDgP59/vak6Z+E/17WptSDv4D/RYfl0uFvhP5m+pyzviOA/EZg0S3fO4T8=",
          "dtype": "f8"
         },
         "y": {
          "bdata": "LEDahzOf0T9JPcIJTmjSP1aqjZ5NS9M/R+SUXPCu0j/xT+O34FDTP2LogmoqbNM/gDOrlKvh1T/T5WQ7VBXTPy3X/OJEG9c/UyBwaSMX0j8=",
          "dtype": "f8"
         },
         "z": {
          "bdata": "37ya174m4D93vHo8cOXcP63c1ueHueA/QAy7Kb2+3z+rMRcKjH7hPzmE/8+eOuA/5l2zr0+B3D/RAScZlLndPzfE7IA/odk/flu4Hww33j8=",
          "dtype": "f8"
         }
        },
        {
         "marker": {
          "color": "rgb(255,127,0)",
          "opacity": 0.8,
          "size": 6
         },
         "mode": "markers",
         "name": "Cluster 20",
         "type": "scatter3d",
         "x": {
          "bdata": "uT0lvDKJ4D/DzTp2NGPgP4euMgl7huE/Ymt9YDhv2T/bSWc07pbcP2mE8aEYtts/sW0xpUnj3D+jCeA1M4XeP3OrM0r1eN8/YGlurQ+93j/9TsnyZn/eP470WDDln94/Wx9nADEN4D9Z5uH2EG3fP0hMcynbM+A/bQMh+Udp4D+rCEyBPKngP4JZcvkP/eA/stcyusl94T9jmTkccgDhP9K+82TL/eA/fF0V7SFK4T8R/NQEzDLhPw==",
          "dtype": "f8"
         },
         "y": {
          "bdata": "Nm0E+hyQxj+vQmIfx/W/P5MNa7dZHME/WeDzr5dHxT/6mo0w9TvFP5WEUVMi8cU/JFEkdGoCxj/9wRgD+JvFP2BOLDHv6sU/z5aOBWQ+xT+BjdGYhxXEP84hWK3H4MU/H88kjeqQxT+AwzNbZaTCP7bKOcRCb8g/wVbkobofxz+ZBpxz3vrFP/p4IW23mMY/F+q8u5z+xj+yoLNO323BP19rZ9l1gMc/WpHbOVhRxD8+vUaSWd7FPw==",
          "dtype": "f8"
         },
         "z": {
          "bdata": "WYeQsXQu5D/ginSnHmXmPxPrT3BxDec/9662Uz955j/3BXA9WLHmP8/cQZDUC+c/ilBvW6tr5j+OP7pbsjTlP9zO1uE/FuU/X4MYEGqI5T/fvoB1iULlPwkQAN6kcOQ/4jMVB5Nm5T815tZC2gHmP4oRR2d+g+U/jxRir2aG5T8D+Nt3OdnjPxLiJ7fFRuU/kArVIcWX5D8XhGhGbCrmP3wwANjgfOY/JAeq0rrh5D8+qr2cNn/kPw==",
          "dtype": "f8"
         }
        },
        {
         "marker": {
          "color": "rgb(255,255,51)",
          "opacity": 0.8,
          "size": 6
         },
         "mode": "markers",
         "name": "Cluster 21",
         "type": "scatter3d",
         "x": {
          "bdata": "asYrToqh4D8n5Bt4pajiP53HsCYol+M/q4sgSPKv4j/kUYPI1BLiPzQX8W7P9+E/dnpcneBh4j8TNJ/JhvDhP/JzClbObOI/m+2ljEoS4z/7Pp0z7BvhPwv7ECaZWOA/n3zCe2wU4D8BY6dfxu/fPxoT9kt57+A/PCI9W+hC4T/pRmQvUCTjP0zEwLukHuE/t0icJoPW4T/ej6SgLOLhP12BT5rumuA/WeefAzwI4D8V+OLPAgbgP13WmUu0fOA/TiYXth4L4T+VbhCuxJPgPyTztQclXd8/",
          "dtype": "f8"
         },
         "y": {
          "bdata": "3cv4c9xqwD9CwnCeycrCP/aiHoIa370/0jLQB5GmuT+a1GG8xvy5P8fINbopO7o/oTEEkLpcuj9zHieFWIG6P+YtOImLCbo/VV5q27SPuz8fVL7NJTG/PxVwBiSCs78/hm2iKPgDvz8GIAV00x++P8IP8yREur4/g+pyJU8twj8nNGoaR7XAP1CDEYZ0ksQ/v1RnCMQzvz/bDhiQOJ+9P0JJZmV+E78/jFSOuyoaxD9xBJrek1HDPwOVOZcRe8Q/EhrUYaXBwj9JbI30W7i4PzauT3sMCrw/",
          "dtype": "f8"
         },
         "z": {
          "bdata": "QykadmGs3D+RIdxU/0nhP+1SKwPLvN4/L8tBw4VQ3z/N+Vhy4DThP44rRBLjB+A/ZgFqq8oR3z/7rY5RrsPePwois7KEkd8/ZRBNM22Z4D9GUv0h47/hPwxJPUHskuA/GaFXj+584D9LwXDL09/gP2+Ct2zFLOE/7vHogx6S4D+77gJdQ8zhP90FBvUNJuA/oixz+aV/4T9e/61tjVDgP9VwMalzi+A/suh3qBV04D8UCTYLIwPfP+VtQoEXC98/FYumaT/Z3z9Bh2NggzfiP2vRwzxf6OA/",
          "dtype": "f8"
         }
        },
        {
         "marker": {
          "color": "rgb(166,86,40)",
          "opacity": 0.8,
          "size": 6
         },
         "mode": "markers",
         "name": "Cluster 22",
         "type": "scatter3d",
         "x": {
          "bdata": "spQeAqQy4D8qL+SUC53dP9VsUVRCz90/fS6zi5103T+DWD/09ofZP56rVvm0Kd8/dLFW379f3D9kJQgvdqngP1SJFrC4vtg/rY6MFL3t2T81JkiAzz3cP0K7+thSlNw/ycfX+9ow3T8=",
          "dtype": "f8"
         },
         "y": {
          "bdata": "vU1mfmkluT+FVYwc/s+4P2+Q43EysLc/Ruil45Hgtz+DW3i1AKe2P6Df+doHUbc/6f0D+TpBtz8A5nt+zLq3P2RxPZgxMLk/D4ggmIsCuz9GC6JZPUG6P6JWS6rnBLs/c1SmLIJ7uT8=",
          "dtype": "f8"
         },
         "z": {
          "bdata": "EDbGDXtP4j9cB+l/XaHjP2rGwIY4BuM/AecMxH3Z4T+zz+xkTv/gPzu/twYU2d4/WoqLN8oy3j907leYxoTdP+qHoFVx5d8/xLkyOM3e4D8BmASob33hPx4WGN8JqOE/Zocj9XPb3z8=",
          "dtype": "f8"
         }
        },
        {
         "marker": {
          "color": "rgb(247,129,191)",
          "opacity": 0.8,
          "size": 6
         },
         "mode": "markers",
         "name": "Cluster 23",
         "type": "scatter3d",
         "x": {
          "bdata": "LgSyJo4+3T93ilGNodbcPzdTEiXwaN0/J23LRjUo3T9cIw3Dx/bcP1ax7c2MKd8//OeZi+3K3z+3c/gGNHfgP14wW+zn5eA/PewF2SmP3z+Fq3nVF5vfP75umE0f0eA/c6dMY8oG4T8=",
          "dtype": "f8"
         },
         "y": {
          "bdata": "bM7/pQ4jyT/mXMj5PAbQP7MiQu2Kmcs//JOHDTHDzj8aVF1keZjRP9bHgly9x9E/AKrUuCD2zD/prq9LzEbSP5d9dvRdyc8/KeeeuasV0j+GBG/z94PPPwNtxGpkIcs/+csGAUeYzj8=",
          "dtype": "f8"
         },
         "z": {
          "bdata": "5yCd2wIy3z9LeXJEiePeP/787GiEF+A/UdhrbShm4T+CvHo+jZ3jPw6L1AM9YeI/SjDX5V+h3D+JyjBfLMLgP5PFfNVbDeA/tJbBV17K2T9l6l6oKdnfPzEMMvsa5tw/AwyrIxkP3z8=",
          "dtype": "f8"
         }
        }
       ],
       "layout": {
        "height": 800,
        "margin": {
         "b": 0,
         "l": 0,
         "r": 0,
         "t": 40
        },
        "scene": {
         "xaxis": {
          "title": {
           "text": "Feature 1 (mean)"
          }
         },
         "yaxis": {
          "title": {
           "text": "Feature 2 (mean)"
          }
         },
         "zaxis": {
          "title": {
           "text": "Feature 3 (mean)"
          }
         }
        },
        "template": {
         "data": {
          "bar": [
           {
            "error_x": {
             "color": "#2a3f5f"
            },
            "error_y": {
             "color": "#2a3f5f"
            },
            "marker": {
             "line": {
              "color": "#E5ECF6",
              "width": 0.5
             },
             "pattern": {
              "fillmode": "overlay",
              "size": 10,
              "solidity": 0.2
             }
            },
            "type": "bar"
           }
          ],
          "barpolar": [
           {
            "marker": {
             "line": {
              "color": "#E5ECF6",
              "width": 0.5
             },
             "pattern": {
              "fillmode": "overlay",
              "size": 10,
              "solidity": 0.2
             }
            },
            "type": "barpolar"
           }
          ],
          "carpet": [
           {
            "aaxis": {
             "endlinecolor": "#2a3f5f",
             "gridcolor": "white",
             "linecolor": "white",
             "minorgridcolor": "white",
             "startlinecolor": "#2a3f5f"
            },
            "baxis": {
             "endlinecolor": "#2a3f5f",
             "gridcolor": "white",
             "linecolor": "white",
             "minorgridcolor": "white",
             "startlinecolor": "#2a3f5f"
            },
            "type": "carpet"
           }
          ],
          "choropleth": [
           {
            "colorbar": {
             "outlinewidth": 0,
             "ticks": ""
            },
            "type": "choropleth"
           }
          ],
          "contour": [
           {
            "colorbar": {
             "outlinewidth": 0,
             "ticks": ""
            },
            "colorscale": [
             [
              0,
              "#0d0887"
             ],
             [
              0.1111111111111111,
              "#46039f"
             ],
             [
              0.2222222222222222,
              "#7201a8"
             ],
             [
              0.3333333333333333,
              "#9c179e"
             ],
             [
              0.4444444444444444,
              "#bd3786"
             ],
             [
              0.5555555555555556,
              "#d8576b"
             ],
             [
              0.6666666666666666,
              "#ed7953"
             ],
             [
              0.7777777777777778,
              "#fb9f3a"
             ],
             [
              0.8888888888888888,
              "#fdca26"
             ],
             [
              1,
              "#f0f921"
             ]
            ],
            "type": "contour"
           }
          ],
          "contourcarpet": [
           {
            "colorbar": {
             "outlinewidth": 0,
             "ticks": ""
            },
            "type": "contourcarpet"
           }
          ],
          "heatmap": [
           {
            "colorbar": {
             "outlinewidth": 0,
             "ticks": ""
            },
            "colorscale": [
             [
              0,
              "#0d0887"
             ],
             [
              0.1111111111111111,
              "#46039f"
             ],
             [
              0.2222222222222222,
              "#7201a8"
             ],
             [
              0.3333333333333333,
              "#9c179e"
             ],
             [
              0.4444444444444444,
              "#bd3786"
             ],
             [
              0.5555555555555556,
              "#d8576b"
             ],
             [
              0.6666666666666666,
              "#ed7953"
             ],
             [
              0.7777777777777778,
              "#fb9f3a"
             ],
             [
              0.8888888888888888,
              "#fdca26"
             ],
             [
              1,
              "#f0f921"
             ]
            ],
            "type": "heatmap"
           }
          ],
          "histogram": [
           {
            "marker": {
             "pattern": {
              "fillmode": "overlay",
              "size": 10,
              "solidity": 0.2
             }
            },
            "type": "histogram"
           }
          ],
          "histogram2d": [
           {
            "colorbar": {
             "outlinewidth": 0,
             "ticks": ""
            },
            "colorscale": [
             [
              0,
              "#0d0887"
             ],
             [
              0.1111111111111111,
              "#46039f"
             ],
             [
              0.2222222222222222,
              "#7201a8"
             ],
             [
              0.3333333333333333,
              "#9c179e"
             ],
             [
              0.4444444444444444,
              "#bd3786"
             ],
             [
              0.5555555555555556,
              "#d8576b"
             ],
             [
              0.6666666666666666,
              "#ed7953"
             ],
             [
              0.7777777777777778,
              "#fb9f3a"
             ],
             [
              0.8888888888888888,
              "#fdca26"
             ],
             [
              1,
              "#f0f921"
             ]
            ],
            "type": "histogram2d"
           }
          ],
          "histogram2dcontour": [
           {
            "colorbar": {
             "outlinewidth": 0,
             "ticks": ""
            },
            "colorscale": [
             [
              0,
              "#0d0887"
             ],
             [
              0.1111111111111111,
              "#46039f"
             ],
             [
              0.2222222222222222,
              "#7201a8"
             ],
             [
              0.3333333333333333,
              "#9c179e"
             ],
             [
              0.4444444444444444,
              "#bd3786"
             ],
             [
              0.5555555555555556,
              "#d8576b"
             ],
             [
              0.6666666666666666,
              "#ed7953"
             ],
             [
              0.7777777777777778,
              "#fb9f3a"
             ],
             [
              0.8888888888888888,
              "#fdca26"
             ],
             [
              1,
              "#f0f921"
             ]
            ],
            "type": "histogram2dcontour"
           }
          ],
          "mesh3d": [
           {
            "colorbar": {
             "outlinewidth": 0,
             "ticks": ""
            },
            "type": "mesh3d"
           }
          ],
          "parcoords": [
           {
            "line": {
             "colorbar": {
              "outlinewidth": 0,
              "ticks": ""
             }
            },
            "type": "parcoords"
           }
          ],
          "pie": [
           {
            "automargin": true,
            "type": "pie"
           }
          ],
          "scatter": [
           {
            "fillpattern": {
             "fillmode": "overlay",
             "size": 10,
             "solidity": 0.2
            },
            "type": "scatter"
           }
          ],
          "scatter3d": [
           {
            "line": {
             "colorbar": {
              "outlinewidth": 0,
              "ticks": ""
             }
            },
            "marker": {
             "colorbar": {
              "outlinewidth": 0,
              "ticks": ""
             }
            },
            "type": "scatter3d"
           }
          ],
          "scattercarpet": [
           {
            "marker": {
             "colorbar": {
              "outlinewidth": 0,
              "ticks": ""
             }
            },
            "type": "scattercarpet"
           }
          ],
          "scattergeo": [
           {
            "marker": {
             "colorbar": {
              "outlinewidth": 0,
              "ticks": ""
             }
            },
            "type": "scattergeo"
           }
          ],
          "scattergl": [
           {
            "marker": {
             "colorbar": {
              "outlinewidth": 0,
              "ticks": ""
             }
            },
            "type": "scattergl"
           }
          ],
          "scattermap": [
           {
            "marker": {
             "colorbar": {
              "outlinewidth": 0,
              "ticks": ""
             }
            },
            "type": "scattermap"
           }
          ],
          "scattermapbox": [
           {
            "marker": {
             "colorbar": {
              "outlinewidth": 0,
              "ticks": ""
             }
            },
            "type": "scattermapbox"
           }
          ],
          "scatterpolar": [
           {
            "marker": {
             "colorbar": {
              "outlinewidth": 0,
              "ticks": ""
             }
            },
            "type": "scatterpolar"
           }
          ],
          "scatterpolargl": [
           {
            "marker": {
             "colorbar": {
              "outlinewidth": 0,
              "ticks": ""
             }
            },
            "type": "scatterpolargl"
           }
          ],
          "scatterternary": [
           {
            "marker": {
             "colorbar": {
              "outlinewidth": 0,
              "ticks": ""
             }
            },
            "type": "scatterternary"
           }
          ],
          "surface": [
           {
            "colorbar": {
             "outlinewidth": 0,
             "ticks": ""
            },
            "colorscale": [
             [
              0,
              "#0d0887"
             ],
             [
              0.1111111111111111,
              "#46039f"
             ],
             [
              0.2222222222222222,
              "#7201a8"
             ],
             [
              0.3333333333333333,
              "#9c179e"
             ],
             [
              0.4444444444444444,
              "#bd3786"
             ],
             [
              0.5555555555555556,
              "#d8576b"
             ],
             [
              0.6666666666666666,
              "#ed7953"
             ],
             [
              0.7777777777777778,
              "#fb9f3a"
             ],
             [
              0.8888888888888888,
              "#fdca26"
             ],
             [
              1,
              "#f0f921"
             ]
            ],
            "type": "surface"
           }
          ],
          "table": [
           {
            "cells": {
             "fill": {
              "color": "#EBF0F8"
             },
             "line": {
              "color": "white"
             }
            },
            "header": {
             "fill": {
              "color": "#C8D4E3"
             },
             "line": {
              "color": "white"
             }
            },
            "type": "table"
           }
          ]
         },
         "layout": {
          "annotationdefaults": {
           "arrowcolor": "#2a3f5f",
           "arrowhead": 0,
           "arrowwidth": 1
          },
          "autotypenumbers": "strict",
          "coloraxis": {
           "colorbar": {
            "outlinewidth": 0,
            "ticks": ""
           }
          },
          "colorscale": {
           "diverging": [
            [
             0,
             "#8e0152"
            ],
            [
             0.1,
             "#c51b7d"
            ],
            [
             0.2,
             "#de77ae"
            ],
            [
             0.3,
             "#f1b6da"
            ],
            [
             0.4,
             "#fde0ef"
            ],
            [
             0.5,
             "#f7f7f7"
            ],
            [
             0.6,
             "#e6f5d0"
            ],
            [
             0.7,
             "#b8e186"
            ],
            [
             0.8,
             "#7fbc41"
            ],
            [
             0.9,
             "#4d9221"
            ],
            [
             1,
             "#276419"
            ]
           ],
           "sequential": [
            [
             0,
             "#0d0887"
            ],
            [
             0.1111111111111111,
             "#46039f"
            ],
            [
             0.2222222222222222,
             "#7201a8"
            ],
            [
             0.3333333333333333,
             "#9c179e"
            ],
            [
             0.4444444444444444,
             "#bd3786"
            ],
            [
             0.5555555555555556,
             "#d8576b"
            ],
            [
             0.6666666666666666,
             "#ed7953"
            ],
            [
             0.7777777777777778,
             "#fb9f3a"
            ],
            [
             0.8888888888888888,
             "#fdca26"
            ],
            [
             1,
             "#f0f921"
            ]
           ],
           "sequentialminus": [
            [
             0,
             "#0d0887"
            ],
            [
             0.1111111111111111,
             "#46039f"
            ],
            [
             0.2222222222222222,
             "#7201a8"
            ],
            [
             0.3333333333333333,
             "#9c179e"
            ],
            [
             0.4444444444444444,
             "#bd3786"
            ],
            [
             0.5555555555555556,
             "#d8576b"
            ],
            [
             0.6666666666666666,
             "#ed7953"
            ],
            [
             0.7777777777777778,
             "#fb9f3a"
            ],
            [
             0.8888888888888888,
             "#fdca26"
            ],
            [
             1,
             "#f0f921"
            ]
           ]
          },
          "colorway": [
           "#636efa",
           "#EF553B",
           "#00cc96",
           "#ab63fa",
           "#FFA15A",
           "#19d3f3",
           "#FF6692",
           "#B6E880",
           "#FF97FF",
           "#FECB52"
          ],
          "font": {
           "color": "#2a3f5f"
          },
          "geo": {
           "bgcolor": "white",
           "lakecolor": "white",
           "landcolor": "#E5ECF6",
           "showlakes": true,
           "showland": true,
           "subunitcolor": "white"
          },
          "hoverlabel": {
           "align": "left"
          },
          "hovermode": "closest",
          "mapbox": {
           "style": "light"
          },
          "paper_bgcolor": "white",
          "plot_bgcolor": "#E5ECF6",
          "polar": {
           "angularaxis": {
            "gridcolor": "white",
            "linecolor": "white",
            "ticks": ""
           },
           "bgcolor": "#E5ECF6",
           "radialaxis": {
            "gridcolor": "white",
            "linecolor": "white",
            "ticks": ""
           }
          },
          "scene": {
           "xaxis": {
            "backgroundcolor": "#E5ECF6",
            "gridcolor": "white",
            "gridwidth": 2,
            "linecolor": "white",
            "showbackground": true,
            "ticks": "",
            "zerolinecolor": "white"
           },
           "yaxis": {
            "backgroundcolor": "#E5ECF6",
            "gridcolor": "white",
            "gridwidth": 2,
            "linecolor": "white",
            "showbackground": true,
            "ticks": "",
            "zerolinecolor": "white"
           },
           "zaxis": {
            "backgroundcolor": "#E5ECF6",
            "gridcolor": "white",
            "gridwidth": 2,
            "linecolor": "white",
            "showbackground": true,
            "ticks": "",
            "zerolinecolor": "white"
           }
          },
          "shapedefaults": {
           "line": {
            "color": "#2a3f5f"
           }
          },
          "ternary": {
           "aaxis": {
            "gridcolor": "white",
            "linecolor": "white",
            "ticks": ""
           },
           "baxis": {
            "gridcolor": "white",
            "linecolor": "white",
            "ticks": ""
           },
           "bgcolor": "#E5ECF6",
           "caxis": {
            "gridcolor": "white",
            "linecolor": "white",
            "ticks": ""
           }
          },
          "title": {
           "x": 0.05
          },
          "xaxis": {
           "automargin": true,
           "gridcolor": "white",
           "linecolor": "white",
           "ticks": "",
           "title": {
            "standoff": 15
           },
           "zerolinecolor": "white",
           "zerolinewidth": 2
          },
          "yaxis": {
           "automargin": true,
           "gridcolor": "white",
           "linecolor": "white",
           "ticks": "",
           "title": {
            "standoff": 15
           },
           "zerolinecolor": "white",
           "zerolinewidth": 2
          }
         }
        },
        "title": {
         "text": "Phân cụm SOM - Biểu diễn dữ liệu trong không gian 3D"
        },
        "width": 1200
       }
      }
     },
     "metadata": {},
     "output_type": "display_data"
    }
   ],
   "source": [
    "# Tính giá trị trung bình theo chiều thời gian (giữ nguyên 3D)\n",
    "X_3d = np.mean(data, axis=2)  # Shape (438, 3)\n",
    "\n",
    "# Vẽ biểu đồ 3D\n",
    "color_set = (\n",
    "    px.colors.qualitative.Set1 +\n",
    "    px.colors.qualitative.Set2 +\n",
    "    px.colors.qualitative.Set3\n",
    ")[:20]\n",
    "fig = go.Figure()\n",
    "\n",
    "# Thêm từng cụm vào biểu đồ\n",
    "unique_clusters = np.unique(cluster_labels)\n",
    "for i, cluster in enumerate(unique_clusters):\n",
    "    cluster_points = X_3d[cluster_labels == cluster]\n",
    "    \n",
    "    fig.add_trace(go.Scatter3d(\n",
    "        x=cluster_points[:, 0],\n",
    "        y=cluster_points[:, 1],\n",
    "        z=cluster_points[:, 2],\n",
    "        mode='markers',\n",
    "        marker=dict(size=6, color=colors[i % len(colors)], opacity=0.8),\n",
    "        name=f'Cluster {cluster}'\n",
    "    ))\n",
    "\n",
    "# Cài đặt giao diện hiển thị\n",
    "fig.update_layout(\n",
    "    title='Phân cụm SOM - Biểu diễn dữ liệu trong không gian 3D',\n",
    "    scene=dict(\n",
    "        xaxis_title='Feature 1 (mean)',\n",
    "        yaxis_title='Feature 2 (mean)',\n",
    "        zaxis_title='Feature 3 (mean)',\n",
    "    ),\n",
    "    margin=dict(l=0, r=0, b=0, t=40),\n",
    "    width=1200,  # Tăng chiều rộng\n",
    "    height=800   # Tăng chiều cao\n",
    ")\n",
    "\n",
    "fig.show()"
   ]
  },
  {
   "cell_type": "code",
   "execution_count": null,
   "metadata": {},
   "outputs": [
    {
     "data": {
      "image/png": "[encoded data removed]",
      "text/plain": [
       "<Figure size 2000x2000 with 200 Axes>"
      ]
     },
     "metadata": {},
     "output_type": "display_data"
    }
   ],
   "source": [
    "sorted_indices = np.argsort(cluster_labels)\n",
    "sorted_data = data[sorted_indices]\n",
    "sorted_labels = cluster_labels[sorted_indices]\n",
    "\n",
    "num_samples = 20  # Chọn số lượng ma trận muốn hiển thị\n",
    "clusters = np.unique(cluster_labels)\n",
    "\n",
    "fig, axes = plt.subplots(len(clusters), num_samples, figsize=(num_samples, len(clusters) * 2))\n",
    "\n",
    "for row, cluster in enumerate(clusters):\n",
    "    cluster_indices = np.where(cluster_labels == cluster)[0][:num_samples]  # Lấy các sample trong cụm\n",
    "    \n",
    "    for col, idx in enumerate(cluster_indices):\n",
    "        ax = axes[row, col] if len(clusters) > 1 else axes[col]\n",
    "        ax.imshow(data[idx], cmap=\"viridis\", aspect=\"auto\")\n",
    "        ax.set_xticks([])\n",
    "        ax.set_yticks([])\n",
    "    \n",
    "    # Ghi nhãn cụm\n",
    "    axes[row, 0].set_ylabel(f\"Cluster {cluster}\", fontsize=12)\n",
    "\n",
    "plt.tight_layout()\n",
    "plt.show()"
   ]
  },
  {
   "cell_type": "markdown",
   "metadata": {},
   "source": [
    "# HDBSCAN"
   ]
  },
  {
   "cell_type": "code",
   "execution_count": 47,
   "metadata": {},
   "outputs": [],
   "source": [
    "import numpy as np\n",
    "import hdbscan\n",
    "import plotly.graph_objects as go\n",
    "import plotly.express as px"
   ]
  },
  {
   "cell_type": "code",
   "execution_count": 50,
   "metadata": {},
   "outputs": [],
   "source": [
    "clusterer = hdbscan.HDBSCAN(min_cluster_size=10, min_samples=5)\n",
    "labels = clusterer.fit_predict(reshaped_data)"
   ]
  },
  {
   "cell_type": "code",
   "execution_count": null,
   "metadata": {},
   "outputs": [
    {
     "data": {
      "application/vnd.plotly.v1+json": {
       "config": {
        "plotlyServerURL": "https://plot.ly"
       },
       "data": [
        {
         "marker": {
          "color": "rgb(228,26,28)",
          "opacity": 0.8,
          "size": 6
         },
         "mode": "markers",
         "name": "Cluster -1",
         "type": "scatter3d",
         "x": {
          "bdata": "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",
          "dtype": "f8"
         },
         "y": {
          "bdata": "bM7/pQ4jyT/mXMj5PAbQP7MiQu2Kmcs//JOHDTHDzj8aVF1keZjRP9bHgly9x9E/LEDahzOf0T9JPcIJTmjSPwCq1Lgg9sw/VqqNnk1L0z/prq9LzEbSP0fklFzwrtI/8U/jt+BQ0z9i6IJqKmzTPy3Z8U4688s/V7fRN9yMuz/P6bkRK+fQP82ER00LxMs/XpF5OCFTzT+XfXb0XcnPP4Azq5Sr4dU/0+VkO1QV0z8t1/ziRBvXPynnnrmrFdI/Nm0E+hyQxj/y2vofsSvKP64H1kpNeso/f1Fv9qjXyj9TIHBpIxfSP93L+HPcasA/hgRv8/eDzz8DbcRqZCHLP1vV3je36Mc/3jyK5ctvzj+pto+GBIvOP/wA/VeWr8s/dVzNiPjCwz9TrO11FbLMP5//Rvcv970/k8j8gk2Fyz/ZlW9O7/jKPzbn5CilB8o/N4I3yxQYxz9QJXGr1zDHP4mUKYIRIcw/t5BD9R+jyT+JeyNfdmvKP8rJ+FPJ6L4/WU7UW1u4yD+LYIkhG6bKP2NEHYrzl8k/cc0RbxvFzz/5ywYBR5jOP0VxTn9WmdA/q0ThxTsUyj/2xc9AzWvKPwQZWECyNck/cuBU3vg9xT+7mN4dwknGP7UoFvi6ksw//FtG9S9wyz+Q0wgnha3FP6sy8gbEGMY/plPaOuvFxD8kZZJUvCXNPx4CeVKsfMI/jxci3A1GwT/cp1DLxJXFP1QFk7vQzcU/jFtK3pxfwj/DLLqspIXEP7xlZouTJMo/F60QCywOxj/2oh6CGt+9P/0QgSdPBsw/or+CaLQ5zT/kvsVV1AHQP9/v1myv5sY/tq5xGJjtxT9mXiC3GRnIP6A99+l+wck/QlTI+Z/wxz8GJDF3b+XJPzJfoX1xjsY/0MMd8vBlyj+KxF2h9JPHP1FAnhhZj8o/f0IHniw4xD+vLntt7Ei3P6uqH6NxOMQ/BiAFdNMfvj+Z7JOwpVG5P24psPswaLg/8fkRe23uuD/zJCGIGY64P5zNJZ9opLg/wLmkz+26uD+9TWZ+aSW5P5bJuHxuz7g/hVWMHP7PuD8P6iEoApu4P2+Q43EysLc/Ruil45Hgtz/BjkTEfiW7P7F33KYE0Lc/0Dxg5XhxuD98NE29WRi3P6Df+doHUbc/MoYHPQ9MuD8ZBA+Tlb63P7xAE7rBYrc/mdrKD7aItj+Tm92Hxiu3P+n9A/k6Qbc/AOZ7fsy6tz+1wCqVkjy4P5Sf4+N3Tbc/iQGJHOp0uD+//whf0Wm4Pz4kO7LlhLg/gC71ic+2tz9yXasMJwu3P51RJdbdHbg/ixQl9KxyuD/ZuqueNFC3P/HSxQLpLLg/xVKsOzcytz/kuoFenoa3P0aLscsjpLg/aRkD5xn8uD8BztusyQK4Py0UHqVkErg/x/jRkQ70tj8nvcBdI863P/K8Af7257c/HzCWWdw6uD8SnxpgTcC2P5sMJ74GFbc/QxrEyJIttz9n5kdbD224Px4+/6yWI7g/8SpWS7MuuD8KAv1XHrK4Px275VNOZbg/qUB2asZnuD9LDmp6wli4P+6KcQrI2Lg/4nThVghuuD8+W5TdVdC4P8G3zoQ/+bg/vCy0dIWtuj+E0FHhVtS3PwkozBNQ7Lg/CRRRKgW1uT8kWaEM9Nm5P1qMSJOS8rg/so6UVZ1huj9m36VDLzC5P0SJ9OhMWbg/uwebZmmOuj892kAWSVG6P76+IsUu2ro/Z5zzr0t6uD9GC6JZPUG6P6JWS6rnBLs/u7mnX50Uuz9Ru8MY2Zq7P/zGrBCw5ro/c1SmLIJ7uT9qa0j/pHfBPwaT3xlSY8I/WeDzr5dHxT/8alSbBsfDP9YC62iFocQ/w0wjmArWwz/6mo0w9TvFP5WEUVMi8cU//cEYA/ibxT9gTiwx7+rFP8+WjgVkPsU/gY3RmIcVxD/OIVitx+DFP4DDM1tlpMI/tso5xEJvyD+ZBpxz3vrFP0oyPBmvK8Y/X2tn2XWAxz/XAmATPULKP+NKw7ny48c/p9Et6czjwz9akds5WFHEPyU+DRPPIsk/E6Oej85Fxz9iq3qnx3LIPz69RpJZ3sU/jtQD+Vo0yj8bgJL0wNvHP5n2TfGJCMY/foo1Lj21yD/eUAP7BXfEP4ZeEuRPnMU/19zUuT07yT9RbRmPr/HCP2mo8Z+CJsg/Kl07HaKbxz+BVdiJKLPDPw==",
          "dtype": "f8"
         },
         "z": {
          "bdata": "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",
          "dtype": "f8"
         }
        },
        {
         "marker": {
          "color": "rgb(55,126,184)",
          "opacity": 0.8,
          "size": 6
         },
         "mode": "markers",
         "name": "Cluster 0",
         "type": "scatter3d",
         "x": {
          "bdata": "Xh5K4I++2D+P/4xxcuvbP7YiuLBmBdw/Ptl/lL983D+9OXnxZn/dP/LAbsgLM9w/DJNdA5os2D/kRx4Yt7HYP1DvKE2xstg/D/wWMQbF2D8D3jkFC6bYP9QhA56wmdk/",
          "dtype": "f8"
         },
         "y": {
          "bdata": "xm9qMDHotj8H5GloZHm4P7Fs6TTLr7g/fHp3BhARuT+GUf6r9sm4P7py9ukSqLg/gZfWsGvWuD9NCikAxeK5Pw8NAWHcw7g/HSiI7iGguD+7YSiCMY64P9m+DQhedbk/",
          "dtype": "f8"
         },
         "z": {
          "bdata": "i7ipF5433D/8nvQwmWPZP6rDtIUbRdc/ME/xEW5z1T8bzeOW9FjWP2PrnUmpAtY/zFD8LkJp2j+GUuduKfDYP1mWaergddg/M0ghadiD2D+ms9IQVTLYP8dmhDXhF9k/",
          "dtype": "f8"
         }
        },
        {
         "marker": {
          "color": "rgb(77,175,74)",
          "opacity": 0.8,
          "size": 6
         },
         "mode": "markers",
         "name": "Cluster 1",
         "type": "scatter3d",
         "x": {
          "bdata": "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",
          "dtype": "f8"
         },
         "y": {
          "bdata": "j+TfoPq2vT9+ScjRV/G6P2ZDIoKF9ME/y55ouRydxj+dd0nZ0XDGPy0h5ksB6sg/BT7FN6NQwz8UL4mRH0zDP8XDpTH09b4/EStlzfCHvT9CwnCeycrCPzWMBIGC47w/Txf+6yJcwj9aYDiamI3EP8psGMSXBsY/tD1FtVwowT+ZEqja3jnIP9Iy0AeRprk/EwOrKbk1xj9sWu/DQHfAP1TWO2tbZMI/ZsS8mSmewD+a1GG8xvy5P8fINbopO7o/oTEEkLpcuj9zHieFWIG6P+YtOImLCbo/VV5q27SPuz9tgGbs1qXDPwJ3TLrcEMI/CkEYCkAUwj+xcA4+favCP4X9IqguYsE/BbcdImdywT/vJfmmF0W/P69CYh/H9b8/FDkQCEXNvj+iFRtQgxLAP71jkmP4FMA/CoFIbwt+wD+TDWu3WRzBPx9Uvs0lMb8/FXAGJIKzvz+GbaIo+AO/P67e+3eTDL8/ze9dEjp9vD8/2poqray8P6no3d7CkL4/eU7sk553wD9uGjtTDM+/P8N2rSI1Mr4/rjGXfH9wvz9imG2hzhu+P7du+e9oqL0/aztRXPY0vz8rnr5fLpm9P2R1gxcO1ro/QVqp8voSwD87CwFpAkq8Py4Gg+BeQ7o/+nH85rdjwD93DvDdffS7P4nvuEXKMLo/Ths7V8b6vT/fqEs1c9C/P3aLTE2Lrbw/96Hsy4GrwD9JsM1awt67PxeRW1aPl7s/7eq7QdwRuj8blMF6FgW7P65bpG7nULs/9NYt9ZMIuz8Aw7eWO7G8PzrNNkbd9Lo/+ji1aylauz/QzNdPRmK6P1BVlfDLSbo/4Bo6vGeJuj8F6tJVDgq6P5bcims6Tro/R/LncyNZuD9AoGkw7yS3P8M7rmDRzLk/t3rGOwrRuD8UtAGibge5Py2smaYHb7o/V75DzBufuT9hlpb+XnW5P1NijB7aubo/u500WLguuj/nMFCLKO64P2V7F/sJLrk/mw91nBgkuj8ka0V9Dye5P2VsN9QVC7o/UltsKiUCuD+UVZosGZG4P4lkO3/XTbk/6seAod38uD+EzFCPPym6P4BtUCRHuLY/qw2/5vbDuD8Vf9Uxcde4Py06AUQxMrg/V4zy08ZEuT9MUO6aXkK4P36WM62EB7g/A5KX+ppSuT/fQBhLLaC3P4TF5PTuarg/j4snDKxztz/hGBNrITG3P1J4iJpiQrc/SnkcXCb3tz+DW3i1AKe2P/BNB5WuNrc/bCsaw5o8uD82Pdxyyn22P/Zo3E/BGrg/NfDh320kuD+J1k3lwMm3P90Egi88mLc/TLEV591ntz9yZTTO9jC3P0ks7yMOELg/1xXOlkwMuD8GtOBOHKi2P8S4Vc7Hubc/O4+vVrfXtz+Aw+Ps3UC4P8qB9kQJ6bc/1rK9jPm1tz9kcT2YMTC5PxkHcEoSSLg/v9TOFkthuj9uM6gLUBy5Pw+IIJiLArs/jrJdFpgiuj8+Vnu+Snq4Pxeq1xgzVbs/+wFNUebuuj8pDAJ1T3e6PzscSfKZs74/WlZJOK6nvz+PFIkkV7W/P17CQbBwsMA/7SDiVHzVwD/7rxAJfUG+P0bU2btxJrk/CpAndQqIuz9V4mTg9P3DP20Q7wiyL8M/PrIKxl0quz8xvfnJkIa+PxtprXtHL8A/7CqiQM+KvT+BPT27HtDDP8BmQelgk7w/kwA+Lupvwz9gLgY6aWq+PznNqvCZD8A/y8TdJZe/tz+5kvRocvq3P1SXLEhH0L4/5PSKZRGxvT8pBAWyLCK6PyNm/3+10ro/02r2Qk60vT8kUSR0agLGP+05x9HBdr4/H88kjeqQxT/BVuShuh/HP8TOkS+QzcQ//uIeEvBKuz/6eCFtt5jGP9uYnnnUbcM/F+q8u5z+xj+yoLNO323BPwVP6/j8X8Y/wg/zJES6vj/cH5/YX9PCPw3esv5o8sY/gJ3o8c3yvz/MK1oDKE3GPwZoCg3WtsQ/q0s/Np59xj+3tRUV4SW6P2rouOO0xsE/g+pyJU8twj/Twg+JJk/FP6ycY/vcBsc/cGro5Hmnxj97rhV+1aXEP2WX1xzMPMY/Q23oKiQxxj/8oN7WvG7FPyx025Xt68Y/j/yonT+cxD8nNGoaR7XAP1T2OJ7Xn8Q/I51fQuA8xD9QgxGGdJLEP4EE8C0qIsQ/rgBqCmiyxj9mkyQWKUPGPyaIFxOwPsU/v1RnCMQzvz9S4+SxEwLDP5Dn+R1x7MQ/2w4YkDifvT/mulyYGNPEP0JJZmV+E78/jFSOuyoaxD9xBJrek1HDPwOVOZcRe8Q/EhrUYaXBwj9JbI30W7i4PzauT3sMCrw/ysKManZQwD8=",
          "dtype": "f8"
         },
         "z": {
          "bdata": "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",
          "dtype": "f8"
         }
        }
       ],
       "layout": {
        "height": 800,
        "margin": {
         "b": 0,
         "l": 0,
         "r": 0,
         "t": 40
        },
        "scene": {
         "xaxis": {
          "title": {
           "text": "Feature 1 (mean)"
          }
         },
         "yaxis": {
          "title": {
           "text": "Feature 2 (mean)"
          }
         },
         "zaxis": {
          "title": {
           "text": "Feature 3 (mean)"
          }
         }
        },
        "template": {
         "data": {
          "bar": [
           {
            "error_x": {
             "color": "#2a3f5f"
            },
            "error_y": {
             "color": "#2a3f5f"
            },
            "marker": {
             "line": {
              "color": "#E5ECF6",
              "width": 0.5
             },
             "pattern": {
              "fillmode": "overlay",
              "size": 10,
              "solidity": 0.2
             }
            },
            "type": "bar"
           }
          ],
          "barpolar": [
           {
            "marker": {
             "line": {
              "color": "#E5ECF6",
              "width": 0.5
             },
             "pattern": {
              "fillmode": "overlay",
              "size": 10,
              "solidity": 0.2
             }
            },
            "type": "barpolar"
           }
          ],
          "carpet": [
           {
            "aaxis": {
             "endlinecolor": "#2a3f5f",
             "gridcolor": "white",
             "linecolor": "white",
             "minorgridcolor": "white",
             "startlinecolor": "#2a3f5f"
            },
            "baxis": {
             "endlinecolor": "#2a3f5f",
             "gridcolor": "white",
             "linecolor": "white",
             "minorgridcolor": "white",
             "startlinecolor": "#2a3f5f"
            },
            "type": "carpet"
           }
          ],
          "choropleth": [
           {
            "colorbar": {
             "outlinewidth": 0,
             "ticks": ""
            },
            "type": "choropleth"
           }
          ],
          "contour": [
           {
            "colorbar": {
             "outlinewidth": 0,
             "ticks": ""
            },
            "colorscale": [
             [
              0,
              "#0d0887"
             ],
             [
              0.1111111111111111,
              "#46039f"
             ],
             [
              0.2222222222222222,
              "#7201a8"
             ],
             [
              0.3333333333333333,
              "#9c179e"
             ],
             [
              0.4444444444444444,
              "#bd3786"
             ],
             [
              0.5555555555555556,
              "#d8576b"
             ],
             [
              0.6666666666666666,
              "#ed7953"
             ],
             [
              0.7777777777777778,
              "#fb9f3a"
             ],
             [
              0.8888888888888888,
              "#fdca26"
             ],
             [
              1,
              "#f0f921"
             ]
            ],
            "type": "contour"
           }
          ],
          "contourcarpet": [
           {
            "colorbar": {
             "outlinewidth": 0,
             "ticks": ""
            },
            "type": "contourcarpet"
           }
          ],
          "heatmap": [
           {
            "colorbar": {
             "outlinewidth": 0,
             "ticks": ""
            },
            "colorscale": [
             [
              0,
              "#0d0887"
             ],
             [
              0.1111111111111111,
              "#46039f"
             ],
             [
              0.2222222222222222,
              "#7201a8"
             ],
             [
              0.3333333333333333,
              "#9c179e"
             ],
             [
              0.4444444444444444,
              "#bd3786"
             ],
             [
              0.5555555555555556,
              "#d8576b"
             ],
             [
              0.6666666666666666,
              "#ed7953"
             ],
             [
              0.7777777777777778,
              "#fb9f3a"
             ],
             [
              0.8888888888888888,
              "#fdca26"
             ],
             [
              1,
              "#f0f921"
             ]
            ],
            "type": "heatmap"
           }
          ],
          "histogram": [
           {
            "marker": {
             "pattern": {
              "fillmode": "overlay",
              "size": 10,
              "solidity": 0.2
             }
            },
            "type": "histogram"
           }
          ],
          "histogram2d": [
           {
            "colorbar": {
             "outlinewidth": 0,
             "ticks": ""
            },
            "colorscale": [
             [
              0,
              "#0d0887"
             ],
             [
              0.1111111111111111,
              "#46039f"
             ],
             [
              0.2222222222222222,
              "#7201a8"
             ],
             [
              0.3333333333333333,
              "#9c179e"
             ],
             [
              0.4444444444444444,
              "#bd3786"
             ],
             [
              0.5555555555555556,
              "#d8576b"
             ],
             [
              0.6666666666666666,
              "#ed7953"
             ],
             [
              0.7777777777777778,
              "#fb9f3a"
             ],
             [
              0.8888888888888888,
              "#fdca26"
             ],
             [
              1,
              "#f0f921"
             ]
            ],
            "type": "histogram2d"
           }
          ],
          "histogram2dcontour": [
           {
            "colorbar": {
             "outlinewidth": 0,
             "ticks": ""
            },
            "colorscale": [
             [
              0,
              "#0d0887"
             ],
             [
              0.1111111111111111,
              "#46039f"
             ],
             [
              0.2222222222222222,
              "#7201a8"
             ],
             [
              0.3333333333333333,
              "#9c179e"
             ],
             [
              0.4444444444444444,
              "#bd3786"
             ],
             [
              0.5555555555555556,
              "#d8576b"
             ],
             [
              0.6666666666666666,
              "#ed7953"
             ],
             [
              0.7777777777777778,
              "#fb9f3a"
             ],
             [
              0.8888888888888888,
              "#fdca26"
             ],
             [
              1,
              "#f0f921"
             ]
            ],
            "type": "histogram2dcontour"
           }
          ],
          "mesh3d": [
           {
            "colorbar": {
             "outlinewidth": 0,
             "ticks": ""
            },
            "type": "mesh3d"
           }
          ],
          "parcoords": [
           {
            "line": {
             "colorbar": {
              "outlinewidth": 0,
              "ticks": ""
             }
            },
            "type": "parcoords"
           }
          ],
          "pie": [
           {
            "automargin": true,
            "type": "pie"
           }
          ],
          "scatter": [
           {
            "fillpattern": {
             "fillmode": "overlay",
             "size": 10,
             "solidity": 0.2
            },
            "type": "scatter"
           }
          ],
          "scatter3d": [
           {
            "line": {
             "colorbar": {
              "outlinewidth": 0,
              "ticks": ""
             }
            },
            "marker": {
             "colorbar": {
              "outlinewidth": 0,
              "ticks": ""
             }
            },
            "type": "scatter3d"
           }
          ],
          "scattercarpet": [
           {
            "marker": {
             "colorbar": {
              "outlinewidth": 0,
              "ticks": ""
             }
            },
            "type": "scattercarpet"
           }
          ],
          "scattergeo": [
           {
            "marker": {
             "colorbar": {
              "outlinewidth": 0,
              "ticks": ""
             }
            },
            "type": "scattergeo"
           }
          ],
          "scattergl": [
           {
            "marker": {
             "colorbar": {
              "outlinewidth": 0,
              "ticks": ""
             }
            },
            "type": "scattergl"
           }
          ],
          "scattermap": [
           {
            "marker": {
             "colorbar": {
              "outlinewidth": 0,
              "ticks": ""
             }
            },
            "type": "scattermap"
           }
          ],
          "scattermapbox": [
           {
            "marker": {
             "colorbar": {
              "outlinewidth": 0,
              "ticks": ""
             }
            },
            "type": "scattermapbox"
           }
          ],
          "scatterpolar": [
           {
            "marker": {
             "colorbar": {
              "outlinewidth": 0,
              "ticks": ""
             }
            },
            "type": "scatterpolar"
           }
          ],
          "scatterpolargl": [
           {
            "marker": {
             "colorbar": {
              "outlinewidth": 0,
              "ticks": ""
             }
            },
            "type": "scatterpolargl"
           }
          ],
          "scatterternary": [
           {
            "marker": {
             "colorbar": {
              "outlinewidth": 0,
              "ticks": ""
             }
            },
            "type": "scatterternary"
           }
          ],
          "surface": [
           {
            "colorbar": {
             "outlinewidth": 0,
             "ticks": ""
            },
            "colorscale": [
             [
              0,
              "#0d0887"
             ],
             [
              0.1111111111111111,
              "#46039f"
             ],
             [
              0.2222222222222222,
              "#7201a8"
             ],
             [
              0.3333333333333333,
              "#9c179e"
             ],
             [
              0.4444444444444444,
              "#bd3786"
             ],
             [
              0.5555555555555556,
              "#d8576b"
             ],
             [
              0.6666666666666666,
              "#ed7953"
             ],
             [
              0.7777777777777778,
              "#fb9f3a"
             ],
             [
              0.8888888888888888,
              "#fdca26"
             ],
             [
              1,
              "#f0f921"
             ]
            ],
            "type": "surface"
           }
          ],
          "table": [
           {
            "cells": {
             "fill": {
              "color": "#EBF0F8"
             },
             "line": {
              "color": "white"
             }
            },
            "header": {
             "fill": {
              "color": "#C8D4E3"
             },
             "line": {
              "color": "white"
             }
            },
            "type": "table"
           }
          ]
         },
         "layout": {
          "annotationdefaults": {
           "arrowcolor": "#2a3f5f",
           "arrowhead": 0,
           "arrowwidth": 1
          },
          "autotypenumbers": "strict",
          "coloraxis": {
           "colorbar": {
            "outlinewidth": 0,
            "ticks": ""
           }
          },
          "colorscale": {
           "diverging": [
            [
             0,
             "#8e0152"
            ],
            [
             0.1,
             "#c51b7d"
            ],
            [
             0.2,
             "#de77ae"
            ],
            [
             0.3,
             "#f1b6da"
            ],
            [
             0.4,
             "#fde0ef"
            ],
            [
             0.5,
             "#f7f7f7"
            ],
            [
             0.6,
             "#e6f5d0"
            ],
            [
             0.7,
             "#b8e186"
            ],
            [
             0.8,
             "#7fbc41"
            ],
            [
             0.9,
             "#4d9221"
            ],
            [
             1,
             "#276419"
            ]
           ],
           "sequential": [
            [
             0,
             "#0d0887"
            ],
            [
             0.1111111111111111,
             "#46039f"
            ],
            [
             0.2222222222222222,
             "#7201a8"
            ],
            [
             0.3333333333333333,
             "#9c179e"
            ],
            [
             0.4444444444444444,
             "#bd3786"
            ],
            [
             0.5555555555555556,
             "#d8576b"
            ],
            [
             0.6666666666666666,
             "#ed7953"
            ],
            [
             0.7777777777777778,
             "#fb9f3a"
            ],
            [
             0.8888888888888888,
             "#fdca26"
            ],
            [
             1,
             "#f0f921"
            ]
           ],
           "sequentialminus": [
            [
             0,
             "#0d0887"
            ],
            [
             0.1111111111111111,
             "#46039f"
            ],
            [
             0.2222222222222222,
             "#7201a8"
            ],
            [
             0.3333333333333333,
             "#9c179e"
            ],
            [
             0.4444444444444444,
             "#bd3786"
            ],
            [
             0.5555555555555556,
             "#d8576b"
            ],
            [
             0.6666666666666666,
             "#ed7953"
            ],
            [
             0.7777777777777778,
             "#fb9f3a"
            ],
            [
             0.8888888888888888,
             "#fdca26"
            ],
            [
             1,
             "#f0f921"
            ]
           ]
          },
          "colorway": [
           "#636efa",
           "#EF553B",
           "#00cc96",
           "#ab63fa",
           "#FFA15A",
           "#19d3f3",
           "#FF6692",
           "#B6E880",
           "#FF97FF",
           "#FECB52"
          ],
          "font": {
           "color": "#2a3f5f"
          },
          "geo": {
           "bgcolor": "white",
           "lakecolor": "white",
           "landcolor": "#E5ECF6",
           "showlakes": true,
           "showland": true,
           "subunitcolor": "white"
          },
          "hoverlabel": {
           "align": "left"
          },
          "hovermode": "closest",
          "mapbox": {
           "style": "light"
          },
          "paper_bgcolor": "white",
          "plot_bgcolor": "#E5ECF6",
          "polar": {
           "angularaxis": {
            "gridcolor": "white",
            "linecolor": "white",
            "ticks": ""
           },
           "bgcolor": "#E5ECF6",
           "radialaxis": {
            "gridcolor": "white",
            "linecolor": "white",
            "ticks": ""
           }
          },
          "scene": {
           "xaxis": {
            "backgroundcolor": "#E5ECF6",
            "gridcolor": "white",
            "gridwidth": 2,
            "linecolor": "white",
            "showbackground": true,
            "ticks": "",
            "zerolinecolor": "white"
           },
           "yaxis": {
            "backgroundcolor": "#E5ECF6",
            "gridcolor": "white",
            "gridwidth": 2,
            "linecolor": "white",
            "showbackground": true,
            "ticks": "",
            "zerolinecolor": "white"
           },
           "zaxis": {
            "backgroundcolor": "#E5ECF6",
            "gridcolor": "white",
            "gridwidth": 2,
            "linecolor": "white",
            "showbackground": true,
            "ticks": "",
            "zerolinecolor": "white"
           }
          },
          "shapedefaults": {
           "line": {
            "color": "#2a3f5f"
           }
          },
          "ternary": {
           "aaxis": {
            "gridcolor": "white",
            "linecolor": "white",
            "ticks": ""
           },
           "baxis": {
            "gridcolor": "white",
            "linecolor": "white",
            "ticks": ""
           },
           "bgcolor": "#E5ECF6",
           "caxis": {
            "gridcolor": "white",
            "linecolor": "white",
            "ticks": ""
           }
          },
          "title": {
           "x": 0.05
          },
          "xaxis": {
           "automargin": true,
           "gridcolor": "white",
           "linecolor": "white",
           "ticks": "",
           "title": {
            "standoff": 15
           },
           "zerolinecolor": "white",
           "zerolinewidth": 2
          },
          "yaxis": {
           "automargin": true,
           "gridcolor": "white",
           "linecolor": "white",
           "ticks": "",
           "title": {
            "standoff": 15
           },
           "zerolinecolor": "white",
           "zerolinewidth": 2
          }
         }
        },
        "title": {
         "text": "Phân cụm HDBSCAN - Biểu diễn dữ liệu trong không gian 3D"
        },
        "width": 1200
       }
      }
     },
     "metadata": {},
     "output_type": "display_data"
    }
   ],
   "source": [
    "colors = px.colors.qualitative.Set1 + px.colors.qualitative.Set2 + px.colors.qualitative.Set3\n",
    "fig = go.Figure()\n",
    "\n",
    "unique_clusters = np.unique(labels)\n",
    "for i, cluster in enumerate(unique_clusters):\n",
    "    cluster_points = X_3d[labels == cluster]\n",
    "    \n",
    "    fig.add_trace(go.Scatter3d(\n",
    "        x=cluster_points[:, 0],\n",
    "        y=cluster_points[:, 1],\n",
    "        z=cluster_points[:, 2],\n",
    "        mode='markers',\n",
    "        marker=dict(size=6, color=colors[i % len(colors)], opacity=0.8),\n",
    "        name=f'Cluster {cluster}'\n",
    "    ))\n",
    "\n",
    "fig.update_layout(\n",
    "    title=\"Phân cụm HDBSCAN - Biểu diễn dữ liệu trong không gian 3D\",\n",
    "    scene=dict(\n",
    "        xaxis_title='Feature 1 (mean)',\n",
    "        yaxis_title='Feature 2 (mean)',\n",
    "        zaxis_title='Feature 3 (mean)',\n",
    "    ),\n",
    "    margin=dict(l=0, r=0, b=0, t=40),\n",
    "    width=1200,\n",
    "    height=800\n",
    ")\n",
    "\n",
    "fig.show()"
   ]
  },
  {
   "cell_type": "code",
   "execution_count": 56,
   "metadata": {},
   "outputs": [],
   "source": [
    "from sklearn.mixture import GaussianMixture\n",
    "\n",
    "X_flattened = data.reshape(438, -1)  \n",
    "\n",
    "gmm = GaussianMixture(n_components=8, covariance_type='full', random_state=42)\n",
    "labels = gmm.fit_predict(X_flattened)"
   ]
  },
  {
   "cell_type": "code",
   "execution_count": 58,
   "metadata": {},
   "outputs": [
    {
     "data": {
      "application/vnd.plotly.v1+json": {
       "config": {
        "plotlyServerURL": "https://plot.ly"
       },
       "data": [
        {
         "marker": {
          "color": "rgb(228,26,28)",
          "opacity": 0.8,
          "size": 6
         },
         "mode": "markers",
         "name": "Cluster 0",
         "type": "scatter3d",
         "x": {
          "bdata": "QN3eJJmT2j/cOcDjCyncPwPzMra9V9w/QbOXSz1U3D+BPMdLhk/cPzKQNvY6Q90/xmyIYUyk3D8wr7omEvjcP87x6KzlYtw/LMQWj8se3T/zI8p2HafcPyDWcD7R7Nw/4TFNwu6T3D/gSlPfM4fcPzpTB3at7d0/vV7neI0z3T+Cl4gOGvjcP7M/EA5L2N0/ZK6S3u6O3D/Jmhw8nQzcP/C/TjSW3t0/IAmQnKND3D8G05fs4gbcP9RZMuN/Otw/Vk5Ghpbh2z81PRTgmNzbP6YeYdOkEts/HQqs+ngM2j8t4+39azDaP292mu4AU9k/ZoE3QlfF2D9SlfvWF9rXP2/OsDa2Edc/CknCMuDP1T8T7U8WlvfWPzGPLpYLYdY/6Wkafw9a1z+2j6Rp/33XP1YVOnY759Y/pqVGWYb+2D80I/Jjs2bZPwoNFCSwEds/T25fB0kh2T/lVxtXWI3aP6vsrtd4qNg/hpZ1qust2D9kZqjTUQzYP4Q4d2Cp5dg/4fPvHH2a2D8=",
          "dtype": "f8"
         },
         "y": {
          "bdata": "Ths7V8b6vT/fqEs1c9C/P3aLTE2Lrbw/SbDNWsLeuz8XkVtWj5e7P+3qu0HcEbo/G5TBehYFuz+uW6Ru51C7P/TWLfWTCLs/AMO3ljuxvD86zTZG3fS6P/o4tWspWrs/0MzXT0Ziuj9QVZXwy0m6PwXq0lUOCro/ltyKazpOuj9H8udzI1m4P0CgaTDvJLc/wzuuYNHMuT+3esY7CtG4PxS0AaJuB7k/LayZpgdvuj9XvkPMG5+5P2GWlv5edbk/U2KMHtq5uj+7nTRYuC66P+cwUIso7rg/ZXsX+wkuuT+bD3WcGCS6PyRrRX0PJ7k/ZWw31BULuj9SW2wqJQK4P5RVmiwZkbg/iWQ7f9dNuT/qx4Ch3fy4P4TMUI8/Kbo/gG1QJEe4tj+rDb/m9sO4PxV/1TFx17g/meyTsKVRuT8tOgFEMTK4P24psPswaLg/V4zy08ZEuT9MUO6aXkK4P36WM62EB7g/A5KX+ppSuT8GtOBOHKi2P8S4Vc7Hubc/VJcsSEfQvj8=",
          "dtype": "f8"
         },
         "z": {
          "bdata": "F8UxqJPg6D+dmyA4g/roPxC9Yu54LOo/EOHoKi4a6j/advkOWHDoPxsgTVOYn+o/EiAa9vMq6j8aqEPS2DPrP7UfxFGaxek/ayyJ17Zl6j/PIp+s143qP692PhEt0+o/MU3N64El6j8bYSpOWRfqP9vyYRc77Ok/j1cYn89M6j/WTeebuZzpP9xasEL6Muo/ztgrRwd46z+bF/+iORvsP5n/NHW5/Os/ovw5k0NY7D+GnWp7eeDrP1GQnZ2QVew/AkyArq5H6z/JUa3RDcrqP+U78f/GQOo/jlACKEig6T/SlP6Ftc/pP85SC94wwOk/FjrTHrxb6z/Rzg+MbLfrP8SLP6/6pOo/9zGQYxSC6z9fXVqm4lrrP0KxN9OY5ew/GeE/bdAF6z+nmtiNFJzsP42mE475K+w/zwykSC1q6j/eJmvvXDzpPwVY3lQu7uk/ryBCmE406z9h9+htPwbqP4dnJ5ssuOk/tUOk9dox6j9ZtOHDHAnpP0Bb4oUX0eg/lVe+jGV46D8=",
          "dtype": "f8"
         }
        },
        {
         "marker": {
          "color": "rgb(55,126,184)",
          "opacity": 0.8,
          "size": 6
         },
         "mode": "markers",
         "name": "Cluster 1",
         "type": "scatter3d",
         "x": {
          "bdata": "Pp+eRnAO4z9LU4hxICvjP75umE0f0eA/sdGliZFg4j+ckFtZzrDjP5aiOzEV9eM/TzMxlJ8b5T+Jemw/zRbkPzZWjVc1G+Q/WXK5VX7s4j/g5qI3i1jiP5E+sXtgquI/tXu+FFiR4j8jZIHNt/riP63rYPw63+I/BL6XcGT14z/g4veATazjP6bWPUzVKeM/MNfu65Sy4z8cvXmvHCDlPy0T7kOlXuU/egrn3n6y5T/PlyMhfPrkP68GIv+thuM/9TCTsA0z5D/q6zoK41zkP6LEMVlA4uE/Xva76Jbb4j+vrhkM33PkP/LefMNHjeQ/9Fviy9SC5T8ZzB+LjrjlP3W6t/jBVeQ/m6Ivgk915D8KF6qge7HjPyuNaFiGeeM/2gcxzmJB5D9sBlPbBW7kP+lFwTMHx+M/yW1VkRHF4z+5be7j6YXhP3AfiDJKZeM/ABKLhjc/4z9WX2PFbmziPw==",
          "dtype": "f8"
         },
         "y": {
          "bdata": "V7fRN9yMuz+dd0nZ0XDGPwNtxGpkIcs/W9XeN7foxz91XM2I+MLDP1Os7XUVssw/n/9G9y/3vT+TyPyCTYXLP9mVb07v+Mo/ysn4U8novj9jRB2K85fJP6tE4cU7FMo/9sXPQM1ryj8EGVhAsjXJP3LgVN74PcU/u5jeHcJJxj+1KBb4upLMP/xbRvUvcMs/kNMIJ4WtxT+rMvIGxBjGP6ZT2jrrxcQ/JGWSVLwlzT8eAnlSrHzCP48XItwNRsE/VAWTu9DNxT+MW0renF/CP7xlZouTJMo/F60QCywOxj/f79Zsr+bGP7aucRiY7cU/Zl4gtxkZyD+gPffpfsHJP0JUyPmf8Mc/BiQxd2/lyT/Qwx3y8GXKP5kSqNreOcg/isRdofSTxz9RQJ4YWY/KP39CB54sOMQ/ry57bexItz9iq3qnx3LIP1FtGY+v8cI//KDe1rxuxT+P/KidP5zEPw==",
          "dtype": "f8"
         },
         "z": {
          "bdata": "cDcBZL7A2T9LnISJw1XePzEMMvsa5tw/0EWdygqr2z9XIDv6b2DdP7A2oNcJNd0/x+G7gHiP2j/BDaQjzRvYP0PzEOorMNs/Rzm2VOxP3j9KJOKelgPcP5OOtnIl2tw/CwIh8GD63D8MCFGuYAfeP31G+Rywa9o/z7HGxFZ+2z+pgWpI7aTaP3BwrGygHto/KgPFy/zJ2T/NNKF62W7ZP3yxn77cx9c/kWm1XyA93j9B5LJR7vrZP3Q0Ej6IEdo/VJZ1D5rc3D/75M9Oqq7aPzULsEAd3to/H2+47pnr2j+TbUqVu1PZP+7UlnlDa9k/HIY9+RqG2j9zKAxF75zbPxJAoP+KIOA/iW4CysMD3j8mkq4lx1jcP/fY2mP+/ds/Berj+TjX2D+AcmWvvuDXP9+92fJWz9U/MYjc+HJQ2T8nJbI6hfbcPx4eG6hIbd4/Lzlbpx8s3j8NNWOxyvXdPw==",
          "dtype": "f8"
         }
        },
        {
         "marker": {
          "color": "rgb(77,175,74)",
          "opacity": 0.8,
          "size": 6
         },
         "mode": "markers",
         "name": "Cluster 2",
         "type": "scatter3d",
         "x": {
          "bdata": "hk1uTBN43z+5PSW8MongP7CO4C8cDeE/ho7ZElkM4j9aYzRhVIfhP5QtMF5MFeE/VTcc2kuF4T/uh1QKSdHhP+VTqSsvMOE/BBFCyUxe4T8GKEyF5MzhP36N50w3xOE/k1KTrQ5D4T8fkMEHOLHgP8PNOnY0Y+A/bGfs8bgv4T9fDE3lhLXhP4FWmO1Gx+E/tjEUQJM64j+HrjIJe4bhPwTkS3UGI+A/JUYrM6+04D8JR07e5NPhP6RPeHL7guE/TzauWV7C4D+OShyBYWndP7KUHgKkMuA/N0Zljakv3T+jCeA1M4XeP3OrM0r1eN8/YGlurQ+93j/9TsnyZn/ePzrP9MM8w98/jvRYMOWf3j9bH2cAMQ3gP1nm4fYQbd8/SExzKdsz4D9tAyH5R2ngP6sITIE8qeA/lPNqOGfX4D/lHVPTPxbhP4JZcvkP/eA/ntg+eawm4T+y1zK6yX3hP2OZORxyAOE/0r7zZMv94D+3HI6daSbjPw5ukPh2G+M/fF0V7SFK4T9G3Gbon+ThP0YYMsQMQeA/EfzUBMwy4T+xUboLPpjhP5VuEK7Ek+A/",
          "dtype": "f8"
         },
         "y": {
          "bdata": "FC+JkR9Mwz82bQT6HJDGP8XDpTH09b4/NYwEgYLjvD9PF/7rIlzCP1pgOJqYjcQ/tD1FtVwowT9sWu/DQHfAP1TWO2tbZMI/ZsS8mSmewD8KQRgKQBTCP4X9IqguYsE/BbcdImdywT/vJfmmF0W/P69CYh/H9b8/FDkQCEXNvj+iFRtQgxLAP71jkmP4FMA/CoFIbwt+wD+TDWu3WRzBP67e+3eTDL8/ze9dEjp9vD8/2poqray8P6no3d7CkL4/eU7sk553wD9kdYMXDta6P71NZn5pJbk/G2mte0cvwD/9wRgD+JvFP2BOLDHv6sU/z5aOBWQ+xT+BjdGYhxXEP+05x9HBdr4/ziFYrcfgxT8fzySN6pDFP4DDM1tlpMI/tso5xEJvyD/BVuShuh/HP5kGnHPe+sU/SjI8Ga8rxj/+4h4S8Eq7P/p4IW23mMY/25ieedRtwz8X6ry7nP7GP7Kgs07fbcE/X2tn2XWAxz+n0S3pzOPDP4Cd6PHN8r8/WpHbOVhRxD+3tRUV4SW6P2rouOO0xsE/Pr1GklnexT9mkyQWKUPGP0lsjfRbuLg/",
          "dtype": "f8"
         },
         "z": {
          "bdata": "nL7gpe1v4z9Zh5CxdC7kP2Lx73cXv+M/DqpsaQYx5D9uXrtW127jP1fp6GPMceM/9tIpnQiN4j9NErNELr7iPzrAA4MGduQ/XkIwWRHS4j/LJl15gRPkP+wWPeaT9uU/Ypl+nO6j5D9n9i3DclXjP+CKdKceZeY/lMS0C5pM5j9d49bLtajlP6NCfNERx+M/4S0h7LLC4j8T609wcQ3nP2Ke24s8o+M/gMHyO0Dr4z+3psNizdzlP6PQxQZtB+Y/GphEv89m5T+1mY1brJPmPxA2xg17T+I/UBmmsvgK5D+OP7pbsjTlP9zO1uE/FuU/X4MYEGqI5T/fvoB1iULlP5rW2MmFUOQ/CRAA3qRw5D/iMxUHk2blPzXm1kLaAeY/ihFHZ36D5T+PFGKvZoblPwP423c52eM/eYCpXqjl4T+0TGNf38fjPxLiJ7fFRuU/D3gktjWU5D+QCtUhxZfkPxeEaEZsKuY/fDAA2OB85j8MQTeY3HLkPxG/CsVyOOM/JAeq0rrh5D9EyAVFpPTkP6OdIG2iz+I/Pqq9nDZ/5D8X55OrmlTkP0GHY2CDN+I/",
          "dtype": "f8"
         }
        },
        {
         "marker": {
          "color": "rgb(152,78,163)",
          "opacity": 0.8,
          "size": 6
         },
         "mode": "markers",
         "name": "Cluster 3",
         "type": "scatter3d",
         "x": {
          "bdata": "DM55kdcd3D/7qeCi7tvbP9KeYVMb3to/lTPxnmYn3T/PAws0lBrdP3FDKm015dw/8MQV1/PO3D+/HENDio/bPxE3I2Uukds/Ki/klAud3T/yq4Q3+XHbP8CN7yrJwdo/IoyGmrd+2T8/+hFePVzbP3UzGyoAAt0/1WxRVELP3T99LrOLnXTdP3XcJCA5cdo/8g/MOsmv2D+DWD/09ofZP6/3T7f2zNs/aVS7xprN2z9kRurvjprbP3MihbmffNs/NaLlTzhq2z9hWc3mxJbYP0rmRV08MNs/DdYLI1jo2j/T4vpXjrXbP2D3xGVC2tg/OvztoZE42z97FWBKoMLbP2UHkZtJstk/CzjrSfoO2T/UljCQBwbbP+n0kaRek9s/8rIk5C8B3D/De5+6/MDbP1SJFrC4vtg/euYj5P2P2z/HUzUbJoLYPy7112AhiNk/3zBJnYit2D8RXWGXRrfaP62OjBS97dk/tSnu+fKy2T81JkiAzz3cP0K7+thSlNw/jAP561Fw3D8Tj64QL2PcP+LTgrI6Ztw/OcAJiW2m2j+B13iTTcfZP2aclgZUzNs/9C169jBR2T/V1KnEexrcP6Nbxo3Gi9k/NUNZz6452j9VpXM+WfrZP3rQHZ+O39k/cu9lQAPp2z8hPIXWpnnaPw==",
          "dtype": "f8"
         },
         "y": {
          "bdata": "j+TfoPq2vT9+ScjRV/G6P8ueaLkcncY/w3atIjUyvj+uMZd8f3C/P2KYbaHOG74/t27572iovT9rO1Fc9jS/P4TF5PTuarg/hVWMHP7PuD+PiycMrHO3P+EYE2shMbc/UniImmJCtz9KeRxcJve3Pw/qISgCm7g/b5DjcTKwtz9G6KXjkeC3P8GORMR+Jbs/sXfcpgTQtz+DW3i1AKe2P9A8YOV4cbg/fDRNvVkYtz+Tm92Hxiu3P5Sf4+N3Tbc/8E0Hla42tz9sKxrDmjy4P90Egi88mLc/TLEV591ntz9yZTTO9jC3P4sUJfSscrg/gMPj7N1AuD/KgfZECem3P9m6q540ULc/8dLFAuksuD/FUqw7NzK3P+S6gV6ehrc/1rK9jPm1tz9Gi7HLI6S4P2RxPZgxMLk/vCy0dIWtuj8ZB3BKEki4P7/UzhZLYbo/bjOoC1AcuT+E0FHhVtS3Pw+IIJiLArs/jrJdFpgiuj9GC6JZPUG6P6JWS6rnBLs/u7mnX50Uuz9Ru8MY2Zq7P/zGrBCw5ro/F6rXGDNVuz/7AU1R5u66PykMAnVPd7o/OxxJ8pmzvj9qa0j/pHfBP48UiSRXtb8/BpPfGVJjwj9ewkGwcLDAP+0g4lR81cA/Mb35yZCGvj+BPT27HtDDPw==",
          "dtype": "f8"
         },
         "z": {
          "bdata": "rV25xcAU5D+e0Ahj4P/jP4TcJLBThOM/LiVHFuvU4j8r4uaCPWXiP0TyPfXyF+M/0YtfgZnI4j9jGGHZ2LHiPxlbOb4lceQ/XAfpf12h4z/xUetEOIDjP0NNB5DhVuQ/5IE8nsis5D8yJQEEcRXkP6N1xe2ORuQ/asbAhjgG4z8B5wzEfdnhP6Zp7tD0KOM/Llr5FpKD4z+zz+xkTv/gPyk4l/v1JOE/DaKL7WFk4T9LQTHVbB7hP/ajYJ1pOOE/7cV79a2i4j8usqYAd5fjP9UPTD/Tk+I/PmDyLWJK4z8Sp7W/RJzjPx0G4h8EPOQ/Pk/u4tj84j+wx/GqvF/kP7Uqcekk+eM/pfFuC2Bd4z9VXRhwodbjP1IOOsfiAOM/x+F+f3MX4z+0XjjDuxLiP+qHoFVx5d8/wqFTiBZj4D8CcmQ/4CThPwl10Pm8OOE/EYgXDGyD4T9TnauI9k3iP8S5MjjN3uA/vdFZP2BZ4j8BmASob33hPx4WGN8JqOE/x/K4m0vV4j8LdWrUzqbiP/pWwUVkqOE/29A+vatG4j98vnuFidLhP4nUuUfB8+I/MuuFoqGq4z8j31Y/gMfjPzD95veLMuM/kpdZVZfU4T9Dd8n7WhriP1MGBv1gVeI/jrOX2zLJ4z99yVAMUm/jPw==",
          "dtype": "f8"
         }
        },
        {
         "marker": {
          "color": "rgb(255,127,0)",
          "opacity": 0.8,
          "size": 6
         },
         "mode": "markers",
         "name": "Cluster 4",
         "type": "scatter3d",
         "x": {
          "bdata": "d4pRjaHW3D83UxIl8GjdPydty0Y1KN0/XCMNw8f23D9Wse3NjCnfP108pXE5XOA/gdhJqFS94D/855mL7crfP+NdG+QW0eA/t3P4BjR34D+zAT/97crgPziLJx9uoOA/n3+9qTpn4T/doMAFaT/iP7/5BKZnveE/XjBb7Ofl4D/Xtam1IO/gP9Fh+XS4W+E/mb6nLO+I4D897AXZKY/fPxGYNEt3zuE/hat51Reb3z9gpZjDpF3iPwyHXp41HeI/jI/kh+cO4j9hlZSCP4fhP3OnTGPKBuE/Jv+sIKOa4T9k5MgOaGbjP0aD0IvvBOQ/",
          "dtype": "f8"
         },
         "y": {
          "bdata": "5lzI+TwG0D+zIkLtipnLP/yThw0xw84/GlRdZHmY0T/Wx4JcvcfRPyxA2oczn9E/ST3CCU5o0j8AqtS4IPbMP1aqjZ5NS9M/6a6vS8xG0j9H5JRc8K7SP/FP47fgUNM/YuiCaips0z/P6bkRK+fQP16ReTghU80/l3129F3Jzz+AM6uUq+HVP9PlZDtUFdM/Ldf84kQb1z8p5565qxXSP1MgcGkjF9I/hgRv8/eDzz/ePIrly2/OP6m2j4YEi84/iZQpghEhzD9xzRFvG8XPP/nLBgFHmM4/RXFOf1aZ0D+iv4JotDnNP+S+xVXUAdA/",
          "dtype": "f8"
         },
         "z": {
          "bdata": "S3lyRInj3j/+/OxohBfgP1HYa20oZuE/grx6Po2d4z8Oi9QDPWHiP9+8mte+JuA/d7x6PHDl3D9KMNflX6HcP63c1ueHueA/icowXyzC4D9ADLspvb7fP6sxFwqMfuE/OYT/z5464D8WAuiOjGfbPx24aX7AbeA/k8V81VsN4D/mXbOvT4HcP9EBJxmUud0/N8TsgD+h2T+0lsFXXsrZP35buB8MN94/ZepeqCnZ3z/iN1O6ScvgP1/WxvzdHN0/bqYcuKIS4j9ysVc32abcPwMMqyMZD98/vXfAA9vC2z+U8dU7NXLaP0Oo4q/HiNo/",
          "dtype": "f8"
         }
        },
        {
         "marker": {
          "color": "rgb(255,255,51)",
          "opacity": 0.8,
          "size": 6
         },
         "mode": "markers",
         "name": "Cluster 5",
         "type": "scatter3d",
         "x": {
          "bdata": "fR2Msz+n2j83W1QDgcrdPydBjGMjvtw/DiQtqDFv3D8NOSRz3ZrbP5eHz3Vfcts/lZRbs9052j+rnkcUff/ZP1CDSyjbQds/DU+/dBIS3T8jxN9us3nZPzcyTYebPNk/JD6k/3lH2z8dvII7lTHaP18yEPjqVds/VeyvEk8E3D9WjdUTpTPYPzEk+BfO8tk/EwG/zyhz2T+1zMCQuVraP1rd24KI4tg/N+rbj8Li2z8L4HyDBoPYP4XHq8nr3dk/tlQV9Op/3T81hGPORr/ZP94FwfXhVN0/3Q9Iy4Fs3D8RPodd5lfZP0/SriokMNk/i64qKiHJ2D/5U+At6pvbPzbroTqWJ9s/HkfBAasc2j9ia31gOG/ZP6J/wZJBi9k/o9IsPRZI2z8yAMEpC2vbP0vIoizGptk/47dFQyKu2T/Kp6YEZrHZPw7k4061p9k/I4pupw1K2T/qq9UJlNLXP451sPKXftg/+YUT9xfP2D8npiIfx4fZP2RNZV274to/20lnNO6W3D+RNrhX6XXcP2mE8aEYtts/sW0xpUnj3D8=",
          "dtype": "f8"
         },
         "y": {
          "bdata": "ZkMigoX0wT8rnr5fLpm9P0FaqfL6EsA/OwsBaQJKvD8uBoPgXkO6P/px/Oa3Y8A/dw7w3X30uz+J77hFyjC6P/eh7MuBq8A/4Bo6vGeJuj/x+RF7be64P/MkIYgZjrg/nM0ln2ikuD/AuaTP7bq4P99AGEstoLc/lsm4fG7PuD82Pdxyyn22P/Zo3E/BGrg/iQGJHOp0uD818OHfbSS4P4nWTeXAybc/v/8IX9FpuD9JLO8jDhC4P9cVzpZMDLg/PiQ7suWEuD87j69Wt9e3P4Au9YnPtrc/cl2rDCcLtz+dUSXW3R24Pz5We75Kerg/WlZJOK6nvz/7rxAJfUG+P0bU2btxJrk/CpAndQqIuz9Z4POvl0fFP1XiZOD0/cM/bRDvCLIvwz/sKqJAz4q9P8BmQelgk7w/kwA+Lupvwz9gLgY6aWq+PznNqvCZD8A/y8TdJZe/tz+5kvRocvq3P+T0imURsb0/KQQFsiwiuj8jZv9/tdK6P8NMI5gK1sM/+pqNMPU7xT/TavZCTrS9P5WEUVMi8cU/JFEkdGoCxj8=",
          "dtype": "f8"
         },
         "z": {
          "bdata": "uo3dnRoq5D96SVOhVvXkP/9P+22mPeY/RRRMUzAu5z+VDHOZdtjmP4bOVB1OYuc/whmmJwvo5j/0LT90GTXnP4CyZzDEJOg/lTg/PT0C5z8fDoa+B33nP+sazIM3gOY/VUyG8V0T5z/jE+NTBGbnP/qYngdqV+U/4a78jvn85T9qI7DJ/t7lP+aHJcoq0Oc/bjS+1uAO5z/Paob7iWnkPyN5Y4DjT+U/wJ0jS0RA5T9kI7PsxFPnP8sJoc8IGuc/RQSuaz/V5T9TN9TCft7mP3U53zkRp+U/Vn4f+SR85T+3kc/V/0fmP70qBDqD3eU/o4jG6Yau5D8X3qYxxvPkP/UN5UlF3+Y/TwZ3h6Jd5z/3rrZTP3nmP+2lbFpbpOQ/UzbghrZ45D9lQztE1NDlP4Et+ySTU+U/nSKetWBq5T9tQP1lTl3mP/pCPnID3OY/3LNVZhtQ5j91H+cqQjXlP9ag58XDS+c/TvD99GyJ5z/8tdrx6f7nPz7rcM1jqOc/9wVwPVix5j/XI5ShCaHnP8/cQZDUC+c/ilBvW6tr5j8=",
          "dtype": "f8"
         }
        },
        {
         "marker": {
          "color": "rgb(166,86,40)",
          "opacity": 0.8,
          "size": 6
         },
         "mode": "markers",
         "name": "Cluster 6",
         "type": "scatter3d",
         "x": {
          "bdata": "LgSyJo4+3T8lTNlNKZriP+AdThCdxOI/3+850DA84T/rbbLknJLfP0ATKgJEOOI/1lKqolJy4j+FE0qfbI7hPz4e82M1oN8/J+QbeKWo4j/6UWEp4WrjPzEYevgUW+M/hZfp84vY4z8s8/yNOnviPyQ4ooDMKeI/QIKroWNz4j852VmmKU/hP5YETQfvRuI/xOeEoTPX4j/anMad7QnkPznJDgxVFeM/ncewJiiX4z/yxPnmTPPiPze3Cd9iveM/q4sgSPKv4j+HQ1ZbRMbiP6CCsbp6guM/5FGDyNQS4j80F/Fuz/fhP3Z6XJ3gYeI/EzSfyYbw4T/ycwpWzmziP5vtpYxKEuM/5aecP9Oe4T8/1wodVDriPwLVNj5+l+I/+z6dM+wb4T8L+xAmmVjgP598wntsFOA/AWOnX8bv3z8AT+NHcWHdP6YZQe1COtw/Rv+i+Dzs3T89u+ponKLdP8X+zH7cK+E/DQqNwEK44D8jZl/v71fhP+MJMZhKNuE/GhP2S3nv4D/66BdcNzriPyXzI895puI/8yXhzq3m4T/laDBBXIfiP+SZtEnaEOM/AhoNFlnm4j8luOGUIlXiPzwiPVvoQuE/YVt6/pc24T+8qNkt0InhPxWL+tu4teE/6vY6ZG8f4j/jEg3lCQvjPz+xdG/32+M/r//dJX5D5D/8MGNSOsfkP2kOD5FVWeQ/Ow65h5fl4j8sQZl1pnbiP9li2QCyIuM/J4CobflY4z8wERo6W9bjP1dC7003mOQ/ELRcRSEO4z+a4LVFGWHiP+lGZC9QJOM/0b1vqHrM4j83INKbKjbhP0zEwLukHuE/QevDL98m4j8bsfJa/5/iP5AERNG/pOE/t0icJoPW4T8JCUxifkjiP9sbAQDbiOI/3o+koCzi4T91DNl018ngP12BT5rumuA/WeefAzwI4D8V+OLPAgbgP13WmUu0fOA/TiYXth4L4T8k87UHJV3fPzSzCLgDfN8/",
          "dtype": "f8"
         },
         "y": {
          "bdata": "bM7/pQ4jyT8t2fFOOvPLP82ER00LxMs/LSHmSwHqyD8FPsU3o1DDP/La+h+xK8o/rgfWSk16yj9/UW/2qNfKPxErZc3wh70/QsJwnsnKwj/8AP1Xlq/LPzbn5CilB8o/N4I3yxQYxz9QJXGr1zDHP7eQQ/Ufo8k/ymwYxJcGxj+JeyNfdmvKP1lO1FtbuMg/i2CJIRumyj/cp1DLxJXFP8MsuqykhcQ/9qIeghrfvT/9EIEnTwbMPzJfoX1xjsY/0jLQB5GmuT8TA6spuTXGP6uqH6NxOMQ/mtRhvMb8uT/HyDW6KTu6P6ExBJC6XLo/cx4nhViBuj/mLTiJiwm6P1Veatu0j7s/bYBm7Nalwz8Cd0y63BDCP7FwDj59q8I/H1S+zSUxvz8VcAYkgrO/P4Ztoij4A78/BiAFdNMfvj9uGjtTDM+/P/xqVJsGx8M/1gLraIWhxD8+sgrGXSq7P8TOkS+QzcQ/1wJgEz1Cyj/jSsO58uPHPwVP6/j8X8Y/wg/zJES6vj/cH5/YX9PCPw3esv5o8sY/zCtaAyhNxj8GaAoN1rbEPyU+DRPPIsk/E6Oej85Fxz+rSz82nn3GP4PqciVPLcI/08IPiSZPxT+snGP73AbHP3Bq6OR5p8Y/e64VftWlxD+O1AP5WjTKPxuAkvTA28c/mfZN8YkIxj9+ijUuPbXIP95QA/sFd8Q/hl4S5E+cxT/X3NS5PTvJP2WX1xzMPMY/Q23oKiQxxj9pqPGfgibIPypdOx2im8c/LHTble3rxj+BVdiJKLPDPyc0ahpHtcA/VPY4ntefxD8jnV9C4DzEP1CDEYZ0ksQ/gQTwLSoixD+uAGoKaLLGPyaIFxOwPsU/v1RnCMQzvz9S4+SxEwLDP5Dn+R1x7MQ/2w4YkDifvT/mulyYGNPEP0JJZmV+E78/jFSOuyoaxD9xBJrek1HDPwOVOZcRe8Q/EhrUYaXBwj82rk97DAq8P8rCjGp2UMA/",
          "dtype": "f8"
         },
         "z": {
          "bdata": "5yCd2wIy3z82J+evJ+vgP+aOqBobeeE/7vGBsY/u4D+8+KF49ajhP9oogUCXuuI/QVO+Zsob4T9qWr+auBbhP1sCLL12leI/kSHcVP9J4T/9+vDiF33gPyy/sRhrbOA/UcR5GOxG4T8fTXeeTorhP1JzPgXeUuM/UXKvHx/s4D87OI3BmxXgPyMLKiBcMOI/QTJDrzNQ4T/WCzSGSffgPxJW3jeend8/7VIrA8u83j8l4DgIgH3hPxMDuS5XG98/L8tBw4VQ3z/Z7VEOAMffP+TJDUUYHd8/zflYcuA04T+OK0QS4wfgP2YBaqvKEd8/+62OUa7D3j8KIrOyhJHfP2UQTTNtmeA/VNJvVc2S4j9RyaUTVpfiPwPsBxPJoOE/RlL9IeO/4T8MST1B7JLgPxmhV4/ufOA/S8Fwy9Pf4D+Kh/jmprrgP434UBYlVeE/hGCEPJ6u4T+wsa9aeoPiP1+3llJDP+I/8GwBPGVh4T8P2otROb/gP80vszQOOOA/b4K3bMUs4T+l0hK0UobiPzkMG9L+tOE/1kMzO10i4T+kK4NtIz3iPzGWCdAh+OE/ZZ31hznX4D+caMzW02fhP+7x6IMekuA/yz9QXry+4T/BVw+oANzhPyeZF3opreE/dd+HwB1w4T/Tnfp/vKbhPz1zffYmE+I/oUYENuZN4j+RYcudAy/hP8oNZsYCAOI/qdrnCj7s4D8ddYjmXyPgP71jBlZth94/dmrmdnLc4D8ldl7v2afhP+mk1lnLf+E/aX4FDaCZ3z8+Z0/EZD7eP7vuAl1DzOE/a1egfiNR4j83AAH3c3DhP90FBvUNJuA/H0NZSTDg4D/nrIPCC2XhP7upStM3juE/oixz+aV/4T+UWlqSy2XhP9ISNOz3eeE/Xv+tbY1Q4D8hbwAqlV3hP9VwMalzi+A/suh3qBV04D8UCTYLIwPfP+VtQoEXC98/FYumaT/Z3z9r0cM8X+jgP41H3a7NquE/",
          "dtype": "f8"
         }
        },
        {
         "marker": {
          "color": "rgb(247,129,191)",
          "opacity": 0.8,
          "size": 6
         },
         "mode": "markers",
         "name": "Cluster 7",
         "type": "scatter3d",
         "x": {
          "bdata": "asYrToqh4D+eq1b5tCnfP3+KgwLn0d4/zLIvb+xP2z9eHkrgj77YP9XxTbMhvNo/kXxt9GH91z90sVbfv1/cP2QlCC92qeA/qcl3r5oP4D9KC586K6zdPwzCh37cIOE//RiXIKTl4D9txVfKPq7fP8zNqIjzON0/Ly2IQ1Ki3T8iGsLJXq/dPzCjyzmH39s/bBghRSYr3z/SYqOoWS3gPx50kanX994/h4GrkxGH2z+sf8Ie4C/dP/yh8mw8W+A/lCNJms9i4D92p1qbt5rgPy8a5w7EuOA/sMIUhmHc3j9bDtAOthXfP4//jHFy69s/tiK4sGYF3D8+2X+Uv3zcP705efFmf90/ZiPdCg+u3D/ywG7ICzPcPwyTXQOaLNg/5EceGLex2D9Q7yhNsbLYPw/8FjEGxdg/A945BQum2D/UIQOesJnZP5eTvyewpdk/b4gwLjSG2z9jMeokSEbcPwtqfLFr19s/vzFYaHUf3D9SEh5pSGbcP6Ce0dXKBNw/U+knLfx+3T8h/CWeprXeP1rKwME+Y9s/T0/KvL+c3T8cVtEg1OnaP8nH1/vaMN0/",
          "dtype": "f8"
         },
         "y": {
          "bdata": "3cv4c9xqwD+g3/naB1G3PzKGBz0PTLg/GQQPk5W+tz/Gb2owMei2P7xAE7rBYrc/mdrKD7aItj/p/QP5OkG3PwDme37Murc/tcAqlZI8uD9pGQPnGfy4PwHO26zJArg/LRQepWQSuD/H+NGRDvS2Pye9wF0jzrc/8rwB/vbntz8fMJZZ3Dq4PxKfGmBNwLY/mwwnvgYVtz9DGsTIki23P2fmR1sPbbg/Hj7/rJYjuD/xKlZLsy64PwoC/Vcesrg/HbvlU05luD+pQHZqxme4P0sOanrCWLg/7opxCsjYuD/idOFWCG64PwfkaWhkebg/sWzpNMuvuD98encGEBG5P4ZR/qv2ybg/PluU3VXQuD+6cvbpEqi4P4GX1rBr1rg/TQopAMXiuT8PDQFh3MO4Px0oiO4hoLg/u2EogjGOuD/Zvg0IXnW5P8G3zoQ/+bg/CSjME1DsuD8JFFEqBbW5PyRZoQz02bk/WoxIk5LyuD+yjpRVnWG6P2bfpUMvMLk/RIn06ExZuD+7B5tmaY66Pz3aQBZJUbo/vr4ixS7auj9nnPOvS3q4P3NUpiyCe7k/",
          "dtype": "f8"
         },
         "z": {
          "bdata": "QykadmGs3D87v7cGFNnePzy3ZpSp9ds/C2uUa+243D+LuKkXnjfcPxFVdr5Db94/SUAjrJi53j9aios3yjLeP3TuV5jGhN0/+UWSlEUI3z9PKC/cKA/fPyOwox/93ts/dnADouaF2D8fNst6banYP9kXamBf69o/eTTaknPx2j/UPo1S0d7bP1lqaW2P0Nk/TvXGxQSU1z+tyw9+4oDYP2mV73nzztg/wPI8uqsp2j/tXVfDH/3aP9cfJEMimNo/fg2tzQZb2j8lAq4i17fYP2ev0C7pUdc/6nXMSIEZ2z8E3xezgtTaP/ye9DCZY9k/qsO0hRtF1z8wT/ERbnPVPxvN45b0WNY/NJi9c/oG1j9j651JqQLWP8xQ/C5Cado/hlLnbinw2D9Zlmnq4HXYPzNIIWnYg9g/prPSEFUy2D/HZoQ14RfZPzt6KWWaLtw/gPr+OaTa3D8ka1brSIDcP8G/NtY6A9w/az4pI7RT2z//OIwJaKPbP8mTe5NfKdw/jycb9kdK3D8+FfEAdhbcP1Y5NWc7d9w/YxvMGfhC2j/6aLTL6WDeP2aHI/Vz298/",
          "dtype": "f8"
         }
        }
       ],
       "layout": {
        "height": 800,
        "margin": {
         "b": 0,
         "l": 0,
         "r": 0,
         "t": 40
        },
        "scene": {
         "xaxis": {
          "title": {
           "text": "Feature 1 (mean)"
          }
         },
         "yaxis": {
          "title": {
           "text": "Feature 2 (mean)"
          }
         },
         "zaxis": {
          "title": {
           "text": "Feature 3 (mean)"
          }
         }
        },
        "template": {
         "data": {
          "bar": [
           {
            "error_x": {
             "color": "#2a3f5f"
            },
            "error_y": {
             "color": "#2a3f5f"
            },
            "marker": {
             "line": {
              "color": "#E5ECF6",
              "width": 0.5
             },
             "pattern": {
              "fillmode": "overlay",
              "size": 10,
              "solidity": 0.2
             }
            },
            "type": "bar"
           }
          ],
          "barpolar": [
           {
            "marker": {
             "line": {
              "color": "#E5ECF6",
              "width": 0.5
             },
             "pattern": {
              "fillmode": "overlay",
              "size": 10,
              "solidity": 0.2
             }
            },
            "type": "barpolar"
           }
          ],
          "carpet": [
           {
            "aaxis": {
             "endlinecolor": "#2a3f5f",
             "gridcolor": "white",
             "linecolor": "white",
             "minorgridcolor": "white",
             "startlinecolor": "#2a3f5f"
            },
            "baxis": {
             "endlinecolor": "#2a3f5f",
             "gridcolor": "white",
             "linecolor": "white",
             "minorgridcolor": "white",
             "startlinecolor": "#2a3f5f"
            },
            "type": "carpet"
           }
          ],
          "choropleth": [
           {
            "colorbar": {
             "outlinewidth": 0,
             "ticks": ""
            },
            "type": "choropleth"
           }
          ],
          "contour": [
           {
            "colorbar": {
             "outlinewidth": 0,
             "ticks": ""
            },
            "colorscale": [
             [
              0,
              "#0d0887"
             ],
             [
              0.1111111111111111,
              "#46039f"
             ],
             [
              0.2222222222222222,
              "#7201a8"
             ],
             [
              0.3333333333333333,
              "#9c179e"
             ],
             [
              0.4444444444444444,
              "#bd3786"
             ],
             [
              0.5555555555555556,
              "#d8576b"
             ],
             [
              0.6666666666666666,
              "#ed7953"
             ],
             [
              0.7777777777777778,
              "#fb9f3a"
             ],
             [
              0.8888888888888888,
              "#fdca26"
             ],
             [
              1,
              "#f0f921"
             ]
            ],
            "type": "contour"
           }
          ],
          "contourcarpet": [
           {
            "colorbar": {
             "outlinewidth": 0,
             "ticks": ""
            },
            "type": "contourcarpet"
           }
          ],
          "heatmap": [
           {
            "colorbar": {
             "outlinewidth": 0,
             "ticks": ""
            },
            "colorscale": [
             [
              0,
              "#0d0887"
             ],
             [
              0.1111111111111111,
              "#46039f"
             ],
             [
              0.2222222222222222,
              "#7201a8"
             ],
             [
              0.3333333333333333,
              "#9c179e"
             ],
             [
              0.4444444444444444,
              "#bd3786"
             ],
             [
              0.5555555555555556,
              "#d8576b"
             ],
             [
              0.6666666666666666,
              "#ed7953"
             ],
             [
              0.7777777777777778,
              "#fb9f3a"
             ],
             [
              0.8888888888888888,
              "#fdca26"
             ],
             [
              1,
              "#f0f921"
             ]
            ],
            "type": "heatmap"
           }
          ],
          "histogram": [
           {
            "marker": {
             "pattern": {
              "fillmode": "overlay",
              "size": 10,
              "solidity": 0.2
             }
            },
            "type": "histogram"
           }
          ],
          "histogram2d": [
           {
            "colorbar": {
             "outlinewidth": 0,
             "ticks": ""
            },
            "colorscale": [
             [
              0,
              "#0d0887"
             ],
             [
              0.1111111111111111,
              "#46039f"
             ],
             [
              0.2222222222222222,
              "#7201a8"
             ],
             [
              0.3333333333333333,
              "#9c179e"
             ],
             [
              0.4444444444444444,
              "#bd3786"
             ],
             [
              0.5555555555555556,
              "#d8576b"
             ],
             [
              0.6666666666666666,
              "#ed7953"
             ],
             [
              0.7777777777777778,
              "#fb9f3a"
             ],
             [
              0.8888888888888888,
              "#fdca26"
             ],
             [
              1,
              "#f0f921"
             ]
            ],
            "type": "histogram2d"
           }
          ],
          "histogram2dcontour": [
           {
            "colorbar": {
             "outlinewidth": 0,
             "ticks": ""
            },
            "colorscale": [
             [
              0,
              "#0d0887"
             ],
             [
              0.1111111111111111,
              "#46039f"
             ],
             [
              0.2222222222222222,
              "#7201a8"
             ],
             [
              0.3333333333333333,
              "#9c179e"
             ],
             [
              0.4444444444444444,
              "#bd3786"
             ],
             [
              0.5555555555555556,
              "#d8576b"
             ],
             [
              0.6666666666666666,
              "#ed7953"
             ],
             [
              0.7777777777777778,
              "#fb9f3a"
             ],
             [
              0.8888888888888888,
              "#fdca26"
             ],
             [
              1,
              "#f0f921"
             ]
            ],
            "type": "histogram2dcontour"
           }
          ],
          "mesh3d": [
           {
            "colorbar": {
             "outlinewidth": 0,
             "ticks": ""
            },
            "type": "mesh3d"
           }
          ],
          "parcoords": [
           {
            "line": {
             "colorbar": {
              "outlinewidth": 0,
              "ticks": ""
             }
            },
            "type": "parcoords"
           }
          ],
          "pie": [
           {
            "automargin": true,
            "type": "pie"
           }
          ],
          "scatter": [
           {
            "fillpattern": {
             "fillmode": "overlay",
             "size": 10,
             "solidity": 0.2
            },
            "type": "scatter"
           }
          ],
          "scatter3d": [
           {
            "line": {
             "colorbar": {
              "outlinewidth": 0,
              "ticks": ""
             }
            },
            "marker": {
             "colorbar": {
              "outlinewidth": 0,
              "ticks": ""
             }
            },
            "type": "scatter3d"
           }
          ],
          "scattercarpet": [
           {
            "marker": {
             "colorbar": {
              "outlinewidth": 0,
              "ticks": ""
             }
            },
            "type": "scattercarpet"
           }
          ],
          "scattergeo": [
           {
            "marker": {
             "colorbar": {
              "outlinewidth": 0,
              "ticks": ""
             }
            },
            "type": "scattergeo"
           }
          ],
          "scattergl": [
           {
            "marker": {
             "colorbar": {
              "outlinewidth": 0,
              "ticks": ""
             }
            },
            "type": "scattergl"
           }
          ],
          "scattermap": [
           {
            "marker": {
             "colorbar": {
              "outlinewidth": 0,
              "ticks": ""
             }
            },
            "type": "scattermap"
           }
          ],
          "scattermapbox": [
           {
            "marker": {
             "colorbar": {
              "outlinewidth": 0,
              "ticks": ""
             }
            },
            "type": "scattermapbox"
           }
          ],
          "scatterpolar": [
           {
            "marker": {
             "colorbar": {
              "outlinewidth": 0,
              "ticks": ""
             }
            },
            "type": "scatterpolar"
           }
          ],
          "scatterpolargl": [
           {
            "marker": {
             "colorbar": {
              "outlinewidth": 0,
              "ticks": ""
             }
            },
            "type": "scatterpolargl"
           }
          ],
          "scatterternary": [
           {
            "marker": {
             "colorbar": {
              "outlinewidth": 0,
              "ticks": ""
             }
            },
            "type": "scatterternary"
           }
          ],
          "surface": [
           {
            "colorbar": {
             "outlinewidth": 0,
             "ticks": ""
            },
            "colorscale": [
             [
              0,
              "#0d0887"
             ],
             [
              0.1111111111111111,
              "#46039f"
             ],
             [
              0.2222222222222222,
              "#7201a8"
             ],
             [
              0.3333333333333333,
              "#9c179e"
             ],
             [
              0.4444444444444444,
              "#bd3786"
             ],
             [
              0.5555555555555556,
              "#d8576b"
             ],
             [
              0.6666666666666666,
              "#ed7953"
             ],
             [
              0.7777777777777778,
              "#fb9f3a"
             ],
             [
              0.8888888888888888,
              "#fdca26"
             ],
             [
              1,
              "#f0f921"
             ]
            ],
            "type": "surface"
           }
          ],
          "table": [
           {
            "cells": {
             "fill": {
              "color": "#EBF0F8"
             },
             "line": {
              "color": "white"
             }
            },
            "header": {
             "fill": {
              "color": "#C8D4E3"
             },
             "line": {
              "color": "white"
             }
            },
            "type": "table"
           }
          ]
         },
         "layout": {
          "annotationdefaults": {
           "arrowcolor": "#2a3f5f",
           "arrowhead": 0,
           "arrowwidth": 1
          },
          "autotypenumbers": "strict",
          "coloraxis": {
           "colorbar": {
            "outlinewidth": 0,
            "ticks": ""
           }
          },
          "colorscale": {
           "diverging": [
            [
             0,
             "#8e0152"
            ],
            [
             0.1,
             "#c51b7d"
            ],
            [
             0.2,
             "#de77ae"
            ],
            [
             0.3,
             "#f1b6da"
            ],
            [
             0.4,
             "#fde0ef"
            ],
            [
             0.5,
             "#f7f7f7"
            ],
            [
             0.6,
             "#e6f5d0"
            ],
            [
             0.7,
             "#b8e186"
            ],
            [
             0.8,
             "#7fbc41"
            ],
            [
             0.9,
             "#4d9221"
            ],
            [
             1,
             "#276419"
            ]
           ],
           "sequential": [
            [
             0,
             "#0d0887"
            ],
            [
             0.1111111111111111,
             "#46039f"
            ],
            [
             0.2222222222222222,
             "#7201a8"
            ],
            [
             0.3333333333333333,
             "#9c179e"
            ],
            [
             0.4444444444444444,
             "#bd3786"
            ],
            [
             0.5555555555555556,
             "#d8576b"
            ],
            [
             0.6666666666666666,
             "#ed7953"
            ],
            [
             0.7777777777777778,
             "#fb9f3a"
            ],
            [
             0.8888888888888888,
             "#fdca26"
            ],
            [
             1,
             "#f0f921"
            ]
           ],
           "sequentialminus": [
            [
             0,
             "#0d0887"
            ],
            [
             0.1111111111111111,
             "#46039f"
            ],
            [
             0.2222222222222222,
             "#7201a8"
            ],
            [
             0.3333333333333333,
             "#9c179e"
            ],
            [
             0.4444444444444444,
             "#bd3786"
            ],
            [
             0.5555555555555556,
             "#d8576b"
            ],
            [
             0.6666666666666666,
             "#ed7953"
            ],
            [
             0.7777777777777778,
             "#fb9f3a"
            ],
            [
             0.8888888888888888,
             "#fdca26"
            ],
            [
             1,
             "#f0f921"
            ]
           ]
          },
          "colorway": [
           "#636efa",
           "#EF553B",
           "#00cc96",
           "#ab63fa",
           "#FFA15A",
           "#19d3f3",
           "#FF6692",
           "#B6E880",
           "#FF97FF",
           "#FECB52"
          ],
          "font": {
           "color": "#2a3f5f"
          },
          "geo": {
           "bgcolor": "white",
           "lakecolor": "white",
           "landcolor": "#E5ECF6",
           "showlakes": true,
           "showland": true,
           "subunitcolor": "white"
          },
          "hoverlabel": {
           "align": "left"
          },
          "hovermode": "closest",
          "mapbox": {
           "style": "light"
          },
          "paper_bgcolor": "white",
          "plot_bgcolor": "#E5ECF6",
          "polar": {
           "angularaxis": {
            "gridcolor": "white",
            "linecolor": "white",
            "ticks": ""
           },
           "bgcolor": "#E5ECF6",
           "radialaxis": {
            "gridcolor": "white",
            "linecolor": "white",
            "ticks": ""
           }
          },
          "scene": {
           "xaxis": {
            "backgroundcolor": "#E5ECF6",
            "gridcolor": "white",
            "gridwidth": 2,
            "linecolor": "white",
            "showbackground": true,
            "ticks": "",
            "zerolinecolor": "white"
           },
           "yaxis": {
            "backgroundcolor": "#E5ECF6",
            "gridcolor": "white",
            "gridwidth": 2,
            "linecolor": "white",
            "showbackground": true,
            "ticks": "",
            "zerolinecolor": "white"
           },
           "zaxis": {
            "backgroundcolor": "#E5ECF6",
            "gridcolor": "white",
            "gridwidth": 2,
            "linecolor": "white",
            "showbackground": true,
            "ticks": "",
            "zerolinecolor": "white"
           }
          },
          "shapedefaults": {
           "line": {
            "color": "#2a3f5f"
           }
          },
          "ternary": {
           "aaxis": {
            "gridcolor": "white",
            "linecolor": "white",
            "ticks": ""
           },
           "baxis": {
            "gridcolor": "white",
            "linecolor": "white",
            "ticks": ""
           },
           "bgcolor": "#E5ECF6",
           "caxis": {
            "gridcolor": "white",
            "linecolor": "white",
            "ticks": ""
           }
          },
          "title": {
           "x": 0.05
          },
          "xaxis": {
           "automargin": true,
           "gridcolor": "white",
           "linecolor": "white",
           "ticks": "",
           "title": {
            "standoff": 15
           },
           "zerolinecolor": "white",
           "zerolinewidth": 2
          },
          "yaxis": {
           "automargin": true,
           "gridcolor": "white",
           "linecolor": "white",
           "ticks": "",
           "title": {
            "standoff": 15
           },
           "zerolinecolor": "white",
           "zerolinewidth": 2
          }
         }
        },
        "width": 1200
       }
      }
     },
     "metadata": {},
     "output_type": "display_data"
    }
   ],
   "source": [
    "colors = px.colors.qualitative.Set1 + px.colors.qualitative.Set2 + px.colors.qualitative.Set3\n",
    "fig = go.Figure()\n",
    "\n",
    "unique_clusters = np.unique(labels)\n",
    "for i, cluster in enumerate(unique_clusters):\n",
    "    cluster_points = X_3d[labels == cluster]\n",
    "    \n",
    "    fig.add_trace(go.Scatter3d(\n",
    "        x=cluster_points[:, 0],\n",
    "        y=cluster_points[:, 1],\n",
    "        z=cluster_points[:, 2],\n",
    "        mode='markers',\n",
    "        marker=dict(size=6, color=colors[i % len(colors)], opacity=0.8),\n",
    "        name=f'Cluster {cluster}'\n",
    "    ))\n",
    "\n",
    "# 🔧 Cấu hình hiển thị\n",
    "fig.update_layout(\n",
    "    scene=dict(\n",
    "        xaxis_title='Feature 1 (mean)',\n",
    "        yaxis_title='Feature 2 (mean)',\n",
    "        zaxis_title='Feature 3 (mean)',\n",
    "    ),\n",
    "    margin=dict(l=0, r=0, b=0, t=40),\n",
    "    width=1200,\n",
    "    height=800\n",
    ")\n",
    "\n",
    "fig.show()"
   ]
  }
 ],
 "metadata": {
  "kernelspec": {
   "display_name": "cluster",
   "language": "python",
   "name": "python3"
  },
  "language_info": {
   "codemirror_mode": {
    "name": "ipython",
    "version": 3
   },
   "file_extension": ".py",
   "mimetype": "text/x-python",
   "name": "python",
   "nbconvert_exporter": "python",
   "pygments_lexer": "ipython3",
   "version": "3.11.11"
  }
 },
 "nbformat": 4,
 "nbformat_minor": 2
}
