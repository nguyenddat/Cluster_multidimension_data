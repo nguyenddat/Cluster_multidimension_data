{
 "cells": [
  {
   "cell_type": "code",
   "execution_count": 1,
   "metadata": {},
   "outputs": [],
   "source": [
    "import torch\n",
    "import numpy as np\n",
    "import pandas as pd\n",
    "import matplotlib.pyplot as plt\n",
    "import seaborn as sns"
   ]
  },
  {
   "cell_type": "code",
   "execution_count": 2,
   "metadata": {},
   "outputs": [
    {
     "data": {
      "text/html": [
       "<div>\n",
       "<style scoped>\n",
       "    .dataframe tbody tr th:only-of-type {\n",
       "        vertical-align: middle;\n",
       "    }\n",
       "\n",
       "    .dataframe tbody tr th {\n",
       "        vertical-align: top;\n",
       "    }\n",
       "\n",
       "    .dataframe thead th {\n",
       "        text-align: right;\n",
       "    }\n",
       "</style>\n",
       "<table border=\"1\" class=\"dataframe\">\n",
       "  <thead>\n",
       "    <tr style=\"text-align: right;\">\n",
       "      <th></th>\n",
       "      <th>start_time</th>\n",
       "      <th>end_time</th>\n",
       "      <th>temperature</th>\n",
       "      <th>luminosity</th>\n",
       "      <th>humidity</th>\n",
       "      <th>motion</th>\n",
       "    </tr>\n",
       "  </thead>\n",
       "  <tbody>\n",
       "    <tr>\n",
       "      <th>0</th>\n",
       "      <td>2022-05-01 00:00:00</td>\n",
       "      <td>2022-05-01 00:30:00</td>\n",
       "      <td>0.376901</td>\n",
       "      <td>0.087579</td>\n",
       "      <td>0.475664</td>\n",
       "      <td>0.0</td>\n",
       "    </tr>\n",
       "    <tr>\n",
       "      <th>1</th>\n",
       "      <td>2022-05-01 00:30:00</td>\n",
       "      <td>2022-05-01 01:00:00</td>\n",
       "      <td>0.460366</td>\n",
       "      <td>0.085515</td>\n",
       "      <td>0.492180</td>\n",
       "      <td>0.0</td>\n",
       "    </tr>\n",
       "    <tr>\n",
       "      <th>2</th>\n",
       "      <td>2022-05-01 01:00:00</td>\n",
       "      <td>2022-05-01 01:30:00</td>\n",
       "      <td>0.479522</td>\n",
       "      <td>0.085102</td>\n",
       "      <td>0.502993</td>\n",
       "      <td>0.0</td>\n",
       "    </tr>\n",
       "    <tr>\n",
       "      <th>3</th>\n",
       "      <td>2022-05-01 01:30:00</td>\n",
       "      <td>2022-05-01 02:00:00</td>\n",
       "      <td>0.464881</td>\n",
       "      <td>0.085515</td>\n",
       "      <td>0.509424</td>\n",
       "      <td>0.0</td>\n",
       "    </tr>\n",
       "    <tr>\n",
       "      <th>4</th>\n",
       "      <td>2022-05-01 02:00:00</td>\n",
       "      <td>2022-05-01 02:30:00</td>\n",
       "      <td>0.446955</td>\n",
       "      <td>0.085928</td>\n",
       "      <td>0.512793</td>\n",
       "      <td>0.0</td>\n",
       "    </tr>\n",
       "  </tbody>\n",
       "</table>\n",
       "</div>"
      ],
      "text/plain": [
       "           start_time            end_time  temperature  luminosity  humidity  \\\n",
       "0 2022-05-01 00:00:00 2022-05-01 00:30:00     0.376901    0.087579  0.475664   \n",
       "1 2022-05-01 00:30:00 2022-05-01 01:00:00     0.460366    0.085515  0.492180   \n",
       "2 2022-05-01 01:00:00 2022-05-01 01:30:00     0.479522    0.085102  0.502993   \n",
       "3 2022-05-01 01:30:00 2022-05-01 02:00:00     0.464881    0.085515  0.509424   \n",
       "4 2022-05-01 02:00:00 2022-05-01 02:30:00     0.446955    0.085928  0.512793   \n",
       "\n",
       "   motion  \n",
       "0     0.0  \n",
       "1     0.0  \n",
       "2     0.0  \n",
       "3     0.0  \n",
       "4     0.0  "
      ]
     },
     "execution_count": 2,
     "metadata": {},
     "output_type": "execute_result"
    }
   ],
   "source": [
    "df = pd.read_excel(\"./process_data/dining area.xlsx\")\n",
    "df.head()"
   ]
  },
  {
   "cell_type": "code",
   "execution_count": 3,
   "metadata": {},
   "outputs": [],
   "source": [
    "datatypes = [\"temperature\", \"luminosity\", \"humidity\", \"motion\"]"
   ]
  },
  {
   "cell_type": "code",
   "execution_count": 4,
   "metadata": {},
   "outputs": [],
   "source": [
    "morning_start = pd.to_datetime(\"04:30:00\").time()\n",
    "morning_end = pd.to_datetime(\"12:00:00\").time()\n",
    "\n",
    "afternoon_start = pd.to_datetime(\"12:00:00\").time()\n",
    "afternoon_end = pd.to_datetime(\"20:30:00\").time()"
   ]
  },
  {
   "cell_type": "code",
   "execution_count": 5,
   "metadata": {},
   "outputs": [],
   "source": [
    "dates = df[\"start_time\"].dt.date.unique()\n",
    "\n",
    "df_data = {\n",
    "    \"date\": [],\n",
    "    \"time\": [],\n",
    "    \"temperature\": [],\n",
    "    \"luminosity\": [],\n",
    "    \"humidity\": [],\n",
    "    \"motion\": []\n",
    "}"
   ]
  },
  {
   "cell_type": "code",
   "execution_count": 6,
   "metadata": {},
   "outputs": [],
   "source": [
    "for date in dates:\n",
    "    rows = df[\n",
    "        df[\"start_time\"].dt.date == date\n",
    "    ]\n",
    "\n",
    "    \"\"\"---------------MORNING TIME---------------\"\"\"\n",
    "    morning_df = rows[\n",
    "        (rows[\"start_time\"].dt.time >= morning_start) &\n",
    "        (rows[\"start_time\"].dt.time <= morning_end) &\n",
    "        (rows[\"end_time\"].dt.time <= morning_end)\n",
    "    ].sort_values(\"start_time\")\n",
    "\n",
    "    for datatype in [\"temperature\", \"luminosity\", \"humidity\", \"motion\"]:\n",
    "        df_data[datatype].append(\n",
    "            np.array(\n",
    "                morning_df[datatype].tolist()\n",
    "            )\n",
    "        )\n",
    "\n",
    "    df_data[\"date\"].append(date)\n",
    "    df_data[\"time\"].append(f\"{morning_start} - {morning_end}\")\n",
    "\n",
    "    \"\"\"---------------AFTERNOON TIME--------------\"\"\"\n",
    "    afternoon_df = rows[\n",
    "        (rows[\"start_time\"].dt.time >= afternoon_start) &\n",
    "        (rows[\"start_time\"].dt.time <= afternoon_end) &\n",
    "        (rows[\"end_time\"].dt.time <= afternoon_end)\n",
    "    ]\n",
    "\n",
    "    for datatype in [\"temperature\", \"luminosity\", \"humidity\", \"motion\"]:\n",
    "        df_data[datatype].append(\n",
    "            np.array(\n",
    "                afternoon_df[datatype].tolist()\n",
    "            )\n",
    "        )\n",
    "\n",
    "    df_data[\"date\"].append(date)\n",
    "    df_data[\"time\"].append(f\"{afternoon_start} - {afternoon_end}\")"
   ]
  },
  {
   "cell_type": "code",
   "execution_count": 7,
   "metadata": {},
   "outputs": [
    {
     "data": {
      "text/html": [
       "<div>\n",
       "<style scoped>\n",
       "    .dataframe tbody tr th:only-of-type {\n",
       "        vertical-align: middle;\n",
       "    }\n",
       "\n",
       "    .dataframe tbody tr th {\n",
       "        vertical-align: top;\n",
       "    }\n",
       "\n",
       "    .dataframe thead th {\n",
       "        text-align: right;\n",
       "    }\n",
       "</style>\n",
       "<table border=\"1\" class=\"dataframe\">\n",
       "  <thead>\n",
       "    <tr style=\"text-align: right;\">\n",
       "      <th></th>\n",
       "      <th>date</th>\n",
       "      <th>time</th>\n",
       "      <th>temperature</th>\n",
       "      <th>luminosity</th>\n",
       "      <th>humidity</th>\n",
       "      <th>motion</th>\n",
       "    </tr>\n",
       "  </thead>\n",
       "  <tbody>\n",
       "    <tr>\n",
       "      <th>0</th>\n",
       "      <td>2022-05-01</td>\n",
       "      <td>04:30:00 - 12:00:00</td>\n",
       "      <td>[0.4488278179454802, 0.4322391184742269, 0.446...</td>\n",
       "      <td>[0.09548947922260698, 0.1067274020707629, 0.11...</td>\n",
       "      <td>[0.5218303180861802, 0.523182339754683, 0.5218...</td>\n",
       "      <td>[0.0, 0.0, 0.0, 0.0, 0.0, 0.0, 0.0, 0.0, 0.004...</td>\n",
       "    </tr>\n",
       "    <tr>\n",
       "      <th>1</th>\n",
       "      <td>2022-05-01</td>\n",
       "      <td>12:00:00 - 20:30:00</td>\n",
       "      <td>[0.4836997128940765, 0.561246941662826, 0.6187...</td>\n",
       "      <td>[0.08575832090123524, 0.1135251771742941, 0.14...</td>\n",
       "      <td>[0.3958119509127495, 0.3691622782594428, 0.348...</td>\n",
       "      <td>[0.0, 0.007334963325183374, 0.0, 0.0, 0.004889...</td>\n",
       "    </tr>\n",
       "    <tr>\n",
       "      <th>2</th>\n",
       "      <td>2022-05-02</td>\n",
       "      <td>04:30:00 - 12:00:00</td>\n",
       "      <td>[0.4347363618052108, 0.4381254558831656, 0.429...</td>\n",
       "      <td>[0.09692993372325114, 0.107278961681034, 0.119...</td>\n",
       "      <td>[0.4947061198537466, 0.4970185033031632, 0.494...</td>\n",
       "      <td>[0.0, 0.0, 0.002444987775061125, 0.00244498777...</td>\n",
       "    </tr>\n",
       "    <tr>\n",
       "      <th>3</th>\n",
       "      <td>2022-05-02</td>\n",
       "      <td>12:00:00 - 20:30:00</td>\n",
       "      <td>[0.555851540634401, 0.5119717796295798, 0.5267...</td>\n",
       "      <td>[0.5874465983315247, 0.4640764368641033, 0.287...</td>\n",
       "      <td>[0.3481476146050616, 0.3391445955916446, 0.336...</td>\n",
       "      <td>[0.0, 0.0, 0.0, 0.0, 0.0, 0.0, 0.0, 0.00488997...</td>\n",
       "    </tr>\n",
       "    <tr>\n",
       "      <th>4</th>\n",
       "      <td>2022-05-03</td>\n",
       "      <td>04:30:00 - 12:00:00</td>\n",
       "      <td>[0.4395969892025127, 0.436899084556749, 0.4492...</td>\n",
       "      <td>[0.09976575087654435, 0.1130197783326956, 0.12...</td>\n",
       "      <td>[0.5636458320343667, 0.565324442016578, 0.5590...</td>\n",
       "      <td>[0.007334963325183374, 0.0, 0.0048899755501222...</td>\n",
       "    </tr>\n",
       "    <tr>\n",
       "      <th>5</th>\n",
       "      <td>2022-05-03</td>\n",
       "      <td>12:00:00 - 20:30:00</td>\n",
       "      <td>[0.493421018721568, 0.5451491785720866, 0.5004...</td>\n",
       "      <td>[0.3859527121530628, 0.3729807889493887, 0.311...</td>\n",
       "      <td>[0.3952908104243336, 0.3977712441710954, 0.397...</td>\n",
       "      <td>[0.0, 0.0, 0.0, 0.0, 0.0, 0.0, 0.0024449877750...</td>\n",
       "    </tr>\n",
       "    <tr>\n",
       "      <th>6</th>\n",
       "      <td>2022-05-04</td>\n",
       "      <td>04:30:00 - 12:00:00</td>\n",
       "      <td>[0.4382592130820562, 0.4270706606977921, 0.426...</td>\n",
       "      <td>[0.0918628147064196, 0.1021953703890057, 0.116...</td>\n",
       "      <td>[0.596265762435231, 0.5941372830847959, 0.5891...</td>\n",
       "      <td>[0.0, 0.0, 0.004889975550122249, 0.0, 0.004889...</td>\n",
       "    </tr>\n",
       "    <tr>\n",
       "      <th>7</th>\n",
       "      <td>2022-05-04</td>\n",
       "      <td>12:00:00 - 20:30:00</td>\n",
       "      <td>[0.5268213293179296, 0.5272693470398143, 0.514...</td>\n",
       "      <td>[0.6309745427304361, 0.4260044573231205, 0.139...</td>\n",
       "      <td>[0.3977712441710954, 0.3886474049917753, 0.385...</td>\n",
       "      <td>[0.002444987775061125, 0.0, 0.0, 0.00488997555...</td>\n",
       "    </tr>\n",
       "    <tr>\n",
       "      <th>8</th>\n",
       "      <td>2022-05-05</td>\n",
       "      <td>04:30:00 - 12:00:00</td>\n",
       "      <td>[0.4333093801969022, 0.4329050976598512, 0.438...</td>\n",
       "      <td>[0.08553654178526857, 0.08646967499107035, 0.0...</td>\n",
       "      <td>[0.5910304112118843, 0.5875729573612951, 0.596...</td>\n",
       "      <td>[0.002444987775061125, 0.004889975550122249, 0...</td>\n",
       "    </tr>\n",
       "    <tr>\n",
       "      <th>9</th>\n",
       "      <td>2022-05-05</td>\n",
       "      <td>12:00:00 - 20:30:00</td>\n",
       "      <td>[0.4419055639473469, 0.4434766113978791, 0.452...</td>\n",
       "      <td>[0.1268492734186389, 0.1358441751928196, 0.133...</td>\n",
       "      <td>[0.6149088866639406, 0.6086716698267395, 0.607...</td>\n",
       "      <td>[0.0, 0.0, 0.0, 0.0, 0.0, 0.004889975550122249...</td>\n",
       "    </tr>\n",
       "  </tbody>\n",
       "</table>\n",
       "</div>"
      ],
      "text/plain": [
       "         date                 time  \\\n",
       "0  2022-05-01  04:30:00 - 12:00:00   \n",
       "1  2022-05-01  12:00:00 - 20:30:00   \n",
       "2  2022-05-02  04:30:00 - 12:00:00   \n",
       "3  2022-05-02  12:00:00 - 20:30:00   \n",
       "4  2022-05-03  04:30:00 - 12:00:00   \n",
       "5  2022-05-03  12:00:00 - 20:30:00   \n",
       "6  2022-05-04  04:30:00 - 12:00:00   \n",
       "7  2022-05-04  12:00:00 - 20:30:00   \n",
       "8  2022-05-05  04:30:00 - 12:00:00   \n",
       "9  2022-05-05  12:00:00 - 20:30:00   \n",
       "\n",
       "                                         temperature  \\\n",
       "0  [0.4488278179454802, 0.4322391184742269, 0.446...   \n",
       "1  [0.4836997128940765, 0.561246941662826, 0.6187...   \n",
       "2  [0.4347363618052108, 0.4381254558831656, 0.429...   \n",
       "3  [0.555851540634401, 0.5119717796295798, 0.5267...   \n",
       "4  [0.4395969892025127, 0.436899084556749, 0.4492...   \n",
       "5  [0.493421018721568, 0.5451491785720866, 0.5004...   \n",
       "6  [0.4382592130820562, 0.4270706606977921, 0.426...   \n",
       "7  [0.5268213293179296, 0.5272693470398143, 0.514...   \n",
       "8  [0.4333093801969022, 0.4329050976598512, 0.438...   \n",
       "9  [0.4419055639473469, 0.4434766113978791, 0.452...   \n",
       "\n",
       "                                          luminosity  \\\n",
       "0  [0.09548947922260698, 0.1067274020707629, 0.11...   \n",
       "1  [0.08575832090123524, 0.1135251771742941, 0.14...   \n",
       "2  [0.09692993372325114, 0.107278961681034, 0.119...   \n",
       "3  [0.5874465983315247, 0.4640764368641033, 0.287...   \n",
       "4  [0.09976575087654435, 0.1130197783326956, 0.12...   \n",
       "5  [0.3859527121530628, 0.3729807889493887, 0.311...   \n",
       "6  [0.0918628147064196, 0.1021953703890057, 0.116...   \n",
       "7  [0.6309745427304361, 0.4260044573231205, 0.139...   \n",
       "8  [0.08553654178526857, 0.08646967499107035, 0.0...   \n",
       "9  [0.1268492734186389, 0.1358441751928196, 0.133...   \n",
       "\n",
       "                                            humidity  \\\n",
       "0  [0.5218303180861802, 0.523182339754683, 0.5218...   \n",
       "1  [0.3958119509127495, 0.3691622782594428, 0.348...   \n",
       "2  [0.4947061198537466, 0.4970185033031632, 0.494...   \n",
       "3  [0.3481476146050616, 0.3391445955916446, 0.336...   \n",
       "4  [0.5636458320343667, 0.565324442016578, 0.5590...   \n",
       "5  [0.3952908104243336, 0.3977712441710954, 0.397...   \n",
       "6  [0.596265762435231, 0.5941372830847959, 0.5891...   \n",
       "7  [0.3977712441710954, 0.3886474049917753, 0.385...   \n",
       "8  [0.5910304112118843, 0.5875729573612951, 0.596...   \n",
       "9  [0.6149088866639406, 0.6086716698267395, 0.607...   \n",
       "\n",
       "                                              motion  \n",
       "0  [0.0, 0.0, 0.0, 0.0, 0.0, 0.0, 0.0, 0.0, 0.004...  \n",
       "1  [0.0, 0.007334963325183374, 0.0, 0.0, 0.004889...  \n",
       "2  [0.0, 0.0, 0.002444987775061125, 0.00244498777...  \n",
       "3  [0.0, 0.0, 0.0, 0.0, 0.0, 0.0, 0.0, 0.00488997...  \n",
       "4  [0.007334963325183374, 0.0, 0.0048899755501222...  \n",
       "5  [0.0, 0.0, 0.0, 0.0, 0.0, 0.0, 0.0024449877750...  \n",
       "6  [0.0, 0.0, 0.004889975550122249, 0.0, 0.004889...  \n",
       "7  [0.002444987775061125, 0.0, 0.0, 0.00488997555...  \n",
       "8  [0.002444987775061125, 0.004889975550122249, 0...  \n",
       "9  [0.0, 0.0, 0.0, 0.0, 0.0, 0.004889975550122249...  "
      ]
     },
     "execution_count": 7,
     "metadata": {},
     "output_type": "execute_result"
    }
   ],
   "source": [
    "time_df = pd.DataFrame(df_data)\n",
    "time_df.head(10)"
   ]
  },
  {
   "cell_type": "code",
   "execution_count": 8,
   "metadata": {},
   "outputs": [],
   "source": [
    "final_df = {\n",
    "    \"date\": [],\n",
    "    \"time\": [],\n",
    "    \"data\": []\n",
    "}"
   ]
  },
  {
   "cell_type": "code",
   "execution_count": 9,
   "metadata": {},
   "outputs": [],
   "source": [
    "for index, row in time_df.iterrows():\n",
    "    data = row[datatypes[0]]\n",
    "    \n",
    "    for i in range(1, len(datatypes)):\n",
    "        datatype = datatypes[i]\n",
    "\n",
    "        data = np.vstack((data, row[datatype]))\n",
    "        data = torch.from_numpy(data)\n",
    "        data = torch.squeeze(data)\n",
    "\n",
    "    final_df[\"date\"].append(row[\"date\"])\n",
    "    final_df[\"time\"].append(row[\"time\"])\n",
    "    final_df[\"data\"].append(data)"
   ]
  },
  {
   "cell_type": "code",
   "execution_count": 10,
   "metadata": {},
   "outputs": [
    {
     "data": {
      "text/html": [
       "<div>\n",
       "<style scoped>\n",
       "    .dataframe tbody tr th:only-of-type {\n",
       "        vertical-align: middle;\n",
       "    }\n",
       "\n",
       "    .dataframe tbody tr th {\n",
       "        vertical-align: top;\n",
       "    }\n",
       "\n",
       "    .dataframe thead th {\n",
       "        text-align: right;\n",
       "    }\n",
       "</style>\n",
       "<table border=\"1\" class=\"dataframe\">\n",
       "  <thead>\n",
       "    <tr style=\"text-align: right;\">\n",
       "      <th></th>\n",
       "      <th>date</th>\n",
       "      <th>time</th>\n",
       "      <th>data</th>\n",
       "    </tr>\n",
       "  </thead>\n",
       "  <tbody>\n",
       "    <tr>\n",
       "      <th>0</th>\n",
       "      <td>2022-05-01</td>\n",
       "      <td>04:30:00 - 12:00:00</td>\n",
       "      <td>[[tensor(0.4488, dtype=torch.float64), tensor(...</td>\n",
       "    </tr>\n",
       "    <tr>\n",
       "      <th>1</th>\n",
       "      <td>2022-05-01</td>\n",
       "      <td>12:00:00 - 20:30:00</td>\n",
       "      <td>[[tensor(0.4837, dtype=torch.float64), tensor(...</td>\n",
       "    </tr>\n",
       "    <tr>\n",
       "      <th>2</th>\n",
       "      <td>2022-05-02</td>\n",
       "      <td>04:30:00 - 12:00:00</td>\n",
       "      <td>[[tensor(0.4347, dtype=torch.float64), tensor(...</td>\n",
       "    </tr>\n",
       "    <tr>\n",
       "      <th>3</th>\n",
       "      <td>2022-05-02</td>\n",
       "      <td>12:00:00 - 20:30:00</td>\n",
       "      <td>[[tensor(0.5559, dtype=torch.float64), tensor(...</td>\n",
       "    </tr>\n",
       "    <tr>\n",
       "      <th>4</th>\n",
       "      <td>2022-05-03</td>\n",
       "      <td>04:30:00 - 12:00:00</td>\n",
       "      <td>[[tensor(0.4396, dtype=torch.float64), tensor(...</td>\n",
       "    </tr>\n",
       "  </tbody>\n",
       "</table>\n",
       "</div>"
      ],
      "text/plain": [
       "         date                 time  \\\n",
       "0  2022-05-01  04:30:00 - 12:00:00   \n",
       "1  2022-05-01  12:00:00 - 20:30:00   \n",
       "2  2022-05-02  04:30:00 - 12:00:00   \n",
       "3  2022-05-02  12:00:00 - 20:30:00   \n",
       "4  2022-05-03  04:30:00 - 12:00:00   \n",
       "\n",
       "                                                data  \n",
       "0  [[tensor(0.4488, dtype=torch.float64), tensor(...  \n",
       "1  [[tensor(0.4837, dtype=torch.float64), tensor(...  \n",
       "2  [[tensor(0.4347, dtype=torch.float64), tensor(...  \n",
       "3  [[tensor(0.5559, dtype=torch.float64), tensor(...  \n",
       "4  [[tensor(0.4396, dtype=torch.float64), tensor(...  "
      ]
     },
     "execution_count": 10,
     "metadata": {},
     "output_type": "execute_result"
    }
   ],
   "source": [
    "final_df = pd.DataFrame(final_df)\n",
    "final_df.head(5)"
   ]
  },
  {
   "cell_type": "code",
   "execution_count": 11,
   "metadata": {},
   "outputs": [
    {
     "data": {
      "text/plain": [
       "tensor([[0.4488, 0.4322, 0.4462, 0.4465, 0.4326, 0.4227, 0.4250, 0.4341, 0.4250,\n",
       "         0.4356, 0.4507, 0.4513, 0.4787, 0.5554, 0.5692],\n",
       "        [0.0955, 0.1067, 0.1168, 0.1232, 0.1281, 0.1355, 0.1494, 0.1742, 0.2133,\n",
       "         0.2698, 0.3389, 0.3827, 0.3553, 0.2376, 0.1186],\n",
       "        [0.5218, 0.5232, 0.5218, 0.5165, 0.5094, 0.5031, 0.4970, 0.4905, 0.4837,\n",
       "         0.4775, 0.4722, 0.4677, 0.4598, 0.4446, 0.4226],\n",
       "        [0.0000, 0.0000, 0.0000, 0.0000, 0.0000, 0.0000, 0.0000, 0.0000, 0.0049,\n",
       "         0.0049, 0.0024, 0.0024, 0.0049, 0.0098, 0.0024]], dtype=torch.float64)"
      ]
     },
     "execution_count": 11,
     "metadata": {},
     "output_type": "execute_result"
    }
   ],
   "source": [
    "final_df.loc[0][\"data\"]"
   ]
  },
  {
   "cell_type": "code",
   "execution_count": 12,
   "metadata": {},
   "outputs": [
    {
     "data": {
      "text/plain": [
       "torch.Size([4, 15])"
      ]
     },
     "execution_count": 12,
     "metadata": {},
     "output_type": "execute_result"
    }
   ],
   "source": [
    "final_df.loc[0][\"data\"].shape"
   ]
  },
  {
   "cell_type": "code",
   "execution_count": 13,
   "metadata": {},
   "outputs": [
    {
     "data": {
      "text/html": [
       "<div>\n",
       "<style scoped>\n",
       "    .dataframe tbody tr th:only-of-type {\n",
       "        vertical-align: middle;\n",
       "    }\n",
       "\n",
       "    .dataframe tbody tr th {\n",
       "        vertical-align: top;\n",
       "    }\n",
       "\n",
       "    .dataframe thead th {\n",
       "        text-align: right;\n",
       "    }\n",
       "</style>\n",
       "<table border=\"1\" class=\"dataframe\">\n",
       "  <thead>\n",
       "    <tr style=\"text-align: right;\">\n",
       "      <th></th>\n",
       "      <th>date</th>\n",
       "      <th>time</th>\n",
       "      <th>data</th>\n",
       "    </tr>\n",
       "  </thead>\n",
       "  <tbody>\n",
       "    <tr>\n",
       "      <th>0</th>\n",
       "      <td>2022-05-01</td>\n",
       "      <td>04:30:00 - 12:00:00</td>\n",
       "      <td>[[tensor(0.4488, dtype=torch.float64), tensor(...</td>\n",
       "    </tr>\n",
       "    <tr>\n",
       "      <th>1</th>\n",
       "      <td>2022-05-02</td>\n",
       "      <td>04:30:00 - 12:00:00</td>\n",
       "      <td>[[tensor(0.4347, dtype=torch.float64), tensor(...</td>\n",
       "    </tr>\n",
       "    <tr>\n",
       "      <th>2</th>\n",
       "      <td>2022-05-03</td>\n",
       "      <td>04:30:00 - 12:00:00</td>\n",
       "      <td>[[tensor(0.4396, dtype=torch.float64), tensor(...</td>\n",
       "    </tr>\n",
       "    <tr>\n",
       "      <th>3</th>\n",
       "      <td>2022-05-04</td>\n",
       "      <td>04:30:00 - 12:00:00</td>\n",
       "      <td>[[tensor(0.4383, dtype=torch.float64), tensor(...</td>\n",
       "    </tr>\n",
       "    <tr>\n",
       "      <th>4</th>\n",
       "      <td>2022-05-05</td>\n",
       "      <td>04:30:00 - 12:00:00</td>\n",
       "      <td>[[tensor(0.4333, dtype=torch.float64), tensor(...</td>\n",
       "    </tr>\n",
       "    <tr>\n",
       "      <th>5</th>\n",
       "      <td>2022-05-06</td>\n",
       "      <td>04:30:00 - 12:00:00</td>\n",
       "      <td>[[tensor(0.4542, dtype=torch.float64), tensor(...</td>\n",
       "    </tr>\n",
       "    <tr>\n",
       "      <th>6</th>\n",
       "      <td>2022-05-07</td>\n",
       "      <td>04:30:00 - 12:00:00</td>\n",
       "      <td>[[tensor(0.4089, dtype=torch.float64), tensor(...</td>\n",
       "    </tr>\n",
       "    <tr>\n",
       "      <th>7</th>\n",
       "      <td>2022-05-08</td>\n",
       "      <td>04:30:00 - 12:00:00</td>\n",
       "      <td>[[tensor(0.4247, dtype=torch.float64), tensor(...</td>\n",
       "    </tr>\n",
       "    <tr>\n",
       "      <th>8</th>\n",
       "      <td>2022-05-09</td>\n",
       "      <td>04:30:00 - 12:00:00</td>\n",
       "      <td>[[tensor(0.4387, dtype=torch.float64), tensor(...</td>\n",
       "    </tr>\n",
       "    <tr>\n",
       "      <th>9</th>\n",
       "      <td>2022-05-10</td>\n",
       "      <td>04:30:00 - 12:00:00</td>\n",
       "      <td>[[tensor(0.4556, dtype=torch.float64), tensor(...</td>\n",
       "    </tr>\n",
       "  </tbody>\n",
       "</table>\n",
       "</div>"
      ],
      "text/plain": [
       "         date                 time  \\\n",
       "0  2022-05-01  04:30:00 - 12:00:00   \n",
       "1  2022-05-02  04:30:00 - 12:00:00   \n",
       "2  2022-05-03  04:30:00 - 12:00:00   \n",
       "3  2022-05-04  04:30:00 - 12:00:00   \n",
       "4  2022-05-05  04:30:00 - 12:00:00   \n",
       "5  2022-05-06  04:30:00 - 12:00:00   \n",
       "6  2022-05-07  04:30:00 - 12:00:00   \n",
       "7  2022-05-08  04:30:00 - 12:00:00   \n",
       "8  2022-05-09  04:30:00 - 12:00:00   \n",
       "9  2022-05-10  04:30:00 - 12:00:00   \n",
       "\n",
       "                                                data  \n",
       "0  [[tensor(0.4488, dtype=torch.float64), tensor(...  \n",
       "1  [[tensor(0.4347, dtype=torch.float64), tensor(...  \n",
       "2  [[tensor(0.4396, dtype=torch.float64), tensor(...  \n",
       "3  [[tensor(0.4383, dtype=torch.float64), tensor(...  \n",
       "4  [[tensor(0.4333, dtype=torch.float64), tensor(...  \n",
       "5  [[tensor(0.4542, dtype=torch.float64), tensor(...  \n",
       "6  [[tensor(0.4089, dtype=torch.float64), tensor(...  \n",
       "7  [[tensor(0.4247, dtype=torch.float64), tensor(...  \n",
       "8  [[tensor(0.4387, dtype=torch.float64), tensor(...  \n",
       "9  [[tensor(0.4556, dtype=torch.float64), tensor(...  "
      ]
     },
     "execution_count": 13,
     "metadata": {},
     "output_type": "execute_result"
    }
   ],
   "source": [
    "preprocessed_df = final_df.drop(\n",
    "    index=final_df[\n",
    "        final_df[\"data\"].apply(lambda x: x.shape != torch.Size([4, 15]))\n",
    "    ].index\n",
    ").reset_index(drop=True)\n",
    "\n",
    "preprocessed_df.head(10)"
   ]
  },
  {
   "cell_type": "code",
   "execution_count": 14,
   "metadata": {},
   "outputs": [],
   "source": [
    "data = torch.stack(\n",
    "    tuple(preprocessed_df[\"data\"])\n",
    ")"
   ]
  },
  {
   "cell_type": "code",
   "execution_count": 15,
   "metadata": {},
   "outputs": [
    {
     "data": {
      "text/plain": [
       "torch.Size([438, 4, 15])"
      ]
     },
     "execution_count": 15,
     "metadata": {},
     "output_type": "execute_result"
    }
   ],
   "source": [
    "data.shape"
   ]
  },
  {
   "cell_type": "code",
   "execution_count": 16,
   "metadata": {},
   "outputs": [
    {
     "data": {
      "image/png": "[encoded data removed]",
      "text/plain": [
       "<Figure size 1500x500 with 20 Axes>"
      ]
     },
     "metadata": {},
     "output_type": "display_data"
    }
   ],
   "source": [
    "num_samples = 20  # Số lượng ma trận muốn hiển thị\n",
    "fig, axes = plt.subplots(1, num_samples, figsize=(15, 5))\n",
    "\n",
    "for i in range(num_samples):\n",
    "    ax = axes[i]\n",
    "    ax.imshow(data[i], cmap='viridis', aspect='auto')\n",
    "    ax.set_title(f\"Sample {i}\")\n",
    "    ax.axis(\"off\")\n",
    "\n",
    "plt.show()"
   ]
  },
  {
   "cell_type": "code",
   "execution_count": 17,
   "metadata": {},
   "outputs": [
    {
     "data": {
      "application/vnd.plotly.v1+json": {
       "config": {
        "plotlyServerURL": "https://plot.ly"
       },
       "data": [
        {
         "colorscale": [
          [
           0,
           "#440154"
          ],
          [
           0.1111111111111111,
           "#482878"
          ],
          [
           0.2222222222222222,
           "#3e4989"
          ],
          [
           0.3333333333333333,
           "#31688e"
          ],
          [
           0.4444444444444444,
           "#26828e"
          ],
          [
           0.5555555555555556,
           "#1f9e89"
          ],
          [
           0.6666666666666666,
           "#35b779"
          ],
          [
           0.7777777777777778,
           "#6ece58"
          ],
          [
           0.8888888888888888,
           "#b5de2b"
          ],
          [
           1,
           "#fde725"
          ]
         ],
         "showscale": true,
         "surfacecolor": {
          "bdata": "phjnT5i53D/gg3lDzqnbP6dhwwTCjdw/iJCTHuuS3D/UaGohSa/bP+954+9KDts/dgejInIz2z9MkgjOfcjbP3YHoyJyM9s/nZhzVnDg2z8UJ3baR9jcPxNnri7o4tw/uxh8/3ij3j+Y/QC598XhP6j4AcwgN+I/+Idfnv9xuD/OIHutfFK7P6u8lJCm5r0/dgPXaMuGvz+tjCGHw2bAPxDOjZNuV8E/MkrpbREhwz+gse+Na03GP3GhmBrnTMs/JOALQ8xE0T8sgrctZbDVP1X7aSROftg/RbDJ+zG91j90nXfdKWvOPxZlps2CXb4/ubnHftWy4D996uLj6L3gP7m5x37VsuA/0iEMUBmH4D9M9/ZrNE3gP0lEZmAbGeA/vmlMsibP3z/uQhQ92WPfPwW+5c6l9d4/isyZv5GO3j8JYAlnojjeP6fOcleA7t0/MdtnQWBt3T8r6TWU3HTcP6RMg9CZC9s/AAAAAAAAAAAAAAAAAAAAAAAAAAAAAAAAAAAAAAAAAAAAAAAAAAAAAAAAAAAAAAAAAAAAAAAAAAAAAAAAAAAAAGZlDtGCB3Q/ZmUO0YIHdD9nZQ7RggdkP2dlDtGCB2Q/ZmUO0YIHdD9mZQ7RggeEP2dlDtGCB2Q/",
          "dtype": "f8",
          "shape": "4, 15"
         },
         "type": "surface",
         "x": {
          "bdata": "AAECAwQ=",
          "dtype": "i1"
         },
         "y": {
          "bdata": "AAECAw==",
          "dtype": "i1"
         },
         "z": {
          "bdata": "AAAAAAAAAAAAAAAAAAAAAAAAAAA=",
          "dtype": "i1",
          "shape": "4, 5"
         }
        },
        {
         "colorscale": [
          [
           0,
           "#440154"
          ],
          [
           0.1111111111111111,
           "#482878"
          ],
          [
           0.2222222222222222,
           "#3e4989"
          ],
          [
           0.3333333333333333,
           "#31688e"
          ],
          [
           0.4444444444444444,
           "#26828e"
          ],
          [
           0.5555555555555556,
           "#1f9e89"
          ],
          [
           0.6666666666666666,
           "#35b779"
          ],
          [
           0.7777777777777778,
           "#6ece58"
          ],
          [
           0.8888888888888888,
           "#b5de2b"
          ],
          [
           1,
           "#fde725"
          ]
         ],
         "showscale": true,
         "surfacecolor": {
          "bdata": "QncVdrjS2z/lDCRaPwrcP8uWr8E6g9s/5QwkWj8K3D9GCbIVTHbbP6zze24VNtw/D4K+rjN12z/4QorhmprbP3m1gIbmDdw/IKYGP2a22z+8Tj0oIrjcP+Cpd8dPH98/0elcG3ez3T+sTsZvrZbgP+FXHZdE8N8/i0VYb2bQuD9nCPhPona7P41zOzaZkb4/g+068DA6wD+1kV1nKTLAP5YS54hXY8E/cdCz/sS7xT96NaEbJYfLP15o1O9KFNA/Jw89zrMJ0T8RKJhz2v3RP4HZ4H/l0tQ/sPBs52Si2j/PW0faxrHgP+4JNW21FOM/FMl520Op3z++aUyyJs/fPxWJZAIco98/TPf2azRN4D/X3iCle9PhP0ZIrO+bFOM/OWpt8fbA4j8FhW7yT1LhP1Gne5+Fad8/BheNqkhB3T9acY1JWf7bP6RMg9CZC9s/BHR/XODw2T8Xvp5f06nYP8uVEonpWNc/AAAAAAAAAAAAAAAAAAAAAGdlDtGCB2Q/Z2UO0YIHZD9mZQ7Rggd0P2dlDtGCB2Q/Z2UO0YIHZD8AAAAAAAAAAGdlDtGCB2Q/AAAAAAAAAAAAAAAAAAAAAAAAAAAAAAAAAAAAAAAAAAAAAAAAAAAAAGdlDtGCB2Q/",
          "dtype": "f8",
          "shape": "4, 15"
         },
         "type": "surface",
         "x": {
          "bdata": "AAECAwQ=",
          "dtype": "i1"
         },
         "y": {
          "bdata": "AAECAw==",
          "dtype": "i1"
         },
         "z": {
          "bdata": "AQEBAQEBAQEBAQEBAQEBAQEBAQE=",
          "dtype": "i1",
          "shape": "4, 5"
         }
        },
        {
         "colorscale": [
          [
           0,
           "#440154"
          ],
          [
           0.1111111111111111,
           "#482878"
          ],
          [
           0.2222222222222222,
           "#3e4989"
          ],
          [
           0.3333333333333333,
           "#31688e"
          ],
          [
           0.4444444444444444,
           "#26828e"
          ],
          [
           0.5555555555555556,
           "#1f9e89"
          ],
          [
           0.6666666666666666,
           "#35b779"
          ],
          [
           0.7777777777777778,
           "#6ece58"
          ],
          [
           0.8888888888888888,
           "#b5de2b"
          ],
          [
           1,
           "#fde725"
          ]
         ],
         "showscale": true,
         "surfacecolor": {
          "bdata": "8d4CaVsi3D92tfSTJ/bbP9KEy5QrwNw/EB7xKD3k3D/TzadJVZTcP5Q03fhNYdw/ItSRxF+J3D+8BYc91hXdP0rc4OHnjt0/yWDqmIVc3T+zfJuSSoPcP3xacEZ6et0/zhHBqSoT4D+cEIORlGvePw5C8nmYrOA/bpBGjT+KuT//dr073e68PxIgDlfyaL8/VXNpfV8LwD+D7TrwMDrAP7ClTgqVOME/u1w/uqS1wz9u1yEwrAHIP8tuGXVTOs0/zghrtUwY0T89Dcmxnv3SPyZ9RaX/Y9Q/J1Z72y+F1T8fhjBaSJbWPzA2j/3Fudc/dqjj+2IJ4j+d5sJIIxfiPwABOre44+E/CFBphc1/4T8mfJiRdhjhP3IXiII11uA/ubnHftWy4D9rZXrxf5rgPyJ92b6NceA/FpaO4mMa4D82GQk2PgPfP/lhaWF3ed0/ftEk9tvW2z/8ycTq3WDaP+9CQIUVddk/GZiVOUQLfj8AAAAAAAAAAGZlDtGCB3Q/Z2UO0YIHZD8AAAAAAAAAAAAAAAAAAAAAAAAAAAAAAAAAAAAAAAAAAGdlDtGCB2Q/ZmUO0YIHdD9mZQ7Rggd0PwAAAAAAAAAAZmUO0YIHdD9mZQ7Rggd0PwAAAAAAAAAA",
          "dtype": "f8",
          "shape": "4, 15"
         },
         "type": "surface",
         "x": {
          "bdata": "AAECAwQ=",
          "dtype": "i1"
         },
         "y": {
          "bdata": "AAECAw==",
          "dtype": "i1"
         },
         "z": {
          "bdata": "AgICAgICAgICAgICAgICAgICAgI=",
          "dtype": "i1",
          "shape": "4, 5"
         }
        },
        {
         "colorscale": [
          [
           0,
           "#440154"
          ],
          [
           0.1111111111111111,
           "#482878"
          ],
          [
           0.2222222222222222,
           "#3e4989"
          ],
          [
           0.3333333333333333,
           "#31688e"
          ],
          [
           0.4444444444444444,
           "#26828e"
          ],
          [
           0.5555555555555556,
           "#1f9e89"
          ],
          [
           0.6666666666666666,
           "#35b779"
          ],
          [
           0.7777777777777778,
           "#6ece58"
          ],
          [
           0.8888888888888888,
           "#b5de2b"
          ],
          [
           1,
           "#fde725"
          ]
         ],
         "showscale": true,
         "surfacecolor": {
          "bdata": "jOvWXnAM3D/gzDEuIFXbPxvmqYXiQ9s/5QwkWj8K3D8Pgr6uM3XbP6zze24VNtw/D4K+rjN12z+mGOdPmLncP0J3FXa40ts/Rrdrr+gn3D9Xd2SsubDdP3otqcHVCd8/eiJ/cYQC4D+CKykItGDgPxmdKgvbquA/xPDhSFKEtz8+lp/NeSm6P729uFHBzb0/J2rVS3vswD8KW7eZFqjCP+1AvsfH1sI/f08sPCmOwT/4INLpXQvFP1qxFLHQAtE/k/LOzYR62D8Lpute8aDbPyd0Qzvydtc/Nk53Kzkw0j8H/Cy7LU3UP4JABxH+oeA/Rkis75sU4z8r3wUxLAPjP2P68WSj2uI/2YXb3Pqu4j80aEo9RZbiP9mF29z6ruI/XevoH2P94j9GSKzvmxTjPwXCh5h+j+I/Io1do/qY4T+CWF/1BIDgP7i6D1J4Cd8/ezo4+MlX3T9+0ST229bbP72wNxdXfto/AAAAAAAAAAAAAAAAAAAAAGZlDtGCB3Q/AAAAAAAAAABmZQ7Rggd0P2ZlDtGCB3Q/AAAAAAAAAABmZQ7Rggd0PxmYlTlEC34/Z2UO0YIHZD8AAAAAAAAAAGdlDtGCB2Q/ZmUO0YIHdD8ZmJU5RAt+P2dlDtGCB2Q/",
          "dtype": "f8",
          "shape": "4, 15"
         },
         "type": "surface",
         "x": {
          "bdata": "AAECAwQ=",
          "dtype": "i1"
         },
         "y": {
          "bdata": "AAECAw==",
          "dtype": "i1"
         },
         "z": {
          "bdata": "AwMDAwMDAwMDAwMDAwMDAwMDAwM=",
          "dtype": "i1",
          "shape": "4, 5"
         }
        },
        {
         "colorscale": [
          [
           0,
           "#440154"
          ],
          [
           0.1111111111111111,
           "#482878"
          ],
          [
           0.2222222222222222,
           "#3e4989"
          ],
          [
           0.3333333333333333,
           "#31688e"
          ],
          [
           0.4444444444444444,
           "#26828e"
          ],
          [
           0.5555555555555556,
           "#1f9e89"
          ],
          [
           0.6666666666666666,
           "#35b779"
          ],
          [
           0.7777777777777778,
           "#6ece58"
          ],
          [
           0.8888888888888888,
           "#b5de2b"
          ],
          [
           1,
           "#fde725"
          ]
         ],
         "showscale": true,
         "surfacecolor": {
          "bdata": "9bk/RFe72z+4IC6Vt7TbP+UMJFo/Ctw/W38AyaiO2z8Pgr6uM3XbP6dhwwTCjdw/mv1XIK6g3D/FcvR0qBTcP/0LTYLg7ts/xXL0dKgU3D9OCSCPozbcP3IjWPSTUtw/nMZOH9Ny3D9KdyKs84bcP0dul/rWd9w/hqaUCbnltT+FsS5q4CK2Py2p6XTj4LY/Ve2gkLE2uD+qEJ4+gIK5PwilfolW9Lk/KU1SpMhVuT/pOjp6n9a5P8RktFX6dL0/sXwrmA6BwT8ac3K7+SjEPx7AuIDwN8U/swBxtdG2wz8uSFG9ch/BP77hQCnND78/Uhbjm7jp4j86L3zNZc3iP0ZIrO+bFOM/XwybZGjt4z8JrE5oLerkP9PWkGBiduU/OUYmiIM15T/6Ue86IKvkPwv1Ge54ZuQ/jY8eKH9F5D8VGSXYKg/kPyDNTRXe3+M/iycLAJva4z9daDwze+fjPyDNTRXe3+M/Z2UO0YIHZD9mZQ7Rggd0P2dlDtGCB2Q/AAAAAAAAAABmZQ7Rggd0P2ZlDtGCB3Q/ZmUO0YIHdD9nZQ7RggdkPwAAAAAAAAAAGZiVOUQLfj9nZQ7RggdkP2ZlDtGCB3Q/Z2UO0YIHZD9nZQ7RggdkP2dlDtGCB2Q/",
          "dtype": "f8",
          "shape": "4, 15"
         },
         "type": "surface",
         "x": {
          "bdata": "AAECAwQ=",
          "dtype": "i1"
         },
         "y": {
          "bdata": "AAECAw==",
          "dtype": "i1"
         },
         "z": {
          "bdata": "BAQEBAQEBAQEBAQEBAQEBAQEBAQ=",
          "dtype": "i1",
          "shape": "4, 5"
         }
        },
        {
         "colorscale": [
          [
           0,
           "#440154"
          ],
          [
           0.1111111111111111,
           "#482878"
          ],
          [
           0.2222222222222222,
           "#3e4989"
          ],
          [
           0.3333333333333333,
           "#31688e"
          ],
          [
           0.4444444444444444,
           "#26828e"
          ],
          [
           0.5555555555555556,
           "#1f9e89"
          ],
          [
           0.6666666666666666,
           "#35b779"
          ],
          [
           0.7777777777777778,
           "#6ece58"
          ],
          [
           0.8888888888888888,
           "#b5de2b"
          ],
          [
           1,
           "#fde725"
          ]
         ],
         "showscale": true,
         "surfacecolor": {
          "bdata": "Z7Zir0QR3T9smgE8YgDcP0sJIHTZ+ds/4nrDM21F3D/kFXJBuX/bP2mjt0vDZNs/p2HDBMKN3D91vsZtSF/bP6zze24VNtw/maGoWOkh2z+nYcMEwo3cP5K9hqMTyts/kM8hjU7t2j+s83tuFTbcP5DPIY1O7do/RCMkc0/ktT8Zj0ylZm22P2VltQ1iQrc/TgM4leUYuD/4E8H+j8a4Pz+v037roLk/GsoqIn0duz//5DuqoTu9P+GQHa8UIr4/NfZrCK54vD/Hi130V8S6P0F1/ddml7s/NWk0psXcvT88v/TthJW/P4gQVS3BTb8/swp9Aj164z/uxk7VAXHjP0xpou7zpeM/IM1NFd7f4z/EdudCMfPjP+Z7Z9b26uM/IM1NFd7f4z/XnDtCGOLjPyDNTRXe3+M/SR1dCUfO4z8gzU0V3t/jP7Z3G8HFPeQ/IJ733wmu5D8ws1fE8N3kP/tTjOcyleQ/AAAAAAAAAABnZQ7RggdkPwAAAAAAAAAAAAAAAAAAAAAAAAAAAAAAAAAAAAAAAAAAZmUO0YIHdD8AAAAAAAAAAAAAAAAAAAAAZ2UO0YIHZD9nZQ7RggdkPxmYlTlEC34/ZmUO0YIHdD8AAAAAAAAAAGdlDtGCB2Q/",
          "dtype": "f8",
          "shape": "4, 15"
         },
         "type": "surface",
         "x": {
          "bdata": "AAECAwQ=",
          "dtype": "i1"
         },
         "y": {
          "bdata": "AAECAw==",
          "dtype": "i1"
         },
         "z": {
          "bdata": "BQUFBQUFBQUFBQUFBQUFBQUFBQU=",
          "dtype": "i1",
          "shape": "4, 5"
         }
        },
        {
         "colorscale": [
          [
           0,
           "#440154"
          ],
          [
           0.1111111111111111,
           "#482878"
          ],
          [
           0.2222222222222222,
           "#3e4989"
          ],
          [
           0.3333333333333333,
           "#31688e"
          ],
          [
           0.4444444444444444,
           "#26828e"
          ],
          [
           0.5555555555555556,
           "#1f9e89"
          ],
          [
           0.6666666666666666,
           "#35b779"
          ],
          [
           0.7777777777777778,
           "#6ece58"
          ],
          [
           0.8888888888888888,
           "#b5de2b"
          ],
          [
           1,
           "#fde725"
          ]
         ],
         "showscale": true,
         "surfacecolor": {
          "bdata": "fHQcP54r2j9gbPNXHEvaP+aw+4SqjNo/08N2lz2q2j9sh1bY4FPaP+wd5MlSk9k/fH1OdyLZ2T8pSj0ZEC/bP7BypT6nNto/6p7cw5Ky2z/9L3twCE7aP0ykLqr0/to/5QwkWj8K3D+zaSfDxdvaP0ebdWR2E9s/jvdf7GJUtj873ov8vu+2P6HJK8jQpbc/rKNq1FRDuT+kzIp/W8y8PydVPMZ8TsE//Mw/qqo4xD+NaMq9zK7FP+mc088N7sQ/AGZqYO7/wz/Hvg9sas7EP9Jx9WMW+cU/NiKuXgflxT8uInnSu1fFP41oyr3MrsU/SJ2IiFhP5D/6Ue86IKvkP3IokagGx+Q/+mxsQNi55D/6Ue86IKvkP5ZdPra+teQ/CIR9tebB5D/6Ue86IKvkPxZRygWSWOQ/IM1NFd7f4z9yAJXGUGTjP12zd8ljEeM/Rkis75sU4z8d7VpSqX7jPyk8v8Tn7OM/Z2UO0YIHZD8AAAAAAAAAAAAAAAAAAAAAAAAAAAAAAAAAAAAAAAAAAAAAAAAAAAAAAAAAAAAAAABnZQ7RggdkP2ZlDtGCB4Q/ZmUO0YIHdD9mZQ7Rggd0P2dlDtGCB2Q/Z2UO0YIHZD9mZQ7RggeEP2dlDtGCB2Q/",
          "dtype": "f8",
          "shape": "4, 15"
         },
         "type": "surface",
         "x": {
          "bdata": "AAECAwQ=",
          "dtype": "i1"
         },
         "y": {
          "bdata": "AAECAw==",
          "dtype": "i1"
         },
         "z": {
          "bdata": "BgYGBgYGBgYGBgYGBgYGBgYGBgY=",
          "dtype": "i1",
          "shape": "4, 5"
         }
        },
        {
         "colorscale": [
          [
           0,
           "#440154"
          ],
          [
           0.1111111111111111,
           "#482878"
          ],
          [
           0.2222222222222222,
           "#3e4989"
          ],
          [
           0.3333333333333333,
           "#31688e"
          ],
          [
           0.4444444444444444,
           "#26828e"
          ],
          [
           0.5555555555555556,
           "#1f9e89"
          ],
          [
           0.6666666666666666,
           "#35b779"
          ],
          [
           0.7777777777777778,
           "#6ece58"
          ],
          [
           0.8888888888888888,
           "#b5de2b"
          ],
          [
           1,
           "#fde725"
          ]
         ],
         "showscale": true,
         "surfacecolor": {
          "bdata": "KUo9GRAv2z+wcqU+pzbaP/svmR8EH9o/XSOnevNj2j+7H5J5EMrZP2ZHiHaZx9k/LNz1gmPX2j98fU53ItnZPylKPRkQL9s/HJR86bXs2z9JUuIotVjbP0HbBqu8T9o/kM8hjU7t2j9obYb6Gj3dP48066cZ6ts/jhxZKuRItz+gomt6nWK5P0tO87VMYrw/mzJko4X9vz83oYLAHvrBP+LZWJr3F8Q/JrDCkTtSxj8vBnrpFmLIP5s46PCt/cg/HWEaBhxtxz8WeyAKYEPGP/nyyS/RJsg/r/hyMkTAzD/t7vGIlnzRPwiPW8kXrdQ/jY8eKH9F5D9kAM8FiSzkP+TwrrgWAOQ/IM1NFd7f4z9wzv52s+DjPxLHsrvk6+M/IM1NFd7f4z/8fYQi2KrjP7MKfQI9euM/G7XDmiZ34z+zCn0CPXrjP6nMgQLxUuM/AqNxYEf84j+jJHNTKnziP21elpWY4OE/AAAAAAAAAAAAAAAAAAAAAAAAAAAAAAAAAAAAAAAAAABnZQ7RggdkPwAAAAAAAAAAZ2UO0YIHZD8AAAAAAAAAAGZlDtGCB3Q/Z2UO0YIHZD8AAAAAAAAAAGdlDtGCB2Q/GZiVOUQLfj9nZQ7RggdkP2dlDtGCB2Q/",
          "dtype": "f8",
          "shape": "4, 15"
         },
         "type": "surface",
         "x": {
          "bdata": "AAECAwQ=",
          "dtype": "i1"
         },
         "y": {
          "bdata": "AAECAw==",
          "dtype": "i1"
         },
         "z": {
          "bdata": "BwcHBwcHBwcHBwcHBwcHBwcHBwc=",
          "dtype": "i1",
          "shape": "4, 5"
         }
        },
        {
         "colorscale": [
          [
           0,
           "#440154"
          ],
          [
           0.1111111111111111,
           "#482878"
          ],
          [
           0.2222222222222222,
           "#3e4989"
          ],
          [
           0.3333333333333333,
           "#31688e"
          ],
          [
           0.4444444444444444,
           "#26828e"
          ],
          [
           0.5555555555555556,
           "#1f9e89"
          ],
          [
           0.6666666666666666,
           "#35b779"
          ],
          [
           0.7777777777777778,
           "#6ece58"
          ],
          [
           0.8888888888888888,
           "#b5de2b"
          ],
          [
           1,
           "#fde725"
          ]
         ],
         "showscale": true,
         "surfacecolor": {
          "bdata": "FsKQEIcT3D/lDCRaPwrcP6YF6I3X/to/4d7NTXL22j87N3+o8E/bP/OChGsVB9s/TeTu8EcP2z/lDCRaPwrcPyqvZ3f3N9w/1hb0Jn573D+98yrN5d7dPwofIgGqld4/KovXKmaL3T/R/Ev40WLfP1epO5zsbeI/RVVxRrkvtz/L0PVq6Li5P4Ugy6wT3r4/Usj82A3CwT/1hVY+WMvBP73406/gwL0/WW/UeDWruz/OgetSy97EP8x73oOsGdM/VYDnLhMM2j8AA0EhBY3ZP9ayKVkQbNg/NsI/tlW+3T/W1lI9EJPiP/jbRfaCtOM/bvbGgQHm5D/6Ue86IKvkP/245C8reuQ/kqAM1U5Y5D+Njx4of0XkP9F/3dX6R+Q/1BH4eyp/5D9mFMBNwRDlPxqMksG04uU/QJlhcwPc5T95EVhxLiTkPwABOre44+E/uU8Dxslv4D+usRtZMp7fP1Gne5+Fad8/AAAAAAAAAABmZQ7Rggd0P2dlDtGCB2Q/Z2UO0YIHZD8AAAAAAAAAAGZlDtGCB3Q/AAAAAAAAAABmZQ7Rggd0P2ZlDtGCB3Q/GZiVOUQLfj9nZQ7RggdkPwAAAAAAAAAAAAAAAAAAAABmZQ7Rggd0PwAAAAAAAAAA",
          "dtype": "f8",
          "shape": "4, 15"
         },
         "type": "surface",
         "x": {
          "bdata": "AAECAwQ=",
          "dtype": "i1"
         },
         "y": {
          "bdata": "AAECAw==",
          "dtype": "i1"
         },
         "z": {
          "bdata": "CAgICAgICAgICAgICAgICAgICAg=",
          "dtype": "i1",
          "shape": "4, 5"
         }
        },
        {
         "colorscale": [
          [
           0,
           "#440154"
          ],
          [
           0.1111111111111111,
           "#482878"
          ],
          [
           0.2222222222222222,
           "#3e4989"
          ],
          [
           0.3333333333333333,
           "#31688e"
          ],
          [
           0.4444444444444444,
           "#26828e"
          ],
          [
           0.5555555555555556,
           "#1f9e89"
          ],
          [
           0.6666666666666666,
           "#35b779"
          ],
          [
           0.7777777777777778,
           "#6ece58"
          ],
          [
           0.8888888888888888,
           "#b5de2b"
          ],
          [
           1,
           "#fde725"
          ]
         ],
         "showscale": true,
         "surfacecolor": {
          "bdata": "tnM44aUo3T8jnrTR9m/eP2e2Yq9EEd0/IueQhiBE3j/ZqeG5qJ3eP8bO+Zqyqt0/lGuPtiqw3D9ntmKvRBHdPyOetNH2b94/mBk5ofXP3T+sTsZvrZbgP/5oeLZKft8/J9ST8QtN4j9tOv8th3PhP14fk5JdBeE/x3UjdWAXuD/8X+YSxv+6P64O+JHCwr0/aIP24HkcwD8QzyCqqlPBP7hkujF/KMM/t2G3nIxDxj/dAO9+gOrKP6TtQVonpdA/G6qpcIW21D+/OO9apGjZP/DKSGfHON4/Sr242uvw4D+4QX6RB5LhPxPLrSmjy+A/BWa5WnNA5D+Njx4of0XkPw8LWB+TU+Q/jY8eKH9F5D8tHUayLP/jP+lr5YsNreM/fMpeD6J84z8otNCcHFfjP0ZIrO+bFOM/xoQYdpGW4j8AATq3uOPhP7/ihpQXBeE/vmlMsibP3z8FV5QNjAXdP2r5qOZ8Kto/Z2UO0YIHZD9mZQ7Rggd0PwAAAAAAAAAAZmUO0YIHdD9nZQ7RggdkPwAAAAAAAAAAAAAAAAAAAAAAAAAAAAAAAGdlDtGCB2Q/Z2UO0YIHZD9nZQ7RggdkPwAAAAAAAAAAZmUO0YIHdD9mZQ7Rggd0PxmYlTlEC34/",
          "dtype": "f8",
          "shape": "4, 15"
         },
         "type": "surface",
         "x": {
          "bdata": "AAECAwQ=",
          "dtype": "i1"
         },
         "y": {
          "bdata": "AAECAw==",
          "dtype": "i1"
         },
         "z": {
          "bdata": "CQkJCQkJCQkJCQkJCQkJCQkJCQk=",
          "dtype": "i1",
          "shape": "4, 5"
         }
        },
        {
         "colorscale": [
          [
           0,
           "#440154"
          ],
          [
           0.1111111111111111,
           "#482878"
          ],
          [
           0.2222222222222222,
           "#3e4989"
          ],
          [
           0.3333333333333333,
           "#31688e"
          ],
          [
           0.4444444444444444,
           "#26828e"
          ],
          [
           0.5555555555555556,
           "#1f9e89"
          ],
          [
           0.6666666666666666,
           "#35b779"
          ],
          [
           0.7777777777777778,
           "#6ece58"
          ],
          [
           0.8888888888888888,
           "#b5de2b"
          ],
          [
           1,
           "#fde725"
          ]
         ],
         "showscale": true,
         "surfacecolor": {
          "bdata": "ov4WctKi3z+4tMsNMaLfPzCwYUJaFN8/EehPyl/m3j8wsGFCWhTfP/toY9FVXN8/Fqg5diV13z9ZHBzYzRPfP8b8AxPEWt4/fG3/3zsi3z8OQvJ5mKzgP7myBaWbc+A/ice/+/Zi4j/no9ou663hP4LfQu4WW+Q/O96L/L7vtj8MAPPwYFG6PzTP6tw5e74/URKkDkjjwD9RCbziDRnBP6Za3foQNr8/EY6sCCOLvj9BdxB+Er3DPw8e780++s4/pU9TbXgj1j/fkj17pqDaPx6C1O5XdNs/4C25Jqzg3T9mLvZxBuPiP6AKyQDPXeU/JnyYkXYY4T+282X44B/hPyZ8mJF2GOE/Wv+4egkW4T8mfJiRdhjhPzbcr54qG+E/K2fsI8Yb4T8mfJiRdhjhP5Ml6CTMCeE/LjrcnOHR4D9M9/ZrNE3gP61zdcPl0N4/WFbGGx6i3D/tnZaxVn7aPxe+nl/Tqdg/AAAAAAAAAABnZQ7RggdkP2dlDtGCB2Q/ZmUO0YIHdD9nZQ7RggdkPwAAAAAAAAAAAAAAAAAAAAAAAAAAAAAAAAAAAAAAAAAAAAAAAAAAAABnZQ7RggdkPwAAAAAAAAAAAAAAAAAAAAAAAAAAAAAAAGZlDtGCB3Q/",
          "dtype": "f8",
          "shape": "4, 15"
         },
         "type": "surface",
         "x": {
          "bdata": "AAECAwQ=",
          "dtype": "i1"
         },
         "y": {
          "bdata": "AAECAw==",
          "dtype": "i1"
         },
         "z": {
          "bdata": "CgoKCgoKCgoKCgoKCgoKCgoKCgo=",
          "dtype": "i1",
          "shape": "4, 5"
         }
        },
        {
         "colorscale": [
          [
           0,
           "#440154"
          ],
          [
           0.1111111111111111,
           "#482878"
          ],
          [
           0.2222222222222222,
           "#3e4989"
          ],
          [
           0.3333333333333333,
           "#31688e"
          ],
          [
           0.4444444444444444,
           "#26828e"
          ],
          [
           0.5555555555555556,
           "#1f9e89"
          ],
          [
           0.6666666666666666,
           "#35b779"
          ],
          [
           0.7777777777777778,
           "#6ece58"
          ],
          [
           0.8888888888888888,
           "#b5de2b"
          ],
          [
           1,
           "#fde725"
          ]
         ],
         "showscale": true,
         "surfacecolor": {
          "bdata": "3x7qs5oA4D/X4/MWhjngPzUOXpt4POA/q3cP0vIy4D+lBYBcAlHgP7DgftkAP+A/o/5q0BGx3z/IWIsrb9vfP1SfXRL9E+A/Ytw/GBm13z+T+FBSgEjgP8hyIFF03+E/vaWNFMx04j9cEtVSGoHiP/VjvEbBC+M/Pq9jTkjvuT9AFINTym+9P6gVano5ucA/LlrfXMYGwj95WGnoURHCP7hsNalZm8I/4xW4zg9zxT8PElS+wUPKP6P1vNEBGNA/3XA9FAVL0z/kDnEIRuHWP9NVIHzwHts/KnOII+wo4D8ewchmOXfjPxDC33fDB+c/LRmBwZjA3z++aUyyJs/fP34tTCaI4N8/vmlMsibP3z80Sfkw0HnfP+PkqozkA98/WIZnTb6T3j/Imy9kDxfePzHbZ0Fgbd0/hjNRO/2A3D8aX5NuRGfbP8rH4apXQNo/y5TWKb4e2T89Of05kd7XP+2cjdVZdtY/AAAAAAAAAAAAAAAAAAAAAGdlDtGCB2Q/AAAAAAAAAABmZQ7Rggd0PwAAAAAAAAAAAAAAAAAAAABmZQ7Rggd0PwAAAAAAAAAAZ2UO0YIHZD9mZQ7Rggd0PwAAAAAAAAAAAAAAAAAAAAAAAAAAAAAAAAAAAAAAAAAA",
          "dtype": "f8",
          "shape": "4, 15"
         },
         "type": "surface",
         "x": {
          "bdata": "AAECAwQ=",
          "dtype": "i1"
         },
         "y": {
          "bdata": "AAECAw==",
          "dtype": "i1"
         },
         "z": {
          "bdata": "CwsLCwsLCwsLCwsLCwsLCwsLCws=",
          "dtype": "i1",
          "shape": "4, 5"
         }
        },
        {
         "colorscale": [
          [
           0,
           "#440154"
          ],
          [
           0.1111111111111111,
           "#482878"
          ],
          [
           0.2222222222222222,
           "#3e4989"
          ],
          [
           0.3333333333333333,
           "#31688e"
          ],
          [
           0.4444444444444444,
           "#26828e"
          ],
          [
           0.5555555555555556,
           "#1f9e89"
          ],
          [
           0.6666666666666666,
           "#35b779"
          ],
          [
           0.7777777777777778,
           "#6ece58"
          ],
          [
           0.8888888888888888,
           "#b5de2b"
          ],
          [
           1,
           "#fde725"
          ]
         ],
         "showscale": true,
         "surfacecolor": {
          "bdata": "6c1Yw/WC3j/UYBC0wUTeP6oiMAL4D98/QFRT9AU83z+zPZOCvBjfP3gkem4QLd8/rWsMtyHk3j/QYCdjKPbdP5wQg5GUa94/L7wQ/+tU4D+QWlRUC1zfPweEo6KPfd8/yrv8BZ6z4T/9nYyf4V/gPyfUk/ELTeI/U3Z7hczZuT8H3aXR23m9P3e4mGhVK8A/aNUkd4XAwD82n3fTVvvAP3G+ridYmcE/aB5yjH9cwz+YS8mceOHGP0YUsI5dK8w/+iOUEHKL0T+/txu5NIHVPwELZq1zqdg/zG2R4n932T9JCBsoLGDXP3eUSAlV3tU/4xjMCyZE3j9UuinzpSPePwlgCWeiON4/qXHlv/Wz3j/j5KqM5APfP/dRjQsgqt4/CWAJZ6I43j+8SY1xi0DePzbB5+FJP94/MdtnQWBt3T8G8ps+Ml7bP1o4w4CpENk/PTn9OZHe1z/WC/w+24nYP+9CQIUVddk/AAAAAAAAAAAAAAAAAAAAAAAAAAAAAAAAZmUO0YIHdD9mZQ7Rggd0P2dlDtGCB2Q/AAAAAAAAAAAAAAAAAAAAAAAAAAAAAAAAAAAAAAAAAAAAAAAAAAAAAAAAAAAAAAAAAAAAAAAAAAAAAAAAAAAAAAAAAAAAAAAA",
          "dtype": "f8",
          "shape": "4, 15"
         },
         "type": "surface",
         "x": {
          "bdata": "AAECAwQ=",
          "dtype": "i1"
         },
         "y": {
          "bdata": "AAECAw==",
          "dtype": "i1"
         },
         "z": {
          "bdata": "DAwMDAwMDAwMDAwMDAwMDAwMDAw=",
          "dtype": "i1",
          "shape": "4, 5"
         }
        },
        {
         "colorscale": [
          [
           0,
           "#440154"
          ],
          [
           0.1111111111111111,
           "#482878"
          ],
          [
           0.2222222222222222,
           "#3e4989"
          ],
          [
           0.3333333333333333,
           "#31688e"
          ],
          [
           0.4444444444444444,
           "#26828e"
          ],
          [
           0.5555555555555556,
           "#1f9e89"
          ],
          [
           0.6666666666666666,
           "#35b779"
          ],
          [
           0.7777777777777778,
           "#6ece58"
          ],
          [
           0.8888888888888888,
           "#b5de2b"
          ],
          [
           1,
           "#fde725"
          ]
         ],
         "showscale": true,
         "surfacecolor": {
          "bdata": "Te1SzxUp4D/rxNpHFCjfP4N/cWs4+d4/oLU6vajO3z/R0faYTU/gP03tUs8VKeA/ySrVEZ053z9N7VLPFSngP2KlnD8fbd8/IFgXKBNH4D8LsDkQRQThPwiwe25OweA/bnocuOp94T+C30LuFlvkP1JvgijHROU/U/NBpjAzuT+L9yRc84W8P/RYNLvuJsA/6lC0tny8wT8dmUlCl4vCP3+YrIrrX8I/xoyDVQbowT8EVnRxORrFP7qw1zp4Hs8/eCOgu7tN1j8pCLX2zUvcPwIplLtN6t8/FLM7N1uA4T88I5L+FSLkP8qD6ydb3ec/7xowCKbl4D8U6904j/PgP+aUkF3gAOE/JnyYkXYY4T9HpHPytELhP5M+aaQXfuE/2wP3xA3A4T8AATq3uOPhP6K4nJYZx+E//aZP5/1t4T/vGjAIpuXgP8tY/JJbO+A/1s+qThn53j8x22dBYG3dPwKNX+IC/ds/AAAAAAAAAAAAAAAAAAAAAAAAAAAAAAAAZmUO0YIHdD9mZQ7Rggd0PwAAAAAAAAAAAAAAAAAAAABnZQ7RggdkP2dlDtGCB2Q/AAAAAAAAAAAAAAAAAAAAAAAAAAAAAAAAZmUO0YIHdD9mZQ7Rggd0P2dlDtGCB2Q/",
          "dtype": "f8",
          "shape": "4, 15"
         },
         "type": "surface",
         "x": {
          "bdata": "AAECAwQ=",
          "dtype": "i1"
         },
         "y": {
          "bdata": "AAECAw==",
          "dtype": "i1"
         },
         "z": {
          "bdata": "DQ0NDQ0NDQ0NDQ0NDQ0NDQ0NDQ0=",
          "dtype": "i1",
          "shape": "4, 5"
         }
        },
        {
         "colorscale": [
          [
           0,
           "#440154"
          ],
          [
           0.1111111111111111,
           "#482878"
          ],
          [
           0.2222222222222222,
           "#3e4989"
          ],
          [
           0.3333333333333333,
           "#31688e"
          ],
          [
           0.4444444444444444,
           "#26828e"
          ],
          [
           0.5555555555555556,
           "#1f9e89"
          ],
          [
           0.6666666666666666,
           "#35b779"
          ],
          [
           0.7777777777777778,
           "#6ece58"
          ],
          [
           0.8888888888888888,
           "#b5de2b"
          ],
          [
           1,
           "#fde725"
          ]
         ],
         "showscale": true,
         "surfacecolor": {
          "bdata": "ttgB/HAl3j+9fHRP3HzdP5OjjUxFKt8/UI0qGxVm4D9N7VLPFSngP01TrV8zVN4/Te1SzxUp4D/pzVjD9YLeP2ClNfzwRd8/mGEwgo1n4D+vWRuKa+bfP9Zxzv8WyeA/RUHKh/xp4z9zupa78vvhPwMEscgrReQ/YJnh4bxuuj+MAhh19U69PxIgDlfyaL8/lOy6emcPwD+eV3//51fAPwU/DLL6d8E/iXjArIGUxD+8OvVEsIvKPwSkBz4Oc9E/e4zNkXpr1j+R2fJaArHbP7dIxv1gM+A/1EtR6xHM4T9g0slRShHiP78uIMrFFeA/Pxp/z8J64T+WhwLtfobhP5M+aaQXfuE/uq8oQwJz4T+TPmmkF37hP/5RJIVPruE/AAE6t7jj4T9aE1FXGPbhPzjac2X1yuE/XN0AG0dL4T/jPOrODnHgP2BYbwTs9N4/MdtnQWBt3T8P3wNvCr3cP1hWxhseotw/AAAAAAAAAAAAAAAAAAAAAAAAAAAAAAAAAAAAAAAAAABmZQ7Rggd0PwAAAAAAAAAAAAAAAAAAAABnZQ7RggdkPwAAAAAAAAAAAAAAAAAAAAAAAAAAAAAAAGdlDtGCB2Q/ZmUO0YIHhD9nZQ7RggdkPwAAAAAAAAAA",
          "dtype": "f8",
          "shape": "4, 15"
         },
         "type": "surface",
         "x": {
          "bdata": "AAECAwQ=",
          "dtype": "i1"
         },
         "y": {
          "bdata": "AAECAw==",
          "dtype": "i1"
         },
         "z": {
          "bdata": "Dg4ODg4ODg4ODg4ODg4ODg4ODg4=",
          "dtype": "i1",
          "shape": "4, 5"
         }
        },
        {
         "colorscale": [
          [
           0,
           "#440154"
          ],
          [
           0.1111111111111111,
           "#482878"
          ],
          [
           0.2222222222222222,
           "#3e4989"
          ],
          [
           0.3333333333333333,
           "#31688e"
          ],
          [
           0.4444444444444444,
           "#26828e"
          ],
          [
           0.5555555555555556,
           "#1f9e89"
          ],
          [
           0.6666666666666666,
           "#35b779"
          ],
          [
           0.7777777777777778,
           "#6ece58"
          ],
          [
           0.8888888888888888,
           "#b5de2b"
          ],
          [
           1,
           "#fde725"
          ]
         ],
         "showscale": true,
         "surfacecolor": {
          "bdata": "TubqGv343z/ebErPt4vgPxXoqkP+UN8/5jJKchBB3z/OEcGpKhPgP7+t4pyOBeA/l4p55NID4D/3i3pXfpDgPy1zNErCgOA/VEFdCjGQ3z/qNRuL8VvhP6flAgpgfOA/t2BT+3rn4D9PhUy75gfjP3PAPYEbVeU/o9U1k3/FuT8DQPo0XDS9P0wptG5cgsA/D7SkG/qZwT/ylUwtDbHAP+UDv+EO0rs/Iqo+RBNSvT/e//PJWkfHPzs1Oi6WSNE/ZZZRGb5p1T9QkN0dyPHYP6DrGGo0Yt0/ibM6oepp4T8WfDDwqILkP3JHBF9fJ+c/bpBdwPE/3z93Itp5Q57ePyaXPzf44d4/afS3wgO33z9M9/ZrNE3gPwOaKkPrkuA/ubnHftWy4D92B2beZ73gP7m5x37VsuA/krafEA6P4D9M9/ZrNE3gP01+JDgT0t8/uKDzbCrD3j8x22dBYG3dP+4K60dc9Ns/AAAAAAAAAABmZQ7Rggd0P2dlDtGCB2Q/AAAAAAAAAAAAAAAAAAAAAAAAAAAAAAAAAAAAAAAAAAAAAAAAAAAAAAAAAAAAAAAAAAAAAAAAAAAAAAAAAAAAAGdlDtGCB2Q/Z2UO0YIHZD8AAAAAAAAAAGdlDtGCB2Q/",
          "dtype": "f8",
          "shape": "4, 15"
         },
         "type": "surface",
         "x": {
          "bdata": "AAECAwQ=",
          "dtype": "i1"
         },
         "y": {
          "bdata": "AAECAw==",
          "dtype": "i1"
         },
         "z": {
          "bdata": "Dw8PDw8PDw8PDw8PDw8PDw8PDw8=",
          "dtype": "i1",
          "shape": "4, 5"
         }
        },
        {
         "colorscale": [
          [
           0,
           "#440154"
          ],
          [
           0.1111111111111111,
           "#482878"
          ],
          [
           0.2222222222222222,
           "#3e4989"
          ],
          [
           0.3333333333333333,
           "#31688e"
          ],
          [
           0.4444444444444444,
           "#26828e"
          ],
          [
           0.5555555555555556,
           "#1f9e89"
          ],
          [
           0.6666666666666666,
           "#35b779"
          ],
          [
           0.7777777777777778,
           "#6ece58"
          ],
          [
           0.8888888888888888,
           "#b5de2b"
          ],
          [
           1,
           "#fde725"
          ]
         ],
         "showscale": true,
         "surfacecolor": {
          "bdata": "atKsc8Bw3j9sEj4mL6DeP66XoiTXauA/gkgEJ7ix3j8iwzyzUHbfP7DgftkAP+A/PBRNGQnj3j+w4H7ZAD/gP2KlnD8fbd8/DfkVxW7Y4D9HEmpSWZ7gP4owEh74KOI/FWwi3RtJ4z+avQv5d/bhP6CUZYm22eI/Mxso0svUuD9BJ+l4F728P7nBww6fdcA/HHoIqC8ywj/5lVFyPzfDP0F/i/XsL8M/5UAbV/i2wj/8ENz6qCXGP7OrYUCJPtA/bF+mgXnP1T+PY/Ko/9nYPzUlUJgNkNs/EukvvH214D+IloWnAOblP/S8Q3jr2ek/3BrO7iN94j/Ek+qpoZ/iP9mF29z6ruI/87jB1ZKs4j8fS6mwuabiP9mF29z6ruI/ZndH5cHG4j/Zhdvc+q7iP5Aq12K2MeI/kz5ppBd+4T9+ms3A7M7gP4IGchOcKOA/4+SqjOQD3z/6PiNF1andP50i7m94UNw/AAAAAAAAAAAAAAAAAAAAAGZlDtGCB3Q/AAAAAAAAAABmZQ7Rggd0PwAAAAAAAAAAAAAAAAAAAAAAAAAAAAAAAAAAAAAAAAAAAAAAAAAAAABnZQ7RggdkP2dlDtGCB2Q/Z2UO0YIHZD8AAAAAAAAAAAAAAAAAAAAA",
          "dtype": "f8",
          "shape": "4, 15"
         },
         "type": "surface",
         "x": {
          "bdata": "AAECAwQ=",
          "dtype": "i1"
         },
         "y": {
          "bdata": "AAECAw==",
          "dtype": "i1"
         },
         "z": {
          "bdata": "EBAQEBAQEBAQEBAQEBAQEBAQEBA=",
          "dtype": "i1",
          "shape": "4, 5"
         }
        },
        {
         "colorscale": [
          [
           0,
           "#440154"
          ],
          [
           0.1111111111111111,
           "#482878"
          ],
          [
           0.2222222222222222,
           "#3e4989"
          ],
          [
           0.3333333333333333,
           "#31688e"
          ],
          [
           0.4444444444444444,
           "#26828e"
          ],
          [
           0.5555555555555556,
           "#1f9e89"
          ],
          [
           0.6666666666666666,
           "#35b779"
          ],
          [
           0.7777777777777778,
           "#6ece58"
          ],
          [
           0.8888888888888888,
           "#b5de2b"
          ],
          [
           1,
           "#fde725"
          ]
         ],
         "showscale": true,
         "surfacecolor": {
          "bdata": "He8pLnBi4D8/S7qTHaTfP0jdcTOCwd8/DkLyeZis4D9cynsu49jfP1efwHDpZeA/DfkVxW7Y4D9/C9cuIB7gP4zUp+pZ7uA/u9JUfqao4D+IfuNGzY7iP+nDy8Ri5OE/4N/zba5t4j/xNm20n1jkP02rb9MuMeY/MpnzhS77tz9XtlfNzwK7P9DFfWO0E78/b2uFeurDwT+TKTNb8sPDP5NZgGPAu8Q/y5HhQYDEwz+1ubqJq7fBP0AaB6Hyb8Y/lbYcIyfb0z+Css750AXeP0Yx0Q9UP+I/8DVXerPk4z8YNpQWhezkP0ZFUy8Q3OU/JnyYkXYY4T8IZijqOk3hP/B8vlqJdeE/kz5ppBd+4T+OA2YDGF3hPwETYlatLuE/JnyYkXYY4T/3l9iFvSnhPyZ8mJF2GOE/RcRyuZuf4D++aUyyJs/fP+7N/crbTd4/+zi0wO++3D+kTIPQmQvbP8avFeNTONk/Z2UO0YIHZD9mZQ7Rggd0PwAAAAAAAAAAAAAAAAAAAAAAAAAAAAAAAGZlDtGCB3Q/AAAAAAAAAAAAAAAAAAAAAAAAAAAAAAAAAAAAAAAAAAAAAAAAAAAAAAAAAAAAAAAAAAAAAAAAAAAAAAAAAAAAAAAAAAAAAAAA",
          "dtype": "f8",
          "shape": "4, 15"
         },
         "type": "surface",
         "x": {
          "bdata": "AAECAwQ=",
          "dtype": "i1"
         },
         "y": {
          "bdata": "AAECAw==",
          "dtype": "i1"
         },
         "z": {
          "bdata": "ERERERERERERERERERERERERERE=",
          "dtype": "i1",
          "shape": "4, 5"
         }
        },
        {
         "colorscale": [
          [
           0,
           "#440154"
          ],
          [
           0.1111111111111111,
           "#482878"
          ],
          [
           0.2222222222222222,
           "#3e4989"
          ],
          [
           0.3333333333333333,
           "#31688e"
          ],
          [
           0.4444444444444444,
           "#26828e"
          ],
          [
           0.5555555555555556,
           "#1f9e89"
          ],
          [
           0.6666666666666666,
           "#35b779"
          ],
          [
           0.7777777777777778,
           "#6ece58"
          ],
          [
           0.8888888888888888,
           "#b5de2b"
          ],
          [
           1,
           "#fde725"
          ]
         ],
         "showscale": true,
         "surfacecolor": {
          "bdata": "Z8iYZzOU4T8n1JPxC03iPx90hpsfl+E/HzROR3+M4T8m/aS/0d/hP+XjdavjkOE/GwvDNdJ84T+o+AHMIDfiP3wM/zyGIOI/RQW693Uc4j/a25/E2ibjP4ks5lnSWeM/Vlul0Yul4T/p/+k5STTjPyfXC4hmR+k/59rAz4fouT+rvJSQpua9Pxa6zLSkdME/Uxgo0wk5wz9Y8Up8fsDCP2HVZ4Hyfb8/paBq37dwvT9IX58Xg2TFP3FeU7YDDNM/CTIkEjnN2j9zbJs1I2DcP236IS1/D9k/ZKe52WWf0z+zGkj4xbHLP6k3kyF+jMI/M094WoSz4j/Zhdvc+q7iP5AE5anOkuI/vmEm8cxq4j9swwrKWUniP/DctjtMPOI/ANWBqEU/4j9swwrKWUniP881m4QvROI/AAE6t7jj4T9YvdlYWengP+PkqozkA98/eJ1dfKjm2z+QU8rTJ/fYP/bxigGurdY/Z2UO0YIHZD9nZQ7RggdkPxmYlTlEC34/AAAAAAAAAAAAAAAAAAAAAAAAAAAAAAAAZ2UO0YIHZD8AAAAAAAAAAAAAAAAAAAAAGZiVOUQLfj9nZQ7RggdkP2ZlDtGCB3Q/GZiVOUQLfj9nZQ7RggdkP2dlDtGCB2Q/",
          "dtype": "f8",
          "shape": "4, 15"
         },
         "type": "surface",
         "x": {
          "bdata": "AAECAwQ=",
          "dtype": "i1"
         },
         "y": {
          "bdata": "AAECAw==",
          "dtype": "i1"
         },
         "z": {
          "bdata": "EhISEhISEhISEhISEhISEhISEhI=",
          "dtype": "i1",
          "shape": "4, 5"
         }
        },
        {
         "colorscale": [
          [
           0,
           "#440154"
          ],
          [
           0.1111111111111111,
           "#482878"
          ],
          [
           0.2222222222222222,
           "#3e4989"
          ],
          [
           0.3333333333333333,
           "#31688e"
          ],
          [
           0.4444444444444444,
           "#26828e"
          ],
          [
           0.5555555555555556,
           "#1f9e89"
          ],
          [
           0.6666666666666666,
           "#35b779"
          ],
          [
           0.7777777777777778,
           "#6ece58"
          ],
          [
           0.8888888888888888,
           "#b5de2b"
          ],
          [
           1,
           "#fde725"
          ]
         ],
         "showscale": true,
         "surfacecolor": {
          "bdata": "+yvSsOLr4D8IMC2Q38vgPw5CDkRYseA/0vovMfcc4D88IFA02jHgP+x+9z8bMOE/PCBQNNox4D8SfSJ1ngzgP+FjU0YGMuE/ZNszy4T44j9iZblAU7bkPydxCl8FAOY/jUkEH9Nj5z/MteQ7qz7pPx5qH0OyLuo/lmHxoHQ9tj8WjwNjWFO3P4XXwLNTVLg/rBlq8Kp8uD8uwF1/VSG4Pxcvr3Z33bc/TpKKCX46uD/+jjWV+nq5P7tGxX3Hz7s/neVKOl3/vj/XKwgeVpPAP57Hz/vXZcA/Zl7bhBfCvz/TVbI1MP6/PyGCB7GGVMA/ubnHftWy4D8oaJQy67rgP7m5x37VsuA/1xahEaSO4D8qSLL3EW/gP4JYX/UEgOA/OxNWv0nD4D8UAQOySJLgPwlgCWeiON4/wjn9KUYK2D9uEvEMgITRPxo9AKNDQ8s/9OAMC2Lrxz8a8AJFD9LGP5F6Zgg7N8c/AAAAAAAAAAAAAAAAAAAAAGdlDtGCB2Q/AAAAAAAAAAAAAAAAAAAAAGdlDtGCB2Q/AAAAAAAAAAAAAAAAAAAAAAAAAAAAAAAAAAAAAAAAAABnZQ7RggdkPwAAAAAAAAAAZmUO0YIHdD9nZQ7RggdkPwAAAAAAAAAA",
          "dtype": "f8",
          "shape": "4, 15"
         },
         "type": "surface",
         "x": {
          "bdata": "AAECAwQ=",
          "dtype": "i1"
         },
         "y": {
          "bdata": "AAECAw==",
          "dtype": "i1"
         },
         "z": {
          "bdata": "ExMTExMTExMTExMTExMTExMTExM=",
          "dtype": "i1",
          "shape": "4, 5"
         }
        }
       ],
       "layout": {
        "height": 800,
        "scene": {
         "camera": {
          "eye": {
           "x": 1.5,
           "y": 1.5,
           "z": 1.5
          }
         },
         "xaxis": {
          "title": {
           "text": "Columns (5)"
          }
         },
         "yaxis": {
          "title": {
           "text": "Rows (4)"
          }
         },
         "zaxis": {
          "title": {
           "text": "Time steps"
          }
         }
        },
        "template": {
         "data": {
          "bar": [
           {
            "error_x": {
             "color": "#2a3f5f"
            },
            "error_y": {
             "color": "#2a3f5f"
            },
            "marker": {
             "line": {
              "color": "#E5ECF6",
              "width": 0.5
             },
             "pattern": {
              "fillmode": "overlay",
              "size": 10,
              "solidity": 0.2
             }
            },
            "type": "bar"
           }
          ],
          "barpolar": [
           {
            "marker": {
             "line": {
              "color": "#E5ECF6",
              "width": 0.5
             },
             "pattern": {
              "fillmode": "overlay",
              "size": 10,
              "solidity": 0.2
             }
            },
            "type": "barpolar"
           }
          ],
          "carpet": [
           {
            "aaxis": {
             "endlinecolor": "#2a3f5f",
             "gridcolor": "white",
             "linecolor": "white",
             "minorgridcolor": "white",
             "startlinecolor": "#2a3f5f"
            },
            "baxis": {
             "endlinecolor": "#2a3f5f",
             "gridcolor": "white",
             "linecolor": "white",
             "minorgridcolor": "white",
             "startlinecolor": "#2a3f5f"
            },
            "type": "carpet"
           }
          ],
          "choropleth": [
           {
            "colorbar": {
             "outlinewidth": 0,
             "ticks": ""
            },
            "type": "choropleth"
           }
          ],
          "contour": [
           {
            "colorbar": {
             "outlinewidth": 0,
             "ticks": ""
            },
            "colorscale": [
             [
              0,
              "#0d0887"
             ],
             [
              0.1111111111111111,
              "#46039f"
             ],
             [
              0.2222222222222222,
              "#7201a8"
             ],
             [
              0.3333333333333333,
              "#9c179e"
             ],
             [
              0.4444444444444444,
              "#bd3786"
             ],
             [
              0.5555555555555556,
              "#d8576b"
             ],
             [
              0.6666666666666666,
              "#ed7953"
             ],
             [
              0.7777777777777778,
              "#fb9f3a"
             ],
             [
              0.8888888888888888,
              "#fdca26"
             ],
             [
              1,
              "#f0f921"
             ]
            ],
            "type": "contour"
           }
          ],
          "contourcarpet": [
           {
            "colorbar": {
             "outlinewidth": 0,
             "ticks": ""
            },
            "type": "contourcarpet"
           }
          ],
          "heatmap": [
           {
            "colorbar": {
             "outlinewidth": 0,
             "ticks": ""
            },
            "colorscale": [
             [
              0,
              "#0d0887"
             ],
             [
              0.1111111111111111,
              "#46039f"
             ],
             [
              0.2222222222222222,
              "#7201a8"
             ],
             [
              0.3333333333333333,
              "#9c179e"
             ],
             [
              0.4444444444444444,
              "#bd3786"
             ],
             [
              0.5555555555555556,
              "#d8576b"
             ],
             [
              0.6666666666666666,
              "#ed7953"
             ],
             [
              0.7777777777777778,
              "#fb9f3a"
             ],
             [
              0.8888888888888888,
              "#fdca26"
             ],
             [
              1,
              "#f0f921"
             ]
            ],
            "type": "heatmap"
           }
          ],
          "histogram": [
           {
            "marker": {
             "pattern": {
              "fillmode": "overlay",
              "size": 10,
              "solidity": 0.2
             }
            },
            "type": "histogram"
           }
          ],
          "histogram2d": [
           {
            "colorbar": {
             "outlinewidth": 0,
             "ticks": ""
            },
            "colorscale": [
             [
              0,
              "#0d0887"
             ],
             [
              0.1111111111111111,
              "#46039f"
             ],
             [
              0.2222222222222222,
              "#7201a8"
             ],
             [
              0.3333333333333333,
              "#9c179e"
             ],
             [
              0.4444444444444444,
              "#bd3786"
             ],
             [
              0.5555555555555556,
              "#d8576b"
             ],
             [
              0.6666666666666666,
              "#ed7953"
             ],
             [
              0.7777777777777778,
              "#fb9f3a"
             ],
             [
              0.8888888888888888,
              "#fdca26"
             ],
             [
              1,
              "#f0f921"
             ]
            ],
            "type": "histogram2d"
           }
          ],
          "histogram2dcontour": [
           {
            "colorbar": {
             "outlinewidth": 0,
             "ticks": ""
            },
            "colorscale": [
             [
              0,
              "#0d0887"
             ],
             [
              0.1111111111111111,
              "#46039f"
             ],
             [
              0.2222222222222222,
              "#7201a8"
             ],
             [
              0.3333333333333333,
              "#9c179e"
             ],
             [
              0.4444444444444444,
              "#bd3786"
             ],
             [
              0.5555555555555556,
              "#d8576b"
             ],
             [
              0.6666666666666666,
              "#ed7953"
             ],
             [
              0.7777777777777778,
              "#fb9f3a"
             ],
             [
              0.8888888888888888,
              "#fdca26"
             ],
             [
              1,
              "#f0f921"
             ]
            ],
            "type": "histogram2dcontour"
           }
          ],
          "mesh3d": [
           {
            "colorbar": {
             "outlinewidth": 0,
             "ticks": ""
            },
            "type": "mesh3d"
           }
          ],
          "parcoords": [
           {
            "line": {
             "colorbar": {
              "outlinewidth": 0,
              "ticks": ""
             }
            },
            "type": "parcoords"
           }
          ],
          "pie": [
           {
            "automargin": true,
            "type": "pie"
           }
          ],
          "scatter": [
           {
            "fillpattern": {
             "fillmode": "overlay",
             "size": 10,
             "solidity": 0.2
            },
            "type": "scatter"
           }
          ],
          "scatter3d": [
           {
            "line": {
             "colorbar": {
              "outlinewidth": 0,
              "ticks": ""
             }
            },
            "marker": {
             "colorbar": {
              "outlinewidth": 0,
              "ticks": ""
             }
            },
            "type": "scatter3d"
           }
          ],
          "scattercarpet": [
           {
            "marker": {
             "colorbar": {
              "outlinewidth": 0,
              "ticks": ""
             }
            },
            "type": "scattercarpet"
           }
          ],
          "scattergeo": [
           {
            "marker": {
             "colorbar": {
              "outlinewidth": 0,
              "ticks": ""
             }
            },
            "type": "scattergeo"
           }
          ],
          "scattergl": [
           {
            "marker": {
             "colorbar": {
              "outlinewidth": 0,
              "ticks": ""
             }
            },
            "type": "scattergl"
           }
          ],
          "scattermap": [
           {
            "marker": {
             "colorbar": {
              "outlinewidth": 0,
              "ticks": ""
             }
            },
            "type": "scattermap"
           }
          ],
          "scattermapbox": [
           {
            "marker": {
             "colorbar": {
              "outlinewidth": 0,
              "ticks": ""
             }
            },
            "type": "scattermapbox"
           }
          ],
          "scatterpolar": [
           {
            "marker": {
             "colorbar": {
              "outlinewidth": 0,
              "ticks": ""
             }
            },
            "type": "scatterpolar"
           }
          ],
          "scatterpolargl": [
           {
            "marker": {
             "colorbar": {
              "outlinewidth": 0,
              "ticks": ""
             }
            },
            "type": "scatterpolargl"
           }
          ],
          "scatterternary": [
           {
            "marker": {
             "colorbar": {
              "outlinewidth": 0,
              "ticks": ""
             }
            },
            "type": "scatterternary"
           }
          ],
          "surface": [
           {
            "colorbar": {
             "outlinewidth": 0,
             "ticks": ""
            },
            "colorscale": [
             [
              0,
              "#0d0887"
             ],
             [
              0.1111111111111111,
              "#46039f"
             ],
             [
              0.2222222222222222,
              "#7201a8"
             ],
             [
              0.3333333333333333,
              "#9c179e"
             ],
             [
              0.4444444444444444,
              "#bd3786"
             ],
             [
              0.5555555555555556,
              "#d8576b"
             ],
             [
              0.6666666666666666,
              "#ed7953"
             ],
             [
              0.7777777777777778,
              "#fb9f3a"
             ],
             [
              0.8888888888888888,
              "#fdca26"
             ],
             [
              1,
              "#f0f921"
             ]
            ],
            "type": "surface"
           }
          ],
          "table": [
           {
            "cells": {
             "fill": {
              "color": "#EBF0F8"
             },
             "line": {
              "color": "white"
             }
            },
            "header": {
             "fill": {
              "color": "#C8D4E3"
             },
             "line": {
              "color": "white"
             }
            },
            "type": "table"
           }
          ]
         },
         "layout": {
          "annotationdefaults": {
           "arrowcolor": "#2a3f5f",
           "arrowhead": 0,
           "arrowwidth": 1
          },
          "autotypenumbers": "strict",
          "coloraxis": {
           "colorbar": {
            "outlinewidth": 0,
            "ticks": ""
           }
          },
          "colorscale": {
           "diverging": [
            [
             0,
             "#8e0152"
            ],
            [
             0.1,
             "#c51b7d"
            ],
            [
             0.2,
             "#de77ae"
            ],
            [
             0.3,
             "#f1b6da"
            ],
            [
             0.4,
             "#fde0ef"
            ],
            [
             0.5,
             "#f7f7f7"
            ],
            [
             0.6,
             "#e6f5d0"
            ],
            [
             0.7,
             "#b8e186"
            ],
            [
             0.8,
             "#7fbc41"
            ],
            [
             0.9,
             "#4d9221"
            ],
            [
             1,
             "#276419"
            ]
           ],
           "sequential": [
            [
             0,
             "#0d0887"
            ],
            [
             0.1111111111111111,
             "#46039f"
            ],
            [
             0.2222222222222222,
             "#7201a8"
            ],
            [
             0.3333333333333333,
             "#9c179e"
            ],
            [
             0.4444444444444444,
             "#bd3786"
            ],
            [
             0.5555555555555556,
             "#d8576b"
            ],
            [
             0.6666666666666666,
             "#ed7953"
            ],
            [
             0.7777777777777778,
             "#fb9f3a"
            ],
            [
             0.8888888888888888,
             "#fdca26"
            ],
            [
             1,
             "#f0f921"
            ]
           ],
           "sequentialminus": [
            [
             0,
             "#0d0887"
            ],
            [
             0.1111111111111111,
             "#46039f"
            ],
            [
             0.2222222222222222,
             "#7201a8"
            ],
            [
             0.3333333333333333,
             "#9c179e"
            ],
            [
             0.4444444444444444,
             "#bd3786"
            ],
            [
             0.5555555555555556,
             "#d8576b"
            ],
            [
             0.6666666666666666,
             "#ed7953"
            ],
            [
             0.7777777777777778,
             "#fb9f3a"
            ],
            [
             0.8888888888888888,
             "#fdca26"
            ],
            [
             1,
             "#f0f921"
            ]
           ]
          },
          "colorway": [
           "#636efa",
           "#EF553B",
           "#00cc96",
           "#ab63fa",
           "#FFA15A",
           "#19d3f3",
           "#FF6692",
           "#B6E880",
           "#FF97FF",
           "#FECB52"
          ],
          "font": {
           "color": "#2a3f5f"
          },
          "geo": {
           "bgcolor": "white",
           "lakecolor": "white",
           "landcolor": "#E5ECF6",
           "showlakes": true,
           "showland": true,
           "subunitcolor": "white"
          },
          "hoverlabel": {
           "align": "left"
          },
          "hovermode": "closest",
          "mapbox": {
           "style": "light"
          },
          "paper_bgcolor": "white",
          "plot_bgcolor": "#E5ECF6",
          "polar": {
           "angularaxis": {
            "gridcolor": "white",
            "linecolor": "white",
            "ticks": ""
           },
           "bgcolor": "#E5ECF6",
           "radialaxis": {
            "gridcolor": "white",
            "linecolor": "white",
            "ticks": ""
           }
          },
          "scene": {
           "xaxis": {
            "backgroundcolor": "#E5ECF6",
            "gridcolor": "white",
            "gridwidth": 2,
            "linecolor": "white",
            "showbackground": true,
            "ticks": "",
            "zerolinecolor": "white"
           },
           "yaxis": {
            "backgroundcolor": "#E5ECF6",
            "gridcolor": "white",
            "gridwidth": 2,
            "linecolor": "white",
            "showbackground": true,
            "ticks": "",
            "zerolinecolor": "white"
           },
           "zaxis": {
            "backgroundcolor": "#E5ECF6",
            "gridcolor": "white",
            "gridwidth": 2,
            "linecolor": "white",
            "showbackground": true,
            "ticks": "",
            "zerolinecolor": "white"
           }
          },
          "shapedefaults": {
           "line": {
            "color": "#2a3f5f"
           }
          },
          "ternary": {
           "aaxis": {
            "gridcolor": "white",
            "linecolor": "white",
            "ticks": ""
           },
           "baxis": {
            "gridcolor": "white",
            "linecolor": "white",
            "ticks": ""
           },
           "bgcolor": "#E5ECF6",
           "caxis": {
            "gridcolor": "white",
            "linecolor": "white",
            "ticks": ""
           }
          },
          "title": {
           "x": 0.05
          },
          "xaxis": {
           "automargin": true,
           "gridcolor": "white",
           "linecolor": "white",
           "ticks": "",
           "title": {
            "standoff": 15
           },
           "zerolinecolor": "white",
           "zerolinewidth": 2
          },
          "yaxis": {
           "automargin": true,
           "gridcolor": "white",
           "linecolor": "white",
           "ticks": "",
           "title": {
            "standoff": 15
           },
           "zerolinecolor": "white",
           "zerolinewidth": 2
          }
         }
        },
        "title": {
         "text": "Stacked Heatmaps forming a 3D Cube"
        },
        "width": 1000
       }
      }
     },
     "metadata": {},
     "output_type": "display_data"
    }
   ],
   "source": [
    "import plotly.graph_objects as go\n",
    "import numpy as np\n",
    "\n",
    "# Chuyển tensor sang numpy và lấy một số lượng nhỏ để trực quan hóa\n",
    "num_layers = 20  # Số lớp cần hiển thị (tăng lên nếu muốn hình hộp lớn hơn)\n",
    "data_np = data[:num_layers].numpy()\n",
    "\n",
    "# Tạo hình hộp bằng cách xếp từng heatmap lên trục Z\n",
    "fig = go.Figure()\n",
    "\n",
    "for i in range(num_layers):\n",
    "    fig.add_trace(\n",
    "        go.Surface(\n",
    "            z=np.full((4, 5), i),  # Đặt layer ở vị trí z = i\n",
    "            x=np.arange(5),  # Trục X (5 cột)\n",
    "            y=np.arange(4),  # Trục Y (4 hàng)\n",
    "            surfacecolor=data_np[i],  # Giá trị màu từ ma trận 4x5\n",
    "            colorscale=\"viridis\",  # Bảng màu\n",
    "            showscale=True  # Hiển thị thang đo\n",
    "        )\n",
    "    )\n",
    "\n",
    "# Cấu hình layout để dễ quan sát hơn\n",
    "fig.update_layout(\n",
    "    title=\"Stacked Heatmaps forming a 3D Cube\",\n",
    "    scene=dict(\n",
    "        xaxis_title=\"Columns (5)\",\n",
    "        yaxis_title=\"Rows (4)\",\n",
    "        zaxis_title=\"Time steps\",\n",
    "        camera=dict(\n",
    "            eye=dict(x=1.5, y=1.5, z=1.5)  # Mở rộng góc nhìn\n",
    "        ),\n",
    "    ),\n",
    "    width=1000,  # Mở rộng plot\n",
    "    height=800\n",
    ")\n",
    "\n",
    "fig.show()"
   ]
  },
  {
   "cell_type": "code",
   "execution_count": null,
   "metadata": {},
   "outputs": [],
   "source": []
  }
 ],
 "metadata": {
  "kernelspec": {
   "display_name": "cluster",
   "language": "python",
   "name": "python3"
  },
  "language_info": {
   "codemirror_mode": {
    "name": "ipython",
    "version": 3
   },
   "file_extension": ".py",
   "mimetype": "text/x-python",
   "name": "python",
   "nbconvert_exporter": "python",
   "pygments_lexer": "ipython3",
   "version": "3.11.11"
  }
 },
 "nbformat": 4,
 "nbformat_minor": 2
}
