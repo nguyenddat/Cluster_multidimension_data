{
 "cells": [
  {
   "cell_type": "code",
   "execution_count": 1,
   "metadata": {},
   "outputs": [],
   "source": [
    "import torch\n",
    "import numpy as np\n",
    "import pandas as pd\n",
    "import matplotlib.pyplot as plt\n",
    "import seaborn as sns\n",
    "from sklearn.preprocessing import MinMaxScaler"
   ]
  },
  {
   "cell_type": "code",
   "execution_count": 2,
   "metadata": {},
   "outputs": [
    {
     "data": {
      "text/html": [
       "<div>\n",
       "<style scoped>\n",
       "    .dataframe tbody tr th:only-of-type {\n",
       "        vertical-align: middle;\n",
       "    }\n",
       "\n",
       "    .dataframe tbody tr th {\n",
       "        vertical-align: top;\n",
       "    }\n",
       "\n",
       "    .dataframe thead th {\n",
       "        text-align: right;\n",
       "    }\n",
       "</style>\n",
       "<table border=\"1\" class=\"dataframe\">\n",
       "  <thead>\n",
       "    <tr style=\"text-align: right;\">\n",
       "      <th></th>\n",
       "      <th>start_time</th>\n",
       "      <th>end_time</th>\n",
       "      <th>temperature</th>\n",
       "      <th>luminosity</th>\n",
       "      <th>humidity</th>\n",
       "      <th>motion</th>\n",
       "    </tr>\n",
       "  </thead>\n",
       "  <tbody>\n",
       "    <tr>\n",
       "      <th>0</th>\n",
       "      <td>2022-05-01 00:00:00</td>\n",
       "      <td>2022-05-01 01:30:00</td>\n",
       "      <td>22.031250</td>\n",
       "      <td>0.0</td>\n",
       "      <td>46.61</td>\n",
       "      <td>0</td>\n",
       "    </tr>\n",
       "    <tr>\n",
       "      <th>1</th>\n",
       "      <td>2022-05-01 01:30:00</td>\n",
       "      <td>2022-05-01 03:00:00</td>\n",
       "      <td>21.865000</td>\n",
       "      <td>0.0</td>\n",
       "      <td>48.00</td>\n",
       "      <td>1</td>\n",
       "    </tr>\n",
       "    <tr>\n",
       "      <th>2</th>\n",
       "      <td>2022-05-01 03:00:00</td>\n",
       "      <td>2022-05-01 04:30:00</td>\n",
       "      <td>21.443333</td>\n",
       "      <td>3.0</td>\n",
       "      <td>48.50</td>\n",
       "      <td>1</td>\n",
       "    </tr>\n",
       "    <tr>\n",
       "      <th>3</th>\n",
       "      <td>2022-05-01 04:30:00</td>\n",
       "      <td>2022-05-01 06:00:00</td>\n",
       "      <td>21.360000</td>\n",
       "      <td>69.0</td>\n",
       "      <td>49.00</td>\n",
       "      <td>0</td>\n",
       "    </tr>\n",
       "    <tr>\n",
       "      <th>4</th>\n",
       "      <td>2022-05-01 06:00:00</td>\n",
       "      <td>2022-05-01 07:30:00</td>\n",
       "      <td>20.992500</td>\n",
       "      <td>94.0</td>\n",
       "      <td>48.00</td>\n",
       "      <td>0</td>\n",
       "    </tr>\n",
       "  </tbody>\n",
       "</table>\n",
       "</div>"
      ],
      "text/plain": [
       "           start_time            end_time  temperature  luminosity  humidity  \\\n",
       "0 2022-05-01 00:00:00 2022-05-01 01:30:00    22.031250         0.0     46.61   \n",
       "1 2022-05-01 01:30:00 2022-05-01 03:00:00    21.865000         0.0     48.00   \n",
       "2 2022-05-01 03:00:00 2022-05-01 04:30:00    21.443333         3.0     48.50   \n",
       "3 2022-05-01 04:30:00 2022-05-01 06:00:00    21.360000        69.0     49.00   \n",
       "4 2022-05-01 06:00:00 2022-05-01 07:30:00    20.992500        94.0     48.00   \n",
       "\n",
       "   motion  \n",
       "0       0  \n",
       "1       1  \n",
       "2       1  \n",
       "3       0  \n",
       "4       0  "
      ]
     },
     "execution_count": 2,
     "metadata": {},
     "output_type": "execute_result"
    }
   ],
   "source": [
    "df = pd.read_excel(\"./process_data/dining area.xlsx\")\n",
    "df = df.drop(columns = [\"Unnamed: 0\"])\n",
    "df.head()"
   ]
  },
  {
   "cell_type": "code",
   "execution_count": 3,
   "metadata": {},
   "outputs": [
    {
     "data": {
      "text/plain": [
       "count    7010.000000\n",
       "mean       23.561677\n",
       "std         3.609479\n",
       "min         4.825109\n",
       "25%        20.421250\n",
       "50%        23.367222\n",
       "75%        26.501500\n",
       "max        35.401667\n",
       "Name: temperature, dtype: float64"
      ]
     },
     "execution_count": 3,
     "metadata": {},
     "output_type": "execute_result"
    }
   ],
   "source": [
    "df[\"temperature\"].describe()"
   ]
  },
  {
   "cell_type": "code",
   "execution_count": 4,
   "metadata": {},
   "outputs": [
    {
     "data": {
      "text/plain": [
       "count    7010.000000\n",
       "mean       52.576881\n",
       "std        11.712454\n",
       "min         6.936949\n",
       "25%        44.000000\n",
       "50%        51.000000\n",
       "75%        61.000000\n",
       "max        81.500000\n",
       "Name: humidity, dtype: float64"
      ]
     },
     "execution_count": 4,
     "metadata": {},
     "output_type": "execute_result"
    }
   ],
   "source": [
    "df[\"humidity\"].describe()"
   ]
  },
  {
   "cell_type": "code",
   "execution_count": 5,
   "metadata": {},
   "outputs": [
    {
     "data": {
      "text/plain": [
       "start_time     0\n",
       "end_time       0\n",
       "temperature    0\n",
       "luminosity     0\n",
       "humidity       0\n",
       "motion         0\n",
       "dtype: int64"
      ]
     },
     "execution_count": 5,
     "metadata": {},
     "output_type": "execute_result"
    }
   ],
   "source": [
    "df.isna().sum()"
   ]
  },
  {
   "cell_type": "markdown",
   "metadata": {},
   "source": [
    "# 1. Data preprocessing\n",
    "\n",
    "- Chia dữ liệu intervals thành dữ liệu time-series. Có 2 khoảng thời gian chính bao gồm:\n",
    "    - `4:30`: `12:00`\n",
    "    - `12:30`: `22:30`\n",
    "\n",
    "- Normalization"
   ]
  },
  {
   "cell_type": "markdown",
   "metadata": {},
   "source": [
    "## 1.1. Normalization"
   ]
  },
  {
   "cell_type": "code",
   "execution_count": 6,
   "metadata": {},
   "outputs": [],
   "source": [
    "datatypes = [col for col in df.columns if col not in {\"start_time\", \"end_time\"}]\n",
    "\n",
    "normalized_df = df.copy()\n",
    "for datatype in datatypes:\n",
    "    scaler = MinMaxScaler()\n",
    "    data = torch.Tensor(normalized_df[datatype].tolist()).reshape(-1, 1)\n",
    "    scaler.fit(data)\n",
    "\n",
    "    normalized_df[datatype] = scaler.transform(data)"
   ]
  },
  {
   "cell_type": "code",
   "execution_count": 7,
   "metadata": {},
   "outputs": [
    {
     "name": "stdout",
     "output_type": "stream",
     "text": [
      "           start_time            end_time  temperature  luminosity  humidity  \\\n",
      "0 2022-05-01 00:00:00 2022-05-01 01:30:00     22.03125         0.0     46.61   \n",
      "1 2022-05-01 01:30:00 2022-05-01 03:00:00     21.86500         0.0     48.00   \n",
      "\n",
      "   motion  \n",
      "0       0  \n",
      "1       1  \n",
      "---------------------------------------------\n",
      "           start_time            end_time  temperature  luminosity  humidity  \\\n",
      "0 2022-05-01 00:00:00 2022-05-01 01:30:00     0.562723         0.0  0.532074   \n",
      "1 2022-05-01 01:30:00 2022-05-01 03:00:00     0.557286         0.0  0.550716   \n",
      "\n",
      "     motion  \n",
      "0  0.000000  \n",
      "1  0.002445  \n"
     ]
    }
   ],
   "source": [
    "print(df.head(2))\n",
    "print(\"---------------------------------------------\")\n",
    "print(normalized_df.head(2))"
   ]
  },
  {
   "cell_type": "markdown",
   "metadata": {},
   "source": [
    "## 1.1. Data segmentation\n",
    "\n",
    "Chia dữ liệu thành:\n",
    "- `4:30` -> `12:00`\n",
    "- `12:30` -> `22:30`"
   ]
  },
  {
   "cell_type": "markdown",
   "metadata": {},
   "source": [
    "### 1.1.1. Time-series & one dimesion"
   ]
  },
  {
   "cell_type": "code",
   "execution_count": 8,
   "metadata": {},
   "outputs": [],
   "source": [
    "morning_start = pd.to_datetime(\"04:30:00\").time()\n",
    "morning_end = pd.to_datetime(\"12:00:00\").time()\n",
    "\n",
    "afternoon_start = pd.to_datetime(\"12:00:00\").time()\n",
    "afternoon_end = pd.to_datetime(\"20:30:00\").time()"
   ]
  },
  {
   "cell_type": "code",
   "execution_count": 9,
   "metadata": {},
   "outputs": [],
   "source": [
    "dates = normalized_df[\"start_time\"].dt.date.unique()\n",
    "\n",
    "df_data = {\n",
    "    \"date\": [],\n",
    "    \"time\": [],\n",
    "    \"temperature\": [],\n",
    "    \"luminosity\": [],\n",
    "    \"humidity\": [],\n",
    "    \"motion\": []\n",
    "}"
   ]
  },
  {
   "cell_type": "code",
   "execution_count": 10,
   "metadata": {},
   "outputs": [],
   "source": [
    "for date in dates:\n",
    "    rows = normalized_df[\n",
    "        normalized_df[\"start_time\"].dt.date == date\n",
    "    ]\n",
    "\n",
    "    \"\"\"---------------MORNING TIME---------------\"\"\"\n",
    "    morning_df = rows[\n",
    "        (rows[\"start_time\"].dt.time >= morning_start) &\n",
    "        (rows[\"start_time\"].dt.time <= morning_end) &\n",
    "        (rows[\"end_time\"].dt.time <= morning_end)\n",
    "    ].sort_values(\"start_time\")\n",
    "\n",
    "    for datatype in datatypes:\n",
    "        df_data[datatype].append(\n",
    "            np.array(\n",
    "                morning_df[datatype].tolist()\n",
    "            )\n",
    "        )\n",
    "\n",
    "    df_data[\"date\"].append(date)\n",
    "    df_data[\"time\"].append(f\"{morning_start} - {morning_end}\")\n",
    "\n",
    "    \"\"\"---------------AFTERNOON TIME--------------\"\"\"\n",
    "    afternoon_df = rows[\n",
    "        (rows[\"start_time\"].dt.time >= afternoon_start) &\n",
    "        (rows[\"start_time\"].dt.time <= afternoon_end) &\n",
    "        (rows[\"end_time\"].dt.time <= afternoon_end)\n",
    "    ]\n",
    "\n",
    "    for datatype in datatypes:\n",
    "        df_data[datatype].append(\n",
    "            np.array(\n",
    "                afternoon_df[datatype].tolist()\n",
    "            )\n",
    "        )\n",
    "\n",
    "    df_data[\"date\"].append(date)\n",
    "    df_data[\"time\"].append(f\"{afternoon_start} - {afternoon_end}\")"
   ]
  },
  {
   "cell_type": "code",
   "execution_count": 11,
   "metadata": {},
   "outputs": [
    {
     "data": {
      "text/html": [
       "<div>\n",
       "<style scoped>\n",
       "    .dataframe tbody tr th:only-of-type {\n",
       "        vertical-align: middle;\n",
       "    }\n",
       "\n",
       "    .dataframe tbody tr th {\n",
       "        vertical-align: top;\n",
       "    }\n",
       "\n",
       "    .dataframe thead th {\n",
       "        text-align: right;\n",
       "    }\n",
       "</style>\n",
       "<table border=\"1\" class=\"dataframe\">\n",
       "  <thead>\n",
       "    <tr style=\"text-align: right;\">\n",
       "      <th></th>\n",
       "      <th>date</th>\n",
       "      <th>time</th>\n",
       "      <th>temperature</th>\n",
       "      <th>luminosity</th>\n",
       "      <th>humidity</th>\n",
       "      <th>motion</th>\n",
       "    </tr>\n",
       "  </thead>\n",
       "  <tbody>\n",
       "    <tr>\n",
       "      <th>0</th>\n",
       "      <td>2022-05-01</td>\n",
       "      <td>04:30:00 - 12:00:00</td>\n",
       "      <td>[0.5407701727467595, 0.5287511517583859, 0.523...</td>\n",
       "      <td>[0.04202192448233861, 0.05724725943970767, 0.0...</td>\n",
       "      <td>[0.5641272793079329, 0.5507158109789462, 0.537...</td>\n",
       "      <td>[0.0, 0.0, 0.004889975550122249, 0.00977995110...</td>\n",
       "    </tr>\n",
       "    <tr>\n",
       "      <th>1</th>\n",
       "      <td>2022-05-01</td>\n",
       "      <td>12:00:00 - 20:30:00</td>\n",
       "      <td>[0.6737696263652443, 0.6129114961128564, 0.616...</td>\n",
       "      <td>[0.08404384896467722, 0.06394640682095006, 0.0...</td>\n",
       "      <td>[0.3763667227021194, 0.36295525437313275, 0.36...</td>\n",
       "      <td>[0.007334963325183374, 0.007334963325183374, 0...</td>\n",
       "    </tr>\n",
       "    <tr>\n",
       "      <th>2</th>\n",
       "      <td>2022-05-02</td>\n",
       "      <td>04:30:00 - 12:00:00</td>\n",
       "      <td>[0.5307988192570072, 0.5329482276223272, 0.532...</td>\n",
       "      <td>[0.029232643118148598, 0.06151035322777101, 0....</td>\n",
       "      <td>[0.5373043426499595, 0.5976559501303996, 0.530...</td>\n",
       "      <td>[0.0024449877750611247, 0.009779951100244499, ...</td>\n",
       "    </tr>\n",
       "    <tr>\n",
       "      <th>3</th>\n",
       "      <td>2022-05-02</td>\n",
       "      <td>12:00:00 - 20:30:00</td>\n",
       "      <td>[0.6526205633948837, 0.6408468183647317, 0.624...</td>\n",
       "      <td>[0.6741778319123021, 0.07338611449451887, 0.03...</td>\n",
       "      <td>[0.3763667227021194, 0.36295525437313275, 0.36...</td>\n",
       "      <td>[0.0, 0.0, 0.012224938875305624, 0.01466992665...</td>\n",
       "    </tr>\n",
       "    <tr>\n",
       "      <th>4</th>\n",
       "      <td>2022-05-03</td>\n",
       "      <td>04:30:00 - 12:00:00</td>\n",
       "      <td>[0.5451853271330666, 0.5458393755618438, 0.545...</td>\n",
       "      <td>[0.049939098660170524, 0.055420219244823384, 0...</td>\n",
       "      <td>[0.6043616842948929, 0.5775387476369196, 0.564...</td>\n",
       "      <td>[0.012224938875305624, 0.0024449877750611247, ...</td>\n",
       "    </tr>\n",
       "    <tr>\n",
       "      <th>5</th>\n",
       "      <td>2022-05-03</td>\n",
       "      <td>12:00:00 - 20:30:00</td>\n",
       "      <td>[0.6270744984552667, 0.6323435649962263, 0.619...</td>\n",
       "      <td>[0.3861144945188794, 0.08952496954933008, 0.02...</td>\n",
       "      <td>[0.4300125960180662, 0.4300125960180662, 0.456...</td>\n",
       "      <td>[0.0, 0.0, 0.007334963325183374, 0.00244498777...</td>\n",
       "    </tr>\n",
       "    <tr>\n",
       "      <th>6</th>\n",
       "      <td>2022-05-04</td>\n",
       "      <td>04:30:00 - 12:00:00</td>\n",
       "      <td>[0.5307134218035979, 0.5329210301864715, 0.534...</td>\n",
       "      <td>[0.008526187576126675, 0.07277710109622411, 0....</td>\n",
       "      <td>[0.644596089281853, 0.6311846209528663, 0.6445...</td>\n",
       "      <td>[0.004889975550122249, 0.009779951100244499, 0...</td>\n",
       "    </tr>\n",
       "    <tr>\n",
       "      <th>7</th>\n",
       "      <td>2022-05-04</td>\n",
       "      <td>12:00:00 - 20:30:00</td>\n",
       "      <td>[0.6365134434243119, 0.6224776327601349, 0.612...</td>\n",
       "      <td>[0.40255785627283797, 0.11297198538367843, 0.0...</td>\n",
       "      <td>[0.4233068618535728, 0.4233068618535728, 0.443...</td>\n",
       "      <td>[0.0024449877750611247, 0.007334963325183374, ...</td>\n",
       "    </tr>\n",
       "    <tr>\n",
       "      <th>8</th>\n",
       "      <td>2022-05-05</td>\n",
       "      <td>04:30:00 - 12:00:00</td>\n",
       "      <td>[0.5335750786152488, 0.5348833002316835, 0.536...</td>\n",
       "      <td>[0.005176613885505481, 0.021315468940316686, 0...</td>\n",
       "      <td>[0.644596089281853, 0.725064899255773, 0.69824...</td>\n",
       "      <td>[0.009779951100244499, 0.009779951100244499, 0...</td>\n",
       "    </tr>\n",
       "    <tr>\n",
       "      <th>9</th>\n",
       "      <td>2022-05-05</td>\n",
       "      <td>12:00:00 - 20:30:00</td>\n",
       "      <td>[0.5420783319837541, 0.5407701727467595, 0.531...</td>\n",
       "      <td>[0.06760048721071864, 0.06151035322777101, 0.0...</td>\n",
       "      <td>[0.6580075576108396, 0.6580075576108396, 0.651...</td>\n",
       "      <td>[0.0, 0.004889975550122249, 0.0073349633251833...</td>\n",
       "    </tr>\n",
       "  </tbody>\n",
       "</table>\n",
       "</div>"
      ],
      "text/plain": [
       "         date                 time  \\\n",
       "0  2022-05-01  04:30:00 - 12:00:00   \n",
       "1  2022-05-01  12:00:00 - 20:30:00   \n",
       "2  2022-05-02  04:30:00 - 12:00:00   \n",
       "3  2022-05-02  12:00:00 - 20:30:00   \n",
       "4  2022-05-03  04:30:00 - 12:00:00   \n",
       "5  2022-05-03  12:00:00 - 20:30:00   \n",
       "6  2022-05-04  04:30:00 - 12:00:00   \n",
       "7  2022-05-04  12:00:00 - 20:30:00   \n",
       "8  2022-05-05  04:30:00 - 12:00:00   \n",
       "9  2022-05-05  12:00:00 - 20:30:00   \n",
       "\n",
       "                                         temperature  \\\n",
       "0  [0.5407701727467595, 0.5287511517583859, 0.523...   \n",
       "1  [0.6737696263652443, 0.6129114961128564, 0.616...   \n",
       "2  [0.5307988192570072, 0.5329482276223272, 0.532...   \n",
       "3  [0.6526205633948837, 0.6408468183647317, 0.624...   \n",
       "4  [0.5451853271330666, 0.5458393755618438, 0.545...   \n",
       "5  [0.6270744984552667, 0.6323435649962263, 0.619...   \n",
       "6  [0.5307134218035979, 0.5329210301864715, 0.534...   \n",
       "7  [0.6365134434243119, 0.6224776327601349, 0.612...   \n",
       "8  [0.5335750786152488, 0.5348833002316835, 0.536...   \n",
       "9  [0.5420783319837541, 0.5407701727467595, 0.531...   \n",
       "\n",
       "                                          luminosity  \\\n",
       "0  [0.04202192448233861, 0.05724725943970767, 0.0...   \n",
       "1  [0.08404384896467722, 0.06394640682095006, 0.0...   \n",
       "2  [0.029232643118148598, 0.06151035322777101, 0....   \n",
       "3  [0.6741778319123021, 0.07338611449451887, 0.03...   \n",
       "4  [0.049939098660170524, 0.055420219244823384, 0...   \n",
       "5  [0.3861144945188794, 0.08952496954933008, 0.02...   \n",
       "6  [0.008526187576126675, 0.07277710109622411, 0....   \n",
       "7  [0.40255785627283797, 0.11297198538367843, 0.0...   \n",
       "8  [0.005176613885505481, 0.021315468940316686, 0...   \n",
       "9  [0.06760048721071864, 0.06151035322777101, 0.0...   \n",
       "\n",
       "                                            humidity  \\\n",
       "0  [0.5641272793079329, 0.5507158109789462, 0.537...   \n",
       "1  [0.3763667227021194, 0.36295525437313275, 0.36...   \n",
       "2  [0.5373043426499595, 0.5976559501303996, 0.530...   \n",
       "3  [0.3763667227021194, 0.36295525437313275, 0.36...   \n",
       "4  [0.6043616842948929, 0.5775387476369196, 0.564...   \n",
       "5  [0.4300125960180662, 0.4300125960180662, 0.456...   \n",
       "6  [0.644596089281853, 0.6311846209528663, 0.6445...   \n",
       "7  [0.4233068618535728, 0.4233068618535728, 0.443...   \n",
       "8  [0.644596089281853, 0.725064899255773, 0.69824...   \n",
       "9  [0.6580075576108396, 0.6580075576108396, 0.651...   \n",
       "\n",
       "                                              motion  \n",
       "0  [0.0, 0.0, 0.004889975550122249, 0.00977995110...  \n",
       "1  [0.007334963325183374, 0.007334963325183374, 0...  \n",
       "2  [0.0024449877750611247, 0.009779951100244499, ...  \n",
       "3  [0.0, 0.0, 0.012224938875305624, 0.01466992665...  \n",
       "4  [0.012224938875305624, 0.0024449877750611247, ...  \n",
       "5  [0.0, 0.0, 0.007334963325183374, 0.00244498777...  \n",
       "6  [0.004889975550122249, 0.009779951100244499, 0...  \n",
       "7  [0.0024449877750611247, 0.007334963325183374, ...  \n",
       "8  [0.009779951100244499, 0.009779951100244499, 0...  \n",
       "9  [0.0, 0.004889975550122249, 0.0073349633251833...  "
      ]
     },
     "execution_count": 11,
     "metadata": {},
     "output_type": "execute_result"
    }
   ],
   "source": [
    "time_df = pd.DataFrame(df_data)\n",
    "time_df.head(10)"
   ]
  },
  {
   "cell_type": "markdown",
   "metadata": {},
   "source": [
    "### 1.1.2. Time-series & multi-dimension"
   ]
  },
  {
   "cell_type": "code",
   "execution_count": 12,
   "metadata": {},
   "outputs": [],
   "source": [
    "preprocessed_df = {\n",
    "    \"date\": [],\n",
    "    \"time\": [],\n",
    "    \"data\": []\n",
    "}"
   ]
  },
  {
   "cell_type": "code",
   "execution_count": 13,
   "metadata": {},
   "outputs": [],
   "source": [
    "for index, row in time_df.iterrows():\n",
    "    data = row[datatypes[0]]\n",
    "    \n",
    "    for i in range(1, len(datatypes)):\n",
    "        datatype = datatypes[i]\n",
    "\n",
    "        data = np.vstack((data, row[datatype]))\n",
    "        data = torch.from_numpy(data)\n",
    "        data = torch.squeeze(data)\n",
    "\n",
    "    preprocessed_df[\"date\"].append(row[\"date\"])\n",
    "    preprocessed_df[\"time\"].append(row[\"time\"])\n",
    "    preprocessed_df[\"data\"].append(data)"
   ]
  },
  {
   "cell_type": "code",
   "execution_count": 14,
   "metadata": {},
   "outputs": [
    {
     "data": {
      "text/html": [
       "<div>\n",
       "<style scoped>\n",
       "    .dataframe tbody tr th:only-of-type {\n",
       "        vertical-align: middle;\n",
       "    }\n",
       "\n",
       "    .dataframe tbody tr th {\n",
       "        vertical-align: top;\n",
       "    }\n",
       "\n",
       "    .dataframe thead th {\n",
       "        text-align: right;\n",
       "    }\n",
       "</style>\n",
       "<table border=\"1\" class=\"dataframe\">\n",
       "  <thead>\n",
       "    <tr style=\"text-align: right;\">\n",
       "      <th></th>\n",
       "      <th>date</th>\n",
       "      <th>time</th>\n",
       "      <th>data</th>\n",
       "    </tr>\n",
       "  </thead>\n",
       "  <tbody>\n",
       "    <tr>\n",
       "      <th>0</th>\n",
       "      <td>2022-05-01</td>\n",
       "      <td>04:30:00 - 12:00:00</td>\n",
       "      <td>[[tensor(0.5408, dtype=torch.float64), tensor(...</td>\n",
       "    </tr>\n",
       "    <tr>\n",
       "      <th>1</th>\n",
       "      <td>2022-05-01</td>\n",
       "      <td>12:00:00 - 20:30:00</td>\n",
       "      <td>[[tensor(0.6738, dtype=torch.float64), tensor(...</td>\n",
       "    </tr>\n",
       "    <tr>\n",
       "      <th>2</th>\n",
       "      <td>2022-05-02</td>\n",
       "      <td>04:30:00 - 12:00:00</td>\n",
       "      <td>[[tensor(0.5308, dtype=torch.float64), tensor(...</td>\n",
       "    </tr>\n",
       "    <tr>\n",
       "      <th>3</th>\n",
       "      <td>2022-05-02</td>\n",
       "      <td>12:00:00 - 20:30:00</td>\n",
       "      <td>[[tensor(0.6526, dtype=torch.float64), tensor(...</td>\n",
       "    </tr>\n",
       "    <tr>\n",
       "      <th>4</th>\n",
       "      <td>2022-05-03</td>\n",
       "      <td>04:30:00 - 12:00:00</td>\n",
       "      <td>[[tensor(0.5452, dtype=torch.float64), tensor(...</td>\n",
       "    </tr>\n",
       "  </tbody>\n",
       "</table>\n",
       "</div>"
      ],
      "text/plain": [
       "         date                 time  \\\n",
       "0  2022-05-01  04:30:00 - 12:00:00   \n",
       "1  2022-05-01  12:00:00 - 20:30:00   \n",
       "2  2022-05-02  04:30:00 - 12:00:00   \n",
       "3  2022-05-02  12:00:00 - 20:30:00   \n",
       "4  2022-05-03  04:30:00 - 12:00:00   \n",
       "\n",
       "                                                data  \n",
       "0  [[tensor(0.5408, dtype=torch.float64), tensor(...  \n",
       "1  [[tensor(0.6738, dtype=torch.float64), tensor(...  \n",
       "2  [[tensor(0.5308, dtype=torch.float64), tensor(...  \n",
       "3  [[tensor(0.6526, dtype=torch.float64), tensor(...  \n",
       "4  [[tensor(0.5452, dtype=torch.float64), tensor(...  "
      ]
     },
     "execution_count": 14,
     "metadata": {},
     "output_type": "execute_result"
    }
   ],
   "source": [
    "preprocessed_df = pd.DataFrame(preprocessed_df)\n",
    "preprocessed_df.head(5)"
   ]
  },
  {
   "cell_type": "code",
   "execution_count": 15,
   "metadata": {},
   "outputs": [
    {
     "data": {
      "text/plain": [
       "tensor([[0.5408, 0.5288, 0.5232, 0.5509, 0.6220],\n",
       "        [0.0420, 0.0572, 0.0859, 0.2476, 0.2034],\n",
       "        [0.5641, 0.5507, 0.5373, 0.5105, 0.4770],\n",
       "        [0.0000, 0.0000, 0.0049, 0.0098, 0.0171]], dtype=torch.float64)"
      ]
     },
     "execution_count": 15,
     "metadata": {},
     "output_type": "execute_result"
    }
   ],
   "source": [
    "preprocessed_df.loc[0][\"data\"]"
   ]
  },
  {
   "cell_type": "code",
   "execution_count": 16,
   "metadata": {},
   "outputs": [
    {
     "data": {
      "text/plain": [
       "torch.Size([4, 5])"
      ]
     },
     "execution_count": 16,
     "metadata": {},
     "output_type": "execute_result"
    }
   ],
   "source": [
    "preprocessed_df.loc[0][\"data\"].shape"
   ]
  },
  {
   "cell_type": "code",
   "execution_count": 17,
   "metadata": {},
   "outputs": [
    {
     "data": {
      "text/html": [
       "<div>\n",
       "<style scoped>\n",
       "    .dataframe tbody tr th:only-of-type {\n",
       "        vertical-align: middle;\n",
       "    }\n",
       "\n",
       "    .dataframe tbody tr th {\n",
       "        vertical-align: top;\n",
       "    }\n",
       "\n",
       "    .dataframe thead th {\n",
       "        text-align: right;\n",
       "    }\n",
       "</style>\n",
       "<table border=\"1\" class=\"dataframe\">\n",
       "  <thead>\n",
       "    <tr style=\"text-align: right;\">\n",
       "      <th></th>\n",
       "      <th>date</th>\n",
       "      <th>time</th>\n",
       "      <th>data</th>\n",
       "    </tr>\n",
       "  </thead>\n",
       "  <tbody>\n",
       "    <tr>\n",
       "      <th>0</th>\n",
       "      <td>2022-05-01</td>\n",
       "      <td>04:30:00 - 12:00:00</td>\n",
       "      <td>[[tensor(0.5408, dtype=torch.float64), tensor(...</td>\n",
       "    </tr>\n",
       "    <tr>\n",
       "      <th>1</th>\n",
       "      <td>2022-05-01</td>\n",
       "      <td>12:00:00 - 20:30:00</td>\n",
       "      <td>[[tensor(0.6738, dtype=torch.float64), tensor(...</td>\n",
       "    </tr>\n",
       "    <tr>\n",
       "      <th>2</th>\n",
       "      <td>2022-05-02</td>\n",
       "      <td>04:30:00 - 12:00:00</td>\n",
       "      <td>[[tensor(0.5308, dtype=torch.float64), tensor(...</td>\n",
       "    </tr>\n",
       "    <tr>\n",
       "      <th>3</th>\n",
       "      <td>2022-05-02</td>\n",
       "      <td>12:00:00 - 20:30:00</td>\n",
       "      <td>[[tensor(0.6526, dtype=torch.float64), tensor(...</td>\n",
       "    </tr>\n",
       "    <tr>\n",
       "      <th>4</th>\n",
       "      <td>2022-05-03</td>\n",
       "      <td>04:30:00 - 12:00:00</td>\n",
       "      <td>[[tensor(0.5452, dtype=torch.float64), tensor(...</td>\n",
       "    </tr>\n",
       "    <tr>\n",
       "      <th>5</th>\n",
       "      <td>2022-05-03</td>\n",
       "      <td>12:00:00 - 20:30:00</td>\n",
       "      <td>[[tensor(0.6271, dtype=torch.float64), tensor(...</td>\n",
       "    </tr>\n",
       "    <tr>\n",
       "      <th>6</th>\n",
       "      <td>2022-05-04</td>\n",
       "      <td>04:30:00 - 12:00:00</td>\n",
       "      <td>[[tensor(0.5307, dtype=torch.float64), tensor(...</td>\n",
       "    </tr>\n",
       "    <tr>\n",
       "      <th>7</th>\n",
       "      <td>2022-05-04</td>\n",
       "      <td>12:00:00 - 20:30:00</td>\n",
       "      <td>[[tensor(0.6365, dtype=torch.float64), tensor(...</td>\n",
       "    </tr>\n",
       "    <tr>\n",
       "      <th>8</th>\n",
       "      <td>2022-05-05</td>\n",
       "      <td>04:30:00 - 12:00:00</td>\n",
       "      <td>[[tensor(0.5336, dtype=torch.float64), tensor(...</td>\n",
       "    </tr>\n",
       "    <tr>\n",
       "      <th>9</th>\n",
       "      <td>2022-05-05</td>\n",
       "      <td>12:00:00 - 20:30:00</td>\n",
       "      <td>[[tensor(0.5421, dtype=torch.float64), tensor(...</td>\n",
       "    </tr>\n",
       "  </tbody>\n",
       "</table>\n",
       "</div>"
      ],
      "text/plain": [
       "         date                 time  \\\n",
       "0  2022-05-01  04:30:00 - 12:00:00   \n",
       "1  2022-05-01  12:00:00 - 20:30:00   \n",
       "2  2022-05-02  04:30:00 - 12:00:00   \n",
       "3  2022-05-02  12:00:00 - 20:30:00   \n",
       "4  2022-05-03  04:30:00 - 12:00:00   \n",
       "5  2022-05-03  12:00:00 - 20:30:00   \n",
       "6  2022-05-04  04:30:00 - 12:00:00   \n",
       "7  2022-05-04  12:00:00 - 20:30:00   \n",
       "8  2022-05-05  04:30:00 - 12:00:00   \n",
       "9  2022-05-05  12:00:00 - 20:30:00   \n",
       "\n",
       "                                                data  \n",
       "0  [[tensor(0.5408, dtype=torch.float64), tensor(...  \n",
       "1  [[tensor(0.6738, dtype=torch.float64), tensor(...  \n",
       "2  [[tensor(0.5308, dtype=torch.float64), tensor(...  \n",
       "3  [[tensor(0.6526, dtype=torch.float64), tensor(...  \n",
       "4  [[tensor(0.5452, dtype=torch.float64), tensor(...  \n",
       "5  [[tensor(0.6271, dtype=torch.float64), tensor(...  \n",
       "6  [[tensor(0.5307, dtype=torch.float64), tensor(...  \n",
       "7  [[tensor(0.6365, dtype=torch.float64), tensor(...  \n",
       "8  [[tensor(0.5336, dtype=torch.float64), tensor(...  \n",
       "9  [[tensor(0.5421, dtype=torch.float64), tensor(...  "
      ]
     },
     "execution_count": 17,
     "metadata": {},
     "output_type": "execute_result"
    }
   ],
   "source": [
    "preprocessed_df = preprocessed_df.drop(\n",
    "    index=preprocessed_df[\n",
    "        preprocessed_df[\"data\"].apply(lambda x: x.shape != torch.Size([4, 5]))\n",
    "    ].index\n",
    ").reset_index(drop=True)\n",
    "\n",
    "preprocessed_df.head(10)"
   ]
  },
  {
   "cell_type": "code",
   "execution_count": 18,
   "metadata": {},
   "outputs": [],
   "source": [
    "data = torch.stack(\n",
    "    tuple(preprocessed_df[\"data\"])\n",
    ")"
   ]
  },
  {
   "cell_type": "code",
   "execution_count": 19,
   "metadata": {},
   "outputs": [
    {
     "data": {
      "text/plain": [
       "torch.Size([876, 4, 5])"
      ]
     },
     "execution_count": 19,
     "metadata": {},
     "output_type": "execute_result"
    }
   ],
   "source": [
    "data.shape"
   ]
  },
  {
   "cell_type": "code",
   "execution_count": 20,
   "metadata": {},
   "outputs": [
    {
     "data": {
      "image/png": "[encoded data removed]",
      "text/plain": [
       "<Figure size 1500x500 with 5 Axes>"
      ]
     },
     "metadata": {},
     "output_type": "display_data"
    }
   ],
   "source": [
    "num_samples = 5  # Số lượng ma trận muốn hiển thị\n",
    "fig, axes = plt.subplots(1, num_samples, figsize=(15, 5))\n",
    "\n",
    "for i in range(num_samples):\n",
    "    ax = axes[i]\n",
    "    ax.imshow(data[i], cmap='viridis', aspect='auto')\n",
    "    ax.set_title(f\"Sample {i}\")\n",
    "    ax.axis(\"off\")\n",
    "\n",
    "plt.show()"
   ]
  },
  {
   "cell_type": "code",
   "execution_count": 24,
   "metadata": {},
   "outputs": [
    {
     "data": {
      "application/vnd.plotly.v1+json": {
       "config": {
        "plotlyServerURL": "https://plot.ly"
       },
       "data": [
        {
         "colorscale": [
          [
           0,
           "#440154"
          ],
          [
           0.1111111111111111,
           "#482878"
          ],
          [
           0.2222222222222222,
           "#3e4989"
          ],
          [
           0.3333333333333333,
           "#31688e"
          ],
          [
           0.4444444444444444,
           "#26828e"
          ],
          [
           0.5555555555555556,
           "#1f9e89"
          ],
          [
           0.6666666666666666,
           "#35b779"
          ],
          [
           0.7777777777777778,
           "#6ece58"
          ],
          [
           0.8888888888888888,
           "#b5de2b"
          ],
          [
           1,
           "#fde725"
          ]
         ],
         "showscale": true,
         "surfacecolor": {
          "bdata": "8i/TP/1N4T+HyRCJh+vgP9YL/Os0vuA/vDxkKAuh4T9V3tunw+fjP2m2u87lg6U/MokoRoNPrT/mZp50ovu1P9wGgsP5r88/ybX1vFoJyj/FFu2mVA3iPx1uscN2n+E/dsV14Jgx4T8odP4Z3VXgPwyd0sNkht4/AAAAAAAAAAAAAAAAAAAAAGZlDtGCB3Q/ZmUO0YIHhD+5mOx2koaRPw==",
          "dtype": "f8",
          "shape": "4, 5"
         },
         "type": "surface",
         "x": {
          "bdata": "AAECAwQ=",
          "dtype": "i1"
         },
         "y": {
          "bdata": "AAECAw==",
          "dtype": "i1"
         },
         "z": {
          "bdata": "AAAAAAAAAAAAAAAAAAAAAAAAAAA=",
          "dtype": "i1",
          "shape": "4, 5"
         }
        },
        {
         "colorscale": [
          [
           0,
           "#440154"
          ],
          [
           0.1111111111111111,
           "#482878"
          ],
          [
           0.2222222222222222,
           "#3e4989"
          ],
          [
           0.3333333333333333,
           "#31688e"
          ],
          [
           0.4444444444444444,
           "#26828e"
          ],
          [
           0.5555555555555556,
           "#1f9e89"
          ],
          [
           0.6666666666666666,
           "#35b779"
          ],
          [
           0.7777777777777778,
           "#6ece58"
          ],
          [
           0.8888888888888888,
           "#b5de2b"
          ],
          [
           1,
           "#fde725"
          ]
         ],
         "showscale": true,
         "surfacecolor": {
          "bdata": "EdzIUYWP5T9zteSR+JzjP38Uup3etuM/4Mu4gDVB4z9ITK14fu/iP2m2u87lg7U/DSH+rcpesD9Rb4/k9/GoP8VLee8AqZo/AAAAAAAAAAA/u1NzZBbYP/Fp3KyoOtc/8WncrKg61z86OC1IMbvYP2T0luCGGN4/GZiVOUQLfj8ZmJU5RAt+P2ZlDtGCB2Q/ZmUO0YIHZD8ZmJU5RAuOPw==",
          "dtype": "f8",
          "shape": "4, 5"
         },
         "type": "surface",
         "x": {
          "bdata": "AAECAwQ=",
          "dtype": "i1"
         },
         "y": {
          "bdata": "AAECAw==",
          "dtype": "i1"
         },
         "z": {
          "bdata": "AQEBAQEBAQEBAQEBAQEBAQEBAQE=",
          "dtype": "i1",
          "shape": "4, 5"
         }
        },
        {
         "colorscale": [
          [
           0,
           "#440154"
          ],
          [
           0.1111111111111111,
           "#482878"
          ],
          [
           0.2222222222222222,
           "#3e4989"
          ],
          [
           0.3333333333333333,
           "#31688e"
          ],
          [
           0.4444444444444444,
           "#26828e"
          ],
          [
           0.5555555555555556,
           "#1f9e89"
          ],
          [
           0.6666666666666666,
           "#35b779"
          ],
          [
           0.7777777777777778,
           "#6ece58"
          ],
          [
           0.8888888888888888,
           "#b5de2b"
          ],
          [
           1,
           "#fde725"
          ]
         ],
         "showscale": true,
         "surfacecolor": {
          "bdata": "Otsuzk384D9+KwNx6Q3hP7XRaCc/BuE/sjKLp2JJ4j/A1WuL/FDjPy4frHgp750/Ixb19kh+rz9Y1Nsj+X3MP8+OHuZmntQ/3MyTTnS/4j92xXXgmDHhP2c8Al//H+M/I/HX7qn64D8Wox8ayzzdPyqvucaXqdo/ZmUO0YIHZD9mZQ7RggeEP2ZlDtGCB3Q/AAAAAAAAAABmZQ7RggdkPw==",
          "dtype": "f8",
          "shape": "4, 5"
         },
         "type": "surface",
         "x": {
          "bdata": "AAECAwQ=",
          "dtype": "i1"
         },
         "y": {
          "bdata": "AAECAw==",
          "dtype": "i1"
         },
         "z": {
          "bdata": "AgICAgICAgICAgICAgICAgICAgI=",
          "dtype": "i1",
          "shape": "4, 5"
         }
        },
        {
         "colorscale": [
          [
           0,
           "#440154"
          ],
          [
           0.1111111111111111,
           "#482878"
          ],
          [
           0.2222222222222222,
           "#3e4989"
          ],
          [
           0.3333333333333333,
           "#31688e"
          ],
          [
           0.4444444444444444,
           "#26828e"
          ],
          [
           0.5555555555555556,
           "#1f9e89"
          ],
          [
           0.6666666666666666,
           "#35b779"
          ],
          [
           0.7777777777777778,
           "#6ece58"
          ],
          [
           0.8888888888888888,
           "#b5de2b"
          ],
          [
           1,
           "#fde725"
          ]
         ],
         "showscale": true,
         "surfacecolor": {
          "bdata": "w0wPhUTi5D/b6NMv0YHkP5m0WF6h+uM/0ejt5qqL4z/EJ4OvnQnjP3kMeGPdkuU/PAa8sW7Jsj/zpBPdrxykP447XSHhNqA/WkOIf6uydz8/u1NzZBbYP/Fp3KyoOtc/8WncrKg61z/xadysqDrXP4QGfuO5O9o/AAAAAAAAAAAAAAAAAAAAAMD+UYVjCYk/GZiVOUQLjj/A/lGFYwmJPw==",
          "dtype": "f8",
          "shape": "4, 5"
         },
         "type": "surface",
         "x": {
          "bdata": "AAECAwQ=",
          "dtype": "i1"
         },
         "y": {
          "bdata": "AAECAw==",
          "dtype": "i1"
         },
         "z": {
          "bdata": "AwMDAwMDAwMDAwMDAwMDAwMDAwM=",
          "dtype": "i1",
          "shape": "4, 5"
         }
        },
        {
         "colorscale": [
          [
           0,
           "#440154"
          ],
          [
           0.1111111111111111,
           "#482878"
          ],
          [
           0.2222222222222222,
           "#3e4989"
          ],
          [
           0.3333333333333333,
           "#31688e"
          ],
          [
           0.4444444444444444,
           "#26828e"
          ],
          [
           0.5555555555555556,
           "#1f9e89"
          ],
          [
           0.6666666666666666,
           "#35b779"
          ],
          [
           0.7777777777777778,
           "#6ece58"
          ],
          [
           0.8888888888888888,
           "#b5de2b"
          ],
          [
           1,
           "#fde725"
          ]
         ],
         "showscale": true,
         "surfacecolor": {
          "bdata": "aXXJfyhy4T+gB10jhHfhP8iKxn3RcOE/uxqCwvf34T8g6ymLcIrjP00FExeekak/OShj+glgrD/bXefywYq3P4WE20BwOM8//nPc6QoJ1z+6EKBQ7lbjP2y/KIoye+I/xRbtplQN4j/KmRPSh2jhP2764zbtztw/wP5RhWMJiT9mZQ7RggdkP2ZlDtGCB2Q/ZmUO0YIHhD9mZQ7RggeEPw==",
          "dtype": "f8",
          "shape": "4, 5"
         },
         "type": "surface",
         "x": {
          "bdata": "AAECAwQ=",
          "dtype": "i1"
         },
         "y": {
          "bdata": "AAECAw==",
          "dtype": "i1"
         },
         "z": {
          "bdata": "BAQEBAQEBAQEBAQEBAQEBAQEBAQ=",
          "dtype": "i1",
          "shape": "4, 5"
         }
        },
        {
         "colorscale": [
          [
           0,
           "#440154"
          ],
          [
           0.1111111111111111,
           "#482878"
          ],
          [
           0.2222222222222222,
           "#3e4989"
          ],
          [
           0.3333333333333333,
           "#31688e"
          ],
          [
           0.4444444444444444,
           "#26828e"
          ],
          [
           0.5555555555555556,
           "#1f9e89"
          ],
          [
           0.6666666666666666,
           "#35b779"
          ],
          [
           0.7777777777777778,
           "#6ece58"
          ],
          [
           0.8888888888888888,
           "#b5de2b"
          ],
          [
           1,
           "#fde725"
          ]
         ],
         "showscale": true,
         "surfacecolor": {
          "bdata": "0Kvgif4Q5D/A1W+SKDzkP6HfoJlZ1uM/+157m60u4z/q1ZEB3pjiPxMXnpEZttg/38djwBvrtj9Im5ZJRDGaP0DHna6QcIs/hmdkhi12YT96ADGNU4XbP3oAMY1Thds/FqMfGss83T8odP4Z3VXgPxNoZG0Q6eI/AAAAAAAAAAAAAAAAAAAAABmYlTlEC34/ZmUO0YIHZD9mZQ7RggeEPw==",
          "dtype": "f8",
          "shape": "4, 5"
         },
         "type": "surface",
         "x": {
          "bdata": "AAECAwQ=",
          "dtype": "i1"
         },
         "y": {
          "bdata": "AAECAw==",
          "dtype": "i1"
         },
         "z": {
          "bdata": "BQUFBQUFBQUFBQUFBQUFBQUFBQU=",
          "dtype": "i1",
          "shape": "4, 5"
         }
        },
        {
         "colorscale": [
          [
           0,
           "#440154"
          ],
          [
           0.1111111111111111,
           "#482878"
          ],
          [
           0.2222222222222222,
           "#3e4989"
          ],
          [
           0.3333333333333333,
           "#31688e"
          ],
          [
           0.4444444444444444,
           "#26828e"
          ],
          [
           0.5555555555555556,
           "#1f9e89"
          ],
          [
           0.6666666666666666,
           "#35b779"
          ],
          [
           0.7777777777777778,
           "#6ece58"
          ],
          [
           0.8888888888888888,
           "#b5de2b"
          ],
          [
           1,
           "#fde725"
          ]
         ],
         "showscale": true,
         "surfacecolor": {
          "bdata": "CTvGtpr74D98DIBnsA3hP01Rsy0rHeE/vHxW7FMl4j8Dm3mS5gTkP4ZnZIYtdoE/vSAbJYWhsj9C/FuVvSC7P/8cd7pCwt0/FIZK7cvq0z+wClP6h6DkPwliFxeqMuQ/sApT+oeg5D9xQk+1ZdbhP2T0luCGGN4/ZmUO0YIHdD9mZQ7RggeEP8D+UYVjCYk/ZmUO0YIHdD8ZmJU5RAuOPw==",
          "dtype": "f8",
          "shape": "4, 5"
         },
         "type": "surface",
         "x": {
          "bdata": "AAECAwQ=",
          "dtype": "i1"
         },
         "y": {
          "bdata": "AAECAw==",
          "dtype": "i1"
         },
         "z": {
          "bdata": "BgYGBgYGBgYGBgYGBgYGBgYGBgY=",
          "dtype": "i1",
          "shape": "4, 5"
         }
        },
        {
         "colorscale": [
          [
           0,
           "#440154"
          ],
          [
           0.1111111111111111,
           "#482878"
          ],
          [
           0.2222222222222222,
           "#3e4989"
          ],
          [
           0.3333333333333333,
           "#31688e"
          ],
          [
           0.4444444444444444,
           "#26828e"
          ],
          [
           0.5555555555555556,
           "#1f9e89"
          ],
          [
           0.6666666666666666,
           "#35b779"
          ],
          [
           0.7777777777777778,
           "#6ece58"
          ],
          [
           0.8888888888888888,
           "#b5de2b"
          ],
          [
           1,
           "#fde725"
          ]
         ],
         "showscale": true,
         "surfacecolor": {
          "bdata": "tRjfcFFe5D/oR2Y2VuvjP2JO4WRom+M/+YnhlGv/4j9IblDgXNPiPysk3AaCw9k/dUuWZrvrvD+GZ2SGLXaRP1Fvj+T38Wg/hmdkhi12cT/SV/WpdRfbP9JX9al1F9s/yFGoUw9h3D+yRQ6nQvTePyh0/hndVeA/ZmUO0YIHZD8ZmJU5RAt+P2ZlDtGCB2Q/GZiVOUQLfj/A/lGFYwmJPw==",
          "dtype": "f8",
          "shape": "4, 5"
         },
         "type": "surface",
         "x": {
          "bdata": "AAECAwQ=",
          "dtype": "i1"
         },
         "y": {
          "bdata": "AAECAw==",
          "dtype": "i1"
         },
         "z": {
          "bdata": "BwcHBwcHBwcHBwcHBwcHBwcHBwc=",
          "dtype": "i1",
          "shape": "4, 5"
         }
        },
        {
         "colorscale": [
          [
           0,
           "#440154"
          ],
          [
           0.1111111111111111,
           "#482878"
          ],
          [
           0.2222222222222222,
           "#3e4989"
          ],
          [
           0.3333333333333333,
           "#31688e"
          ],
          [
           0.4444444444444444,
           "#26828e"
          ],
          [
           0.5555555555555556,
           "#1f9e89"
          ],
          [
           0.6666666666666666,
           "#35b779"
          ],
          [
           0.7777777777777778,
           "#6ece58"
          ],
          [
           0.8888888888888888,
           "#b5de2b"
          ],
          [
           1,
           "#fde725"
          ]
         ],
         "showscale": true,
         "surfacecolor": {
          "bdata": "s54TCwwT4T/+fTWVwx3hPxyBnS58KeE/IB97J2g84T/sCCIVGmbhP2vrebUSNHU/Z4H957jTlT9r63m1EjSVP+H8IadIm7Y/U6RNyySiqD+wClP6h6DkP5v+uE27M+c/Ta1Bh/9X5j9SMGiyMrPlP/5bysBDfOU/ZmUO0YIHhD9mZQ7RggeEPxmYlTlEC34/GZiVOUQLjj8ZmJU5RAt+Pw==",
          "dtype": "f8",
          "shape": "4, 5"
         },
         "type": "surface",
         "x": {
          "bdata": "AAECAwQ=",
          "dtype": "i1"
         },
         "y": {
          "bdata": "AAECAw==",
          "dtype": "i1"
         },
         "z": {
          "bdata": "CAgICAgICAgICAgICAgICAgICAg=",
          "dtype": "i1",
          "shape": "4, 5"
         }
        },
        {
         "colorscale": [
          [
           0,
           "#440154"
          ],
          [
           0.1111111111111111,
           "#482878"
          ],
          [
           0.2222222222222222,
           "#3e4989"
          ],
          [
           0.3333333333333333,
           "#31688e"
          ],
          [
           0.4444444444444444,
           "#26828e"
          ],
          [
           0.5555555555555556,
           "#1f9e89"
          ],
          [
           0.6666666666666666,
           "#35b779"
          ],
          [
           0.7777777777777778,
           "#6ece58"
          ],
          [
           0.8888888888888888,
           "#b5de2b"
          ],
          [
           1,
           "#fde725"
          ]
         ],
         "showscale": true,
         "surfacecolor": {
          "bdata": "zrF3qLRY4T/yL9M//U3hP8GwXbK/AuE/OZjX2i4o4T/ps2iPPVThPweCw/lDTrE/Ixb19kh+rz/W82olaCq4PztdIeE2EIw/hmdkhi12cT9Xs47dZQ7lP1ezjt1lDuU/BN/w63bX5D8E3/DrdtfkP6YEBqQh6uU/AAAAAAAAAABmZQ7Rggd0PxmYlTlEC34/GZiVOUQLfj9mZQ7RggdkPw==",
          "dtype": "f8",
          "shape": "4, 5"
         },
         "type": "surface",
         "x": {
          "bdata": "AAECAwQ=",
          "dtype": "i1"
         },
         "y": {
          "bdata": "AAECAw==",
          "dtype": "i1"
         },
         "z": {
          "bdata": "CQkJCQkJCQkJCQkJCQkJCQkJCQk=",
          "dtype": "i1",
          "shape": "4, 5"
         }
        },
        {
         "colorscale": [
          [
           0,
           "#440154"
          ],
          [
           0.1111111111111111,
           "#482878"
          ],
          [
           0.2222222222222222,
           "#3e4989"
          ],
          [
           0.3333333333333333,
           "#31688e"
          ],
          [
           0.4444444444444444,
           "#26828e"
          ],
          [
           0.5555555555555556,
           "#1f9e89"
          ],
          [
           0.6666666666666666,
           "#35b779"
          ],
          [
           0.7777777777777778,
           "#6ece58"
          ],
          [
           0.8888888888888888,
           "#b5de2b"
          ],
          [
           1,
           "#fde725"
          ]
         ],
         "showscale": true,
         "surfacecolor": {
          "bdata": "134Ezntw4T+J/CanhRnhP/UBy+QDJOE/ZLrjvU8E4T9xKul69LfgPwAAAAAAAAAAWkOIf6uyhz+B/ee40xWiP0iblklEMZo/ybX1vFoJqj9Xs47dZQ7lP/5bysBDfOU//lvKwEN85T/+W8rAQ3zlP6GB33jujuY/ZmUO0YIHZD8AAAAAAAAAAGZlDtGCB3Q/wP5RhWMJiT8ZmJU5RAt+Pw==",
          "dtype": "f8",
          "shape": "4, 5"
         },
         "type": "surface",
         "x": {
          "bdata": "AAECAwQ=",
          "dtype": "i1"
         },
         "y": {
          "bdata": "AAECAw==",
          "dtype": "i1"
         },
         "z": {
          "bdata": "CgoKCgoKCgoKCgoKCgoKCgoKCgo=",
          "dtype": "i1",
          "shape": "4, 5"
         }
        },
        {
         "colorscale": [
          [
           0,
           "#440154"
          ],
          [
           0.1111111111111111,
           "#482878"
          ],
          [
           0.2222222222222222,
           "#3e4989"
          ],
          [
           0.3333333333333333,
           "#31688e"
          ],
          [
           0.4444444444444444,
           "#26828e"
          ],
          [
           0.5555555555555556,
           "#1f9e89"
          ],
          [
           0.6666666666666666,
           "#35b779"
          ],
          [
           0.7777777777777778,
           "#6ece58"
          ],
          [
           0.8888888888888888,
           "#b5de2b"
          ],
          [
           1,
           "#fde725"
          ]
         ],
         "showscale": true,
         "surfacecolor": {
          "bdata": "Gx8IA1XB4D8+nWOanbbgP2YgzfTqr+A/ZiDN9Oqv4D/dZcM0FtTgP4rR4FOH1qA/7AXZKCkMpT8uH6x4Ke+dP4ZnZIYtdpE/YheBGl9zZj9Xs47dZQ7lP7AKU/qHoOQ/sApT+oeg5D9Xs47dZQ7lP6uHLM9UReU/AAAAAAAAAAAAAAAAAAAAABmYlTlEC34/ZmUO0YIHdD9mZQ7RggdkPw==",
          "dtype": "f8",
          "shape": "4, 5"
         },
         "type": "surface",
         "x": {
          "bdata": "AAECAwQ=",
          "dtype": "i1"
         },
         "y": {
          "bdata": "AAECAw==",
          "dtype": "i1"
         },
         "z": {
          "bdata": "CwsLCwsLCwsLCwsLCwsLCwsLCws=",
          "dtype": "i1",
          "shape": "4, 5"
         }
        },
        {
         "colorscale": [
          [
           0,
           "#440154"
          ],
          [
           0.1111111111111111,
           "#482878"
          ],
          [
           0.2222222222222222,
           "#3e4989"
          ],
          [
           0.3333333333333333,
           "#31688e"
          ],
          [
           0.4444444444444444,
           "#26828e"
          ],
          [
           0.5555555555555556,
           "#1f9e89"
          ],
          [
           0.6666666666666666,
           "#35b779"
          ],
          [
           0.7777777777777778,
           "#6ece58"
          ],
          [
           0.8888888888888888,
           "#b5de2b"
          ],
          [
           1,
           "#fde725"
          ]
         ],
         "showscale": true,
         "surfacecolor": {
          "bdata": "2xDHqdgR4D+AANhuNBfgP9FhB93lJOA/M2Ax9pWA4D/ADhnIsMbgP2IXgRpfc3Y//q3KXpCNoj+22EWgxte8P8MWuwjU+Lo/tthFoMbXvD9NrUGH/1fmP02tQYf/V+Y/Ta1Bh/9X5j/+W8rAQ3zlP7AKU/qHoOQ/ZmUO0YIHZD8AAAAAAAAAAMD+UYVjCYk/wP5RhWMJiT8ZmJU5RAuOPw==",
          "dtype": "f8",
          "shape": "4, 5"
         },
         "type": "surface",
         "x": {
          "bdata": "AAECAwQ=",
          "dtype": "i1"
         },
         "y": {
          "bdata": "AAECAw==",
          "dtype": "i1"
         },
         "z": {
          "bdata": "DAwMDAwMDAwMDAwMDAwMDAwMDAw=",
          "dtype": "i1",
          "shape": "4, 5"
         }
        },
        {
         "colorscale": [
          [
           0,
           "#440154"
          ],
          [
           0.1111111111111111,
           "#482878"
          ],
          [
           0.2222222222222222,
           "#3e4989"
          ],
          [
           0.3333333333333333,
           "#31688e"
          ],
          [
           0.4444444444444444,
           "#26828e"
          ],
          [
           0.5555555555555556,
           "#1f9e89"
          ],
          [
           0.6666666666666666,
           "#35b779"
          ],
          [
           0.7777777777777778,
           "#6ece58"
          ],
          [
           0.8888888888888888,
           "#b5de2b"
          ],
          [
           1,
           "#fde725"
          ]
         ],
         "showscale": true,
         "surfacecolor": {
          "bdata": "V+wi67mM4T/pojjefrrhP1vjIFul2uE/gkTnTRTw4T/Uk951vuPhP7m2nlcrQcM/itHgU4fWsD9EMRp86tCqPw9WvJT3DqA/fZNr63m1cj+wClP6h6DkP2K52zPMxOM/uhCgUO5W4z/+W8rAQ3zlP/nYo5UQIeY/ZmUO0YIHhD8ZmJU5RAuOP2ZlDtGCB3Q/ZmUO0YIHZD9mZQ7RggdkPw==",
          "dtype": "f8",
          "shape": "4, 5"
         },
         "type": "surface",
         "x": {
          "bdata": "AAECAwQ=",
          "dtype": "i1"
         },
         "y": {
          "bdata": "AAECAw==",
          "dtype": "i1"
         },
         "z": {
          "bdata": "DQ0NDQ0NDQ0NDQ0NDQ0NDQ0NDQ0=",
          "dtype": "i1",
          "shape": "4, 5"
         }
        },
        {
         "colorscale": [
          [
           0,
           "#440154"
          ],
          [
           0.1111111111111111,
           "#482878"
          ],
          [
           0.2222222222222222,
           "#3e4989"
          ],
          [
           0.3333333333333333,
           "#31688e"
          ],
          [
           0.4444444444444444,
           "#26828e"
          ],
          [
           0.5555555555555556,
           "#1f9e89"
          ],
          [
           0.6666666666666666,
           "#35b779"
          ],
          [
           0.7777777777777778,
           "#6ece58"
          ],
          [
           0.8888888888888888,
           "#b5de2b"
          ],
          [
           1,
           "#fde725"
          ]
         ],
         "showscale": true,
         "surfacecolor": {
          "bdata": "kUIY1kBR4D87FRLzLAHgP/TOccGkReA/Pp1jmp224D+BIkDfCSHhPy4frHgp730/Qvxblb0gqz/IKdKmZRLBP6vPjh7mZr4/z8gMW+wi0D+mBAakIerlP/5bysBDfOU/q4csz1RF5T9Xs47dZQ7lP7WNeSW7++M/AAAAAAAAAABmZQ7RggdkPxmYlTlEC34/ZmUO0YIHdD/A/lGFYwmJPw==",
          "dtype": "f8",
          "shape": "4, 5"
         },
         "type": "surface",
         "x": {
          "bdata": "AAECAwQ=",
          "dtype": "i1"
         },
         "y": {
          "bdata": "AAECAw==",
          "dtype": "i1"
         },
         "z": {
          "bdata": "Dg4ODg4ODg4ODg4ODg4ODg4ODg4=",
          "dtype": "i1",
          "shape": "4, 5"
         }
        },
        {
         "colorscale": [
          [
           0,
           "#440154"
          ],
          [
           0.1111111111111111,
           "#482878"
          ],
          [
           0.2222222222222222,
           "#3e4989"
          ],
          [
           0.3333333333333333,
           "#31688e"
          ],
          [
           0.4444444444444444,
           "#26828e"
          ],
          [
           0.5555555555555556,
           "#1f9e89"
          ],
          [
           0.6666666666666666,
           "#35b779"
          ],
          [
           0.7777777777777778,
           "#6ece58"
          ],
          [
           0.8888888888888888,
           "#b5de2b"
          ],
          [
           1,
           "#fde725"
          ]
         ],
         "showscale": true,
         "surfacecolor": {
          "bdata": "5eH29Pje4j/0lYWGuwrjPwb6JVBFeOI/QOFyeX2P4j8OdpAABXLiP+wF2SgpDNU/5maedKL7tT8vyEZJYai0P1XZC7JRUpg/dL9yUMb0Yz9svyiKMnviPxNoZG0Q6eI/E2hkbRDp4j9svyiKMnviPxNoZG0Q6eI/ZmUO0YIHZD9mZQ7RggdkP2ZlDtGCB2Q/GZiVOUQLfj/A/lGFYwmJPw==",
          "dtype": "f8",
          "shape": "4, 5"
         },
         "type": "surface",
         "x": {
          "bdata": "AAECAwQ=",
          "dtype": "i1"
         },
         "y": {
          "bdata": "AAECAw==",
          "dtype": "i1"
         },
         "z": {
          "bdata": "Dw8PDw8PDw8PDw8PDw8PDw8PDw8=",
          "dtype": "i1",
          "shape": "4, 5"
         }
        },
        {
         "colorscale": [
          [
           0,
           "#440154"
          ],
          [
           0.1111111111111111,
           "#482878"
          ],
          [
           0.2222222222222222,
           "#3e4989"
          ],
          [
           0.3333333333333333,
           "#31688e"
          ],
          [
           0.4444444444444444,
           "#26828e"
          ],
          [
           0.5555555555555556,
           "#1f9e89"
          ],
          [
           0.6666666666666666,
           "#35b779"
          ],
          [
           0.7777777777777778,
           "#6ece58"
          ],
          [
           0.8888888888888888,
           "#b5de2b"
          ],
          [
           1,
           "#fde725"
          ]
         ],
         "showscale": true,
         "surfacecolor": {
          "bdata": "C+46UmjR4D+ZrVLVQbHgP1F0DEZu1uA/wrmSgsoM4j87vCkYxNrkP3BV9oJslJQ/f8gp0qZlsj/FS3nvAKm6P6afAMYRi9o/aA0h/q3K5j9NrUGH/1fmP6YEBqQh6uU/9FV9at3F5j/+W8rAQ3zlPyPx1+6p+uA/GZiVOUQLfj8ZmJU5RAt+P2ZlDtGCB4Q/ZmUO0YIHhD9mZQ7Rggd0Pw==",
          "dtype": "f8",
          "shape": "4, 5"
         },
         "type": "surface",
         "x": {
          "bdata": "AAECAwQ=",
          "dtype": "i1"
         },
         "y": {
          "bdata": "AAECAw==",
          "dtype": "i1"
         },
         "z": {
          "bdata": "EBAQEBAQEBAQEBAQEBAQEBAQEBA=",
          "dtype": "i1",
          "shape": "4, 5"
         }
        },
        {
         "colorscale": [
          [
           0,
           "#440154"
          ],
          [
           0.1111111111111111,
           "#482878"
          ],
          [
           0.2222222222222222,
           "#3e4989"
          ],
          [
           0.3333333333333333,
           "#31688e"
          ],
          [
           0.4444444444444444,
           "#26828e"
          ],
          [
           0.5555555555555556,
           "#1f9e89"
          ],
          [
           0.6666666666666666,
           "#35b779"
          ],
          [
           0.7777777777777778,
           "#6ece58"
          ],
          [
           0.8888888888888888,
           "#b5de2b"
          ],
          [
           1,
           "#fde725"
          ]
         ],
         "showscale": true,
         "surfacecolor": {
          "bdata": "blJixY9w5T9ixI+vFpLlP2HRKFAAOOU/MhZYD09c5D+OSKuznHXkP3b0MDfzpLM/Ixb19kh+rz8ngHHEot6uP4icIm1aJpE/jjtdIeE2cD/PHDr9usPgP2T0luCGGN4/skUOp0L03j/Un2Ao7h7gP8qZE9KHaOE/wP5RhWMJiT9mZQ7RggeEP2ZlDtGCB2Q/GZiVOUQLjj9mZQ7RggeEPw==",
          "dtype": "f8",
          "shape": "4, 5"
         },
         "type": "surface",
         "x": {
          "bdata": "AAECAwQ=",
          "dtype": "i1"
         },
         "y": {
          "bdata": "AAECAw==",
          "dtype": "i1"
         },
         "z": {
          "bdata": "ERERERERERERERERERERERERERE=",
          "dtype": "i1",
          "shape": "4, 5"
         }
        },
        {
         "colorscale": [
          [
           0,
           "#440154"
          ],
          [
           0.1111111111111111,
           "#482878"
          ],
          [
           0.2222222222222222,
           "#3e4989"
          ],
          [
           0.3333333333333333,
           "#31688e"
          ],
          [
           0.4444444444444444,
           "#26828e"
          ],
          [
           0.5555555555555556,
           "#1f9e89"
          ],
          [
           0.6666666666666666,
           "#35b779"
          ],
          [
           0.7777777777777778,
           "#6ece58"
          ],
          [
           0.8888888888888888,
           "#b5de2b"
          ],
          [
           1,
           "#fde725"
          ]
         ],
         "showscale": true,
         "surfacecolor": {
          "bdata": "tfPQlxQQ4j9a0vCp5kDiP8batEUKL+I/nnmzW5I/4z9Y1V8icZblP0DHna6QcJs/YlFvj+T3sT/tkfw+HgPOP+T38Rjwxto/irRpmUQU4z+mBAakIerlPyhGmTm7l+U/sApT+oeg5D+6EKBQ7lbjP3bFdeCYMeE/GZiVOUQLfj8ZmJU5RAt+P2ZlDtGCB2Q/ZmUO0YIHdD+5mOx2koaRPw==",
          "dtype": "f8",
          "shape": "4, 5"
         },
         "type": "surface",
         "x": {
          "bdata": "AAECAwQ=",
          "dtype": "i1"
         },
         "y": {
          "bdata": "AAECAw==",
          "dtype": "i1"
         },
         "z": {
          "bdata": "EhISEhISEhISEhISEhISEhISEhI=",
          "dtype": "i1",
          "shape": "4, 5"
         }
        },
        {
         "colorscale": [
          [
           0,
           "#440154"
          ],
          [
           0.1111111111111111,
           "#482878"
          ],
          [
           0.2222222222222222,
           "#3e4989"
          ],
          [
           0.3333333333333333,
           "#31688e"
          ],
          [
           0.4444444444444444,
           "#26828e"
          ],
          [
           0.5555555555555556,
           "#1f9e89"
          ],
          [
           0.6666666666666666,
           "#35b779"
          ],
          [
           0.7777777777777778,
           "#6ece58"
          ],
          [
           0.8888888888888888,
           "#b5de2b"
          ],
          [
           1,
           "#fde725"
          ]
         ],
         "showscale": true,
         "surfacecolor": {
          "bdata": "6E5sv7U05z/rz0HvtOzmP1nm0tiQ4OU/QuwPE7LM5T/h/hWrwArlP6L7lYMypt8/xL9V2QuysT+GZ2SGLXaxP4ZnZIYtdpE/Lh+seCnvXT/cXUIA3M3ZP+djj1ZChNg/3F1CANzN2T81tQYd/l/ZP3oAMY1Thds/ZmUO0YIHdD8AAAAAAAAAABmYlTlEC34/ZmUO0YIHdD8AAAAAAAAAAA==",
          "dtype": "f8",
          "shape": "4, 5"
         },
         "type": "surface",
         "x": {
          "bdata": "AAECAwQ=",
          "dtype": "i1"
         },
         "y": {
          "bdata": "AAECAw==",
          "dtype": "i1"
         },
         "z": {
          "bdata": "ExMTExMTExMTExMTExMTExMTExM=",
          "dtype": "i1",
          "shape": "4, 5"
         }
        }
       ],
       "layout": {
        "height": 800,
        "scene": {
         "camera": {
          "eye": {
           "x": 1.5,
           "y": 1.5,
           "z": 1.5
          }
         },
         "xaxis": {
          "title": {
           "text": "Columns (5)"
          }
         },
         "yaxis": {
          "title": {
           "text": "Rows (4)"
          }
         },
         "zaxis": {
          "title": {
           "text": "Time steps"
          }
         }
        },
        "template": {
         "data": {
          "bar": [
           {
            "error_x": {
             "color": "#2a3f5f"
            },
            "error_y": {
             "color": "#2a3f5f"
            },
            "marker": {
             "line": {
              "color": "#E5ECF6",
              "width": 0.5
             },
             "pattern": {
              "fillmode": "overlay",
              "size": 10,
              "solidity": 0.2
             }
            },
            "type": "bar"
           }
          ],
          "barpolar": [
           {
            "marker": {
             "line": {
              "color": "#E5ECF6",
              "width": 0.5
             },
             "pattern": {
              "fillmode": "overlay",
              "size": 10,
              "solidity": 0.2
             }
            },
            "type": "barpolar"
           }
          ],
          "carpet": [
           {
            "aaxis": {
             "endlinecolor": "#2a3f5f",
             "gridcolor": "white",
             "linecolor": "white",
             "minorgridcolor": "white",
             "startlinecolor": "#2a3f5f"
            },
            "baxis": {
             "endlinecolor": "#2a3f5f",
             "gridcolor": "white",
             "linecolor": "white",
             "minorgridcolor": "white",
             "startlinecolor": "#2a3f5f"
            },
            "type": "carpet"
           }
          ],
          "choropleth": [
           {
            "colorbar": {
             "outlinewidth": 0,
             "ticks": ""
            },
            "type": "choropleth"
           }
          ],
          "contour": [
           {
            "colorbar": {
             "outlinewidth": 0,
             "ticks": ""
            },
            "colorscale": [
             [
              0,
              "#0d0887"
             ],
             [
              0.1111111111111111,
              "#46039f"
             ],
             [
              0.2222222222222222,
              "#7201a8"
             ],
             [
              0.3333333333333333,
              "#9c179e"
             ],
             [
              0.4444444444444444,
              "#bd3786"
             ],
             [
              0.5555555555555556,
              "#d8576b"
             ],
             [
              0.6666666666666666,
              "#ed7953"
             ],
             [
              0.7777777777777778,
              "#fb9f3a"
             ],
             [
              0.8888888888888888,
              "#fdca26"
             ],
             [
              1,
              "#f0f921"
             ]
            ],
            "type": "contour"
           }
          ],
          "contourcarpet": [
           {
            "colorbar": {
             "outlinewidth": 0,
             "ticks": ""
            },
            "type": "contourcarpet"
           }
          ],
          "heatmap": [
           {
            "colorbar": {
             "outlinewidth": 0,
             "ticks": ""
            },
            "colorscale": [
             [
              0,
              "#0d0887"
             ],
             [
              0.1111111111111111,
              "#46039f"
             ],
             [
              0.2222222222222222,
              "#7201a8"
             ],
             [
              0.3333333333333333,
              "#9c179e"
             ],
             [
              0.4444444444444444,
              "#bd3786"
             ],
             [
              0.5555555555555556,
              "#d8576b"
             ],
             [
              0.6666666666666666,
              "#ed7953"
             ],
             [
              0.7777777777777778,
              "#fb9f3a"
             ],
             [
              0.8888888888888888,
              "#fdca26"
             ],
             [
              1,
              "#f0f921"
             ]
            ],
            "type": "heatmap"
           }
          ],
          "histogram": [
           {
            "marker": {
             "pattern": {
              "fillmode": "overlay",
              "size": 10,
              "solidity": 0.2
             }
            },
            "type": "histogram"
           }
          ],
          "histogram2d": [
           {
            "colorbar": {
             "outlinewidth": 0,
             "ticks": ""
            },
            "colorscale": [
             [
              0,
              "#0d0887"
             ],
             [
              0.1111111111111111,
              "#46039f"
             ],
             [
              0.2222222222222222,
              "#7201a8"
             ],
             [
              0.3333333333333333,
              "#9c179e"
             ],
             [
              0.4444444444444444,
              "#bd3786"
             ],
             [
              0.5555555555555556,
              "#d8576b"
             ],
             [
              0.6666666666666666,
              "#ed7953"
             ],
             [
              0.7777777777777778,
              "#fb9f3a"
             ],
             [
              0.8888888888888888,
              "#fdca26"
             ],
             [
              1,
              "#f0f921"
             ]
            ],
            "type": "histogram2d"
           }
          ],
          "histogram2dcontour": [
           {
            "colorbar": {
             "outlinewidth": 0,
             "ticks": ""
            },
            "colorscale": [
             [
              0,
              "#0d0887"
             ],
             [
              0.1111111111111111,
              "#46039f"
             ],
             [
              0.2222222222222222,
              "#7201a8"
             ],
             [
              0.3333333333333333,
              "#9c179e"
             ],
             [
              0.4444444444444444,
              "#bd3786"
             ],
             [
              0.5555555555555556,
              "#d8576b"
             ],
             [
              0.6666666666666666,
              "#ed7953"
             ],
             [
              0.7777777777777778,
              "#fb9f3a"
             ],
             [
              0.8888888888888888,
              "#fdca26"
             ],
             [
              1,
              "#f0f921"
             ]
            ],
            "type": "histogram2dcontour"
           }
          ],
          "mesh3d": [
           {
            "colorbar": {
             "outlinewidth": 0,
             "ticks": ""
            },
            "type": "mesh3d"
           }
          ],
          "parcoords": [
           {
            "line": {
             "colorbar": {
              "outlinewidth": 0,
              "ticks": ""
             }
            },
            "type": "parcoords"
           }
          ],
          "pie": [
           {
            "automargin": true,
            "type": "pie"
           }
          ],
          "scatter": [
           {
            "fillpattern": {
             "fillmode": "overlay",
             "size": 10,
             "solidity": 0.2
            },
            "type": "scatter"
           }
          ],
          "scatter3d": [
           {
            "line": {
             "colorbar": {
              "outlinewidth": 0,
              "ticks": ""
             }
            },
            "marker": {
             "colorbar": {
              "outlinewidth": 0,
              "ticks": ""
             }
            },
            "type": "scatter3d"
           }
          ],
          "scattercarpet": [
           {
            "marker": {
             "colorbar": {
              "outlinewidth": 0,
              "ticks": ""
             }
            },
            "type": "scattercarpet"
           }
          ],
          "scattergeo": [
           {
            "marker": {
             "colorbar": {
              "outlinewidth": 0,
              "ticks": ""
             }
            },
            "type": "scattergeo"
           }
          ],
          "scattergl": [
           {
            "marker": {
             "colorbar": {
              "outlinewidth": 0,
              "ticks": ""
             }
            },
            "type": "scattergl"
           }
          ],
          "scattermap": [
           {
            "marker": {
             "colorbar": {
              "outlinewidth": 0,
              "ticks": ""
             }
            },
            "type": "scattermap"
           }
          ],
          "scattermapbox": [
           {
            "marker": {
             "colorbar": {
              "outlinewidth": 0,
              "ticks": ""
             }
            },
            "type": "scattermapbox"
           }
          ],
          "scatterpolar": [
           {
            "marker": {
             "colorbar": {
              "outlinewidth": 0,
              "ticks": ""
             }
            },
            "type": "scatterpolar"
           }
          ],
          "scatterpolargl": [
           {
            "marker": {
             "colorbar": {
              "outlinewidth": 0,
              "ticks": ""
             }
            },
            "type": "scatterpolargl"
           }
          ],
          "scatterternary": [
           {
            "marker": {
             "colorbar": {
              "outlinewidth": 0,
              "ticks": ""
             }
            },
            "type": "scatterternary"
           }
          ],
          "surface": [
           {
            "colorbar": {
             "outlinewidth": 0,
             "ticks": ""
            },
            "colorscale": [
             [
              0,
              "#0d0887"
             ],
             [
              0.1111111111111111,
              "#46039f"
             ],
             [
              0.2222222222222222,
              "#7201a8"
             ],
             [
              0.3333333333333333,
              "#9c179e"
             ],
             [
              0.4444444444444444,
              "#bd3786"
             ],
             [
              0.5555555555555556,
              "#d8576b"
             ],
             [
              0.6666666666666666,
              "#ed7953"
             ],
             [
              0.7777777777777778,
              "#fb9f3a"
             ],
             [
              0.8888888888888888,
              "#fdca26"
             ],
             [
              1,
              "#f0f921"
             ]
            ],
            "type": "surface"
           }
          ],
          "table": [
           {
            "cells": {
             "fill": {
              "color": "#EBF0F8"
             },
             "line": {
              "color": "white"
             }
            },
            "header": {
             "fill": {
              "color": "#C8D4E3"
             },
             "line": {
              "color": "white"
             }
            },
            "type": "table"
           }
          ]
         },
         "layout": {
          "annotationdefaults": {
           "arrowcolor": "#2a3f5f",
           "arrowhead": 0,
           "arrowwidth": 1
          },
          "autotypenumbers": "strict",
          "coloraxis": {
           "colorbar": {
            "outlinewidth": 0,
            "ticks": ""
           }
          },
          "colorscale": {
           "diverging": [
            [
             0,
             "#8e0152"
            ],
            [
             0.1,
             "#c51b7d"
            ],
            [
             0.2,
             "#de77ae"
            ],
            [
             0.3,
             "#f1b6da"
            ],
            [
             0.4,
             "#fde0ef"
            ],
            [
             0.5,
             "#f7f7f7"
            ],
            [
             0.6,
             "#e6f5d0"
            ],
            [
             0.7,
             "#b8e186"
            ],
            [
             0.8,
             "#7fbc41"
            ],
            [
             0.9,
             "#4d9221"
            ],
            [
             1,
             "#276419"
            ]
           ],
           "sequential": [
            [
             0,
             "#0d0887"
            ],
            [
             0.1111111111111111,
             "#46039f"
            ],
            [
             0.2222222222222222,
             "#7201a8"
            ],
            [
             0.3333333333333333,
             "#9c179e"
            ],
            [
             0.4444444444444444,
             "#bd3786"
            ],
            [
             0.5555555555555556,
             "#d8576b"
            ],
            [
             0.6666666666666666,
             "#ed7953"
            ],
            [
             0.7777777777777778,
             "#fb9f3a"
            ],
            [
             0.8888888888888888,
             "#fdca26"
            ],
            [
             1,
             "#f0f921"
            ]
           ],
           "sequentialminus": [
            [
             0,
             "#0d0887"
            ],
            [
             0.1111111111111111,
             "#46039f"
            ],
            [
             0.2222222222222222,
             "#7201a8"
            ],
            [
             0.3333333333333333,
             "#9c179e"
            ],
            [
             0.4444444444444444,
             "#bd3786"
            ],
            [
             0.5555555555555556,
             "#d8576b"
            ],
            [
             0.6666666666666666,
             "#ed7953"
            ],
            [
             0.7777777777777778,
             "#fb9f3a"
            ],
            [
             0.8888888888888888,
             "#fdca26"
            ],
            [
             1,
             "#f0f921"
            ]
           ]
          },
          "colorway": [
           "#636efa",
           "#EF553B",
           "#00cc96",
           "#ab63fa",
           "#FFA15A",
           "#19d3f3",
           "#FF6692",
           "#B6E880",
           "#FF97FF",
           "#FECB52"
          ],
          "font": {
           "color": "#2a3f5f"
          },
          "geo": {
           "bgcolor": "white",
           "lakecolor": "white",
           "landcolor": "#E5ECF6",
           "showlakes": true,
           "showland": true,
           "subunitcolor": "white"
          },
          "hoverlabel": {
           "align": "left"
          },
          "hovermode": "closest",
          "mapbox": {
           "style": "light"
          },
          "paper_bgcolor": "white",
          "plot_bgcolor": "#E5ECF6",
          "polar": {
           "angularaxis": {
            "gridcolor": "white",
            "linecolor": "white",
            "ticks": ""
           },
           "bgcolor": "#E5ECF6",
           "radialaxis": {
            "gridcolor": "white",
            "linecolor": "white",
            "ticks": ""
           }
          },
          "scene": {
           "xaxis": {
            "backgroundcolor": "#E5ECF6",
            "gridcolor": "white",
            "gridwidth": 2,
            "linecolor": "white",
            "showbackground": true,
            "ticks": "",
            "zerolinecolor": "white"
           },
           "yaxis": {
            "backgroundcolor": "#E5ECF6",
            "gridcolor": "white",
            "gridwidth": 2,
            "linecolor": "white",
            "showbackground": true,
            "ticks": "",
            "zerolinecolor": "white"
           },
           "zaxis": {
            "backgroundcolor": "#E5ECF6",
            "gridcolor": "white",
            "gridwidth": 2,
            "linecolor": "white",
            "showbackground": true,
            "ticks": "",
            "zerolinecolor": "white"
           }
          },
          "shapedefaults": {
           "line": {
            "color": "#2a3f5f"
           }
          },
          "ternary": {
           "aaxis": {
            "gridcolor": "white",
            "linecolor": "white",
            "ticks": ""
           },
           "baxis": {
            "gridcolor": "white",
            "linecolor": "white",
            "ticks": ""
           },
           "bgcolor": "#E5ECF6",
           "caxis": {
            "gridcolor": "white",
            "linecolor": "white",
            "ticks": ""
           }
          },
          "title": {
           "x": 0.05
          },
          "xaxis": {
           "automargin": true,
           "gridcolor": "white",
           "linecolor": "white",
           "ticks": "",
           "title": {
            "standoff": 15
           },
           "zerolinecolor": "white",
           "zerolinewidth": 2
          },
          "yaxis": {
           "automargin": true,
           "gridcolor": "white",
           "linecolor": "white",
           "ticks": "",
           "title": {
            "standoff": 15
           },
           "zerolinecolor": "white",
           "zerolinewidth": 2
          }
         }
        },
        "title": {
         "text": "Stacked Heatmaps forming a 3D Cube"
        },
        "width": 1000
       }
      }
     },
     "metadata": {},
     "output_type": "display_data"
    }
   ],
   "source": [
    "import plotly.graph_objects as go\n",
    "import numpy as np\n",
    "\n",
    "# Chuyển tensor sang numpy và lấy một số lượng nhỏ để trực quan hóa\n",
    "num_layers = 20  # Số lớp cần hiển thị (tăng lên nếu muốn hình hộp lớn hơn)\n",
    "data_np = data[:num_layers].numpy()\n",
    "\n",
    "# Tạo hình hộp bằng cách xếp từng heatmap lên trục Z\n",
    "fig = go.Figure()\n",
    "\n",
    "for i in range(num_layers):\n",
    "    fig.add_trace(\n",
    "        go.Surface(\n",
    "            z=np.full((4, 5), i),  # Đặt layer ở vị trí z = i\n",
    "            x=np.arange(5),  # Trục X (5 cột)\n",
    "            y=np.arange(4),  # Trục Y (4 hàng)\n",
    "            surfacecolor=data_np[i],  # Giá trị màu từ ma trận 4x5\n",
    "            colorscale=\"viridis\",  # Bảng màu\n",
    "            showscale=True  # Hiển thị thang đo\n",
    "        )\n",
    "    )\n",
    "\n",
    "# Cấu hình layout để dễ quan sát hơn\n",
    "fig.update_layout(\n",
    "    title=\"Stacked Heatmaps forming a 3D Cube\",\n",
    "    scene=dict(\n",
    "        xaxis_title=\"Columns (5)\",\n",
    "        yaxis_title=\"Rows (4)\",\n",
    "        zaxis_title=\"Time steps\",\n",
    "        camera=dict(\n",
    "            eye=dict(x=1.5, y=1.5, z=1.5)  # Mở rộng góc nhìn\n",
    "        ),\n",
    "    ),\n",
    "    width=1000,  # Mở rộng plot\n",
    "    height=800\n",
    ")\n",
    "\n",
    "fig.show()"
   ]
  },
  {
   "cell_type": "code",
   "execution_count": null,
   "metadata": {},
   "outputs": [],
   "source": []
  }
 ],
 "metadata": {
  "kernelspec": {
   "display_name": "cluster",
   "language": "python",
   "name": "python3"
  },
  "language_info": {
   "codemirror_mode": {
    "name": "ipython",
    "version": 3
   },
   "file_extension": ".py",
   "mimetype": "text/x-python",
   "name": "python",
   "nbconvert_exporter": "python",
   "pygments_lexer": "ipython3",
   "version": "3.11.11"
  }
 },
 "nbformat": 4,
 "nbformat_minor": 2
}
