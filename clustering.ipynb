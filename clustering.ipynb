{
 "cells": [
  {
   "cell_type": "code",
   "execution_count": 1,
   "metadata": {},
   "outputs": [],
   "source": [
    "import warnings\n",
    "warnings.simplefilter(action='ignore', category=FutureWarning)\n",
    "\n",
    "import torch\n",
    "import numpy as np\n",
    "import pandas as pd\n",
    "import seaborn as sns\n",
    "from tqdm import tqdm\n",
    "import matplotlib.pyplot as plt\n",
    "from tslearn.metrics import dtw\n",
    "from tslearn.metrics import cdist_dtw\n",
    "from sklearn.metrics import silhouette_score\n",
    "from tslearn.clustering import TimeSeriesKMeans"
   ]
  },
  {
   "cell_type": "code",
   "execution_count": 2,
   "metadata": {},
   "outputs": [
    {
     "data": {
      "text/html": [
       "<div>\n",
       "<style scoped>\n",
       "    .dataframe tbody tr th:only-of-type {\n",
       "        vertical-align: middle;\n",
       "    }\n",
       "\n",
       "    .dataframe tbody tr th {\n",
       "        vertical-align: top;\n",
       "    }\n",
       "\n",
       "    .dataframe thead th {\n",
       "        text-align: right;\n",
       "    }\n",
       "</style>\n",
       "<table border=\"1\" class=\"dataframe\">\n",
       "  <thead>\n",
       "    <tr style=\"text-align: right;\">\n",
       "      <th></th>\n",
       "      <th>start_time</th>\n",
       "      <th>end_time</th>\n",
       "      <th>temperature</th>\n",
       "      <th>luminosity</th>\n",
       "      <th>humidity</th>\n",
       "    </tr>\n",
       "  </thead>\n",
       "  <tbody>\n",
       "    <tr>\n",
       "      <th>0</th>\n",
       "      <td>2022-05-01 00:00:00</td>\n",
       "      <td>2022-05-01 00:30:00</td>\n",
       "      <td>0.376901</td>\n",
       "      <td>0.087579</td>\n",
       "      <td>0.475664</td>\n",
       "    </tr>\n",
       "    <tr>\n",
       "      <th>1</th>\n",
       "      <td>2022-05-01 00:30:00</td>\n",
       "      <td>2022-05-01 01:00:00</td>\n",
       "      <td>0.460366</td>\n",
       "      <td>0.085515</td>\n",
       "      <td>0.492180</td>\n",
       "    </tr>\n",
       "    <tr>\n",
       "      <th>2</th>\n",
       "      <td>2022-05-01 01:00:00</td>\n",
       "      <td>2022-05-01 01:30:00</td>\n",
       "      <td>0.479522</td>\n",
       "      <td>0.085102</td>\n",
       "      <td>0.502993</td>\n",
       "    </tr>\n",
       "    <tr>\n",
       "      <th>3</th>\n",
       "      <td>2022-05-01 01:30:00</td>\n",
       "      <td>2022-05-01 02:00:00</td>\n",
       "      <td>0.464881</td>\n",
       "      <td>0.085515</td>\n",
       "      <td>0.509424</td>\n",
       "    </tr>\n",
       "    <tr>\n",
       "      <th>4</th>\n",
       "      <td>2022-05-01 02:00:00</td>\n",
       "      <td>2022-05-01 02:30:00</td>\n",
       "      <td>0.446955</td>\n",
       "      <td>0.085928</td>\n",
       "      <td>0.512793</td>\n",
       "    </tr>\n",
       "  </tbody>\n",
       "</table>\n",
       "</div>"
      ],
      "text/plain": [
       "           start_time            end_time  temperature  luminosity  humidity\n",
       "0 2022-05-01 00:00:00 2022-05-01 00:30:00     0.376901    0.087579  0.475664\n",
       "1 2022-05-01 00:30:00 2022-05-01 01:00:00     0.460366    0.085515  0.492180\n",
       "2 2022-05-01 01:00:00 2022-05-01 01:30:00     0.479522    0.085102  0.502993\n",
       "3 2022-05-01 01:30:00 2022-05-01 02:00:00     0.464881    0.085515  0.509424\n",
       "4 2022-05-01 02:00:00 2022-05-01 02:30:00     0.446955    0.085928  0.512793"
      ]
     },
     "execution_count": 2,
     "metadata": {},
     "output_type": "execute_result"
    }
   ],
   "source": [
    "df = pd.read_excel(\"./process_data/dining area.xlsx\")\n",
    "df.head()"
   ]
  },
  {
   "cell_type": "code",
   "execution_count": 3,
   "metadata": {},
   "outputs": [],
   "source": [
    "datatypes = [\"temperature\", \"luminosity\", \"humidity\"]"
   ]
  },
  {
   "cell_type": "code",
   "execution_count": 4,
   "metadata": {},
   "outputs": [],
   "source": [
    "morning_start = pd.to_datetime(\"04:30:00\").time()\n",
    "morning_end = pd.to_datetime(\"12:00:00\").time()\n",
    "\n",
    "afternoon_start = pd.to_datetime(\"12:00:00\").time()\n",
    "afternoon_end = pd.to_datetime(\"20:30:00\").time()"
   ]
  },
  {
   "cell_type": "code",
   "execution_count": 5,
   "metadata": {},
   "outputs": [],
   "source": [
    "dates = df[\"start_time\"].dt.date.unique()\n",
    "\n",
    "df_data = {\n",
    "    \"date\": [],\n",
    "    \"time\": [],\n",
    "    \"temperature\": [],\n",
    "    \"luminosity\": [],\n",
    "    \"humidity\": []\n",
    "}"
   ]
  },
  {
   "cell_type": "code",
   "execution_count": 6,
   "metadata": {},
   "outputs": [],
   "source": [
    "for date in dates:\n",
    "    rows = df[\n",
    "        df[\"start_time\"].dt.date == date\n",
    "    ]\n",
    "\n",
    "    \"\"\"---------------MORNING TIME---------------\"\"\"\n",
    "    morning_df = rows[\n",
    "        (rows[\"start_time\"].dt.time >= morning_start) &\n",
    "        (rows[\"start_time\"].dt.time <= morning_end) &\n",
    "        (rows[\"end_time\"].dt.time <= morning_end)\n",
    "    ].sort_values(\"start_time\")\n",
    "\n",
    "    for datatype in [\"temperature\", \"luminosity\", \"humidity\"]:\n",
    "        df_data[datatype].append(\n",
    "            np.array(\n",
    "                morning_df[datatype].tolist()\n",
    "            )\n",
    "        )\n",
    "\n",
    "    df_data[\"date\"].append(date)\n",
    "    df_data[\"time\"].append(f\"{morning_start} - {morning_end}\")\n",
    "\n",
    "    \"\"\"---------------AFTERNOON TIME--------------\"\"\"\n",
    "    afternoon_df = rows[\n",
    "        (rows[\"start_time\"].dt.time >= afternoon_start) &\n",
    "        (rows[\"start_time\"].dt.time <= afternoon_end) &\n",
    "        (rows[\"end_time\"].dt.time <= afternoon_end)\n",
    "    ]\n",
    "\n",
    "    for datatype in [\"temperature\", \"luminosity\", \"humidity\"]:\n",
    "        df_data[datatype].append(\n",
    "            np.array(\n",
    "                afternoon_df[datatype].tolist()\n",
    "            )\n",
    "        )\n",
    "\n",
    "    df_data[\"date\"].append(date)\n",
    "    df_data[\"time\"].append(f\"{afternoon_start} - {afternoon_end}\")"
   ]
  },
  {
   "cell_type": "code",
   "execution_count": 7,
   "metadata": {},
   "outputs": [
    {
     "data": {
      "text/html": [
       "<div>\n",
       "<style scoped>\n",
       "    .dataframe tbody tr th:only-of-type {\n",
       "        vertical-align: middle;\n",
       "    }\n",
       "\n",
       "    .dataframe tbody tr th {\n",
       "        vertical-align: top;\n",
       "    }\n",
       "\n",
       "    .dataframe thead th {\n",
       "        text-align: right;\n",
       "    }\n",
       "</style>\n",
       "<table border=\"1\" class=\"dataframe\">\n",
       "  <thead>\n",
       "    <tr style=\"text-align: right;\">\n",
       "      <th></th>\n",
       "      <th>date</th>\n",
       "      <th>time</th>\n",
       "      <th>temperature</th>\n",
       "      <th>luminosity</th>\n",
       "      <th>humidity</th>\n",
       "    </tr>\n",
       "  </thead>\n",
       "  <tbody>\n",
       "    <tr>\n",
       "      <th>0</th>\n",
       "      <td>2022-05-01</td>\n",
       "      <td>04:30:00 - 12:00:00</td>\n",
       "      <td>[0.4488278179454802, 0.4322391184742269, 0.446...</td>\n",
       "      <td>[0.09548947922260698, 0.1067274020707629, 0.11...</td>\n",
       "      <td>[0.5218303180861802, 0.523182339754683, 0.5218...</td>\n",
       "    </tr>\n",
       "    <tr>\n",
       "      <th>1</th>\n",
       "      <td>2022-05-01</td>\n",
       "      <td>12:00:00 - 20:30:00</td>\n",
       "      <td>[0.4836997128940765, 0.561246941662826, 0.6187...</td>\n",
       "      <td>[0.08575832090123524, 0.1135251771742941, 0.14...</td>\n",
       "      <td>[0.3958119509127495, 0.3691622782594428, 0.348...</td>\n",
       "    </tr>\n",
       "    <tr>\n",
       "      <th>2</th>\n",
       "      <td>2022-05-02</td>\n",
       "      <td>04:30:00 - 12:00:00</td>\n",
       "      <td>[0.4347363618052108, 0.4381254558831656, 0.429...</td>\n",
       "      <td>[0.09692993372325114, 0.107278961681034, 0.119...</td>\n",
       "      <td>[0.4947061198537466, 0.4970185033031632, 0.494...</td>\n",
       "    </tr>\n",
       "    <tr>\n",
       "      <th>3</th>\n",
       "      <td>2022-05-02</td>\n",
       "      <td>12:00:00 - 20:30:00</td>\n",
       "      <td>[0.555851540634401, 0.5119717796295798, 0.5267...</td>\n",
       "      <td>[0.5874465983315247, 0.4640764368641033, 0.287...</td>\n",
       "      <td>[0.3481476146050616, 0.3391445955916446, 0.336...</td>\n",
       "    </tr>\n",
       "    <tr>\n",
       "      <th>4</th>\n",
       "      <td>2022-05-03</td>\n",
       "      <td>04:30:00 - 12:00:00</td>\n",
       "      <td>[0.4395969892025127, 0.436899084556749, 0.4492...</td>\n",
       "      <td>[0.09976575087654435, 0.1130197783326956, 0.12...</td>\n",
       "      <td>[0.5636458320343667, 0.565324442016578, 0.5590...</td>\n",
       "    </tr>\n",
       "    <tr>\n",
       "      <th>5</th>\n",
       "      <td>2022-05-03</td>\n",
       "      <td>12:00:00 - 20:30:00</td>\n",
       "      <td>[0.493421018721568, 0.5451491785720866, 0.5004...</td>\n",
       "      <td>[0.3859527121530628, 0.3729807889493887, 0.311...</td>\n",
       "      <td>[0.3952908104243336, 0.3977712441710954, 0.397...</td>\n",
       "    </tr>\n",
       "    <tr>\n",
       "      <th>6</th>\n",
       "      <td>2022-05-04</td>\n",
       "      <td>04:30:00 - 12:00:00</td>\n",
       "      <td>[0.4382592130820562, 0.4270706606977921, 0.426...</td>\n",
       "      <td>[0.0918628147064196, 0.1021953703890057, 0.116...</td>\n",
       "      <td>[0.596265762435231, 0.5941372830847959, 0.5891...</td>\n",
       "    </tr>\n",
       "    <tr>\n",
       "      <th>7</th>\n",
       "      <td>2022-05-04</td>\n",
       "      <td>12:00:00 - 20:30:00</td>\n",
       "      <td>[0.5268213293179296, 0.5272693470398143, 0.514...</td>\n",
       "      <td>[0.6309745427304361, 0.4260044573231205, 0.139...</td>\n",
       "      <td>[0.3977712441710954, 0.3886474049917753, 0.385...</td>\n",
       "    </tr>\n",
       "    <tr>\n",
       "      <th>8</th>\n",
       "      <td>2022-05-05</td>\n",
       "      <td>04:30:00 - 12:00:00</td>\n",
       "      <td>[0.4333093801969022, 0.4329050976598512, 0.438...</td>\n",
       "      <td>[0.08553654178526857, 0.08646967499107035, 0.0...</td>\n",
       "      <td>[0.5910304112118843, 0.5875729573612951, 0.596...</td>\n",
       "    </tr>\n",
       "    <tr>\n",
       "      <th>9</th>\n",
       "      <td>2022-05-05</td>\n",
       "      <td>12:00:00 - 20:30:00</td>\n",
       "      <td>[0.4419055639473469, 0.4434766113978791, 0.452...</td>\n",
       "      <td>[0.1268492734186389, 0.1358441751928196, 0.133...</td>\n",
       "      <td>[0.6149088866639406, 0.6086716698267395, 0.607...</td>\n",
       "    </tr>\n",
       "  </tbody>\n",
       "</table>\n",
       "</div>"
      ],
      "text/plain": [
       "         date                 time  \\\n",
       "0  2022-05-01  04:30:00 - 12:00:00   \n",
       "1  2022-05-01  12:00:00 - 20:30:00   \n",
       "2  2022-05-02  04:30:00 - 12:00:00   \n",
       "3  2022-05-02  12:00:00 - 20:30:00   \n",
       "4  2022-05-03  04:30:00 - 12:00:00   \n",
       "5  2022-05-03  12:00:00 - 20:30:00   \n",
       "6  2022-05-04  04:30:00 - 12:00:00   \n",
       "7  2022-05-04  12:00:00 - 20:30:00   \n",
       "8  2022-05-05  04:30:00 - 12:00:00   \n",
       "9  2022-05-05  12:00:00 - 20:30:00   \n",
       "\n",
       "                                         temperature  \\\n",
       "0  [0.4488278179454802, 0.4322391184742269, 0.446...   \n",
       "1  [0.4836997128940765, 0.561246941662826, 0.6187...   \n",
       "2  [0.4347363618052108, 0.4381254558831656, 0.429...   \n",
       "3  [0.555851540634401, 0.5119717796295798, 0.5267...   \n",
       "4  [0.4395969892025127, 0.436899084556749, 0.4492...   \n",
       "5  [0.493421018721568, 0.5451491785720866, 0.5004...   \n",
       "6  [0.4382592130820562, 0.4270706606977921, 0.426...   \n",
       "7  [0.5268213293179296, 0.5272693470398143, 0.514...   \n",
       "8  [0.4333093801969022, 0.4329050976598512, 0.438...   \n",
       "9  [0.4419055639473469, 0.4434766113978791, 0.452...   \n",
       "\n",
       "                                          luminosity  \\\n",
       "0  [0.09548947922260698, 0.1067274020707629, 0.11...   \n",
       "1  [0.08575832090123524, 0.1135251771742941, 0.14...   \n",
       "2  [0.09692993372325114, 0.107278961681034, 0.119...   \n",
       "3  [0.5874465983315247, 0.4640764368641033, 0.287...   \n",
       "4  [0.09976575087654435, 0.1130197783326956, 0.12...   \n",
       "5  [0.3859527121530628, 0.3729807889493887, 0.311...   \n",
       "6  [0.0918628147064196, 0.1021953703890057, 0.116...   \n",
       "7  [0.6309745427304361, 0.4260044573231205, 0.139...   \n",
       "8  [0.08553654178526857, 0.08646967499107035, 0.0...   \n",
       "9  [0.1268492734186389, 0.1358441751928196, 0.133...   \n",
       "\n",
       "                                            humidity  \n",
       "0  [0.5218303180861802, 0.523182339754683, 0.5218...  \n",
       "1  [0.3958119509127495, 0.3691622782594428, 0.348...  \n",
       "2  [0.4947061198537466, 0.4970185033031632, 0.494...  \n",
       "3  [0.3481476146050616, 0.3391445955916446, 0.336...  \n",
       "4  [0.5636458320343667, 0.565324442016578, 0.5590...  \n",
       "5  [0.3952908104243336, 0.3977712441710954, 0.397...  \n",
       "6  [0.596265762435231, 0.5941372830847959, 0.5891...  \n",
       "7  [0.3977712441710954, 0.3886474049917753, 0.385...  \n",
       "8  [0.5910304112118843, 0.5875729573612951, 0.596...  \n",
       "9  [0.6149088866639406, 0.6086716698267395, 0.607...  "
      ]
     },
     "execution_count": 7,
     "metadata": {},
     "output_type": "execute_result"
    }
   ],
   "source": [
    "time_df = pd.DataFrame(df_data)\n",
    "time_df.head(10)"
   ]
  },
  {
   "cell_type": "code",
   "execution_count": 8,
   "metadata": {},
   "outputs": [],
   "source": [
    "final_df = {\n",
    "    \"date\": [],\n",
    "    \"time\": [],\n",
    "    \"data\": []\n",
    "}"
   ]
  },
  {
   "cell_type": "code",
   "execution_count": 9,
   "metadata": {},
   "outputs": [],
   "source": [
    "for index, row in time_df.iterrows():\n",
    "    data = row[datatypes[0]]\n",
    "    \n",
    "    for i in range(1, len(datatypes)):\n",
    "        datatype = datatypes[i]\n",
    "\n",
    "        data = np.vstack((data, row[datatype]))        \n",
    "        data = np.squeeze(data)\n",
    "        \n",
    "    final_df[\"date\"].append(row[\"date\"])\n",
    "    final_df[\"time\"].append(row[\"time\"])\n",
    "    final_df[\"data\"].append(data)"
   ]
  },
  {
   "cell_type": "code",
   "execution_count": 10,
   "metadata": {},
   "outputs": [
    {
     "data": {
      "text/html": [
       "<div>\n",
       "<style scoped>\n",
       "    .dataframe tbody tr th:only-of-type {\n",
       "        vertical-align: middle;\n",
       "    }\n",
       "\n",
       "    .dataframe tbody tr th {\n",
       "        vertical-align: top;\n",
       "    }\n",
       "\n",
       "    .dataframe thead th {\n",
       "        text-align: right;\n",
       "    }\n",
       "</style>\n",
       "<table border=\"1\" class=\"dataframe\">\n",
       "  <thead>\n",
       "    <tr style=\"text-align: right;\">\n",
       "      <th></th>\n",
       "      <th>date</th>\n",
       "      <th>time</th>\n",
       "      <th>data</th>\n",
       "    </tr>\n",
       "  </thead>\n",
       "  <tbody>\n",
       "    <tr>\n",
       "      <th>0</th>\n",
       "      <td>2022-05-01</td>\n",
       "      <td>04:30:00 - 12:00:00</td>\n",
       "      <td>[[0.4488278179454802, 0.4322391184742269, 0.44...</td>\n",
       "    </tr>\n",
       "    <tr>\n",
       "      <th>1</th>\n",
       "      <td>2022-05-01</td>\n",
       "      <td>12:00:00 - 20:30:00</td>\n",
       "      <td>[[0.4836997128940765, 0.561246941662826, 0.618...</td>\n",
       "    </tr>\n",
       "    <tr>\n",
       "      <th>2</th>\n",
       "      <td>2022-05-02</td>\n",
       "      <td>04:30:00 - 12:00:00</td>\n",
       "      <td>[[0.4347363618052108, 0.4381254558831656, 0.42...</td>\n",
       "    </tr>\n",
       "    <tr>\n",
       "      <th>3</th>\n",
       "      <td>2022-05-02</td>\n",
       "      <td>12:00:00 - 20:30:00</td>\n",
       "      <td>[[0.555851540634401, 0.5119717796295798, 0.526...</td>\n",
       "    </tr>\n",
       "    <tr>\n",
       "      <th>4</th>\n",
       "      <td>2022-05-03</td>\n",
       "      <td>04:30:00 - 12:00:00</td>\n",
       "      <td>[[0.4395969892025127, 0.436899084556749, 0.449...</td>\n",
       "    </tr>\n",
       "  </tbody>\n",
       "</table>\n",
       "</div>"
      ],
      "text/plain": [
       "         date                 time  \\\n",
       "0  2022-05-01  04:30:00 - 12:00:00   \n",
       "1  2022-05-01  12:00:00 - 20:30:00   \n",
       "2  2022-05-02  04:30:00 - 12:00:00   \n",
       "3  2022-05-02  12:00:00 - 20:30:00   \n",
       "4  2022-05-03  04:30:00 - 12:00:00   \n",
       "\n",
       "                                                data  \n",
       "0  [[0.4488278179454802, 0.4322391184742269, 0.44...  \n",
       "1  [[0.4836997128940765, 0.561246941662826, 0.618...  \n",
       "2  [[0.4347363618052108, 0.4381254558831656, 0.42...  \n",
       "3  [[0.555851540634401, 0.5119717796295798, 0.526...  \n",
       "4  [[0.4395969892025127, 0.436899084556749, 0.449...  "
      ]
     },
     "execution_count": 10,
     "metadata": {},
     "output_type": "execute_result"
    }
   ],
   "source": [
    "final_df = pd.DataFrame(final_df)\n",
    "final_df.head(5)"
   ]
  },
  {
   "cell_type": "code",
   "execution_count": 11,
   "metadata": {},
   "outputs": [
    {
     "data": {
      "text/plain": [
       "array([[0.44882782, 0.43223912, 0.44615221, 0.44646719, 0.43257359,\n",
       "        0.42274736, 0.425015  , 0.43411203, 0.425015  , 0.43557366,\n",
       "        0.45070072, 0.4513493 , 0.47872758, 0.55541597, 0.56922951],\n",
       "       [0.09548948, 0.1067274 , 0.1168007 , 0.12315055, 0.1281361 ,\n",
       "        0.13548071, 0.14944666, 0.17423768, 0.21328439, 0.26982409,\n",
       "        0.33889131, 0.38270906, 0.35529756, 0.23764537, 0.11861436],\n",
       "       [0.52183032, 0.52318234, 0.52183032, 0.51649156, 0.50942441,\n",
       "        0.50306481, 0.4970185 , 0.49046927, 0.48374315, 0.47745174,\n",
       "        0.47220669, 0.46768197, 0.45980078, 0.44463267, 0.42258306]])"
      ]
     },
     "execution_count": 11,
     "metadata": {},
     "output_type": "execute_result"
    }
   ],
   "source": [
    "final_df.loc[0][\"data\"]"
   ]
  },
  {
   "cell_type": "code",
   "execution_count": 12,
   "metadata": {},
   "outputs": [
    {
     "data": {
      "text/plain": [
       "(3, 15)"
      ]
     },
     "execution_count": 12,
     "metadata": {},
     "output_type": "execute_result"
    }
   ],
   "source": [
    "final_df.loc[0][\"data\"].shape"
   ]
  },
  {
   "cell_type": "code",
   "execution_count": 13,
   "metadata": {},
   "outputs": [
    {
     "data": {
      "text/html": [
       "<div>\n",
       "<style scoped>\n",
       "    .dataframe tbody tr th:only-of-type {\n",
       "        vertical-align: middle;\n",
       "    }\n",
       "\n",
       "    .dataframe tbody tr th {\n",
       "        vertical-align: top;\n",
       "    }\n",
       "\n",
       "    .dataframe thead th {\n",
       "        text-align: right;\n",
       "    }\n",
       "</style>\n",
       "<table border=\"1\" class=\"dataframe\">\n",
       "  <thead>\n",
       "    <tr style=\"text-align: right;\">\n",
       "      <th></th>\n",
       "      <th>date</th>\n",
       "      <th>time</th>\n",
       "      <th>data</th>\n",
       "    </tr>\n",
       "  </thead>\n",
       "  <tbody>\n",
       "    <tr>\n",
       "      <th>0</th>\n",
       "      <td>2022-05-01</td>\n",
       "      <td>04:30:00 - 12:00:00</td>\n",
       "      <td>[[0.4488278179454802, 0.4322391184742269, 0.44...</td>\n",
       "    </tr>\n",
       "    <tr>\n",
       "      <th>1</th>\n",
       "      <td>2022-05-02</td>\n",
       "      <td>04:30:00 - 12:00:00</td>\n",
       "      <td>[[0.4347363618052108, 0.4381254558831656, 0.42...</td>\n",
       "    </tr>\n",
       "    <tr>\n",
       "      <th>2</th>\n",
       "      <td>2022-05-03</td>\n",
       "      <td>04:30:00 - 12:00:00</td>\n",
       "      <td>[[0.4395969892025127, 0.436899084556749, 0.449...</td>\n",
       "    </tr>\n",
       "    <tr>\n",
       "      <th>3</th>\n",
       "      <td>2022-05-04</td>\n",
       "      <td>04:30:00 - 12:00:00</td>\n",
       "      <td>[[0.4382592130820562, 0.4270706606977921, 0.42...</td>\n",
       "    </tr>\n",
       "    <tr>\n",
       "      <th>4</th>\n",
       "      <td>2022-05-05</td>\n",
       "      <td>04:30:00 - 12:00:00</td>\n",
       "      <td>[[0.4333093801969022, 0.4329050976598512, 0.43...</td>\n",
       "    </tr>\n",
       "    <tr>\n",
       "      <th>5</th>\n",
       "      <td>2022-05-06</td>\n",
       "      <td>04:30:00 - 12:00:00</td>\n",
       "      <td>[[0.4541789734601935, 0.4375234209059389, 0.43...</td>\n",
       "    </tr>\n",
       "    <tr>\n",
       "      <th>6</th>\n",
       "      <td>2022-05-07</td>\n",
       "      <td>04:30:00 - 12:00:00</td>\n",
       "      <td>[[0.408912240631089, 0.4108343943495978, 0.414...</td>\n",
       "    </tr>\n",
       "    <tr>\n",
       "      <th>7</th>\n",
       "      <td>2022-05-08</td>\n",
       "      <td>04:30:00 - 12:00:00</td>\n",
       "      <td>[[0.4247474905470506, 0.4095857726841059, 0.40...</td>\n",
       "    </tr>\n",
       "    <tr>\n",
       "      <th>8</th>\n",
       "      <td>2022-05-09</td>\n",
       "      <td>04:30:00 - 12:00:00</td>\n",
       "      <td>[[0.438691869904717, 0.4381254558831656, 0.421...</td>\n",
       "    </tr>\n",
       "    <tr>\n",
       "      <th>9</th>\n",
       "      <td>2022-05-10</td>\n",
       "      <td>04:30:00 - 12:00:00</td>\n",
       "      <td>[[0.4556059550685022, 0.4755837486177105, 0.45...</td>\n",
       "    </tr>\n",
       "  </tbody>\n",
       "</table>\n",
       "</div>"
      ],
      "text/plain": [
       "         date                 time  \\\n",
       "0  2022-05-01  04:30:00 - 12:00:00   \n",
       "1  2022-05-02  04:30:00 - 12:00:00   \n",
       "2  2022-05-03  04:30:00 - 12:00:00   \n",
       "3  2022-05-04  04:30:00 - 12:00:00   \n",
       "4  2022-05-05  04:30:00 - 12:00:00   \n",
       "5  2022-05-06  04:30:00 - 12:00:00   \n",
       "6  2022-05-07  04:30:00 - 12:00:00   \n",
       "7  2022-05-08  04:30:00 - 12:00:00   \n",
       "8  2022-05-09  04:30:00 - 12:00:00   \n",
       "9  2022-05-10  04:30:00 - 12:00:00   \n",
       "\n",
       "                                                data  \n",
       "0  [[0.4488278179454802, 0.4322391184742269, 0.44...  \n",
       "1  [[0.4347363618052108, 0.4381254558831656, 0.42...  \n",
       "2  [[0.4395969892025127, 0.436899084556749, 0.449...  \n",
       "3  [[0.4382592130820562, 0.4270706606977921, 0.42...  \n",
       "4  [[0.4333093801969022, 0.4329050976598512, 0.43...  \n",
       "5  [[0.4541789734601935, 0.4375234209059389, 0.43...  \n",
       "6  [[0.408912240631089, 0.4108343943495978, 0.414...  \n",
       "7  [[0.4247474905470506, 0.4095857726841059, 0.40...  \n",
       "8  [[0.438691869904717, 0.4381254558831656, 0.421...  \n",
       "9  [[0.4556059550685022, 0.4755837486177105, 0.45...  "
      ]
     },
     "execution_count": 13,
     "metadata": {},
     "output_type": "execute_result"
    }
   ],
   "source": [
    "preprocessed_df = final_df.drop(\n",
    "    index=final_df[\n",
    "        final_df[\"data\"].apply(lambda x: x.shape != torch.Size([3, 15]))\n",
    "    ].index\n",
    ").reset_index(drop=True)\n",
    "\n",
    "preprocessed_df.head(10)"
   ]
  },
  {
   "cell_type": "code",
   "execution_count": 14,
   "metadata": {},
   "outputs": [],
   "source": [
    "data = np.stack(\n",
    "    tuple(preprocessed_df[\"data\"])\n",
    ")"
   ]
  },
  {
   "cell_type": "code",
   "execution_count": 15,
   "metadata": {},
   "outputs": [
    {
     "data": {
      "text/plain": [
       "(438, 3, 15)"
      ]
     },
     "execution_count": 15,
     "metadata": {},
     "output_type": "execute_result"
    }
   ],
   "source": [
    "data.shape"
   ]
  },
  {
   "cell_type": "code",
   "execution_count": 16,
   "metadata": {},
   "outputs": [
    {
     "data": {
      "image/png": "[encoded data removed]",
      "text/plain": [
       "<Figure size 1500x500 with 10 Axes>"
      ]
     },
     "metadata": {},
     "output_type": "display_data"
    }
   ],
   "source": [
    "num_samples = 10  # Số lượng ma trận muốn hiển thị\n",
    "fig, axes = plt.subplots(1, num_samples, figsize=(15, 5))\n",
    "\n",
    "for i in range(num_samples):\n",
    "    ax = axes[i]\n",
    "    ax.imshow(data[i], cmap='viridis', aspect='auto')\n",
    "    ax.set_title(f\"Sample {i}\")\n",
    "    ax.axis(\"off\")\n",
    "\n",
    "plt.show()"
   ]
  },
  {
   "cell_type": "markdown",
   "metadata": {},
   "source": [
    "# 1. K mean with DTW distance\n",
    "\n",
    "Vấn đề bao gồm:\n",
    "- Chọn k cluster tối ưu\n",
    "- Đánh giá mô hình\n",
    "- Phân tích lý do cùng cụm"
   ]
  },
  {
   "cell_type": "markdown",
   "metadata": {},
   "source": [
    "# 1.1. Chọn K clusters tối ưu cho mô hình K-means\n",
    "\n",
    "Việc chọn K clusters tối ưu giúp mô hình giảm thiểu chi phí tính toán, tránh trùm lặp dữ liệu trong các cụm. Các phương pháp chọn K tối ưu bao gồm:\n",
    "\n",
    "- `Elbow method`\n",
    "- `Silhoutte method`\n",
    "\n",
    "Cách thức hoạt động:\n",
    "\n",
    "`Elbow method`: Phương pháp chọn K trong một khoảng cho trước. Đối với mỗi K, tính giá trị `WSS` (`Within-Cluster-Sum of Squared`) và chọn K tại điểm mà giá trị WSS theo K mà tại đó độ giảm trở nên ít đáng kể.\n",
    "\n",
    "Lưu ý: Việc tính toán `WSS` có hơi phức tạp do:\n",
    "- Giá trị Squared Error đối với mỗi điểm là giá trị khoảng cách từ điểm đó đến tâm cụm.\n",
    "- `WSS` là tổng của toàn bộ các giá trị Squared Error.\n",
    "\n",
    "\n",
    "`Silhouette method`: giá trị Silhouette nằm trong khoảng -1 đến 1 và giá trị càng cao thì càng tốt. Tuy nhiên, phương pháp này chỉ hỗ trợ khoảng cách Euclidean. Có thể không phù hợp với loại dữ liệu sử dụng DTW.\n",
    "\n",
    "`Davies-Bouldin Index (DBI)`: phương pháp đánh giá chất lượng phân cụm bằng đo độ chồng lấn giữa các cụm. DBI càng nhỏ càng tốt, phản ảnh các cụm dữ liệu tách biệt và cô đọng.\n",
    "\n",
    "Công thức `DBI`: \n",
    "$$\n",
    "DBI = \\frac{1}{n} \\sum_{i = 1}^n max_{i \\neq j}(\\frac{s_i + s_j}{d_{ij}})\n",
    "$$\n",
    "\n",
    "Trong đó:\n",
    "- n là số cụm\n",
    "- si là độ chặt chẽ của cụm i: độ lệch chuẩn trung bình giữa các điểm trong cụm đó và tâm cụm.\n",
    "- dij là khoảng cách giữa tâm cụm i và j"
   ]
  },
  {
   "cell_type": "code",
   "execution_count": 17,
   "metadata": {},
   "outputs": [
    {
     "name": "stderr",
     "output_type": "stream",
     "text": [
      "100%|██████████| 38/38 [05:42<00:00,  9.02s/it]\n"
     ]
    },
    {
     "data": {
      "image/png": "[encoded data removed]",
      "text/plain": [
       "<Figure size 2000x600 with 1 Axes>"
      ]
     },
     "metadata": {},
     "output_type": "display_data"
    }
   ],
   "source": [
    "possible_k = range(2, 40)\n",
    "wcss = []\n",
    "\n",
    "for k in tqdm(possible_k):\n",
    "    model = TimeSeriesKMeans(n_clusters=k, metric=\"dtw\")\n",
    "    model.fit(data)\n",
    "    wcss.append(model.inertia_)\n",
    "\n",
    "plt.figure(figsize=(20, 6))\n",
    "plt.plot(possible_k, wcss, marker='x')\n",
    "plt.title(\"The Elbow Method\")\n",
    "plt.xlabel(\"Number of clusters\")\n",
    "plt.ylabel(\"WCSS\")\n",
    "plt.show()"
   ]
  },
  {
   "cell_type": "code",
   "execution_count": null,
   "metadata": {},
   "outputs": [
    {
     "name": "stderr",
     "output_type": "stream",
     "text": [
      " 82%|████████▏ | 31/38 [04:40<01:33, 13.39s/it]"
     ]
    }
   ],
   "source": [
    "from sklearn.metrics import davies_bouldin_score\n",
    "\n",
    "dbi_scores = []\n",
    "for k in tqdm(possible_k):\n",
    "    model = TimeSeriesKMeans(n_clusters=k, metric=\"dtw\")\n",
    "    labels = model.fit_predict(data)\n",
    "\n",
    "    cluster_centers = model.cluster_centers_\n",
    "    dtw_distances = np.zeros(data.shape[0])\n",
    "\n",
    "    for i in range(100):\n",
    "        dtw_distances[i] = dtw(data[i].squeeze(), cluster_centers[labels[i]].squeeze())\n",
    "\n",
    "    # Tính Davies-Bouldin Index\n",
    "    dbi = davies_bouldin_score(dtw_distances.reshape(-1, 1), labels)\n",
    "    dbi_scores.append(dbi)"
   ]
  },
  {
   "cell_type": "code",
   "execution_count": null,
   "metadata": {},
   "outputs": [
    {
     "data": {
      "image/png": "[encoded data removed]",
      "text/plain": [
       "<Figure size 2000x500 with 1 Axes>"
      ]
     },
     "metadata": {},
     "output_type": "display_data"
    }
   ],
   "source": [
    "plt.figure(figsize=(20, 5))\n",
    "plt.plot(possible_k, dbi_scores, marker='o', linestyle='-', color='b')\n",
    "plt.xlabel(\"Number of clusters (k)\")\n",
    "plt.ylabel(\"Davies-Bouldin Index\")\n",
    "plt.title(\"Choosing k using Davies-Bouldin Index\")\n",
    "plt.grid(True)\n",
    "plt.show()"
   ]
  },
  {
   "cell_type": "markdown",
   "metadata": {},
   "source": [
    "`Elbow method`:\n",
    "- Đồ thị bắt đầu giảm không đáng kể từ k = 8.\n",
    "- Giá trị tiềm năng cho k chạy từ 8 trở đi.\n",
    "\n",
    "`DBI`:\n",
    "- Từ 8 đến 11 có sự ổn định và giá trị DBI nhỏ. Các giá trị 12, 16, 18, 30 có sự dao động mạnh, chứng tỏ mô hình khó phân cụm tại các điểm này.\n",
    "- Giá trị tiềm năng cho k chạy từ 8 đến 11.\n",
    "\n",
    "Vì vậy, k tối ưu là 8"
   ]
  },
  {
   "cell_type": "code",
   "execution_count": null,
   "metadata": {},
   "outputs": [],
   "source": [
    "k_clusters = 8\n",
    "model = TimeSeriesKMeans(n_clusters=k, metric=\"dtw\")\n",
    "labels = model.fit_predict(data)"
   ]
  },
  {
   "cell_type": "code",
   "execution_count": null,
   "metadata": {},
   "outputs": [
    {
     "data": {
      "application/vnd.plotly.v1+json": {
       "config": {
        "plotlyServerURL": "https://plot.ly"
       },
       "data": [
        {
         "marker": {
          "color": "rgb(228,26,28)",
          "opacity": 0.8,
          "size": 6
         },
         "mode": "markers",
         "name": "Cluster 0",
         "type": "scatter3d",
         "x": {
          "bdata": "S1OIcSAr4z82Vo1XNRvkP5E+sXtgquI/I2SBzbf64j/g4veATazjP172u+iW2+I/8t58w0eN5D91urf4wVXkPyuNaFiGeeM/uW3u4+mF4T9wH4gySmXjP9li2QCyIuM/ABKLhjc/4z9WX2PFbmziPw==",
          "dtype": "f8"
         },
         "y": {
          "bdata": "nXdJ2dFwxj/ZlW9O7/jKP6tE4cU7FMo/BBlYQLI1yT+1KBb4upLMPxetEAssDsY/tq5xGJjtxT9CVMj5n/DHP5kSqNreOcg/Yqt6p8dyyD9RbRmPr/HCP2WX1xzMPMY//KDe1rxuxT+P/KidP5zEPw==",
          "dtype": "f8"
         },
         "z": {
          "bdata": "S5yEicNV3j9D8xDqKzDbP5OOtnIl2tw/DAhRrmAH3j+pgWpI7aTaPx9vuO6Z69o/7tSWeUNr2T8SQKD/iiDgP/fY2mP+/ds/JyWyOoX23D8eHhuoSG3eP71jBlZth94/Lzlbpx8s3j8NNWOxyvXdPw==",
          "dtype": "f8"
         }
        },
        {
         "marker": {
          "color": "rgb(55,126,184)",
          "opacity": 0.8,
          "size": 6
         },
         "mode": "markers",
         "name": "Cluster 1",
         "type": "scatter3d",
         "x": {
          "bdata": "QN3eJJmT2j8dCqz6eAzaPy3j7f1rMNo/b3aa7gBT2T80I/Jjs2bZPwoNFCSwEds/5VcbV1iN2j+r7K7XeKjYP4aWdarrLdg/ZGao01EM2D+EOHdgqeXYP+Hz7xx9mtg/",
          "dtype": "f8"
         },
         "y": {
          "bdata": "Ths7V8b6vT9lexf7CS65P5sPdZwYJLo/JGtFfQ8nuT8tOgFEMTK4P24psPswaLg/TFDuml5CuD9+ljOthAe4PwOSl/qaUrk/BrTgThyotj/EuFXOx7m3P1SXLEhH0L4/",
          "dtype": "f8"
         },
         "z": {
          "bdata": "F8UxqJPg6D+OUAIoSKDpP9KU/oW1z+k/zlIL3jDA6T/eJmvvXDzpPwVY3lQu7uk/YffobT8G6j+HZyebLLjpP7VDpPXaMeo/WbThwxwJ6T9AW+KFF9HoP5VXvoxleOg/",
          "dtype": "f8"
         }
        },
        {
         "marker": {
          "color": "rgb(77,175,74)",
          "opacity": 0.8,
          "size": 6
         },
         "mode": "markers",
         "name": "Cluster 2",
         "type": "scatter3d",
         "x": {
          "bdata": "3+850DA84T852VmmKU/hP5YETQfvRuI/5aecP9Oe4T/F/sx+3CvhPyXzI895puI/8yXhzq3m4T8CGg0WWebiPyW44ZQiVeI/YVt6/pc24T+8qNkt0InhP6//3SV+Q+Q/aQ4PkVVZ5D87DrmHl+XiPyxBmXWmduI/J4CobflY4z9XQu9NN5jkPxC0XEUhDuM/6UZkL1Ak4z83INKbKjbhP0Hrwy/fJuI/kARE0b+k4T/bGwEA24jiP3UM2XTXyeA/",
          "dtype": "f8"
         },
         "y": {
          "bdata": "LSHmSwHqyD+JeyNfdmvKP1lO1FtbuMg/bYBm7Nalwz/EzpEvkM3EPw3esv5o8sY/zCtaAyhNxj8To56PzkXHP6tLPzaefcY/08IPiSZPxT+snGP73AbHP5n2TfGJCMY/3lAD+wV3xD+GXhLkT5zFP9fc1Lk9O8k/Q23oKiQxxj8qXTsdopvHPyx025Xt68Y/JzRqGke1wD8jnV9C4DzEP4EE8C0qIsQ/JogXE7A+xT+Q5/kdcezEP+a6XJgY08Q/",
          "dtype": "f8"
         },
         "z": {
          "bdata": "7vGBsY/u4D87OI3BmxXgPyMLKiBcMOI/VNJvVc2S4j9ft5ZSQz/iPzkMG9L+tOE/1kMzO10i4T9lnfWHOdfgP5xozNbTZ+E/yz9QXry+4T/BVw+oANzhP6FGBDbmTeI/yg1mxgIA4j+p2ucKPuzgPx11iOZfI+A/dmrmdnLc4D/ppNZZy3/hP2l+BQ2gmd8/u+4CXUPM4T83AAH3c3DhPx9DWUkw4OA/u6lK0zeO4T/SEjTs93nhPyFvACqVXeE/",
          "dtype": "f8"
         }
        },
        {
         "marker": {
          "color": "rgb(152,78,163)",
          "opacity": 0.8,
          "size": 6
         },
         "mode": "markers",
         "name": "Cluster 3",
         "type": "scatter3d",
         "x": {
          "bdata": "zLIvb+xP2z9eHkrgj77YP9XxTbMhvNo/kXxt9GH91z8wo8s5h9/bPwyTXQOaLNg/5EceGLex2D9Q7yhNsbLYPw/8FjEGxdg/A945BQum2D9jMeokSEbcP1rKwME+Y9s/HFbRINTp2j8=",
          "dtype": "f8"
         },
         "y": {
          "bdata": "GQQPk5W+tz/Gb2owMei2P7xAE7rBYrc/mdrKD7aItj8SnxpgTcC2P4GX1rBr1rg/TQopAMXiuT8PDQFh3MO4Px0oiO4hoLg/u2EogjGOuD8JFFEqBbW5Pz3aQBZJUbo/Z5zzr0t6uD8=",
          "dtype": "f8"
         },
         "z": {
          "bdata": "C2uUa+243D+LuKkXnjfcPxFVdr5Db94/SUAjrJi53j9Zamltj9DZP8xQ/C5Cado/hlLnbinw2D9Zlmnq4HXYPzNIIWnYg9g/prPSEFUy2D8ka1brSIDcP1Y5NWc7d9w/+mi0y+lg3j8=",
          "dtype": "f8"
         }
        },
        {
         "marker": {
          "color": "rgb(255,127,0)",
          "opacity": 0.8,
          "size": 6
         },
         "mode": "markers",
         "name": "Cluster 4",
         "type": "scatter3d",
         "x": {
          "bdata": "IoyGmrd+2T/yD8w6ya/YP2FZzebEltg/Vo3VE6Uz2D+1zMCQuVraP1rd24KI4tg/YPfEZULa2D8LOOtJ+g7ZP9SWMJAHBts/T9KuKiQw2T9LyKIsxqbZP+qr1QmU0tc/",
          "dtype": "f8"
         },
         "y": {
          "bdata": "UniImmJCtz+xd9ymBNC3P2wrGsOaPLg/Nj3ccsp9tj818OHfbSS4P4nWTeXAybc/ixQl9KxyuD/x0sUC6Sy4P8VSrDs3Mrc/PlZ7vkp6uD/AZkHpYJO8P7mS9Ghy+rc/",
          "dtype": "f8"
         },
         "z": {
          "bdata": "5IE8nsis5D8uWvkWkoPjPy6ypgB3l+M/aiOwyf7e5T/Paob7iWnkPyN5Y4DjT+U/HQbiHwQ85D+l8W4LYF3jP1VdGHCh1uM/vSoEOoPd5T+BLfskk1PlP3Uf5ypCNeU/",
          "dtype": "f8"
         }
        },
        {
         "marker": {
          "color": "rgb(255,255,51)",
          "opacity": 0.8,
          "size": 6
         },
         "mode": "markers",
         "name": "Cluster 5",
         "type": "scatter3d",
         "x": {
          "bdata": "g1g/9PaH2T9zIoW5n3zbP1SJFrC4vtg/euYj5P2P2z/HUzUbJoLYPy7112AhiNk/3zBJnYit2D8RXWGXRrfaP62OjBS97dk/tSnu+fKy2T85wAmJbabaP2aclgZUzNs/",
          "dtype": "f8"
         },
         "y": {
          "bdata": "g1t4tQCntj+Un+Pjd023P2RxPZgxMLk/vCy0dIWtuj8ZB3BKEki4P7/UzhZLYbo/bjOoC1AcuT+E0FHhVtS3Pw+IIJiLArs/jrJdFpgiuj8XqtcYM1W7PykMAnVPd7o/",
          "dtype": "f8"
         },
         "z": {
          "bdata": "s8/sZE7/4D/2o2CdaTjhP+qHoFVx5d8/wqFTiBZj4D8CcmQ/4CThPwl10Pm8OOE/EYgXDGyD4T9TnauI9k3iP8S5MjjN3uA/vdFZP2BZ4j/b0D69q0biP4nUuUfB8+I/",
          "dtype": "f8"
         }
        },
        {
         "marker": {
          "color": "rgb(166,86,40)",
          "opacity": 0.8,
          "size": 6
         },
         "mode": "markers",
         "name": "Cluster 6",
         "type": "scatter3d",
         "x": {
          "bdata": "Jv+sIKOa4T96CufefrLlP2TkyA5oZuM/RoPQi+8E5D/0W+LL1ILlP2wGU9sFbuQ/",
          "dtype": "f8"
         },
         "y": {
          "bdata": "RXFOf1aZ0D8kZZJUvCXNP6K/gmi0Oc0/5L7FVdQB0D9mXiC3GRnIP1FAnhhZj8o/",
          "dtype": "f8"
         },
         "z": {
          "bdata": "vXfAA9vC2z+RabVfID3eP5Tx1Ts1cto/Q6jir8eI2j8chj35GobaP4ByZa++4Nc/",
          "dtype": "f8"
         }
        },
        {
         "marker": {
          "color": "rgb(247,129,191)",
          "opacity": 0.8,
          "size": 6
         },
         "mode": "markers",
         "name": "Cluster 7",
         "type": "scatter3d",
         "x": {
          "bdata": "d4pRjaHW3D9cIw3Dx/bcP1ax7c2MKd8/XTylcTlc4D+B2EmoVL3gP+NdG+QW0eA/t3P4BjR34D+zAT/97crgPziLJx9uoOA/n3+9qTpn4T/Xtam1IO/gP9Fh+XS4W+E/mb6nLO+I4D8RmDRLd87hP4WredUXm98/",
          "dtype": "f8"
         },
         "y": {
          "bdata": "5lzI+TwG0D8aVF1keZjRP9bHgly9x9E/LEDahzOf0T9JPcIJTmjSP1aqjZ5NS9M/6a6vS8xG0j9H5JRc8K7SP/FP47fgUNM/YuiCaips0z+AM6uUq+HVP9PlZDtUFdM/Ldf84kQb1z9TIHBpIxfSP4YEb/P3g88/",
          "dtype": "f8"
         },
         "z": {
          "bdata": "S3lyRInj3j+CvHo+jZ3jPw6L1AM9YeI/37ya174m4D93vHo8cOXcP63c1ueHueA/icowXyzC4D9ADLspvb7fP6sxFwqMfuE/OYT/z5464D/mXbOvT4HcP9EBJxmUud0/N8TsgD+h2T9+W7gfDDfeP2XqXqgp2d8/",
          "dtype": "f8"
         }
        }
       ],
       "layout": {
        "height": 900,
        "margin": {
         "b": 0,
         "l": 0,
         "r": 0,
         "t": 40
        },
        "scene": {
         "xaxis": {
          "title": {
           "text": "Feature 1 (mean)"
          }
         },
         "yaxis": {
          "title": {
           "text": "Feature 2 (mean)"
          }
         },
         "zaxis": {
          "title": {
           "text": "Feature 3 (mean)"
          }
         }
        },
        "template": {
         "data": {
          "bar": [
           {
            "error_x": {
             "color": "#2a3f5f"
            },
            "error_y": {
             "color": "#2a3f5f"
            },
            "marker": {
             "line": {
              "color": "#E5ECF6",
              "width": 0.5
             },
             "pattern": {
              "fillmode": "overlay",
              "size": 10,
              "solidity": 0.2
             }
            },
            "type": "bar"
           }
          ],
          "barpolar": [
           {
            "marker": {
             "line": {
              "color": "#E5ECF6",
              "width": 0.5
             },
             "pattern": {
              "fillmode": "overlay",
              "size": 10,
              "solidity": 0.2
             }
            },
            "type": "barpolar"
           }
          ],
          "carpet": [
           {
            "aaxis": {
             "endlinecolor": "#2a3f5f",
             "gridcolor": "white",
             "linecolor": "white",
             "minorgridcolor": "white",
             "startlinecolor": "#2a3f5f"
            },
            "baxis": {
             "endlinecolor": "#2a3f5f",
             "gridcolor": "white",
             "linecolor": "white",
             "minorgridcolor": "white",
             "startlinecolor": "#2a3f5f"
            },
            "type": "carpet"
           }
          ],
          "choropleth": [
           {
            "colorbar": {
             "outlinewidth": 0,
             "ticks": ""
            },
            "type": "choropleth"
           }
          ],
          "contour": [
           {
            "colorbar": {
             "outlinewidth": 0,
             "ticks": ""
            },
            "colorscale": [
             [
              0,
              "#0d0887"
             ],
             [
              0.1111111111111111,
              "#46039f"
             ],
             [
              0.2222222222222222,
              "#7201a8"
             ],
             [
              0.3333333333333333,
              "#9c179e"
             ],
             [
              0.4444444444444444,
              "#bd3786"
             ],
             [
              0.5555555555555556,
              "#d8576b"
             ],
             [
              0.6666666666666666,
              "#ed7953"
             ],
             [
              0.7777777777777778,
              "#fb9f3a"
             ],
             [
              0.8888888888888888,
              "#fdca26"
             ],
             [
              1,
              "#f0f921"
             ]
            ],
            "type": "contour"
           }
          ],
          "contourcarpet": [
           {
            "colorbar": {
             "outlinewidth": 0,
             "ticks": ""
            },
            "type": "contourcarpet"
           }
          ],
          "heatmap": [
           {
            "colorbar": {
             "outlinewidth": 0,
             "ticks": ""
            },
            "colorscale": [
             [
              0,
              "#0d0887"
             ],
             [
              0.1111111111111111,
              "#46039f"
             ],
             [
              0.2222222222222222,
              "#7201a8"
             ],
             [
              0.3333333333333333,
              "#9c179e"
             ],
             [
              0.4444444444444444,
              "#bd3786"
             ],
             [
              0.5555555555555556,
              "#d8576b"
             ],
             [
              0.6666666666666666,
              "#ed7953"
             ],
             [
              0.7777777777777778,
              "#fb9f3a"
             ],
             [
              0.8888888888888888,
              "#fdca26"
             ],
             [
              1,
              "#f0f921"
             ]
            ],
            "type": "heatmap"
           }
          ],
          "histogram": [
           {
            "marker": {
             "pattern": {
              "fillmode": "overlay",
              "size": 10,
              "solidity": 0.2
             }
            },
            "type": "histogram"
           }
          ],
          "histogram2d": [
           {
            "colorbar": {
             "outlinewidth": 0,
             "ticks": ""
            },
            "colorscale": [
             [
              0,
              "#0d0887"
             ],
             [
              0.1111111111111111,
              "#46039f"
             ],
             [
              0.2222222222222222,
              "#7201a8"
             ],
             [
              0.3333333333333333,
              "#9c179e"
             ],
             [
              0.4444444444444444,
              "#bd3786"
             ],
             [
              0.5555555555555556,
              "#d8576b"
             ],
             [
              0.6666666666666666,
              "#ed7953"
             ],
             [
              0.7777777777777778,
              "#fb9f3a"
             ],
             [
              0.8888888888888888,
              "#fdca26"
             ],
             [
              1,
              "#f0f921"
             ]
            ],
            "type": "histogram2d"
           }
          ],
          "histogram2dcontour": [
           {
            "colorbar": {
             "outlinewidth": 0,
             "ticks": ""
            },
            "colorscale": [
             [
              0,
              "#0d0887"
             ],
             [
              0.1111111111111111,
              "#46039f"
             ],
             [
              0.2222222222222222,
              "#7201a8"
             ],
             [
              0.3333333333333333,
              "#9c179e"
             ],
             [
              0.4444444444444444,
              "#bd3786"
             ],
             [
              0.5555555555555556,
              "#d8576b"
             ],
             [
              0.6666666666666666,
              "#ed7953"
             ],
             [
              0.7777777777777778,
              "#fb9f3a"
             ],
             [
              0.8888888888888888,
              "#fdca26"
             ],
             [
              1,
              "#f0f921"
             ]
            ],
            "type": "histogram2dcontour"
           }
          ],
          "mesh3d": [
           {
            "colorbar": {
             "outlinewidth": 0,
             "ticks": ""
            },
            "type": "mesh3d"
           }
          ],
          "parcoords": [
           {
            "line": {
             "colorbar": {
              "outlinewidth": 0,
              "ticks": ""
             }
            },
            "type": "parcoords"
           }
          ],
          "pie": [
           {
            "automargin": true,
            "type": "pie"
           }
          ],
          "scatter": [
           {
            "fillpattern": {
             "fillmode": "overlay",
             "size": 10,
             "solidity": 0.2
            },
            "type": "scatter"
           }
          ],
          "scatter3d": [
           {
            "line": {
             "colorbar": {
              "outlinewidth": 0,
              "ticks": ""
             }
            },
            "marker": {
             "colorbar": {
              "outlinewidth": 0,
              "ticks": ""
             }
            },
            "type": "scatter3d"
           }
          ],
          "scattercarpet": [
           {
            "marker": {
             "colorbar": {
              "outlinewidth": 0,
              "ticks": ""
             }
            },
            "type": "scattercarpet"
           }
          ],
          "scattergeo": [
           {
            "marker": {
             "colorbar": {
              "outlinewidth": 0,
              "ticks": ""
             }
            },
            "type": "scattergeo"
           }
          ],
          "scattergl": [
           {
            "marker": {
             "colorbar": {
              "outlinewidth": 0,
              "ticks": ""
             }
            },
            "type": "scattergl"
           }
          ],
          "scattermap": [
           {
            "marker": {
             "colorbar": {
              "outlinewidth": 0,
              "ticks": ""
             }
            },
            "type": "scattermap"
           }
          ],
          "scattermapbox": [
           {
            "marker": {
             "colorbar": {
              "outlinewidth": 0,
              "ticks": ""
             }
            },
            "type": "scattermapbox"
           }
          ],
          "scatterpolar": [
           {
            "marker": {
             "colorbar": {
              "outlinewidth": 0,
              "ticks": ""
             }
            },
            "type": "scatterpolar"
           }
          ],
          "scatterpolargl": [
           {
            "marker": {
             "colorbar": {
              "outlinewidth": 0,
              "ticks": ""
             }
            },
            "type": "scatterpolargl"
           }
          ],
          "scatterternary": [
           {
            "marker": {
             "colorbar": {
              "outlinewidth": 0,
              "ticks": ""
             }
            },
            "type": "scatterternary"
           }
          ],
          "surface": [
           {
            "colorbar": {
             "outlinewidth": 0,
             "ticks": ""
            },
            "colorscale": [
             [
              0,
              "#0d0887"
             ],
             [
              0.1111111111111111,
              "#46039f"
             ],
             [
              0.2222222222222222,
              "#7201a8"
             ],
             [
              0.3333333333333333,
              "#9c179e"
             ],
             [
              0.4444444444444444,
              "#bd3786"
             ],
             [
              0.5555555555555556,
              "#d8576b"
             ],
             [
              0.6666666666666666,
              "#ed7953"
             ],
             [
              0.7777777777777778,
              "#fb9f3a"
             ],
             [
              0.8888888888888888,
              "#fdca26"
             ],
             [
              1,
              "#f0f921"
             ]
            ],
            "type": "surface"
           }
          ],
          "table": [
           {
            "cells": {
             "fill": {
              "color": "#EBF0F8"
             },
             "line": {
              "color": "white"
             }
            },
            "header": {
             "fill": {
              "color": "#C8D4E3"
             },
             "line": {
              "color": "white"
             }
            },
            "type": "table"
           }
          ]
         },
         "layout": {
          "annotationdefaults": {
           "arrowcolor": "#2a3f5f",
           "arrowhead": 0,
           "arrowwidth": 1
          },
          "autotypenumbers": "strict",
          "coloraxis": {
           "colorbar": {
            "outlinewidth": 0,
            "ticks": ""
           }
          },
          "colorscale": {
           "diverging": [
            [
             0,
             "#8e0152"
            ],
            [
             0.1,
             "#c51b7d"
            ],
            [
             0.2,
             "#de77ae"
            ],
            [
             0.3,
             "#f1b6da"
            ],
            [
             0.4,
             "#fde0ef"
            ],
            [
             0.5,
             "#f7f7f7"
            ],
            [
             0.6,
             "#e6f5d0"
            ],
            [
             0.7,
             "#b8e186"
            ],
            [
             0.8,
             "#7fbc41"
            ],
            [
             0.9,
             "#4d9221"
            ],
            [
             1,
             "#276419"
            ]
           ],
           "sequential": [
            [
             0,
             "#0d0887"
            ],
            [
             0.1111111111111111,
             "#46039f"
            ],
            [
             0.2222222222222222,
             "#7201a8"
            ],
            [
             0.3333333333333333,
             "#9c179e"
            ],
            [
             0.4444444444444444,
             "#bd3786"
            ],
            [
             0.5555555555555556,
             "#d8576b"
            ],
            [
             0.6666666666666666,
             "#ed7953"
            ],
            [
             0.7777777777777778,
             "#fb9f3a"
            ],
            [
             0.8888888888888888,
             "#fdca26"
            ],
            [
             1,
             "#f0f921"
            ]
           ],
           "sequentialminus": [
            [
             0,
             "#0d0887"
            ],
            [
             0.1111111111111111,
             "#46039f"
            ],
            [
             0.2222222222222222,
             "#7201a8"
            ],
            [
             0.3333333333333333,
             "#9c179e"
            ],
            [
             0.4444444444444444,
             "#bd3786"
            ],
            [
             0.5555555555555556,
             "#d8576b"
            ],
            [
             0.6666666666666666,
             "#ed7953"
            ],
            [
             0.7777777777777778,
             "#fb9f3a"
            ],
            [
             0.8888888888888888,
             "#fdca26"
            ],
            [
             1,
             "#f0f921"
            ]
           ]
          },
          "colorway": [
           "#636efa",
           "#EF553B",
           "#00cc96",
           "#ab63fa",
           "#FFA15A",
           "#19d3f3",
           "#FF6692",
           "#B6E880",
           "#FF97FF",
           "#FECB52"
          ],
          "font": {
           "color": "#2a3f5f"
          },
          "geo": {
           "bgcolor": "white",
           "lakecolor": "white",
           "landcolor": "#E5ECF6",
           "showlakes": true,
           "showland": true,
           "subunitcolor": "white"
          },
          "hoverlabel": {
           "align": "left"
          },
          "hovermode": "closest",
          "mapbox": {
           "style": "light"
          },
          "paper_bgcolor": "white",
          "plot_bgcolor": "#E5ECF6",
          "polar": {
           "angularaxis": {
            "gridcolor": "white",
            "linecolor": "white",
            "ticks": ""
           },
           "bgcolor": "#E5ECF6",
           "radialaxis": {
            "gridcolor": "white",
            "linecolor": "white",
            "ticks": ""
           }
          },
          "scene": {
           "xaxis": {
            "backgroundcolor": "#E5ECF6",
            "gridcolor": "white",
            "gridwidth": 2,
            "linecolor": "white",
            "showbackground": true,
            "ticks": "",
            "zerolinecolor": "white"
           },
           "yaxis": {
            "backgroundcolor": "#E5ECF6",
            "gridcolor": "white",
            "gridwidth": 2,
            "linecolor": "white",
            "showbackground": true,
            "ticks": "",
            "zerolinecolor": "white"
           },
           "zaxis": {
            "backgroundcolor": "#E5ECF6",
            "gridcolor": "white",
            "gridwidth": 2,
            "linecolor": "white",
            "showbackground": true,
            "ticks": "",
            "zerolinecolor": "white"
           }
          },
          "shapedefaults": {
           "line": {
            "color": "#2a3f5f"
           }
          },
          "ternary": {
           "aaxis": {
            "gridcolor": "white",
            "linecolor": "white",
            "ticks": ""
           },
           "baxis": {
            "gridcolor": "white",
            "linecolor": "white",
            "ticks": ""
           },
           "bgcolor": "#E5ECF6",
           "caxis": {
            "gridcolor": "white",
            "linecolor": "white",
            "ticks": ""
           }
          },
          "title": {
           "x": 0.05
          },
          "xaxis": {
           "automargin": true,
           "gridcolor": "white",
           "linecolor": "white",
           "ticks": "",
           "title": {
            "standoff": 15
           },
           "zerolinecolor": "white",
           "zerolinewidth": 2
          },
          "yaxis": {
           "automargin": true,
           "gridcolor": "white",
           "linecolor": "white",
           "ticks": "",
           "title": {
            "standoff": 15
           },
           "zerolinecolor": "white",
           "zerolinewidth": 2
          }
         }
        },
        "title": {
         "text": "Biểu diễn các cụm dữ liệu lấy theo giá trị trung bình của time-series"
        },
        "width": 2000
       }
      }
     },
     "metadata": {},
     "output_type": "display_data"
    }
   ],
   "source": [
    "import plotly.express as px\n",
    "import plotly.graph_objects as go\n",
    "\n",
    "X_3d = np.mean(data, axis=2)\n",
    "\n",
    "colors = px.colors.qualitative.Set1\n",
    "fig = go.Figure()\n",
    "\n",
    "for i in range(k_clusters):\n",
    "    cluster_points = X_3d[labels == i]\n",
    "    \n",
    "    fig.add_trace(go.Scatter3d(\n",
    "        x=cluster_points[:, 0],\n",
    "        y=cluster_points[:, 1],\n",
    "        z=cluster_points[:, 2],\n",
    "        mode='markers',\n",
    "        marker=dict(size=6, color=colors[i % len(colors)], opacity=0.8),\n",
    "        name=f'Cluster {i}'\n",
    "    ))\n",
    "\n",
    "# Cài đặt giao diện\n",
    "fig.update_layout(\n",
    "    title=f'Biểu diễn các cụm dữ liệu lấy theo giá trị trung bình của time-series',\n",
    "    scene=dict(\n",
    "        xaxis_title='Feature 1 (mean)',\n",
    "        yaxis_title='Feature 2 (mean)',\n",
    "        zaxis_title='Feature 3 (mean)',\n",
    "    ),\n",
    "    margin=dict(l=0, r=0, b=0, t=40),\n",
    "    width=2000,  # Tăng chiều rộng\n",
    "    height=900   # Tăng chiều cao\n",
    ")\n",
    "fig.show()"
   ]
  },
  {
   "cell_type": "code",
   "execution_count": null,
   "metadata": {},
   "outputs": [
    {
     "data": {
      "application/vnd.plotly.v1+json": {
       "config": {
        "plotlyServerURL": "https://plot.ly"
       },
       "data": [
        {
         "marker": {
          "color": "rgb(228,26,28)",
          "opacity": 0.8,
          "size": 6
         },
         "mode": "markers",
         "name": "Cluster 0",
         "type": "scatter3d",
         "x": {
          "bdata": "kgFQ5DeF6j98l4pHR3fmP7M/eqPE5Og/OQOJ1o8C5z/APtTzJ8DnPzjj7J7a3uY/RpDnvqN05j+Ob5d65NzqPw8JkhTsYuY/mq3YK1FE5z87eWaJGR3lP+qFvS7Zn+Y/lhsgwv2b5z9pn7RRBNXsP/hz+Rz0qeg/1U6ccC9c5D9hyrXvDqblP+3gEzmD9eU/Vifjt1ZL6D/dwaiI3MzmPzlo1uMB8+c/Nem4+Mnr6T/9ZBBwdRHmP4l7mGgJaOY/J0R9buah5z+GwK1moRHnP7/QFxojAuc/CAlHZenG5T82lOIxWLDjP6eZlf2SdeQ/9nYaTJjJ5D9sqZi3TU7kPw==",
          "dtype": "f8"
         },
         "y": {
          "bdata": "hwddXxbg2z9xrVyKzWTTP9SiL29rSNU/Du1syh3Z3j/ccVJTaGbpP75NWbE4D+M/xeNmhNNc3D+9qmeVGRzZP+LrPcy71t0/CGbHT0Bt5z+M7ZffgqfjP4pxVRvwYOM/Fnww8KiC5D/CJqVS66LgP3bvn6Wp6uQ/pqYRUaOR4D/iJT6v0W3eP3jRHTQKVuY/mgVVme+c2j9BHWugP4/eP9qYZNl8M+A/CIWvyhaX5D+dd8jMo5DhP4xp2qMV7uM/Txta/aeH2j+IedCSytPiP2oq+//FbOM/U+3m+uc+1j9KOfuefjfhP9JqpkyUldU/fYRSGqD41j98J0k9gKvZPw==",
          "dtype": "f8"
         },
         "z": {
          "bdata": "JnyYkXYY4T+3eIPCJ1jgP/1jZ67k5N8/FZYPgVDX3j8Xaa6W9h7fP5VddUu2n9o/2A7sHOuw3T++aUyyJs/fP0z39ms0TeA/IJZQBztD3j98F5xsqgXgP/VyZ+vRjt0/6pP1CH083D/mQIGlJgHcP7m5x37VsuA/HtyK4soX3D+9hzINmbHcP1bF/h908ds/zpR56udX2j9FrVCr3y3bP1hWxhseotw/MdtnQWBt3T9M9/ZrNE3gPyjippyU090/MdtnQWBt3T9tLPAZtVfaP+9CQIUVddk/YrRbFE8T1z++aUyyJs/fP75pTLImz98/fKrgjK0N3z9FG/ar4Q/fPw==",
          "dtype": "f8"
         }
        },
        {
         "marker": {
          "color": "rgb(55,126,184)",
          "opacity": 0.8,
          "size": 6
         },
         "mode": "markers",
         "name": "Cluster 1",
         "type": "scatter3d",
         "x": {
          "bdata": "mv1XIK6g3D9ntmKvRBHdP2hthvoaPd0/FpWQEqrR3T9hSaX+dNndP232MBGMnd0/YpLx253A3T+TWWfarXDdPzDn232T1+Q/Z+3N6tCQ4j9csG0E/JToPzr0PMskGOQ/HESI55Sj5j/XqSD9XhDeP3OBkpnTp+c/8L3BFWTr6T/MikhsstnkP944vkn8Mec/mdYFxNbb5j+NRunLiGPgP+d6/fSYEuI/JbVjXGBr5D++dqD11EvqP/6DKiCpzOM/mFSj8f4J4j/BwEiifefhPzycEC88Q9w/zhHBqSoT4D92ymZpr5TnP8AT0/vQeeM/DMYEx5/H6T+eE5gIhUzgP5lLUQp5guI/ypiBGBhq5T8YKvCdTpbpP9sXv138dt8/V6k7nOxt4j9gHpkhR57pPz9wdQB63uU/S+KpaPRI5j867qLzxnvbP0muEf7e9dw/Y9vNkMeU3T/1UPYYA1/hP84RwakqE+A/KbjeH+ot4T/0KItmAuTjP8l1CBDO7Og/imR54kYU5j+vwFDTMuTqP15L7mIctuc/NHSTWE174z/2zOqn2GfdPwwio6CNd+A/irVhlO7h3T9LZSV2K5TiP5DPIY1O7do/PkH35UbI4j8HVmWWCtbeP1s/XEwVg9s/JDAjwl763T+mGOdPmLncPxgxv4ynLt8/xIUd5ojW3T8=",
          "dtype": "f8"
         },
         "y": {
          "bdata": "HsC4gPA3xT88v/TthJW/PwiPW8kXrdQ/ekMeJaaFxD9KQAgJSQrOP7u2LnQ3f8Q/sDp3WwpWwz9xXGQzaGvGPwilfolW9Lk/Le/WuqNGvD916AtyOKu9P6UxD9RVjLk/tGaxWzGbuT+X/GxMen25P5iX6Pd/vbw/QBSDU8pvvT/He2cFo967P4VyPF9ZlLs//crutOi/wD9XfsdigY29PzpcCKvw87c/2bAJjX7tuz+X/GxMen25PypUWw+eBrk/YonNuUQouj/ZsAmNfu27P7tGxX3Hz7s//F/mEsb/uj9Fvp8eVSS5P4/llQwc5Lg/pNyAbhCyuz/hkB2vFCK+P+ExbGUOE7w/nex2XcWXuj9jw1/ZEYK8PzTP6tw5e74/YCjkLQxCuT8t79a6o0a8P8eLXfRXxLo/rYwhh8NmwD8E/e0I6xS7P9crCB5Wk8A/4ZAdrxQivj9nCPhPona7PzqPgeShFcI/5fslUTfiwz8u9VoIzEbFP/3K7rTov8A/CCVJR3nQwT+OzU4Sx27CP3+YrIrrX8I/ZdZ8JHwKwj/tQL7Hx9bCPy5a31zGBsI/SpWWbo7kyz+WW5b1K0nTP8osXe2FBMc/7e7xiJZ80T9tTO5rsGnKPyehSz4STsk/bHt7aZ+pwD8EWML3w0fFP4wLweCsYcg/NYozWCIy0T8=",
          "dtype": "f8"
         },
         "z": {
          "bdata": "09aQYGJ25T8ws1fE8N3kP42PHih/ReQ/FP1VIizW5j9WLraerhLkP2YUwE3BEOU/swp9Aj164z++0/xIAS/jP9EKYnZtpOc/UH9rIhba5j/0oqS+h3LnPwntHC2kL+Y/9KKkvody5z8K+nDaMknmP1B/ayIW2uY/h+DTq+YM5z9NOoC9BLnmP2YUwE3BEOU/9KKkvody5z8hrqCFtWPnPyDNTRXe3+M/ZhTATcEQ5T9nyi4zBIjkP8yVqBbJbeM/d9Xgxe6o5j9AmWFzA9zlP79ke+npBuU/swp9Aj164z+tWzKGpEHmP1K7qLU6M+Y/OuoW92qj6D/0oqS+h3LnP7d4M4ZuLeU/zidG5Mk96D/0Mj538FvmP6oQnoSSE+c/oRsWmafA6D99TZfLU07mP16jf7TApeU/jY8eKH9F5D/yK74717riP0ZIrO+bFOM/TYW6Wa6G4z/6Ue86IKvkP7owiUBH3OM/MvOS0R4Y4z8ENyALkfrjP+5rZFi6zOM/FRRDcOCb5D/T1pBgYnblPzCzV8Tw3eQ/ZhTATcEQ5T/9XyE7QsPjP0MmDg+cy+Q/MqCArmfr4z/a8CyyoWnkPya+jJF6j+M/N/KMieRV4j+kxF3mWaTiPwfxU/IGvuI/Rkis75sU4z8M2KkKTeDjP/pR7zogq+Q/mbK7SKRY5D8=",
          "dtype": "f8"
         }
        },
        {
         "marker": {
          "color": "rgb(77,175,74)",
          "opacity": 0.8,
          "size": 6
         },
         "mode": "markers",
         "name": "Cluster 2",
         "type": "scatter3d",
         "x": {
          "bdata": "PuXs42UX3D8c8LaI7EHdPyd5SfBz7N0/YpLx253A3T8neUnwc+zdPx9V2BzNm94/dDZXtlQN3j8i55CGIETeP/XMPgYYdt0/+IOq5Z3z3T8MA81yIX7dP8SFHeaI1t0/Y9vNkMeU3T8Q+hZjwBneP+Cpd8dPH98/JDBtO0oY3j8WHsDK5nPdP4D/J3KO3d4/Y9vNkMeU3T8fQjCeCsDcPx9V2BzNm94/AHrzkTfD3D9j282Qx5TdPwgME1qDz9w/CAwTWoPP3D+nYcMEwo3cP5JG7e9Mcds/znqC4stp2j8s3PWCY9faPzHJmbMmnNk/EgF4VsZi2T9SrNirQ9/YPzM/ohVTwtc/jkTT+9F51j+Xe6rUZ6zXP/gl+ikp7tc/0PmD6Hkv2D/xAYlWgp3YPzM/ohVTwtc/61xAOCAM5z985ImuH3TfP5aRiEz5jOU/Sm5Vt5f33D9PrvNgv6LiPylKPRkQL9s/bIdW2OBT2j9nrNiDlMXaP+jprmzL298/",
          "dtype": "f8"
         },
         "y": {
          "bdata": "iRM8WIfUxz/veCubvrnFP5jS0q/mmcI/qTeTIX6Mwj8csXWIMiTBPwLRbbnZVb4/vLlIl8QCwT/mWC8uVy/BP2V2fQVpFME/9ChNYTh+xD81HmfYzwnAP0nEI2x9JMI/ixTsxW8+wD/cS4U4hC2/P8Vgoeqhwr4///phvss/vj9QnrNA61i7P7RmsVsxm7k/87XJRztLvz80z+rcOXu+P+xq1aANqL4/Zl7bhBfCvz/hoBOeyQe9P3otpOjIn7w/d7iYaFUrwD9ZTlRZng3AP7tGxX3Hz7s/mJfo93+9vD/mWC8uVy/BP3e4mGhVK8A/UQm84g0ZwT/wGk6cNQu8PxN9RMvyOL0/aqNz+6e2vj+Yn2NvWjC8P8GRvt9L3b8/83/S8C/LuD+BHa75E7q9P2cI+E+idrs/7NW1JaUWvT+3AS0HN9u8P3otpOjIn7w/RFkbylpkvD8yNG8xNDu7Py3v1rqjRrw/KYpSZqmGvz+0ZrFbMZu5P5G31NXpiLo/",
          "dtype": "f8"
         },
         "z": {
          "bdata": "NDvMetJq6z/u81lC7znqP1u2KlWQn+o/W7YqVZCf6j8Ub7gcrW7pPw7AbaAUNuw/1QQ/Dom/6j/oRA/GVgHtPzQ7zHrSaus/e6IZhh/f6j9HGa/Z5YTrP6H9nI1z0Os/+u6b1IEh6z/LstctX2frP5EXk95g0uo/of2cjXPQ6z8s+zRuuObpPzQ7zHrSaus/qxXZ3n1B7D8JHL0+8EzsP3uCPrO1m+w/6EQPxlYB7T97gj6ztZvsP+hED8ZWAe0/kXYV7uJt6z8qQcdBqhnrP21Cur3ukOo/aY/un3ve6T8p86sKl9vpP9PlMLGI2uk/e4I+s7Wb7D/oRA/GVgHtP2TOry7Z0Os/IE7F5PRL7T/Hg5wXkkTsP2AcIMqLJ+0/Tglb+DP46z/616AQ6RntP0msjxSHyOw/of2cjXPQ6z+Ofy51ij7rPy0mL0po4+w/8WcfpOqy7D8u9M1xd0rsP6H9nI1z0Os/pVXkQuuv7D9btipVkJ/qPxJCiM/ynOo/",
          "dtype": "f8"
         }
        },
        {
         "marker": {
          "color": "rgb(152,78,163)",
          "opacity": 0.8,
          "size": 6
         },
         "mode": "markers",
         "name": "Cluster 3",
         "type": "scatter3d",
         "x": {
          "bdata": "UuHM7sal5D8K2x4+3EXlP1F94oPDzuU/7hkoSfYT6z+4kp8KTg/rPwvqQbV0aug/cniuv3zt5z9NAzVQodroP6nI8Wi+qOc/",
          "dtype": "f8"
         },
         "y": {
          "bdata": "CKV+iVb0uT9H9JZ1YKS/P1vTVcjGZ7s/c02QxjJruj9nGO4+V1y6PyxM4JfDk7k/Ld/gy+5gvT/nclq6OWHBP8vmb6fFnsE/",
          "dtype": "f8"
         },
         "z": {
          "bdata": "JKhQzWak4j/Y8W5SgGjgP5M+aaQXfuE/TO4HRzpC4T/T7w/9zj/cP36xmobnAd0/Ze1OlCht4D8mfJiRdhjhPyNT4lCq0OE/",
          "dtype": "f8"
         }
        },
        {
         "marker": {
          "color": "rgb(255,127,0)",
          "opacity": 0.8,
          "size": 6
         },
         "mode": "markers",
         "name": "Cluster 4",
         "type": "scatter3d",
         "x": {
          "bdata": "JUHCQ2ts4D/3Yow4Q+XgP0c7l+reNeA/fNbJBpwj5D+hb6sT7+ThP6JZYXNqA+Q/MatG++KR4z84GdN2FOTkP4nHv/v2YuI/ZbvoDFAS4z8FTbcsdSDkP7hmiLNoYeQ/sz96o8Tk6D89lUFA46rmP24u9ST9guU//3GkAJmO5D/fVgAvM6riP+WWejI7KOM/f7FDQBJj4z8QLKjZE8viP8q7/AWes+E/C9kbSia24D+ul6Ik12rgP7DgftkAP+A/+8OI9rYR3j9tezr8xszjP5jjIxoNrd8/a1qJZQZG4T8bC8M10nzhP2taiWUGRuE/AUNEy/XC4T9jrgAe7YbkP4LfQu4WW+Q/J9ST8QtN4j8rPR/D2V3iP9oWhisrLOI/eCNaIUAW4j8bC8M10nzhP7ypT5U6D+E/muZUW72S4T/l9aCH6d3gP9o/ByLw0eE/B1p1bLik4j++8itKZOPgP6cOTGylGOA/fwvXLiAe4D8=",
          "dtype": "f8"
         },
         "y": {
          "bdata": "bO/kjpAczT84yntN55XPP4kTPFiH1Mc/mbAkW3Ej0T8jNch84erRP8CxzR/qj8E/aIP24HkcwD8XSI/e+h3PP8JuISHkYcg/r5oXskAx0T8Y+MHqirLAP4fdRAF8VME/2xsSL6GtwT/qWYJibbnBP7nBww6fdcA/2xsSL6GtwT9kUAVi9FrdP552Wr+T8M4/D3BAuqD3zz8lSz49QZLJPxccxcwA4MU/lZWbN0uDxT8ewLiA8DfFP9Jx9WMW+cU/xYJAIvtPyz9EWRvKWmS8P61RE7gqk9I/Ig+6wgCG2T8hVNPKlorCP+cxHahCYso/dyJ4E2hg0D8FOp+JE0DaP+eh3porFdM/KU4AZFUS1j9pAp2kWYLYP/6hqYys98Y/XOnPBKRNwz8GMND4NO3gP09OZ78vi8Y/+b4PvHfL1D/euU8Bu23RP0KhhgN0qdI/FY7YHymp0T9jw1/ZEYK8P9q+CFKBYMQ/Vy+9SmSzyD8=",
          "dtype": "f8"
         },
         "z": {
          "bdata": "RaM+znsp4z8x22dBYG3dP0ZIrO+bFOM/AAE6t7jj4T9GSKzvmxTjP9mF29z6ruI/ubnHftWy4D/njj79HuvfP0ZIrO+bFOM/IM1NFd7f4z/Zhdvc+q7iPzH5AFzFpuE/6oL927PF4D+B1xPWE2HgP7aXypf+0eA/AAE6t7jj4T9zOi5ycLLiP7xhzbIgTuQ/lyb6e0RN4j8Dz9KdFIbjP42PHih/ReQ/pQsmq0Zl4j8mfJiRdhjhP0ZIrO+bFOM/Oys82ZJl4T9eidiAX7bpP9mF29z6ruI/GVEcCUxU4j/c7v6UVozhP+r1Q8R18OM/XN0AG0dL4T/JczR8mBDfP64n60vlFuM/EYQxzMLk4T8tNwNkJsbgP1HeU79skOE/ubnHftWy4D/BqOA/1enhPzB3/R1HveA/JnyYkXYY4T++WoG5COffP9JyrmIzBuA/HlCSJnlT4D8lTeq9OlfiP/Z1CDtcheE/Hp3BlBRR4j8=",
          "dtype": "f8"
         }
        },
        {
         "marker": {
          "color": "rgb(255,255,51)",
          "opacity": 0.8,
          "size": 6
         },
         "mode": "markers",
         "name": "Cluster 5",
         "type": "scatter3d",
         "x": {
          "bdata": "qPgBzCA34j+sTsZvrZbgPw5C8nmYrOA/GZ0qC9uq4D9XqTuc7G3iPyfUk/ELTeI/J9ST8QtN4j8DBLHIK0XkP6JZYXNqA+Q/jXrQnTxt5D8=",
          "dtype": "f8"
         },
         "y": {
          "bdata": "VftpJE5+2D/uCTVttRTjPzA2j/3Fudc/gkAHEf6h4D/420X2grTjP7hBfpEHkuE/zG2R4n932T9g0slRShHiP8JF3jlenOM/hd5HXbjJ3j8=",
          "dtype": "f8"
         },
         "z": {
          "bdata": "feri4+i94D9GSKzvmxTjP53mwkgjF+I/Rkis75sU4z8ajJLBtOLlPw8LWB+TU+Q/4+SqjOQD3z9aE1FXGPbhP+kmaeNAgOI/7/ILw/9B3z8=",
          "dtype": "f8"
         }
        },
        {
         "marker": {
          "color": "rgb(166,86,40)",
          "opacity": 0.8,
          "size": 6
         },
         "mode": "markers",
         "name": "Cluster 6",
         "type": "scatter3d",
         "x": {
          "bdata": "J9cLiGZH6T8+9CYcQWvkP7hTi/Gtr+I/WrQYoG8E5z9xpFfletLjP/XbjwgkuOU/d8TfbVJS5D9Sldbvw5ToP/FyEhy2qeU/3Orx6iFp5j/rhy5mUnbrP36JfkqK++U/ERZeOY/p5D/FysnoXEfkP54Dnc/do+U/st1Pxfwc5D9or/joSVrnP5maU3fjjOU/uXmJdS8l5j8FYPdnhtDlP36JfkqK++U/9FaV3hOU5D9Z8hdRFkLiP0P47dLSleM/5ZZ6Mjso4z/m31bnZPziP0P47dLSleM/ollhc2oD5D8hcedeHGLlP0dhXdrgoeM/H5/n1g/l5T9B6wXkbwrlP2AcSLSZ3uQ/rJ3jplSh4z8DBLHIK0XkP+XIdNrmi+I/EbHMskP24z9PhT7WhgXjP1zGgxANf+Y/ngOdz92j5T/3xW8Xv93nP8Ii3qi1q+Y/1WF/aDAS5j/zqCejnszjP7BCje0IAuU/AbuqZOJp5D/boRU2+JTmP5YbIML9m+c//citYQS95D86JmcHOGHjP6JZYXNqA+Q/9PEDWMig4z8QLKjZE8viP2OuAB7thuQ/P6IpL0Y25T8=",
          "dtype": "f8"
         },
         "y": {
          "bdata": "c2ybNSNg3D/kl7HihWHlP7yza4fNC98/0yRzkL+Z3j8C+np6YgzmPwQZllql3d0/1wSKNurg4T9gW2lrAALdP3xBvorW6t0/EhI4NM8B3T/vJOnfofzXPyo8WDTV6+g/gnfWaRYz4D98J0k9gKvZP38+B60YMt0/pjinJ/dC3z+GRzi/E0/aPxMnUR7H2OA/Angt14JY4j+rrr5tg3/bP//si5uo2Ns/jVRwTYFH2j/IGAN9Op3bP10siMzap9U/J9GgFCE03z/oclGdPNXcPzUmmQ4R1Ng/oHkc5qdw2z9cC23rY2beP1bd8AszWdc/fCdJPYCr2T/ZRSqNOzncP0ZJ8Y0zHeA/Ms6DLXPW3z/x1iL7P8PeP7zb5X2EG9w/oDTFyQ2L1z+181bkE3TaP+mbGKI1Z9c/TH2ilCCz4D9Qzk/sreTeP8bv8IJd7uQ/GlfQql/22z8q6XsPW1LZP6a8YEM0heA/oHbWHx6y1D+vpkP2qAzcPy50AcyrrN0/GzX3bdob3j8tgwDFo0nUP7czq6z9rtQ/9WHIILKd1D8YvYgSpyXVP5eRjUw3ydk/wNNqBqqo3D8=",
          "dtype": "f8"
         },
         "z": {
          "bdata": "M094WoSz4j9GSKzvmxTjP2zDCspZSeI/8BnmXxNR5D8R/3Ool9HiP/uydN6DGuM/AAE6t7jj4T//ML1iDGjiP9mF29z6ruI/JlwcmGaF4j95i7Zfwn7kP5cLjLky9eI/09aQYGJ25T/Zhdvc+q7iP+4gyo59I+E/OuyNu4K74j//b5d8TcHiPxoT5VzBYuI/AFWtJ1fA4j/b5K4iddHgP4zN/dun2OA/+5+5h0bE4D8Nm11aeLriPxXo/r4gI+M/kpbh9i5E4z/Zhdvc+q7iP/Ccg9zXyOA/6Wvliw2t4z/HjyjiNsriP7TbwIufj+I/jY8eKH9F5D+IV9Y57sLiP7MKfQI9euM/swp9Aj164z/G+d1XnFbiP/3/Yp8XBuM/Pk9offmw4j9qA6NwWBnjPx4L69W0ouM/bJGoUSQj4z+zCn0CPXrjP6pokrWZ5OE/cOcg8Ce94j9swwrKWUniP6gafrl4x+A/XN0AG0dL4T+2agL5E7viP2zDCspZSeI/M44ecODH4D9uT0j8IBbjP5M+aaQXfuE/1WKTJtX14T/s8yslw+rhPyrEnnyP5OE/2X4/DxNZ4j8=",
          "dtype": "f8"
         }
        },
        {
         "marker": {
          "color": "rgb(247,129,191)",
          "opacity": 0.8,
          "size": 6
         },
         "mode": "markers",
         "name": "Cluster 7",
         "type": "scatter3d",
         "x": {
          "bdata": "AEc74FpZ4D8n1JPxC03iP2oRrbDcceE/B1p1bLik4j+Jx7/79mLiPyPd9aIto+E/GcLmgKio4T/iiZJD2JzkP4h+40bNjuI/KR1wpjUh4j8fdGrRX5LhP8hyIFF03+E/pyFLLmbT4T8uXcD6HZjiPwmje9ABgOI/ImvCpl4w4j+fwRMpWhbhPykdcKY1IeI/J9ST8QtN4j/IciBRdN/hP2taiWUGRuE/EHn/lUkp4T9sMUADwanhP/MHTvhMguE/B7mbwWZa4D/ebErPt4vgP4eUV5Zxd+A/gmfAimqv4T/IciBRdN/hPy/PD8GsD+I/1oTNwdeD4j9D+O3S0pXjP2oRrbDcceE/xmU4YhFU4z8A0R60hlLiPxEWXjmP6eQ/a1qJZQZG4T8Io1Eh4njiP7K06pj3e+Q/Q/jt0tKV4z9FQcqH/GnjP7EKzNAya+I/iH7jRs2O4j8Xtf6RRR3jPw==",
          "dtype": "f8"
         },
         "y": {
          "bdata": "ZV5/lBK5zT+izqpL7UrZP9BQhTxO/8U/+lbJQGmLyz9kdxfoCCjUP6l7VbqBAdU/KLffG3RW0j/UulNkTg/SP/l1sbs/tcg/Z4a/xxMmzD+B2DpzTXbFP6flAalUHco/yjTYZGB3xj+EaR+N/B/MPwMB5gv0P8c/t44wt+AU0j+HOPM/JKrFP7F8K5gOgcE/73a1HtNWyT/fWtTCZd/EPz1jyT41KMg/+Z94rT1x3T9PTuSZperfP6lZMAg+pd0/Gp0bGOe81T9Aaf6GLAbDPybx9oY1xdg/ip29Bbmq0j9/4Vv3v0XUPxsZXtx5A9Y/9F5FPZi42T/5n3itPXHdP5syZKOF/b8/fNnWu+PF1z+WFfobCLPTPyghywvLYtY/mmKPpLk50D9ulZ3YhE/cP/sJ+4U0qtI/8taAIgck0z+SBgiQ5m7VP1X5xfNYM8I/eEypgsk34j/b4ANgCNrTPw==",
          "dtype": "f8"
         },
         "z": {
          "bdata": "NNoonS3w4z8JO03oEOnlP9PWkGBiduU/bAOHsQx95D8gzU0V3t/jPyDNTRXe3+M/D0hbRym55D8JLcW2jUPmP2FlddEo2Oc/QJlhcwPc5T8DHgXNDj/lP41gJ/mBq+Y/YWV10SjY5z/OJ0bkyT3oP2YUwE3BEOU/Chwcvk8u6D+EwFXr1ajlP8m24skTX+Q/r2xDWi/55j8aHgOZRafmP7HgvjmtVeY/vsH6Nw3n5T9uzJs8tuflP+WXaFBRTuY/Fuz9X+ZH5j+H1pJPLiHlP9nI35nzf+U/rVsyhqRB5j866hb3aqPoP9XHhBQ3S+c/RQIDWMdL5j/ycncXGJTlP2Cy5TjXSeQ/pWKWdZpO5j8aHgOZRafmP+S8mg91dOY/9KKkvody5z/flGHb23jnP61bMoakQeY/71SO+2WE4z8aHgOZRafmP61bMoakQeY/+scNYl6F5T/sKd0B7xblPw==",
          "dtype": "f8"
         }
        },
        {
         "marker": {
          "color": "rgb(153,153,153)",
          "opacity": 0.8,
          "size": 6
         },
         "mode": "markers",
         "name": "Cluster 8",
         "type": "scatter3d",
         "x": {
          "bdata": "Qk2AIGvO6T/AkrslbMrrPzeXepJ+weo/wVGSPJiF6T8vDDWwPsDlP0n7doSqGes/Hc/7J6IH6z+MZiOuwvjqPw==",
          "dtype": "f8"
         },
         "y": {
          "bdata": "2bAJjX7tuz8WZabNgl2+P971oQMP4ro/Np9301b7wD/XFY7heK24P4rHysSebrk/zAd6kSDYuz8OgNEpNEjAPw==",
          "dtype": "f8"
         },
         "z": {
          "bdata": "swp9Aj164z/UXcZC5P3gP75pTLImz98/P2OuOnC73j+K6k3dH/3bP9DXSxAC5tk/of5KZ3OL3j/j5KqM5APfPw==",
          "dtype": "f8"
         }
        },
        {
         "marker": {
          "color": "rgb(228,26,28)",
          "opacity": 0.8,
          "size": 6
         },
         "mode": "markers",
         "name": "Cluster 9",
         "type": "scatter3d",
         "x": {
          "bdata": "gt9C7hZb5D/1Y7xGwQvjP1JvgijHROU/c8A9gRtV5T8VbCLdG0njP02rb9MuMeY/RIrctdUB4z9hZSRpw7LkP+T77+7GFuQ/ZA1RIrtD4j8n1JPxC03iPyxQArvaE+Q/kpkOMxKO4j8VbCLdG0njPw1IM/wV4+M/ngOdz92j5T/o3NN0IczmPw==",
          "dtype": "f8"
         },
         "y": {
          "bdata": "oArJAM9d5T8Qwt93wwfnP8qD6ydb3ec/ckcEX18n5z/0vEN469npP0ZFUy8Q3OU/an6ak+3s5T++3EPkqcLpP/xoKsJfKOY/AAAAAAAA8D9my/qPU+bhP5RgDulruuo/TI4r3fyw6j/ymYli1/DpPxIIaaPwruM/aNw/md2l7D+OB7u4cHnmPw==",
          "dtype": "f8"
         },
         "z": {
          "bdata": "tvNl+OAf4T9+LUwmiODfPwABOre44+E/dgdm3me94D9md0flwcbiP5M+aaQXfuE/tt8Xnk9c4z8Y/uhjnDjfP2nxydhxSN8/itMYp3EE3D86+/650R/fP5E/7es86+E/UJu1cLpf4j/E8mpdvEbfP3L2owBMcuA/8fGPVhGD3T/huPfxYq/cPw==",
          "dtype": "f8"
         }
        },
        {
         "marker": {
          "color": "rgb(55,126,184)",
          "opacity": 0.8,
          "size": 6
         },
         "mode": "markers",
         "name": "Cluster 10",
         "type": "scatter3d",
         "x": {
          "bdata": "6Tt21yiO5D8tdCzfitriPzXpDFcJ+uk/3f+7HvUn4j9du3eTb0TiP0/JzoKosuE/s09ZEqyI4z/JmMp2tkblP9sXv138dt8/2xe/Xfx23z/bF79d/HbfP1DknL+0xOA/r72gqFjg4z/gqXfHTx/fP7T8cn65v9w/5DswMaPH3j/gqXfHTx/fP8DheBl6zd4/5DswMaPH3j9JeCoLWK/ePx9V2BzNm94//cSkZzMS5j8=",
          "dtype": "f8"
         },
         "y": {
          "bdata": "kbfU1emIuj81i/uiYdi4P3XoC3I4q70/rxEj9uvAuz+FcjxfWZS7P2SM3VpGSbw/87XJRztLvz8pmkhVXmy+Pw+FkqvsKLw/RFkbylpkvD+3AS0HN9u8P7gzFttZ9rw/V37HYoGNvT+UZX7tL+i7P7DKtmr+ebw/q7yUkKbmvT+3AS0HN9u8P2PDX9kRgrw/D4WSq+wovD9MiY7fG3K9P1lOVFmeDcA/kcbGOuGwvT8=",
          "dtype": "f8"
         },
         "z": {
          "bdata": "BlmI5T7Z3z9YVsYbHqLcPyp/7W212tw/CNqf083L2z/vQkCFFXXZP8dIDap4CNg/LSNUp1Z23T9J+S98QDTbP6RMg9CZC9s/F76eX9Op2D+KL7ruDEjWP8Bh8dbK79Y/tarZD0Ej2D9kZNGZYJzWP7m5x37VsuA/MVN6udlk2z976QE7r27bP6RMg9CZC9s/Rp+y+8Ow2j8KxE9YItrcP0r864Lo/d8/56P9SWat4T8=",
          "dtype": "f8"
         }
        },
        {
         "marker": {
          "color": "rgb(77,175,74)",
          "opacity": 0.8,
          "size": 6
         },
         "mode": "markers",
         "name": "Cluster 11",
         "type": "scatter3d",
         "x": {
          "bdata": "5QwkWj8K3D+dbF4If/rfP8DzZHw1Lt4/IueQhiBE3j8i55CGIETePyEUAJKvV9w/Z7Zir0QR3T/qntzDkrLbPylKPRkQL9s/F7npyj553D8fVdgczZveP9sXv138dt8/uliibq2Z3j9MtHtB1azlP3XEhA9+JOQ/ZtRZAEMq6D9t0DKNCijaP/Off0v3r94/RWpXYxsJ4z+6fbknhYjfPylKPRkQL9s/WszeXESx6T9xq8erh6TZPy2TGc45A9s/++i2r1No3z915gZxps7oP6i/PyPV3Oc/Ny8dF5nF4j8D5wk1rSzbPy2TGc45A9s/B8M2pVn73D/lDCRaPwrcP53hIlzxn9s/S0ksGVT02z9A3DbUBLPcP9sXv138dt8/5QwkWj8K3D9sh1bY4FPaP4ersLmnnNs/LZMZzjkD2z8FAgI8o4LaPyFcAXxT29k/8kplC6xx2D9qWfgBkJXZP1SjIpzietk/rsRvl7F42T8tJdI3javaPwfDNqVZ+9w/a1qJZQZG4T8xr27I6g3dPyOetNH2b94/DfkVxW7Y4D8=",
          "dtype": "f8"
         },
         "y": {
          "bdata": "0nH1Yxb5xT8ONoiTz07HP5HF05rs+8I/IgYvsNK3yD8VXe06QNHBP9PWebgQucI//BsZmZcY0j9vkjnZNzDEP0EqDEuHsL4/kiGD+3780T+ejERtFcHAP2iD9uB5HMA/sqyeofEAvz9MUaBSgPG8P+GQHa8UIr4/yPZllnqEwD/XFY7heK24P5+H8gjL170/ySbZn10Evj/JJtmfXQS+P7tGxX3Hz7s/u0bFfcfPuz/23Aswta27P2cI+E+idrs/kafe5jSjuz9JrqkvoD66PxPaIBEyA7o/degLcjirvT8SbBYvyMLAP2q57TeFnMY/PSKCGM3ixT96LaToyJ+8PyawwpE7UsY/59fV8TaV2T/6t9ZrxaHSP0jXkqLpb9I/UKQ3jhNZxD+0dLAgNA7CP9cbtAfaTM0/bw06NCyDxD+xkddpx3/IP8eLXfRXxLo/MkRlIOkguj8DkJsAbp7DPyYNzG5bn8M/w6HXMDWqwj/DqVKoDx3CPztzrPx7O9c/ksJjD2sF0z+gjXZW89fGP5Rtt7NN5t4/BInSfiKY1T8=",
          "dtype": "f8"
         },
         "z": {
          "bdata": "ciiRqAbH5D+eYBMbzf7lP8mxQtyScuc/ZcJH8Mco5z+BMYkvTtTpP2Mia9N8Quc/p6znCQwJ6T9C4XQ0vFzoPxRvuBytbuk/gTGJL07U6T/OJ0bkyT3oP40FEtRCg+s/LgCGv8Q16j9rPtgCMUzqP0rj/5Y9Quk/nYWs6HtS6D+EPmklL/PnP6es5wkMCek/sH0+3Z7A6D9mFMBNwRDlP0CZYXMD3OU/ZD0qJoHw5z8hA9sqCtrnP4ExiS9O1Ok/aV0BUrtY6T9mz7Eb7xnoPyQ/PX9tweg/SdTjOqrr6T/AOVD3EdrmP93II1RGIeU/d/rJ/NMO5j8IuEEizyLnP62+9In5ROg/h19WTxF65z9hxA0FSXzlP+KqpU2pKuU/Gh4DmUWn5j+N8SgNR37lP4tQS3at9OU/6ap9svw15z/otTvuaobnPxoeA5lFp+Y/VFJx7EyA5T9btipVkJ/qP0cyIbyQc+c/zTuUa9jo5z+nCJm7CUfoPxH2AT0+s+g/+iWA4Wiu5z8+vV4O7ujnP6kpWUl2kec/4awkzml25z8=",
          "dtype": "f8"
         }
        },
        {
         "marker": {
          "color": "rgb(152,78,163)",
          "opacity": 0.8,
          "size": 6
         },
         "mode": "markers",
         "name": "Cluster 12",
         "type": "scatter3d",
         "x": {
          "bdata": "zhHBqSoT4D93PHC2XgDnP8kX1k/cft0/L+oVgFyt6z8M2UQCsXfrPygNL/SubOc/NWEFyPyW7D8EMX47BlPdPy5nA5KhluQ/JXugOXvL5z94nvfXNsLrP6QujTOqkOo/dUJT9Ug46j8NaREntUHmP+3ad1gxkeI/lEe0Agdf4z8=",
          "dtype": "f8"
         },
         "y": {
          "bdata": "HB+5h8L3uD9+gjJODnq6P1lAVZSbmrc/RFkbylpkvD8ayioifR27PwNA+jRcNL0/ei2k6MifvD/s1bUlpRa9PzqPgeShFcI/QGX+jy1Cvz/ylUwtDbHAP+h4rEiFyb8/M6fySjFuwD/iaCUdDBXAP/3K7rTov8A/Xm7Rc8ynvj8=",
          "dtype": "f8"
         },
         "z": {
          "bdata": "RDaSbJE84D9CzNNOM43hPyZ8mJF2GOE/IVj0mXHD3D++aUyyJs/fPwlgCWeiON4/ubnHftWy4D/DlLARlsThP9mF29z6ruI/ubnHftWy4D/7hnAeqUzeP3V4BlZAAd4/ubnHftWy4D+5ucd+1bLgP/gYT6egm+A/TPf2azRN4D8=",
          "dtype": "f8"
         }
        },
        {
         "marker": {
          "color": "rgb(255,127,0)",
          "opacity": 0.8,
          "size": 6
         },
         "mode": "markers",
         "name": "Cluster 13",
         "type": "scatter3d",
         "x": {
          "bdata": "HmofQ7Iu6j+FejJ+oUnuPwhHo2KOves/lx6YWFiW7j8zKEz7k2nnP6oIfhuewec/+dIRjUJd5j/Y0HVrm2DpP5RKLJlhWeo/J9cLiGZH6T8jRVMeE5/pP6iDPXiukeY/8YXLZJdY5z/6MTri9hvkP54Dnc/do+U/",
          "dtype": "f8"
         },
         "y": {
          "bdata": "1ysIHlaTwD+CuqeYctnRP+nrL2KC/MQ/cIfJKKsjxT9ARH0mVFzVP7J1wAZ9TeA/J4xyMjsF3D8zyY8x8YbbP7Ii5OECtNA/lnhcMSe5yD8ro47JmuzTP5BEel7MYds/A4Dq9poG1D+BbAUtfyW8P1FxpDZV+NU/",
          "dtype": "f8"
         },
         "z": {
          "bdata": "OxNWv0nD4D8mfJiRdhjhP9VZ9JeO5OE/PQb1lRXE4j/hyg+ubLbcP5isB05JZd4/9FNTTR7l3j/Kx+GqV0DaP3/TcGz2Od4/oqX1joo73j/wndryINbfP4/7mr1Dj98/QwWC/pwP4j9+0ST229bbP+s5OyveU+I/",
          "dtype": "f8"
         }
        }
       ],
       "layout": {
        "height": 900,
        "margin": {
         "b": 0,
         "l": 0,
         "r": 0,
         "t": 40
        },
        "scene": {
         "xaxis": {
          "title": {
           "text": "Feature 1 (mean)"
          }
         },
         "yaxis": {
          "title": {
           "text": "Feature 2 (mean)"
          }
         },
         "zaxis": {
          "title": {
           "text": "Feature 3 (mean)"
          }
         }
        },
        "template": {
         "data": {
          "bar": [
           {
            "error_x": {
             "color": "#2a3f5f"
            },
            "error_y": {
             "color": "#2a3f5f"
            },
            "marker": {
             "line": {
              "color": "#E5ECF6",
              "width": 0.5
             },
             "pattern": {
              "fillmode": "overlay",
              "size": 10,
              "solidity": 0.2
             }
            },
            "type": "bar"
           }
          ],
          "barpolar": [
           {
            "marker": {
             "line": {
              "color": "#E5ECF6",
              "width": 0.5
             },
             "pattern": {
              "fillmode": "overlay",
              "size": 10,
              "solidity": 0.2
             }
            },
            "type": "barpolar"
           }
          ],
          "carpet": [
           {
            "aaxis": {
             "endlinecolor": "#2a3f5f",
             "gridcolor": "white",
             "linecolor": "white",
             "minorgridcolor": "white",
             "startlinecolor": "#2a3f5f"
            },
            "baxis": {
             "endlinecolor": "#2a3f5f",
             "gridcolor": "white",
             "linecolor": "white",
             "minorgridcolor": "white",
             "startlinecolor": "#2a3f5f"
            },
            "type": "carpet"
           }
          ],
          "choropleth": [
           {
            "colorbar": {
             "outlinewidth": 0,
             "ticks": ""
            },
            "type": "choropleth"
           }
          ],
          "contour": [
           {
            "colorbar": {
             "outlinewidth": 0,
             "ticks": ""
            },
            "colorscale": [
             [
              0,
              "#0d0887"
             ],
             [
              0.1111111111111111,
              "#46039f"
             ],
             [
              0.2222222222222222,
              "#7201a8"
             ],
             [
              0.3333333333333333,
              "#9c179e"
             ],
             [
              0.4444444444444444,
              "#bd3786"
             ],
             [
              0.5555555555555556,
              "#d8576b"
             ],
             [
              0.6666666666666666,
              "#ed7953"
             ],
             [
              0.7777777777777778,
              "#fb9f3a"
             ],
             [
              0.8888888888888888,
              "#fdca26"
             ],
             [
              1,
              "#f0f921"
             ]
            ],
            "type": "contour"
           }
          ],
          "contourcarpet": [
           {
            "colorbar": {
             "outlinewidth": 0,
             "ticks": ""
            },
            "type": "contourcarpet"
           }
          ],
          "heatmap": [
           {
            "colorbar": {
             "outlinewidth": 0,
             "ticks": ""
            },
            "colorscale": [
             [
              0,
              "#0d0887"
             ],
             [
              0.1111111111111111,
              "#46039f"
             ],
             [
              0.2222222222222222,
              "#7201a8"
             ],
             [
              0.3333333333333333,
              "#9c179e"
             ],
             [
              0.4444444444444444,
              "#bd3786"
             ],
             [
              0.5555555555555556,
              "#d8576b"
             ],
             [
              0.6666666666666666,
              "#ed7953"
             ],
             [
              0.7777777777777778,
              "#fb9f3a"
             ],
             [
              0.8888888888888888,
              "#fdca26"
             ],
             [
              1,
              "#f0f921"
             ]
            ],
            "type": "heatmap"
           }
          ],
          "histogram": [
           {
            "marker": {
             "pattern": {
              "fillmode": "overlay",
              "size": 10,
              "solidity": 0.2
             }
            },
            "type": "histogram"
           }
          ],
          "histogram2d": [
           {
            "colorbar": {
             "outlinewidth": 0,
             "ticks": ""
            },
            "colorscale": [
             [
              0,
              "#0d0887"
             ],
             [
              0.1111111111111111,
              "#46039f"
             ],
             [
              0.2222222222222222,
              "#7201a8"
             ],
             [
              0.3333333333333333,
              "#9c179e"
             ],
             [
              0.4444444444444444,
              "#bd3786"
             ],
             [
              0.5555555555555556,
              "#d8576b"
             ],
             [
              0.6666666666666666,
              "#ed7953"
             ],
             [
              0.7777777777777778,
              "#fb9f3a"
             ],
             [
              0.8888888888888888,
              "#fdca26"
             ],
             [
              1,
              "#f0f921"
             ]
            ],
            "type": "histogram2d"
           }
          ],
          "histogram2dcontour": [
           {
            "colorbar": {
             "outlinewidth": 0,
             "ticks": ""
            },
            "colorscale": [
             [
              0,
              "#0d0887"
             ],
             [
              0.1111111111111111,
              "#46039f"
             ],
             [
              0.2222222222222222,
              "#7201a8"
             ],
             [
              0.3333333333333333,
              "#9c179e"
             ],
             [
              0.4444444444444444,
              "#bd3786"
             ],
             [
              0.5555555555555556,
              "#d8576b"
             ],
             [
              0.6666666666666666,
              "#ed7953"
             ],
             [
              0.7777777777777778,
              "#fb9f3a"
             ],
             [
              0.8888888888888888,
              "#fdca26"
             ],
             [
              1,
              "#f0f921"
             ]
            ],
            "type": "histogram2dcontour"
           }
          ],
          "mesh3d": [
           {
            "colorbar": {
             "outlinewidth": 0,
             "ticks": ""
            },
            "type": "mesh3d"
           }
          ],
          "parcoords": [
           {
            "line": {
             "colorbar": {
              "outlinewidth": 0,
              "ticks": ""
             }
            },
            "type": "parcoords"
           }
          ],
          "pie": [
           {
            "automargin": true,
            "type": "pie"
           }
          ],
          "scatter": [
           {
            "fillpattern": {
             "fillmode": "overlay",
             "size": 10,
             "solidity": 0.2
            },
            "type": "scatter"
           }
          ],
          "scatter3d": [
           {
            "line": {
             "colorbar": {
              "outlinewidth": 0,
              "ticks": ""
             }
            },
            "marker": {
             "colorbar": {
              "outlinewidth": 0,
              "ticks": ""
             }
            },
            "type": "scatter3d"
           }
          ],
          "scattercarpet": [
           {
            "marker": {
             "colorbar": {
              "outlinewidth": 0,
              "ticks": ""
             }
            },
            "type": "scattercarpet"
           }
          ],
          "scattergeo": [
           {
            "marker": {
             "colorbar": {
              "outlinewidth": 0,
              "ticks": ""
             }
            },
            "type": "scattergeo"
           }
          ],
          "scattergl": [
           {
            "marker": {
             "colorbar": {
              "outlinewidth": 0,
              "ticks": ""
             }
            },
            "type": "scattergl"
           }
          ],
          "scattermap": [
           {
            "marker": {
             "colorbar": {
              "outlinewidth": 0,
              "ticks": ""
             }
            },
            "type": "scattermap"
           }
          ],
          "scattermapbox": [
           {
            "marker": {
             "colorbar": {
              "outlinewidth": 0,
              "ticks": ""
             }
            },
            "type": "scattermapbox"
           }
          ],
          "scatterpolar": [
           {
            "marker": {
             "colorbar": {
              "outlinewidth": 0,
              "ticks": ""
             }
            },
            "type": "scatterpolar"
           }
          ],
          "scatterpolargl": [
           {
            "marker": {
             "colorbar": {
              "outlinewidth": 0,
              "ticks": ""
             }
            },
            "type": "scatterpolargl"
           }
          ],
          "scatterternary": [
           {
            "marker": {
             "colorbar": {
              "outlinewidth": 0,
              "ticks": ""
             }
            },
            "type": "scatterternary"
           }
          ],
          "surface": [
           {
            "colorbar": {
             "outlinewidth": 0,
             "ticks": ""
            },
            "colorscale": [
             [
              0,
              "#0d0887"
             ],
             [
              0.1111111111111111,
              "#46039f"
             ],
             [
              0.2222222222222222,
              "#7201a8"
             ],
             [
              0.3333333333333333,
              "#9c179e"
             ],
             [
              0.4444444444444444,
              "#bd3786"
             ],
             [
              0.5555555555555556,
              "#d8576b"
             ],
             [
              0.6666666666666666,
              "#ed7953"
             ],
             [
              0.7777777777777778,
              "#fb9f3a"
             ],
             [
              0.8888888888888888,
              "#fdca26"
             ],
             [
              1,
              "#f0f921"
             ]
            ],
            "type": "surface"
           }
          ],
          "table": [
           {
            "cells": {
             "fill": {
              "color": "#EBF0F8"
             },
             "line": {
              "color": "white"
             }
            },
            "header": {
             "fill": {
              "color": "#C8D4E3"
             },
             "line": {
              "color": "white"
             }
            },
            "type": "table"
           }
          ]
         },
         "layout": {
          "annotationdefaults": {
           "arrowcolor": "#2a3f5f",
           "arrowhead": 0,
           "arrowwidth": 1
          },
          "autotypenumbers": "strict",
          "coloraxis": {
           "colorbar": {
            "outlinewidth": 0,
            "ticks": ""
           }
          },
          "colorscale": {
           "diverging": [
            [
             0,
             "#8e0152"
            ],
            [
             0.1,
             "#c51b7d"
            ],
            [
             0.2,
             "#de77ae"
            ],
            [
             0.3,
             "#f1b6da"
            ],
            [
             0.4,
             "#fde0ef"
            ],
            [
             0.5,
             "#f7f7f7"
            ],
            [
             0.6,
             "#e6f5d0"
            ],
            [
             0.7,
             "#b8e186"
            ],
            [
             0.8,
             "#7fbc41"
            ],
            [
             0.9,
             "#4d9221"
            ],
            [
             1,
             "#276419"
            ]
           ],
           "sequential": [
            [
             0,
             "#0d0887"
            ],
            [
             0.1111111111111111,
             "#46039f"
            ],
            [
             0.2222222222222222,
             "#7201a8"
            ],
            [
             0.3333333333333333,
             "#9c179e"
            ],
            [
             0.4444444444444444,
             "#bd3786"
            ],
            [
             0.5555555555555556,
             "#d8576b"
            ],
            [
             0.6666666666666666,
             "#ed7953"
            ],
            [
             0.7777777777777778,
             "#fb9f3a"
            ],
            [
             0.8888888888888888,
             "#fdca26"
            ],
            [
             1,
             "#f0f921"
            ]
           ],
           "sequentialminus": [
            [
             0,
             "#0d0887"
            ],
            [
             0.1111111111111111,
             "#46039f"
            ],
            [
             0.2222222222222222,
             "#7201a8"
            ],
            [
             0.3333333333333333,
             "#9c179e"
            ],
            [
             0.4444444444444444,
             "#bd3786"
            ],
            [
             0.5555555555555556,
             "#d8576b"
            ],
            [
             0.6666666666666666,
             "#ed7953"
            ],
            [
             0.7777777777777778,
             "#fb9f3a"
            ],
            [
             0.8888888888888888,
             "#fdca26"
            ],
            [
             1,
             "#f0f921"
            ]
           ]
          },
          "colorway": [
           "#636efa",
           "#EF553B",
           "#00cc96",
           "#ab63fa",
           "#FFA15A",
           "#19d3f3",
           "#FF6692",
           "#B6E880",
           "#FF97FF",
           "#FECB52"
          ],
          "font": {
           "color": "#2a3f5f"
          },
          "geo": {
           "bgcolor": "white",
           "lakecolor": "white",
           "landcolor": "#E5ECF6",
           "showlakes": true,
           "showland": true,
           "subunitcolor": "white"
          },
          "hoverlabel": {
           "align": "left"
          },
          "hovermode": "closest",
          "mapbox": {
           "style": "light"
          },
          "paper_bgcolor": "white",
          "plot_bgcolor": "#E5ECF6",
          "polar": {
           "angularaxis": {
            "gridcolor": "white",
            "linecolor": "white",
            "ticks": ""
           },
           "bgcolor": "#E5ECF6",
           "radialaxis": {
            "gridcolor": "white",
            "linecolor": "white",
            "ticks": ""
           }
          },
          "scene": {
           "xaxis": {
            "backgroundcolor": "#E5ECF6",
            "gridcolor": "white",
            "gridwidth": 2,
            "linecolor": "white",
            "showbackground": true,
            "ticks": "",
            "zerolinecolor": "white"
           },
           "yaxis": {
            "backgroundcolor": "#E5ECF6",
            "gridcolor": "white",
            "gridwidth": 2,
            "linecolor": "white",
            "showbackground": true,
            "ticks": "",
            "zerolinecolor": "white"
           },
           "zaxis": {
            "backgroundcolor": "#E5ECF6",
            "gridcolor": "white",
            "gridwidth": 2,
            "linecolor": "white",
            "showbackground": true,
            "ticks": "",
            "zerolinecolor": "white"
           }
          },
          "shapedefaults": {
           "line": {
            "color": "#2a3f5f"
           }
          },
          "ternary": {
           "aaxis": {
            "gridcolor": "white",
            "linecolor": "white",
            "ticks": ""
           },
           "baxis": {
            "gridcolor": "white",
            "linecolor": "white",
            "ticks": ""
           },
           "bgcolor": "#E5ECF6",
           "caxis": {
            "gridcolor": "white",
            "linecolor": "white",
            "ticks": ""
           }
          },
          "title": {
           "x": 0.05
          },
          "xaxis": {
           "automargin": true,
           "gridcolor": "white",
           "linecolor": "white",
           "ticks": "",
           "title": {
            "standoff": 15
           },
           "zerolinecolor": "white",
           "zerolinewidth": 2
          },
          "yaxis": {
           "automargin": true,
           "gridcolor": "white",
           "linecolor": "white",
           "ticks": "",
           "title": {
            "standoff": 15
           },
           "zerolinecolor": "white",
           "zerolinewidth": 2
          }
         }
        },
        "title": {
         "text": "Biểu diễn các cụm dữ liệu lấy theo giá trị trung bình của time-series"
        },
        "width": 1500
       }
      }
     },
     "metadata": {},
     "output_type": "display_data"
    }
   ],
   "source": [
    "X_3d_max = np.max(data, axis=2)  # shape: (438, 3)\n",
    "\n",
    "colors = px.colors.qualitative.Set1\n",
    "fig = go.Figure()\n",
    "\n",
    "for i in range(k_clusters):\n",
    "    cluster_points = X_3d_max[labels == i]\n",
    "    \n",
    "    fig.add_trace(go.Scatter3d(\n",
    "        x=cluster_points[:, 0],\n",
    "        y=cluster_points[:, 1],\n",
    "        z=cluster_points[:, 2],\n",
    "        mode='markers',\n",
    "        marker=dict(size=6, color=colors[i % len(colors)], opacity=0.8),\n",
    "        name=f'Cluster {i}'\n",
    "    ))\n",
    "\n",
    "# Cài đặt giao diện\n",
    "fig.update_layout(\n",
    "    title=f'Biểu diễn các cụm dữ liệu lấy theo giá trị trung bình của time-series',\n",
    "    scene=dict(\n",
    "        xaxis_title='Feature 1 (mean)',\n",
    "        yaxis_title='Feature 2 (mean)',\n",
    "        zaxis_title='Feature 3 (mean)',\n",
    "    ),\n",
    "    margin=dict(l=0, r=0, b=0, t=40),\n",
    "    width=1500,  # Tăng chiều rộng\n",
    "    height=900   # Tăng chiều cao\n",
    ")\n",
    "fig.show()"
   ]
  },
  {
   "cell_type": "code",
   "execution_count": null,
   "metadata": {},
   "outputs": [],
   "source": []
  },
  {
   "cell_type": "code",
   "execution_count": null,
   "metadata": {},
   "outputs": [],
   "source": []
  }
 ],
 "metadata": {
  "kernelspec": {
   "display_name": "cluster",
   "language": "python",
   "name": "python3"
  },
  "language_info": {
   "codemirror_mode": {
    "name": "ipython",
    "version": 3
   },
   "file_extension": ".py",
   "mimetype": "text/x-python",
   "name": "python",
   "nbconvert_exporter": "python",
   "pygments_lexer": "ipython3",
   "version": "3.11.11"
  }
 },
 "nbformat": 4,
 "nbformat_minor": 2
}
